{
  "cells": [
    {
      "cell_type": "markdown",
      "metadata": {
        "id": "view-in-github",
        "colab_type": "text"
      },
      "source": [
        "<a href=\"https://colab.research.google.com/github/alessandra-barbosa/cardio_catch_disease/blob/main/AB_cardio_catch_diseases_7.ipynb\" target=\"_parent\"><img src=\"https://colab.research.google.com/assets/colab-badge.svg\" alt=\"Open In Colab\"/></a>"
      ]
    },
    {
      "cell_type": "markdown",
      "metadata": {
        "id": "QP0xYztXliol"
      },
      "source": [
        "![Cardio Image](https://img.freepik.com/free-photo/human-heart-design_1048-1855.jpg?size=626&ext=jpg&ga=GA1.1.110088987.1677679311&semt=ais)\n",
        "<h1>Cardio Catch Diseases </h1>"
      ]
    },
    {
      "cell_type": "markdown",
      "metadata": {
        "id": "8wS7sSsIliom"
      },
      "source": [
        "## 0.0 - Planning and Business Knowledge"
      ]
    },
    {
      "cell_type": "markdown",
      "metadata": {
        "id": "IqjC1Jq4liom"
      },
      "source": [
        "<h4>0.1. Business Problem.</h4>\n",
        "<p>Cardio Catch Diseases is a company specialized in detecting heart disease in the early stages. Its business model lies in offering an early diagnosis of cardiovascular disease for a certain price.\n",
        "\n",
        "<h4>0.2. Objective</h4>\n",
        "    <li>Growth diagnostic precision and make stable.</li>\n",
        "\n",
        "\n",
        "<h4>0.3. Justification</h4>\n",
        "    <li>Currently, it's a manual diagnostic by humans.</li>\n",
        "    <li>Low Precision, between 55% and 65%.</li>\n",
        "    <li>Hight cost around one thousand (1.000,00) Reals with operators and machines costing.</li>\n",
        "    <li>The revenue is variable accordingly precision from diagnostics, 500 each 5% above than 50% precision.</li>\n",
        "    \n",
        "<h4>0.4. Solution Proposal</h4>\n",
        "    <lu>\n",
        "        <li>Collect data from <a href=\"https://www.kaggle.com/sulianova/cardiovascular-disease-dataset\">Kaggle</a></li>\n",
        "        <li>Build a binary classification with <b>Machine Learning</b> or <b>statistics models</b> solution to diseases prediction.</li>\n",
        "    </lu>\n",
        "    \n",
        "<h4>0.5 Report</h4>\n",
        "    <lu>\n",
        "        <li>What the precision accuracy from the solution?.</li>\n",
        "        <li>How much profit you will get because of that solution?</li>\n",
        "        <li>how reliable is the solution?</li>\n",
        "    </lu>\n",
        "\n",
        "<h4>0.6 Premises</h4>\n",
        "    <lu>\n",
        "        <li>Drop inconsistent data from low pressure .</li>\n",
        "        <li>Drop inconsistent data from high pressure</li>\n",
        "        <li>Drop inconsistent data from height</li>\n",
        "        <li>Drop inconsistent data from weight</li>\n",
        "    </lu>"
      ]
    },
    {
      "cell_type": "markdown",
      "metadata": {
        "id": "KZGqnGm4lion"
      },
      "source": [
        "## 1.0 - Imports"
      ]
    },
    {
      "cell_type": "markdown",
      "metadata": {
        "id": "IsAPM2iTlion"
      },
      "source": [
        "### 1.1 - Libraries"
      ]
    },
    {
      "cell_type": "code",
      "execution_count": 1,
      "metadata": {
        "id": "ZtocpK8flion"
      },
      "outputs": [],
      "source": [
        "import pandas as pd\n",
        "import numpy as np\n",
        "from scipy.stats import kurtosis, skew\n",
        "from random import sample as sp\n",
        "from pandas_profiling      import ProfileReport #conda install -c conda-forge ydata-profiling\n",
        "\n",
        "## Database \n",
        "from sqlalchemy import create_engine\n",
        "import sqlite3\n",
        "\n",
        "## Data Transformation\n",
        "from sklearn.preprocessing import StandardScaler, MinMaxScaler, RobustScaler, OrdinalEncoder\n",
        "\n",
        "## Visualization\n",
        "import seaborn as sns\n",
        "from seaborn import pairplot\n",
        "import matplotlib.pyplot as plt\n",
        "from sklearn.metrics import confusion_matrix\n",
        "from scipy.stats import pointbiserialr\n",
        "\n",
        "## Machine Learning, selection and split\n",
        "from sklearn.model_selection import train_test_split\n",
        "from sklearn.ensemble import RandomForestClassifier, GradientBoostingClassifier,ExtraTreesClassifier\n",
        "from sklearn.feature_selection import RFE\n",
        "from sklearn.decomposition          import PCA\n",
        "from sklearn.metrics import accuracy_score, recall_score, precision_score,f1_score\n",
        "from sklearn.linear_model import LogisticRegression \n",
        "from xgboost import XGBClassifier\n",
        "from sklearn.neighbors import KNeighborsClassifier\n",
        "from lightgbm import LGBMClassifier\n",
        "from sklearn.model_selection import RepeatedStratifiedKFold, cross_val_score,RandomizedSearchCV,GridSearchCV\n",
        "import pickle\n",
        "\n",
        "## Configurations\n",
        "from IPython.display import Image\n",
        "from IPython.display import HTML\n",
        "import warnings\n",
        "\n"
      ]
    },
    {
      "cell_type": "markdown",
      "metadata": {
        "id": "ni-RHnuzlioo"
      },
      "source": [
        "### 1.2 - Funcions"
      ]
    },
    {
      "cell_type": "code",
      "execution_count": 2,
      "metadata": {
        "colab": {
          "base_uri": "https://localhost:8080/",
          "height": 34
        },
        "id": "t39wFeg-lioo",
        "outputId": "217efede-c333-4186-9b78-146840443166"
      },
      "outputs": [
        {
          "output_type": "stream",
          "name": "stdout",
          "text": [
            "Populating the interactive namespace from numpy and matplotlib\n"
          ]
        },
        {
          "output_type": "display_data",
          "data": {
            "text/plain": [
              "<IPython.core.display.HTML object>"
            ],
            "text/html": [
              "<style>.container{width:100% !important; }</style>"
            ]
          },
          "metadata": {}
        }
      ],
      "source": [
        "# Calculating Scores to classification \n",
        "def metrics_score(y_valid, y_hat, mdl_name):\n",
        "    '''\n",
        "        y_hat:    is the prediction array\n",
        "        y_valid:  is the true targe array or series\n",
        "        mdl_name: is the name of machine learning model\n",
        "        \n",
        "        Accuracy formula  -->   accuracy   = np.mean(y_hat == y_valid)\n",
        "        Precision formula -->   precision  = positive_true/(positive_true+positive_false)      \n",
        "        Recall formula    -->   recall     = positive_true/(positive_true+negative_false)\n",
        "        \n",
        "        Return -->> mdl_name, accuracy, precision, recall\n",
        "        \n",
        "    '''\n",
        "    accuracy = accuracy_score(y_valid, y_hat)\n",
        "    precision = precision_score(y_valid, y_hat)\n",
        "    recall = recall_score(y_valid, y_hat)\n",
        "    F1_score = f1_score(y_valid, y_hat)\n",
        "\n",
        "    \n",
        "    return pd.DataFrame([[mdl_name, accuracy, precision, recall,F1_score]], \n",
        "                        columns=['mdl_name', 'accuracy', 'precision', 'recall', 'F1_score'\n",
        "                                 ])\n",
        "    \n",
        "\n",
        "\n",
        "# Jupyter configuring to better experience\n",
        "def jupyter_settings():\n",
        "    %matplotlib inline\n",
        "    %pylab inline\n",
        "        \n",
        "    plt.style.use('bmh')\n",
        "    plt.rcParams['figure.figsize'] = [25,9]\n",
        "    plt.rcParams['font.size'] = 24\n",
        "    \n",
        "    display(HTML('<style>.container{width:100% !important; }</style>'))\n",
        "    pd.options.display.max_columns = None\n",
        "    pd.options.display.max_rows = None\n",
        "    pd.set_option('display.expand_frame_repr', False)\n",
        "    \n",
        "    sns.set()\n",
        "jupyter_settings()  \n",
        "\n",
        "\n",
        "def highlight_max(s):\n",
        "    '''\n",
        "    highlight the maximum in a Series yellow.\n",
        "    '''\n",
        "    is_max = s == s.max()\n",
        "    return ['background-color: yellow' if v else '' for v in is_max]\n",
        "\n",
        "# To hide warning messages\n",
        "warnings.filterwarnings('ignore')\n"
      ]
    },
    {
      "cell_type": "markdown",
      "metadata": {
        "id": "vt0dWy1Lliop"
      },
      "source": [
        "### 1.3 - Data Collect - CSV"
      ]
    },
    {
      "cell_type": "code",
      "execution_count": 3,
      "metadata": {
        "id": "Y0seyO50liop"
      },
      "outputs": [],
      "source": [
        "# Loading dataset\n",
        "# from google import colab as cl\n",
        "# file_upload=cl.files.upload()\n",
        "df = pd.read_csv('/content/cardio_train.csv', sep=';')\n",
        "# df = pd.read_csv(r'C:\\Users\\Utente77\\repos\\cardio_catch_disease_PA001\\datasets\\cardio_train.csv', sep=';')"
      ]
    },
    {
      "cell_type": "markdown",
      "metadata": {
        "id": "GyzIR2hkzHuv"
      },
      "source": [
        "### 1.4 - Test splitvo"
      ]
    },
    {
      "cell_type": "code",
      "execution_count": 4,
      "metadata": {
        "colab": {
          "base_uri": "https://localhost:8080/",
          "height": 206
        },
        "id": "Hl7nThbUKicF",
        "outputId": "a9fb39b9-8b06-4ba7-feff-5ab74cfd1649"
      },
      "outputs": [
        {
          "output_type": "execute_result",
          "data": {
            "text/plain": [
              "          id    age  gender  height  weight  ap_hi  ap_lo  cholesterol  gluc  smoke  alco  active  cardio\n",
              "43470  62107  22638       1     156    69.0    140     90            3     1      0     0       1       1\n",
              "4771    6754  20304       2     162    80.0    140     90            1     1      0     0       0       1\n",
              "31029  44307  21064       1     169    70.0    110     70            1     1      0     0       1       1\n",
              "7190   10244  16106       1     165    62.0    110     60            1     1      0     0       1       0\n",
              "23965  34268  18811       2     168    92.0    135     90            1     3      0     0       1       0"
            ],
            "text/html": [
              "\n",
              "  <div id=\"df-90e545b7-dca0-42b3-a9a1-e3f9133c0bbf\">\n",
              "    <div class=\"colab-df-container\">\n",
              "      <div>\n",
              "<style scoped>\n",
              "    .dataframe tbody tr th:only-of-type {\n",
              "        vertical-align: middle;\n",
              "    }\n",
              "\n",
              "    .dataframe tbody tr th {\n",
              "        vertical-align: top;\n",
              "    }\n",
              "\n",
              "    .dataframe thead th {\n",
              "        text-align: right;\n",
              "    }\n",
              "</style>\n",
              "<table border=\"1\" class=\"dataframe\">\n",
              "  <thead>\n",
              "    <tr style=\"text-align: right;\">\n",
              "      <th></th>\n",
              "      <th>id</th>\n",
              "      <th>age</th>\n",
              "      <th>gender</th>\n",
              "      <th>height</th>\n",
              "      <th>weight</th>\n",
              "      <th>ap_hi</th>\n",
              "      <th>ap_lo</th>\n",
              "      <th>cholesterol</th>\n",
              "      <th>gluc</th>\n",
              "      <th>smoke</th>\n",
              "      <th>alco</th>\n",
              "      <th>active</th>\n",
              "      <th>cardio</th>\n",
              "    </tr>\n",
              "  </thead>\n",
              "  <tbody>\n",
              "    <tr>\n",
              "      <th>43470</th>\n",
              "      <td>62107</td>\n",
              "      <td>22638</td>\n",
              "      <td>1</td>\n",
              "      <td>156</td>\n",
              "      <td>69.0</td>\n",
              "      <td>140</td>\n",
              "      <td>90</td>\n",
              "      <td>3</td>\n",
              "      <td>1</td>\n",
              "      <td>0</td>\n",
              "      <td>0</td>\n",
              "      <td>1</td>\n",
              "      <td>1</td>\n",
              "    </tr>\n",
              "    <tr>\n",
              "      <th>4771</th>\n",
              "      <td>6754</td>\n",
              "      <td>20304</td>\n",
              "      <td>2</td>\n",
              "      <td>162</td>\n",
              "      <td>80.0</td>\n",
              "      <td>140</td>\n",
              "      <td>90</td>\n",
              "      <td>1</td>\n",
              "      <td>1</td>\n",
              "      <td>0</td>\n",
              "      <td>0</td>\n",
              "      <td>0</td>\n",
              "      <td>1</td>\n",
              "    </tr>\n",
              "    <tr>\n",
              "      <th>31029</th>\n",
              "      <td>44307</td>\n",
              "      <td>21064</td>\n",
              "      <td>1</td>\n",
              "      <td>169</td>\n",
              "      <td>70.0</td>\n",
              "      <td>110</td>\n",
              "      <td>70</td>\n",
              "      <td>1</td>\n",
              "      <td>1</td>\n",
              "      <td>0</td>\n",
              "      <td>0</td>\n",
              "      <td>1</td>\n",
              "      <td>1</td>\n",
              "    </tr>\n",
              "    <tr>\n",
              "      <th>7190</th>\n",
              "      <td>10244</td>\n",
              "      <td>16106</td>\n",
              "      <td>1</td>\n",
              "      <td>165</td>\n",
              "      <td>62.0</td>\n",
              "      <td>110</td>\n",
              "      <td>60</td>\n",
              "      <td>1</td>\n",
              "      <td>1</td>\n",
              "      <td>0</td>\n",
              "      <td>0</td>\n",
              "      <td>1</td>\n",
              "      <td>0</td>\n",
              "    </tr>\n",
              "    <tr>\n",
              "      <th>23965</th>\n",
              "      <td>34268</td>\n",
              "      <td>18811</td>\n",
              "      <td>2</td>\n",
              "      <td>168</td>\n",
              "      <td>92.0</td>\n",
              "      <td>135</td>\n",
              "      <td>90</td>\n",
              "      <td>1</td>\n",
              "      <td>3</td>\n",
              "      <td>0</td>\n",
              "      <td>0</td>\n",
              "      <td>1</td>\n",
              "      <td>0</td>\n",
              "    </tr>\n",
              "  </tbody>\n",
              "</table>\n",
              "</div>\n",
              "      <button class=\"colab-df-convert\" onclick=\"convertToInteractive('df-90e545b7-dca0-42b3-a9a1-e3f9133c0bbf')\"\n",
              "              title=\"Convert this dataframe to an interactive table.\"\n",
              "              style=\"display:none;\">\n",
              "        \n",
              "  <svg xmlns=\"http://www.w3.org/2000/svg\" height=\"24px\"viewBox=\"0 0 24 24\"\n",
              "       width=\"24px\">\n",
              "    <path d=\"M0 0h24v24H0V0z\" fill=\"none\"/>\n",
              "    <path d=\"M18.56 5.44l.94 2.06.94-2.06 2.06-.94-2.06-.94-.94-2.06-.94 2.06-2.06.94zm-11 1L8.5 8.5l.94-2.06 2.06-.94-2.06-.94L8.5 2.5l-.94 2.06-2.06.94zm10 10l.94 2.06.94-2.06 2.06-.94-2.06-.94-.94-2.06-.94 2.06-2.06.94z\"/><path d=\"M17.41 7.96l-1.37-1.37c-.4-.4-.92-.59-1.43-.59-.52 0-1.04.2-1.43.59L10.3 9.45l-7.72 7.72c-.78.78-.78 2.05 0 2.83L4 21.41c.39.39.9.59 1.41.59.51 0 1.02-.2 1.41-.59l7.78-7.78 2.81-2.81c.8-.78.8-2.07 0-2.86zM5.41 20L4 18.59l7.72-7.72 1.47 1.35L5.41 20z\"/>\n",
              "  </svg>\n",
              "      </button>\n",
              "      \n",
              "  <style>\n",
              "    .colab-df-container {\n",
              "      display:flex;\n",
              "      flex-wrap:wrap;\n",
              "      gap: 12px;\n",
              "    }\n",
              "\n",
              "    .colab-df-convert {\n",
              "      background-color: #E8F0FE;\n",
              "      border: none;\n",
              "      border-radius: 50%;\n",
              "      cursor: pointer;\n",
              "      display: none;\n",
              "      fill: #1967D2;\n",
              "      height: 32px;\n",
              "      padding: 0 0 0 0;\n",
              "      width: 32px;\n",
              "    }\n",
              "\n",
              "    .colab-df-convert:hover {\n",
              "      background-color: #E2EBFA;\n",
              "      box-shadow: 0px 1px 2px rgba(60, 64, 67, 0.3), 0px 1px 3px 1px rgba(60, 64, 67, 0.15);\n",
              "      fill: #174EA6;\n",
              "    }\n",
              "\n",
              "    [theme=dark] .colab-df-convert {\n",
              "      background-color: #3B4455;\n",
              "      fill: #D2E3FC;\n",
              "    }\n",
              "\n",
              "    [theme=dark] .colab-df-convert:hover {\n",
              "      background-color: #434B5C;\n",
              "      box-shadow: 0px 1px 3px 1px rgba(0, 0, 0, 0.15);\n",
              "      filter: drop-shadow(0px 1px 2px rgba(0, 0, 0, 0.3));\n",
              "      fill: #FFFFFF;\n",
              "    }\n",
              "  </style>\n",
              "\n",
              "      <script>\n",
              "        const buttonEl =\n",
              "          document.querySelector('#df-90e545b7-dca0-42b3-a9a1-e3f9133c0bbf button.colab-df-convert');\n",
              "        buttonEl.style.display =\n",
              "          google.colab.kernel.accessAllowed ? 'block' : 'none';\n",
              "\n",
              "        async function convertToInteractive(key) {\n",
              "          const element = document.querySelector('#df-90e545b7-dca0-42b3-a9a1-e3f9133c0bbf');\n",
              "          const dataTable =\n",
              "            await google.colab.kernel.invokeFunction('convertToInteractive',\n",
              "                                                     [key], {});\n",
              "          if (!dataTable) return;\n",
              "\n",
              "          const docLinkHtml = 'Like what you see? Visit the ' +\n",
              "            '<a target=\"_blank\" href=https://colab.research.google.com/notebooks/data_table.ipynb>data table notebook</a>'\n",
              "            + ' to learn more about interactive tables.';\n",
              "          element.innerHTML = '';\n",
              "          dataTable['output_type'] = 'display_data';\n",
              "          await google.colab.output.renderOutput(dataTable, element);\n",
              "          const docLink = document.createElement('div');\n",
              "          docLink.innerHTML = docLinkHtml;\n",
              "          element.appendChild(docLink);\n",
              "        }\n",
              "      </script>\n",
              "    </div>\n",
              "  </div>\n",
              "  "
            ]
          },
          "metadata": {},
          "execution_count": 4
        }
      ],
      "source": [
        "df, df_test = train_test_split(df)\n",
        "df.head()"
      ]
    },
    {
      "cell_type": "markdown",
      "metadata": {
        "id": "cnuOH_4Fliop"
      },
      "source": [
        "### 1.5 - Creating Datawerehouse"
      ]
    },
    {
      "cell_type": "markdown",
      "metadata": {
        "id": "jn-DxraQliop"
      },
      "source": [
        "##### 1.5.1 - Rename Columns"
      ]
    },
    {
      "cell_type": "code",
      "execution_count": 5,
      "metadata": {
        "colab": {
          "base_uri": "https://localhost:8080/"
        },
        "id": "lyyGeW7eliop",
        "outputId": "368abfb8-52eb-4f17-cc20-579d8a12f50f"
      },
      "outputs": [
        {
          "output_type": "execute_result",
          "data": {
            "text/plain": [
              "Index(['id', 'age', 'gender', 'height', 'weight', 'ap_hi', 'ap_lo',\n",
              "       'cholesterol', 'gluc', 'smoke', 'alco', 'active', 'cardio'],\n",
              "      dtype='object')"
            ]
          },
          "metadata": {},
          "execution_count": 5
        }
      ],
      "source": [
        "# Old columns\n",
        "df.columns"
      ]
    },
    {
      "cell_type": "code",
      "execution_count": 6,
      "metadata": {
        "colab": {
          "base_uri": "https://localhost:8080/"
        },
        "id": "nvQyxl18lioq",
        "outputId": "ae7249c1-a5a9-402a-fad6-bcfdf43844c9",
        "scrolled": true
      },
      "outputs": [
        {
          "output_type": "execute_result",
          "data": {
            "text/plain": [
              "Index(['id', 'age', 'gender', 'height', 'weight', 'hight_pressure',\n",
              "       'low_pressure', 'cholesterol', 'glucose', 'smoker', 'alcohol', 'active',\n",
              "       'cardio'],\n",
              "      dtype='object')"
            ]
          },
          "metadata": {},
          "execution_count": 6
        }
      ],
      "source": [
        "# Rewriting columns names and replace then\n",
        "new_col = ['id', 'age', 'gender', 'height', 'weight', 'hight_pressure', 'low_pressure',\n",
        "       'cholesterol', 'glucose', 'smoker', 'alcohol', 'active', 'cardio']\n",
        "df.columns = new_col\n",
        "df.columns"
      ]
    },
    {
      "cell_type": "markdown",
      "metadata": {
        "id": "i27piK2Vlioq"
      },
      "source": [
        "##### 1.5.2 - Database"
      ]
    },
    {
      "cell_type": "code",
      "execution_count": 7,
      "metadata": {
        "id": "fXHUZt4flioq"
      },
      "outputs": [],
      "source": [
        "# # creating database\n",
        "# path_local=\"C:/Users/Utente77/repos/cardio_catch_disease_PA001/\"\n",
        "# engine_db = create_engine(f\"sqlite:////{path_local}/ccd.db\", echo=False)\n",
        "# conn = sqlite3.Connection('cardio_disease.db')\n",
        "# cursor = conn.cursor()\n",
        "\n",
        "# # create table\n",
        "# query = '''CREATE TABLE IF NOT EXISTS patients(\n",
        "#                                 id INTEGER,\n",
        "#                                 age INTEGER,\n",
        "#                                 gender INTEGER,\n",
        "#                                 height INTEGER,\n",
        "#                                 weight INTEGER,\n",
        "#                                 hight_pressure INTEGER,\n",
        "#                                 low_pressure INTEGER,\n",
        "#                                 cholesterol INTEGER,\n",
        "#                                 glucose INTEGER,\n",
        "#                                 smoker INTEGER,\n",
        "#                                 alcohol INTEGER,\n",
        "#                                 active INTEGER,\n",
        "#                                 cardio INTEGER\n",
        "#                                 )'''\n",
        "\n",
        "# cursor.execute(query)\n",
        "# #engine = engine_db()\n",
        "# df.to_sql('patients', con=conn, if_exists='append', index=False)\n",
        "\n"
      ]
    },
    {
      "cell_type": "markdown",
      "metadata": {
        "id": "WVs7Qn15lioq"
      },
      "source": [
        "#### 1.5.3 - Data Collect from Database"
      ]
    },
    {
      "cell_type": "code",
      "execution_count": 8,
      "metadata": {
        "id": "u-vsHKu9lioq"
      },
      "outputs": [],
      "source": [
        "# # Selecting data\n",
        "# query=\"\"\"\n",
        "#     SELECT *\n",
        "#     FROM patients;\n",
        "\n",
        "# \"\"\"\n",
        "# df=pd.read_sql_query(query,conn)\n"
      ]
    },
    {
      "cell_type": "markdown",
      "metadata": {
        "id": "rvYDREBKlior"
      },
      "source": [
        "## 2.0 - Descriptive Analysis"
      ]
    },
    {
      "cell_type": "markdown",
      "metadata": {
        "id": "i-tVkDA5lior"
      },
      "source": [
        "### 2.1 - Dimensions"
      ]
    },
    {
      "cell_type": "code",
      "execution_count": 9,
      "metadata": {
        "colab": {
          "base_uri": "https://localhost:8080/"
        },
        "id": "SHaqQnoslior",
        "outputId": "c4dfa8cd-ba78-4198-f6e5-d279491e4b17"
      },
      "outputs": [
        {
          "output_type": "stream",
          "name": "stdout",
          "text": [
            "52500 linhas.\n",
            "13 colunas.\n"
          ]
        }
      ],
      "source": [
        "# Printing the data dimensions, how much rows and columns\n",
        "print(f'{df.shape[0]} linhas.')\n",
        "print(f'{df.shape[1]} colunas.')"
      ]
    },
    {
      "cell_type": "markdown",
      "metadata": {
        "id": "9mj5VUy9lior"
      },
      "source": [
        "### 2.2 - Datatype and NaN fillout"
      ]
    },
    {
      "cell_type": "code",
      "execution_count": 10,
      "metadata": {
        "colab": {
          "base_uri": "https://localhost:8080/"
        },
        "id": "Bs0Xbil-lior",
        "outputId": "13cfb6a6-bb2c-4acf-bf9b-336bb3c6612a"
      },
      "outputs": [
        {
          "output_type": "stream",
          "name": "stdout",
          "text": [
            "<class 'pandas.core.frame.DataFrame'>\n",
            "Int64Index: 52500 entries, 43470 to 51123\n",
            "Data columns (total 13 columns):\n",
            " #   Column          Non-Null Count  Dtype  \n",
            "---  ------          --------------  -----  \n",
            " 0   id              52500 non-null  int64  \n",
            " 1   age             52500 non-null  int64  \n",
            " 2   gender          52500 non-null  int64  \n",
            " 3   height          52500 non-null  int64  \n",
            " 4   weight          52500 non-null  float64\n",
            " 5   hight_pressure  52500 non-null  int64  \n",
            " 6   low_pressure    52500 non-null  int64  \n",
            " 7   cholesterol     52500 non-null  int64  \n",
            " 8   glucose         52500 non-null  int64  \n",
            " 9   smoker          52500 non-null  int64  \n",
            " 10  alcohol         52500 non-null  int64  \n",
            " 11  active          52500 non-null  int64  \n",
            " 12  cardio          52500 non-null  int64  \n",
            "dtypes: float64(1), int64(12)\n",
            "memory usage: 5.6 MB\n"
          ]
        }
      ],
      "source": [
        "# Columns Datatypes\n",
        "df.info()"
      ]
    },
    {
      "cell_type": "code",
      "execution_count": 11,
      "metadata": {
        "colab": {
          "base_uri": "https://localhost:8080/",
          "height": 457
        },
        "id": "46nKpXyaaR6w",
        "outputId": "45378d46-9557-4c05-efec-2f20097c3025"
      },
      "outputs": [
        {
          "output_type": "execute_result",
          "data": {
            "text/plain": [
              "                NaN  NaN %\n",
              "id                0    0.0\n",
              "age               0    0.0\n",
              "gender            0    0.0\n",
              "height            0    0.0\n",
              "weight            0    0.0\n",
              "hight_pressure    0    0.0\n",
              "low_pressure      0    0.0\n",
              "cholesterol       0    0.0\n",
              "glucose           0    0.0\n",
              "smoker            0    0.0\n",
              "alcohol           0    0.0\n",
              "active            0    0.0\n",
              "cardio            0    0.0"
            ],
            "text/html": [
              "\n",
              "  <div id=\"df-c1b3e8b9-67b4-44df-bcf1-908bc7959b8d\">\n",
              "    <div class=\"colab-df-container\">\n",
              "      <div>\n",
              "<style scoped>\n",
              "    .dataframe tbody tr th:only-of-type {\n",
              "        vertical-align: middle;\n",
              "    }\n",
              "\n",
              "    .dataframe tbody tr th {\n",
              "        vertical-align: top;\n",
              "    }\n",
              "\n",
              "    .dataframe thead th {\n",
              "        text-align: right;\n",
              "    }\n",
              "</style>\n",
              "<table border=\"1\" class=\"dataframe\">\n",
              "  <thead>\n",
              "    <tr style=\"text-align: right;\">\n",
              "      <th></th>\n",
              "      <th>NaN</th>\n",
              "      <th>NaN %</th>\n",
              "    </tr>\n",
              "  </thead>\n",
              "  <tbody>\n",
              "    <tr>\n",
              "      <th>id</th>\n",
              "      <td>0</td>\n",
              "      <td>0.0</td>\n",
              "    </tr>\n",
              "    <tr>\n",
              "      <th>age</th>\n",
              "      <td>0</td>\n",
              "      <td>0.0</td>\n",
              "    </tr>\n",
              "    <tr>\n",
              "      <th>gender</th>\n",
              "      <td>0</td>\n",
              "      <td>0.0</td>\n",
              "    </tr>\n",
              "    <tr>\n",
              "      <th>height</th>\n",
              "      <td>0</td>\n",
              "      <td>0.0</td>\n",
              "    </tr>\n",
              "    <tr>\n",
              "      <th>weight</th>\n",
              "      <td>0</td>\n",
              "      <td>0.0</td>\n",
              "    </tr>\n",
              "    <tr>\n",
              "      <th>hight_pressure</th>\n",
              "      <td>0</td>\n",
              "      <td>0.0</td>\n",
              "    </tr>\n",
              "    <tr>\n",
              "      <th>low_pressure</th>\n",
              "      <td>0</td>\n",
              "      <td>0.0</td>\n",
              "    </tr>\n",
              "    <tr>\n",
              "      <th>cholesterol</th>\n",
              "      <td>0</td>\n",
              "      <td>0.0</td>\n",
              "    </tr>\n",
              "    <tr>\n",
              "      <th>glucose</th>\n",
              "      <td>0</td>\n",
              "      <td>0.0</td>\n",
              "    </tr>\n",
              "    <tr>\n",
              "      <th>smoker</th>\n",
              "      <td>0</td>\n",
              "      <td>0.0</td>\n",
              "    </tr>\n",
              "    <tr>\n",
              "      <th>alcohol</th>\n",
              "      <td>0</td>\n",
              "      <td>0.0</td>\n",
              "    </tr>\n",
              "    <tr>\n",
              "      <th>active</th>\n",
              "      <td>0</td>\n",
              "      <td>0.0</td>\n",
              "    </tr>\n",
              "    <tr>\n",
              "      <th>cardio</th>\n",
              "      <td>0</td>\n",
              "      <td>0.0</td>\n",
              "    </tr>\n",
              "  </tbody>\n",
              "</table>\n",
              "</div>\n",
              "      <button class=\"colab-df-convert\" onclick=\"convertToInteractive('df-c1b3e8b9-67b4-44df-bcf1-908bc7959b8d')\"\n",
              "              title=\"Convert this dataframe to an interactive table.\"\n",
              "              style=\"display:none;\">\n",
              "        \n",
              "  <svg xmlns=\"http://www.w3.org/2000/svg\" height=\"24px\"viewBox=\"0 0 24 24\"\n",
              "       width=\"24px\">\n",
              "    <path d=\"M0 0h24v24H0V0z\" fill=\"none\"/>\n",
              "    <path d=\"M18.56 5.44l.94 2.06.94-2.06 2.06-.94-2.06-.94-.94-2.06-.94 2.06-2.06.94zm-11 1L8.5 8.5l.94-2.06 2.06-.94-2.06-.94L8.5 2.5l-.94 2.06-2.06.94zm10 10l.94 2.06.94-2.06 2.06-.94-2.06-.94-.94-2.06-.94 2.06-2.06.94z\"/><path d=\"M17.41 7.96l-1.37-1.37c-.4-.4-.92-.59-1.43-.59-.52 0-1.04.2-1.43.59L10.3 9.45l-7.72 7.72c-.78.78-.78 2.05 0 2.83L4 21.41c.39.39.9.59 1.41.59.51 0 1.02-.2 1.41-.59l7.78-7.78 2.81-2.81c.8-.78.8-2.07 0-2.86zM5.41 20L4 18.59l7.72-7.72 1.47 1.35L5.41 20z\"/>\n",
              "  </svg>\n",
              "      </button>\n",
              "      \n",
              "  <style>\n",
              "    .colab-df-container {\n",
              "      display:flex;\n",
              "      flex-wrap:wrap;\n",
              "      gap: 12px;\n",
              "    }\n",
              "\n",
              "    .colab-df-convert {\n",
              "      background-color: #E8F0FE;\n",
              "      border: none;\n",
              "      border-radius: 50%;\n",
              "      cursor: pointer;\n",
              "      display: none;\n",
              "      fill: #1967D2;\n",
              "      height: 32px;\n",
              "      padding: 0 0 0 0;\n",
              "      width: 32px;\n",
              "    }\n",
              "\n",
              "    .colab-df-convert:hover {\n",
              "      background-color: #E2EBFA;\n",
              "      box-shadow: 0px 1px 2px rgba(60, 64, 67, 0.3), 0px 1px 3px 1px rgba(60, 64, 67, 0.15);\n",
              "      fill: #174EA6;\n",
              "    }\n",
              "\n",
              "    [theme=dark] .colab-df-convert {\n",
              "      background-color: #3B4455;\n",
              "      fill: #D2E3FC;\n",
              "    }\n",
              "\n",
              "    [theme=dark] .colab-df-convert:hover {\n",
              "      background-color: #434B5C;\n",
              "      box-shadow: 0px 1px 3px 1px rgba(0, 0, 0, 0.15);\n",
              "      filter: drop-shadow(0px 1px 2px rgba(0, 0, 0, 0.3));\n",
              "      fill: #FFFFFF;\n",
              "    }\n",
              "  </style>\n",
              "\n",
              "      <script>\n",
              "        const buttonEl =\n",
              "          document.querySelector('#df-c1b3e8b9-67b4-44df-bcf1-908bc7959b8d button.colab-df-convert');\n",
              "        buttonEl.style.display =\n",
              "          google.colab.kernel.accessAllowed ? 'block' : 'none';\n",
              "\n",
              "        async function convertToInteractive(key) {\n",
              "          const element = document.querySelector('#df-c1b3e8b9-67b4-44df-bcf1-908bc7959b8d');\n",
              "          const dataTable =\n",
              "            await google.colab.kernel.invokeFunction('convertToInteractive',\n",
              "                                                     [key], {});\n",
              "          if (!dataTable) return;\n",
              "\n",
              "          const docLinkHtml = 'Like what you see? Visit the ' +\n",
              "            '<a target=\"_blank\" href=https://colab.research.google.com/notebooks/data_table.ipynb>data table notebook</a>'\n",
              "            + ' to learn more about interactive tables.';\n",
              "          element.innerHTML = '';\n",
              "          dataTable['output_type'] = 'display_data';\n",
              "          await google.colab.output.renderOutput(dataTable, element);\n",
              "          const docLink = document.createElement('div');\n",
              "          docLink.innerHTML = docLinkHtml;\n",
              "          element.appendChild(docLink);\n",
              "        }\n",
              "      </script>\n",
              "    </div>\n",
              "  </div>\n",
              "  "
            ]
          },
          "metadata": {},
          "execution_count": 11
        }
      ],
      "source": [
        "aux=df.isna().sum().sort_values(ascending=False)\n",
        "aux1=df.isna().sum().sort_values(ascending=False)/df.shape[0]*100\n",
        "\n",
        "na=pd.concat([aux,aux1],axis=1)\n",
        "na.columns=['NaN', 'NaN %']\n",
        "na"
      ]
    },
    {
      "cell_type": "code",
      "execution_count": 12,
      "metadata": {
        "colab": {
          "base_uri": "https://localhost:8080/",
          "height": 1000
        },
        "id": "1dUZ7NHzlios",
        "outputId": "5a65e14d-9013-4e06-81b8-94b97ed15fa4"
      },
      "outputs": [
        {
          "output_type": "execute_result",
          "data": {
            "image/png": "[encoded data removed]",
            "text/plain": [
              "<IPython.core.display.Image object>"
            ]
          },
          "metadata": {},
          "execution_count": 12
        }
      ],
      "source": [
        "Image('/content/Cardio_Disease.png')\n",
        "#Image(r'C:\\Users\\Utente77\\repos\\cardio_catch_disease_PA001\\img\\Cardio_Disease.png')"
      ]
    },
    {
      "cell_type": "markdown",
      "metadata": {
        "id": "CvP0OjSqlios"
      },
      "source": [
        "### 2.3 - Data Description"
      ]
    },
    {
      "cell_type": "code",
      "execution_count": 13,
      "metadata": {
        "id": "Z55JRtjqlios"
      },
      "outputs": [],
      "source": [
        "# profile=ProfileReport(df, title=\"Pandas Profiling Report\")\n",
        "# profile.to_file(r\"C:\\Users\\Utente77\\repos\\cardio_catch_disease_PA001\\img\\report.html\")\n",
        "# profile"
      ]
    },
    {
      "cell_type": "code",
      "execution_count": 14,
      "metadata": {
        "colab": {
          "base_uri": "https://localhost:8080/",
          "height": 426
        },
        "id": "UM3HZik4liot",
        "outputId": "4922608e-73c3-4243-88f0-cbba507ed9c7"
      },
      "outputs": [
        {
          "output_type": "execute_result",
          "data": {
            "text/plain": [
              "                  count          mean          std      min      25%      50%       75%      max    range   median     kurtosis       skew\n",
              "age             52500.0  19462.129829  2461.773532  10798.0  17665.0  19701.0  21313.25  23701.0  12903.0  19701.0    -0.818367  -0.305681\n",
              "gender          52500.0      1.350286     0.477064      1.0      1.0      1.0      2.00      2.0      1.0      1.0    -1.606050   0.627655\n",
              "height          52500.0    164.355962     8.201729     57.0    159.0    165.0    170.00    250.0    193.0    165.0     7.454408  -0.581344\n",
              "weight          52500.0     74.214910    14.407133     10.0     65.0     72.0     82.00    200.0    190.0     72.0     2.558854   1.009193\n",
              "hight_pressure  52500.0    129.080971   167.767903   -150.0    120.0    120.0    140.00  16020.0  16170.0    120.0  6514.129398  79.294669\n",
              "low_pressure    52500.0     96.227695   182.661258    -70.0     80.0     80.0     90.00  10000.0  10070.0     80.0  1433.777145  31.998946\n",
              "cholesterol     52500.0      1.366514     0.680028      1.0      1.0      1.0      2.00      3.0      2.0      1.0     0.998772   1.588624\n",
              "glucose         52500.0      1.225790     0.571011      1.0      1.0      1.0      1.00      3.0      2.0      1.0     4.321127   2.401714\n",
              "smoker          52500.0      0.087962     0.283242      0.0      0.0      0.0      0.00      1.0      1.0      0.0     6.465003   2.909468\n",
              "alcohol         52500.0      0.054400     0.226807      0.0      0.0      0.0      0.00      1.0      1.0      0.0    13.439883   3.929362\n",
              "active          52500.0      0.805333     0.395948      0.0      1.0      1.0      1.00      1.0      1.0      1.0     0.378708  -1.542306\n",
              "cardio          52500.0      0.497962     0.500001      0.0      0.0      0.0      1.00      1.0      1.0      0.0    -1.999934   0.008152"
            ],
            "text/html": [
              "\n",
              "  <div id=\"df-533277ca-2197-4875-9348-dfa76e29d104\">\n",
              "    <div class=\"colab-df-container\">\n",
              "      <div>\n",
              "<style scoped>\n",
              "    .dataframe tbody tr th:only-of-type {\n",
              "        vertical-align: middle;\n",
              "    }\n",
              "\n",
              "    .dataframe tbody tr th {\n",
              "        vertical-align: top;\n",
              "    }\n",
              "\n",
              "    .dataframe thead th {\n",
              "        text-align: right;\n",
              "    }\n",
              "</style>\n",
              "<table border=\"1\" class=\"dataframe\">\n",
              "  <thead>\n",
              "    <tr style=\"text-align: right;\">\n",
              "      <th></th>\n",
              "      <th>count</th>\n",
              "      <th>mean</th>\n",
              "      <th>std</th>\n",
              "      <th>min</th>\n",
              "      <th>25%</th>\n",
              "      <th>50%</th>\n",
              "      <th>75%</th>\n",
              "      <th>max</th>\n",
              "      <th>range</th>\n",
              "      <th>median</th>\n",
              "      <th>kurtosis</th>\n",
              "      <th>skew</th>\n",
              "    </tr>\n",
              "  </thead>\n",
              "  <tbody>\n",
              "    <tr>\n",
              "      <th>age</th>\n",
              "      <td>52500.0</td>\n",
              "      <td>19462.129829</td>\n",
              "      <td>2461.773532</td>\n",
              "      <td>10798.0</td>\n",
              "      <td>17665.0</td>\n",
              "      <td>19701.0</td>\n",
              "      <td>21313.25</td>\n",
              "      <td>23701.0</td>\n",
              "      <td>12903.0</td>\n",
              "      <td>19701.0</td>\n",
              "      <td>-0.818367</td>\n",
              "      <td>-0.305681</td>\n",
              "    </tr>\n",
              "    <tr>\n",
              "      <th>gender</th>\n",
              "      <td>52500.0</td>\n",
              "      <td>1.350286</td>\n",
              "      <td>0.477064</td>\n",
              "      <td>1.0</td>\n",
              "      <td>1.0</td>\n",
              "      <td>1.0</td>\n",
              "      <td>2.00</td>\n",
              "      <td>2.0</td>\n",
              "      <td>1.0</td>\n",
              "      <td>1.0</td>\n",
              "      <td>-1.606050</td>\n",
              "      <td>0.627655</td>\n",
              "    </tr>\n",
              "    <tr>\n",
              "      <th>height</th>\n",
              "      <td>52500.0</td>\n",
              "      <td>164.355962</td>\n",
              "      <td>8.201729</td>\n",
              "      <td>57.0</td>\n",
              "      <td>159.0</td>\n",
              "      <td>165.0</td>\n",
              "      <td>170.00</td>\n",
              "      <td>250.0</td>\n",
              "      <td>193.0</td>\n",
              "      <td>165.0</td>\n",
              "      <td>7.454408</td>\n",
              "      <td>-0.581344</td>\n",
              "    </tr>\n",
              "    <tr>\n",
              "      <th>weight</th>\n",
              "      <td>52500.0</td>\n",
              "      <td>74.214910</td>\n",
              "      <td>14.407133</td>\n",
              "      <td>10.0</td>\n",
              "      <td>65.0</td>\n",
              "      <td>72.0</td>\n",
              "      <td>82.00</td>\n",
              "      <td>200.0</td>\n",
              "      <td>190.0</td>\n",
              "      <td>72.0</td>\n",
              "      <td>2.558854</td>\n",
              "      <td>1.009193</td>\n",
              "    </tr>\n",
              "    <tr>\n",
              "      <th>hight_pressure</th>\n",
              "      <td>52500.0</td>\n",
              "      <td>129.080971</td>\n",
              "      <td>167.767903</td>\n",
              "      <td>-150.0</td>\n",
              "      <td>120.0</td>\n",
              "      <td>120.0</td>\n",
              "      <td>140.00</td>\n",
              "      <td>16020.0</td>\n",
              "      <td>16170.0</td>\n",
              "      <td>120.0</td>\n",
              "      <td>6514.129398</td>\n",
              "      <td>79.294669</td>\n",
              "    </tr>\n",
              "    <tr>\n",
              "      <th>low_pressure</th>\n",
              "      <td>52500.0</td>\n",
              "      <td>96.227695</td>\n",
              "      <td>182.661258</td>\n",
              "      <td>-70.0</td>\n",
              "      <td>80.0</td>\n",
              "      <td>80.0</td>\n",
              "      <td>90.00</td>\n",
              "      <td>10000.0</td>\n",
              "      <td>10070.0</td>\n",
              "      <td>80.0</td>\n",
              "      <td>1433.777145</td>\n",
              "      <td>31.998946</td>\n",
              "    </tr>\n",
              "    <tr>\n",
              "      <th>cholesterol</th>\n",
              "      <td>52500.0</td>\n",
              "      <td>1.366514</td>\n",
              "      <td>0.680028</td>\n",
              "      <td>1.0</td>\n",
              "      <td>1.0</td>\n",
              "      <td>1.0</td>\n",
              "      <td>2.00</td>\n",
              "      <td>3.0</td>\n",
              "      <td>2.0</td>\n",
              "      <td>1.0</td>\n",
              "      <td>0.998772</td>\n",
              "      <td>1.588624</td>\n",
              "    </tr>\n",
              "    <tr>\n",
              "      <th>glucose</th>\n",
              "      <td>52500.0</td>\n",
              "      <td>1.225790</td>\n",
              "      <td>0.571011</td>\n",
              "      <td>1.0</td>\n",
              "      <td>1.0</td>\n",
              "      <td>1.0</td>\n",
              "      <td>1.00</td>\n",
              "      <td>3.0</td>\n",
              "      <td>2.0</td>\n",
              "      <td>1.0</td>\n",
              "      <td>4.321127</td>\n",
              "      <td>2.401714</td>\n",
              "    </tr>\n",
              "    <tr>\n",
              "      <th>smoker</th>\n",
              "      <td>52500.0</td>\n",
              "      <td>0.087962</td>\n",
              "      <td>0.283242</td>\n",
              "      <td>0.0</td>\n",
              "      <td>0.0</td>\n",
              "      <td>0.0</td>\n",
              "      <td>0.00</td>\n",
              "      <td>1.0</td>\n",
              "      <td>1.0</td>\n",
              "      <td>0.0</td>\n",
              "      <td>6.465003</td>\n",
              "      <td>2.909468</td>\n",
              "    </tr>\n",
              "    <tr>\n",
              "      <th>alcohol</th>\n",
              "      <td>52500.0</td>\n",
              "      <td>0.054400</td>\n",
              "      <td>0.226807</td>\n",
              "      <td>0.0</td>\n",
              "      <td>0.0</td>\n",
              "      <td>0.0</td>\n",
              "      <td>0.00</td>\n",
              "      <td>1.0</td>\n",
              "      <td>1.0</td>\n",
              "      <td>0.0</td>\n",
              "      <td>13.439883</td>\n",
              "      <td>3.929362</td>\n",
              "    </tr>\n",
              "    <tr>\n",
              "      <th>active</th>\n",
              "      <td>52500.0</td>\n",
              "      <td>0.805333</td>\n",
              "      <td>0.395948</td>\n",
              "      <td>0.0</td>\n",
              "      <td>1.0</td>\n",
              "      <td>1.0</td>\n",
              "      <td>1.00</td>\n",
              "      <td>1.0</td>\n",
              "      <td>1.0</td>\n",
              "      <td>1.0</td>\n",
              "      <td>0.378708</td>\n",
              "      <td>-1.542306</td>\n",
              "    </tr>\n",
              "    <tr>\n",
              "      <th>cardio</th>\n",
              "      <td>52500.0</td>\n",
              "      <td>0.497962</td>\n",
              "      <td>0.500001</td>\n",
              "      <td>0.0</td>\n",
              "      <td>0.0</td>\n",
              "      <td>0.0</td>\n",
              "      <td>1.00</td>\n",
              "      <td>1.0</td>\n",
              "      <td>1.0</td>\n",
              "      <td>0.0</td>\n",
              "      <td>-1.999934</td>\n",
              "      <td>0.008152</td>\n",
              "    </tr>\n",
              "  </tbody>\n",
              "</table>\n",
              "</div>\n",
              "      <button class=\"colab-df-convert\" onclick=\"convertToInteractive('df-533277ca-2197-4875-9348-dfa76e29d104')\"\n",
              "              title=\"Convert this dataframe to an interactive table.\"\n",
              "              style=\"display:none;\">\n",
              "        \n",
              "  <svg xmlns=\"http://www.w3.org/2000/svg\" height=\"24px\"viewBox=\"0 0 24 24\"\n",
              "       width=\"24px\">\n",
              "    <path d=\"M0 0h24v24H0V0z\" fill=\"none\"/>\n",
              "    <path d=\"M18.56 5.44l.94 2.06.94-2.06 2.06-.94-2.06-.94-.94-2.06-.94 2.06-2.06.94zm-11 1L8.5 8.5l.94-2.06 2.06-.94-2.06-.94L8.5 2.5l-.94 2.06-2.06.94zm10 10l.94 2.06.94-2.06 2.06-.94-2.06-.94-.94-2.06-.94 2.06-2.06.94z\"/><path d=\"M17.41 7.96l-1.37-1.37c-.4-.4-.92-.59-1.43-.59-.52 0-1.04.2-1.43.59L10.3 9.45l-7.72 7.72c-.78.78-.78 2.05 0 2.83L4 21.41c.39.39.9.59 1.41.59.51 0 1.02-.2 1.41-.59l7.78-7.78 2.81-2.81c.8-.78.8-2.07 0-2.86zM5.41 20L4 18.59l7.72-7.72 1.47 1.35L5.41 20z\"/>\n",
              "  </svg>\n",
              "      </button>\n",
              "      \n",
              "  <style>\n",
              "    .colab-df-container {\n",
              "      display:flex;\n",
              "      flex-wrap:wrap;\n",
              "      gap: 12px;\n",
              "    }\n",
              "\n",
              "    .colab-df-convert {\n",
              "      background-color: #E8F0FE;\n",
              "      border: none;\n",
              "      border-radius: 50%;\n",
              "      cursor: pointer;\n",
              "      display: none;\n",
              "      fill: #1967D2;\n",
              "      height: 32px;\n",
              "      padding: 0 0 0 0;\n",
              "      width: 32px;\n",
              "    }\n",
              "\n",
              "    .colab-df-convert:hover {\n",
              "      background-color: #E2EBFA;\n",
              "      box-shadow: 0px 1px 2px rgba(60, 64, 67, 0.3), 0px 1px 3px 1px rgba(60, 64, 67, 0.15);\n",
              "      fill: #174EA6;\n",
              "    }\n",
              "\n",
              "    [theme=dark] .colab-df-convert {\n",
              "      background-color: #3B4455;\n",
              "      fill: #D2E3FC;\n",
              "    }\n",
              "\n",
              "    [theme=dark] .colab-df-convert:hover {\n",
              "      background-color: #434B5C;\n",
              "      box-shadow: 0px 1px 3px 1px rgba(0, 0, 0, 0.15);\n",
              "      filter: drop-shadow(0px 1px 2px rgba(0, 0, 0, 0.3));\n",
              "      fill: #FFFFFF;\n",
              "    }\n",
              "  </style>\n",
              "\n",
              "      <script>\n",
              "        const buttonEl =\n",
              "          document.querySelector('#df-533277ca-2197-4875-9348-dfa76e29d104 button.colab-df-convert');\n",
              "        buttonEl.style.display =\n",
              "          google.colab.kernel.accessAllowed ? 'block' : 'none';\n",
              "\n",
              "        async function convertToInteractive(key) {\n",
              "          const element = document.querySelector('#df-533277ca-2197-4875-9348-dfa76e29d104');\n",
              "          const dataTable =\n",
              "            await google.colab.kernel.invokeFunction('convertToInteractive',\n",
              "                                                     [key], {});\n",
              "          if (!dataTable) return;\n",
              "\n",
              "          const docLinkHtml = 'Like what you see? Visit the ' +\n",
              "            '<a target=\"_blank\" href=https://colab.research.google.com/notebooks/data_table.ipynb>data table notebook</a>'\n",
              "            + ' to learn more about interactive tables.';\n",
              "          element.innerHTML = '';\n",
              "          dataTable['output_type'] = 'display_data';\n",
              "          await google.colab.output.renderOutput(dataTable, element);\n",
              "          const docLink = document.createElement('div');\n",
              "          docLink.innerHTML = docLinkHtml;\n",
              "          element.appendChild(docLink);\n",
              "        }\n",
              "      </script>\n",
              "    </div>\n",
              "  </div>\n",
              "  "
            ]
          },
          "metadata": {},
          "execution_count": 14
        }
      ],
      "source": [
        "# Descriptive statistics \n",
        "\n",
        "describe = df.describe().T.drop('id', axis=0)\n",
        "describe['range'] = describe['max'] - describe['min']\n",
        "describe['median'] = df.apply( np.median )\n",
        "describe['kurtosis'] = df.apply( kurtosis )\n",
        "describe['skew'] = df.apply( skew )\n",
        "describe"
      ]
    },
    {
      "cell_type": "markdown",
      "metadata": {
        "id": "uTKjXantJSSt"
      },
      "source": [
        "### <H3>***Problematics*** </H3>\n",
        "- age in days\n",
        "- hight_pressure min above 0\n",
        "- low_pressure min above \n",
        "\n"
      ]
    },
    {
      "cell_type": "markdown",
      "metadata": {
        "id": "_8fzLkyrliot"
      },
      "source": [
        "## 3.0 - Feature Engineering"
      ]
    },
    {
      "cell_type": "code",
      "execution_count": 31,
      "metadata": {
        "id": "jPXZ1AQ0liot"
      },
      "outputs": [],
      "source": [
        "df1=df.copy()"
      ]
    },
    {
      "cell_type": "code",
      "execution_count": 32,
      "metadata": {
        "id": "vOYesUV9lios"
      },
      "outputs": [],
      "source": [
        "# age - change days to year old\n",
        "df1['age'] = (df1['age'] / 365).astype('int')\n",
        "\n",
        "# height - change centimeters to meters\n",
        "df1['height'] = (df1['height'] / 100)"
      ]
    },
    {
      "cell_type": "markdown",
      "source": [
        "<h1>BMI Levels</h1>\n",
        "\n",
        "![Cardio Image](https://www.builtlean.com/wp-content/uploads/2013/06/Bmi-chart-1.jpg)\n"
      ],
      "metadata": {
        "id": "DrMQxLTlg1AK"
      }
    },
    {
      "cell_type": "code",
      "execution_count": 33,
      "metadata": {
        "id": "UuIfNfrgliou"
      },
      "outputs": [],
      "source": [
        "# BMI calculus and slices in four levels\n",
        "df1['bmi'] = (df1['weight']/(df1['height'] * df1['height']))\n",
        "df1['bmi_level'] = df1['bmi'].apply(lambda x: \n",
        "                                              0 if x <= 18.5 else\n",
        "                                              1      if x >  18.5 and x <= 24.9 else\n",
        "                                              2  if x >= 25.0 and x <= 29.9 else\n",
        "                                              3)"
      ]
    },
    {
      "cell_type": "markdown",
      "source": [
        "<h1>Diastolic and systolic blood pressure</h1>\n",
        "\n",
        "![Cardio Image](https://www.bloomsburysurgery.nhs.uk/media/content/images/bp-range-chart.jpg)\n"
      ],
      "metadata": {
        "id": "xj-UlcXoeMio"
      }
    },
    {
      "cell_type": "code",
      "execution_count": 34,
      "metadata": {
        "id": "eqps3oHmliou"
      },
      "outputs": [],
      "source": [
        "# Hypertension and Hipotension binary\n",
        "df1['hypertension'] = df1.apply(lambda x: 1 if x[4] >=140 and x[5] >= 90 else 0, axis=1)\n",
        "df1['hypotension'] = df1.apply(lambda x: 1 if x[4] <=90 and x[5] <= 60 else 0, axis=1)"
      ]
    },
    {
      "cell_type": "code",
      "execution_count": 35,
      "metadata": {
        "id": "C3yhuDZTliou"
      },
      "outputs": [],
      "source": [
        "# A difference between systolic and diastolic arterial pressure, \n",
        "\n",
        "df1['difference'] = df1['hight_pressure'] - df1['low_pressure'] # A difference between systolic and diastolic arterial pressure\n",
        "df1['convergent'] = df1['difference'].apply(lambda x: 1 if x <= 30 else 0) # lesser than 30mmhg called convergent \n",
        "df1['divergent'] = df1['difference'].apply(lambda x: 1 if x >= 60 else 0)# and upper than 60mmhg called divergent "
      ]
    },
    {
      "cell_type": "code",
      "execution_count": 36,
      "metadata": {
        "id": "Ez43w-rvliou"
      },
      "outputs": [],
      "source": [
        "# Slicing ages with three ranges\n",
        "df1['age_range'] = df1['age'].apply(lambda x: 1    if x <= 50 \n",
        "                                                   else 2   if x >= 51 and x <= 59 \n",
        "                                                   else 3 if x >= 60 \n",
        "                                                   else x)"
      ]
    },
    {
      "cell_type": "code",
      "execution_count": 37,
      "metadata": {
        "id": "0mRbAX2-liou"
      },
      "outputs": [],
      "source": [
        "df1['weight_range'] = df1['weight'].apply(\n",
        "    lambda x:   0.50 if x <= 50  else\n",
        "                0.75 if x >= 51  and x <= 75 else\n",
        "                1.00 if x >= 76  and x <= 100 else\n",
        "                1.25 if x >= 101 and x <= 125 else\n",
        "                1.50 if x >= 126 and x <= 150 else\n",
        "                1.75 if x >= 151 and x <= 175 else 2.00)"
      ]
    },
    {
      "cell_type": "code",
      "execution_count": 38,
      "metadata": {
        "colab": {
          "base_uri": "https://localhost:8080/",
          "height": 708
        },
        "id": "33I1J8z9b5qV",
        "outputId": "6346341b-35d0-4012-f3f5-6e4ebbbfb8e7"
      },
      "outputs": [
        {
          "output_type": "execute_result",
          "data": {
            "text/plain": [
              "                  count        mean         std          min         25%         50%         75%           max         range      median     kurtosis       skew\n",
              "age             52500.0   52.821752    6.751369    29.000000   48.000000   53.000000   58.000000     64.000000     35.000000   53.000000    -0.814564  -0.304433\n",
              "gender          52500.0    1.350286    0.477064     1.000000    1.000000    1.000000    2.000000      2.000000      1.000000    1.000000    -1.606050   0.627655\n",
              "height          52500.0    1.643560    0.082017     0.570000    1.590000    1.650000    1.700000      2.500000      1.930000    1.650000     7.454408  -0.581344\n",
              "weight          52500.0   74.214910   14.407133    10.000000   65.000000   72.000000   82.000000    200.000000    190.000000   72.000000     2.558854   1.009193\n",
              "hight_pressure  52500.0  129.080971  167.767903  -150.000000  120.000000  120.000000  140.000000  16020.000000  16170.000000  120.000000  6514.129398  79.294669\n",
              "low_pressure    52500.0   96.227695  182.661258   -70.000000   80.000000   80.000000   90.000000  10000.000000  10070.000000   80.000000  1433.777145  31.998946\n",
              "cholesterol     52500.0    1.366514    0.680028     1.000000    1.000000    1.000000    2.000000      3.000000      2.000000    1.000000     0.998772   1.588624\n",
              "glucose         52500.0    1.225790    0.571011     1.000000    1.000000    1.000000    1.000000      3.000000      2.000000    1.000000     4.321127   2.401714\n",
              "smoker          52500.0    0.087962    0.283242     0.000000    0.000000    0.000000    0.000000      1.000000      1.000000    0.000000     6.465003   2.909468\n",
              "alcohol         52500.0    0.054400    0.226807     0.000000    0.000000    0.000000    0.000000      1.000000      1.000000    0.000000    13.439883   3.929362\n",
              "active          52500.0    0.805333    0.395948     0.000000    1.000000    1.000000    1.000000      1.000000      1.000000    1.000000     0.378708  -1.542306\n",
              "cardio          52500.0    0.497962    0.500001     0.000000    0.000000    0.000000    1.000000      1.000000      1.000000    0.000000    -1.999934   0.008152\n",
              "bmi             52500.0   27.556620    5.977267     3.673095   23.875115   26.397977   30.189591    298.666667    294.993572   26.397977   167.183710   6.459839\n",
              "bmi_level       52500.0    1.911143    0.814688     0.000000    1.000000    2.000000    3.000000      3.000000      3.000000    2.000000    -1.264925   0.059970\n",
              "hypertension    52500.0    0.001619    0.040205     0.000000    0.000000    0.000000    0.000000      1.000000      1.000000    0.000000   612.648680  24.792109\n",
              "hypotension     52500.0    0.002514    0.050080     0.000000    0.000000    0.000000    0.000000      1.000000      1.000000    0.000000   392.729793  19.867808\n",
              "difference      52500.0   32.853276  246.231093 -9850.000000   40.000000   40.000000   50.000000  15940.000000  25790.000000   40.000000  1840.110592  12.172784\n",
              "convergent      52500.0    0.112400    0.315861     0.000000    0.000000    0.000000    0.000000      1.000000      1.000000    0.000000     4.023431   2.454268\n",
              "divergent       52500.0    0.162514    0.368925     0.000000    0.000000    0.000000    0.000000      1.000000      1.000000    0.000000     1.347355   1.829578\n",
              "age_range       52500.0    1.831714    0.713258     1.000000    1.000000    2.000000    2.000000      3.000000      2.000000    2.000000    -1.019284   0.257172\n",
              "weight_range    52500.0    0.856129    0.159800     0.500000    0.750000    0.750000    1.000000      2.000000      1.500000    0.750000     1.822654   0.948412"
            ],
            "text/html": [
              "\n",
              "  <div id=\"df-67ccd0bc-d64d-48cd-950a-9089bf8f1e50\">\n",
              "    <div class=\"colab-df-container\">\n",
              "      <div>\n",
              "<style scoped>\n",
              "    .dataframe tbody tr th:only-of-type {\n",
              "        vertical-align: middle;\n",
              "    }\n",
              "\n",
              "    .dataframe tbody tr th {\n",
              "        vertical-align: top;\n",
              "    }\n",
              "\n",
              "    .dataframe thead th {\n",
              "        text-align: right;\n",
              "    }\n",
              "</style>\n",
              "<table border=\"1\" class=\"dataframe\">\n",
              "  <thead>\n",
              "    <tr style=\"text-align: right;\">\n",
              "      <th></th>\n",
              "      <th>count</th>\n",
              "      <th>mean</th>\n",
              "      <th>std</th>\n",
              "      <th>min</th>\n",
              "      <th>25%</th>\n",
              "      <th>50%</th>\n",
              "      <th>75%</th>\n",
              "      <th>max</th>\n",
              "      <th>range</th>\n",
              "      <th>median</th>\n",
              "      <th>kurtosis</th>\n",
              "      <th>skew</th>\n",
              "    </tr>\n",
              "  </thead>\n",
              "  <tbody>\n",
              "    <tr>\n",
              "      <th>age</th>\n",
              "      <td>52500.0</td>\n",
              "      <td>52.821752</td>\n",
              "      <td>6.751369</td>\n",
              "      <td>29.000000</td>\n",
              "      <td>48.000000</td>\n",
              "      <td>53.000000</td>\n",
              "      <td>58.000000</td>\n",
              "      <td>64.000000</td>\n",
              "      <td>35.000000</td>\n",
              "      <td>53.000000</td>\n",
              "      <td>-0.814564</td>\n",
              "      <td>-0.304433</td>\n",
              "    </tr>\n",
              "    <tr>\n",
              "      <th>gender</th>\n",
              "      <td>52500.0</td>\n",
              "      <td>1.350286</td>\n",
              "      <td>0.477064</td>\n",
              "      <td>1.000000</td>\n",
              "      <td>1.000000</td>\n",
              "      <td>1.000000</td>\n",
              "      <td>2.000000</td>\n",
              "      <td>2.000000</td>\n",
              "      <td>1.000000</td>\n",
              "      <td>1.000000</td>\n",
              "      <td>-1.606050</td>\n",
              "      <td>0.627655</td>\n",
              "    </tr>\n",
              "    <tr>\n",
              "      <th>height</th>\n",
              "      <td>52500.0</td>\n",
              "      <td>1.643560</td>\n",
              "      <td>0.082017</td>\n",
              "      <td>0.570000</td>\n",
              "      <td>1.590000</td>\n",
              "      <td>1.650000</td>\n",
              "      <td>1.700000</td>\n",
              "      <td>2.500000</td>\n",
              "      <td>1.930000</td>\n",
              "      <td>1.650000</td>\n",
              "      <td>7.454408</td>\n",
              "      <td>-0.581344</td>\n",
              "    </tr>\n",
              "    <tr>\n",
              "      <th>weight</th>\n",
              "      <td>52500.0</td>\n",
              "      <td>74.214910</td>\n",
              "      <td>14.407133</td>\n",
              "      <td>10.000000</td>\n",
              "      <td>65.000000</td>\n",
              "      <td>72.000000</td>\n",
              "      <td>82.000000</td>\n",
              "      <td>200.000000</td>\n",
              "      <td>190.000000</td>\n",
              "      <td>72.000000</td>\n",
              "      <td>2.558854</td>\n",
              "      <td>1.009193</td>\n",
              "    </tr>\n",
              "    <tr>\n",
              "      <th>hight_pressure</th>\n",
              "      <td>52500.0</td>\n",
              "      <td>129.080971</td>\n",
              "      <td>167.767903</td>\n",
              "      <td>-150.000000</td>\n",
              "      <td>120.000000</td>\n",
              "      <td>120.000000</td>\n",
              "      <td>140.000000</td>\n",
              "      <td>16020.000000</td>\n",
              "      <td>16170.000000</td>\n",
              "      <td>120.000000</td>\n",
              "      <td>6514.129398</td>\n",
              "      <td>79.294669</td>\n",
              "    </tr>\n",
              "    <tr>\n",
              "      <th>low_pressure</th>\n",
              "      <td>52500.0</td>\n",
              "      <td>96.227695</td>\n",
              "      <td>182.661258</td>\n",
              "      <td>-70.000000</td>\n",
              "      <td>80.000000</td>\n",
              "      <td>80.000000</td>\n",
              "      <td>90.000000</td>\n",
              "      <td>10000.000000</td>\n",
              "      <td>10070.000000</td>\n",
              "      <td>80.000000</td>\n",
              "      <td>1433.777145</td>\n",
              "      <td>31.998946</td>\n",
              "    </tr>\n",
              "    <tr>\n",
              "      <th>cholesterol</th>\n",
              "      <td>52500.0</td>\n",
              "      <td>1.366514</td>\n",
              "      <td>0.680028</td>\n",
              "      <td>1.000000</td>\n",
              "      <td>1.000000</td>\n",
              "      <td>1.000000</td>\n",
              "      <td>2.000000</td>\n",
              "      <td>3.000000</td>\n",
              "      <td>2.000000</td>\n",
              "      <td>1.000000</td>\n",
              "      <td>0.998772</td>\n",
              "      <td>1.588624</td>\n",
              "    </tr>\n",
              "    <tr>\n",
              "      <th>glucose</th>\n",
              "      <td>52500.0</td>\n",
              "      <td>1.225790</td>\n",
              "      <td>0.571011</td>\n",
              "      <td>1.000000</td>\n",
              "      <td>1.000000</td>\n",
              "      <td>1.000000</td>\n",
              "      <td>1.000000</td>\n",
              "      <td>3.000000</td>\n",
              "      <td>2.000000</td>\n",
              "      <td>1.000000</td>\n",
              "      <td>4.321127</td>\n",
              "      <td>2.401714</td>\n",
              "    </tr>\n",
              "    <tr>\n",
              "      <th>smoker</th>\n",
              "      <td>52500.0</td>\n",
              "      <td>0.087962</td>\n",
              "      <td>0.283242</td>\n",
              "      <td>0.000000</td>\n",
              "      <td>0.000000</td>\n",
              "      <td>0.000000</td>\n",
              "      <td>0.000000</td>\n",
              "      <td>1.000000</td>\n",
              "      <td>1.000000</td>\n",
              "      <td>0.000000</td>\n",
              "      <td>6.465003</td>\n",
              "      <td>2.909468</td>\n",
              "    </tr>\n",
              "    <tr>\n",
              "      <th>alcohol</th>\n",
              "      <td>52500.0</td>\n",
              "      <td>0.054400</td>\n",
              "      <td>0.226807</td>\n",
              "      <td>0.000000</td>\n",
              "      <td>0.000000</td>\n",
              "      <td>0.000000</td>\n",
              "      <td>0.000000</td>\n",
              "      <td>1.000000</td>\n",
              "      <td>1.000000</td>\n",
              "      <td>0.000000</td>\n",
              "      <td>13.439883</td>\n",
              "      <td>3.929362</td>\n",
              "    </tr>\n",
              "    <tr>\n",
              "      <th>active</th>\n",
              "      <td>52500.0</td>\n",
              "      <td>0.805333</td>\n",
              "      <td>0.395948</td>\n",
              "      <td>0.000000</td>\n",
              "      <td>1.000000</td>\n",
              "      <td>1.000000</td>\n",
              "      <td>1.000000</td>\n",
              "      <td>1.000000</td>\n",
              "      <td>1.000000</td>\n",
              "      <td>1.000000</td>\n",
              "      <td>0.378708</td>\n",
              "      <td>-1.542306</td>\n",
              "    </tr>\n",
              "    <tr>\n",
              "      <th>cardio</th>\n",
              "      <td>52500.0</td>\n",
              "      <td>0.497962</td>\n",
              "      <td>0.500001</td>\n",
              "      <td>0.000000</td>\n",
              "      <td>0.000000</td>\n",
              "      <td>0.000000</td>\n",
              "      <td>1.000000</td>\n",
              "      <td>1.000000</td>\n",
              "      <td>1.000000</td>\n",
              "      <td>0.000000</td>\n",
              "      <td>-1.999934</td>\n",
              "      <td>0.008152</td>\n",
              "    </tr>\n",
              "    <tr>\n",
              "      <th>bmi</th>\n",
              "      <td>52500.0</td>\n",
              "      <td>27.556620</td>\n",
              "      <td>5.977267</td>\n",
              "      <td>3.673095</td>\n",
              "      <td>23.875115</td>\n",
              "      <td>26.397977</td>\n",
              "      <td>30.189591</td>\n",
              "      <td>298.666667</td>\n",
              "      <td>294.993572</td>\n",
              "      <td>26.397977</td>\n",
              "      <td>167.183710</td>\n",
              "      <td>6.459839</td>\n",
              "    </tr>\n",
              "    <tr>\n",
              "      <th>bmi_level</th>\n",
              "      <td>52500.0</td>\n",
              "      <td>1.911143</td>\n",
              "      <td>0.814688</td>\n",
              "      <td>0.000000</td>\n",
              "      <td>1.000000</td>\n",
              "      <td>2.000000</td>\n",
              "      <td>3.000000</td>\n",
              "      <td>3.000000</td>\n",
              "      <td>3.000000</td>\n",
              "      <td>2.000000</td>\n",
              "      <td>-1.264925</td>\n",
              "      <td>0.059970</td>\n",
              "    </tr>\n",
              "    <tr>\n",
              "      <th>hypertension</th>\n",
              "      <td>52500.0</td>\n",
              "      <td>0.001619</td>\n",
              "      <td>0.040205</td>\n",
              "      <td>0.000000</td>\n",
              "      <td>0.000000</td>\n",
              "      <td>0.000000</td>\n",
              "      <td>0.000000</td>\n",
              "      <td>1.000000</td>\n",
              "      <td>1.000000</td>\n",
              "      <td>0.000000</td>\n",
              "      <td>612.648680</td>\n",
              "      <td>24.792109</td>\n",
              "    </tr>\n",
              "    <tr>\n",
              "      <th>hypotension</th>\n",
              "      <td>52500.0</td>\n",
              "      <td>0.002514</td>\n",
              "      <td>0.050080</td>\n",
              "      <td>0.000000</td>\n",
              "      <td>0.000000</td>\n",
              "      <td>0.000000</td>\n",
              "      <td>0.000000</td>\n",
              "      <td>1.000000</td>\n",
              "      <td>1.000000</td>\n",
              "      <td>0.000000</td>\n",
              "      <td>392.729793</td>\n",
              "      <td>19.867808</td>\n",
              "    </tr>\n",
              "    <tr>\n",
              "      <th>difference</th>\n",
              "      <td>52500.0</td>\n",
              "      <td>32.853276</td>\n",
              "      <td>246.231093</td>\n",
              "      <td>-9850.000000</td>\n",
              "      <td>40.000000</td>\n",
              "      <td>40.000000</td>\n",
              "      <td>50.000000</td>\n",
              "      <td>15940.000000</td>\n",
              "      <td>25790.000000</td>\n",
              "      <td>40.000000</td>\n",
              "      <td>1840.110592</td>\n",
              "      <td>12.172784</td>\n",
              "    </tr>\n",
              "    <tr>\n",
              "      <th>convergent</th>\n",
              "      <td>52500.0</td>\n",
              "      <td>0.112400</td>\n",
              "      <td>0.315861</td>\n",
              "      <td>0.000000</td>\n",
              "      <td>0.000000</td>\n",
              "      <td>0.000000</td>\n",
              "      <td>0.000000</td>\n",
              "      <td>1.000000</td>\n",
              "      <td>1.000000</td>\n",
              "      <td>0.000000</td>\n",
              "      <td>4.023431</td>\n",
              "      <td>2.454268</td>\n",
              "    </tr>\n",
              "    <tr>\n",
              "      <th>divergent</th>\n",
              "      <td>52500.0</td>\n",
              "      <td>0.162514</td>\n",
              "      <td>0.368925</td>\n",
              "      <td>0.000000</td>\n",
              "      <td>0.000000</td>\n",
              "      <td>0.000000</td>\n",
              "      <td>0.000000</td>\n",
              "      <td>1.000000</td>\n",
              "      <td>1.000000</td>\n",
              "      <td>0.000000</td>\n",
              "      <td>1.347355</td>\n",
              "      <td>1.829578</td>\n",
              "    </tr>\n",
              "    <tr>\n",
              "      <th>age_range</th>\n",
              "      <td>52500.0</td>\n",
              "      <td>1.831714</td>\n",
              "      <td>0.713258</td>\n",
              "      <td>1.000000</td>\n",
              "      <td>1.000000</td>\n",
              "      <td>2.000000</td>\n",
              "      <td>2.000000</td>\n",
              "      <td>3.000000</td>\n",
              "      <td>2.000000</td>\n",
              "      <td>2.000000</td>\n",
              "      <td>-1.019284</td>\n",
              "      <td>0.257172</td>\n",
              "    </tr>\n",
              "    <tr>\n",
              "      <th>weight_range</th>\n",
              "      <td>52500.0</td>\n",
              "      <td>0.856129</td>\n",
              "      <td>0.159800</td>\n",
              "      <td>0.500000</td>\n",
              "      <td>0.750000</td>\n",
              "      <td>0.750000</td>\n",
              "      <td>1.000000</td>\n",
              "      <td>2.000000</td>\n",
              "      <td>1.500000</td>\n",
              "      <td>0.750000</td>\n",
              "      <td>1.822654</td>\n",
              "      <td>0.948412</td>\n",
              "    </tr>\n",
              "  </tbody>\n",
              "</table>\n",
              "</div>\n",
              "      <button class=\"colab-df-convert\" onclick=\"convertToInteractive('df-67ccd0bc-d64d-48cd-950a-9089bf8f1e50')\"\n",
              "              title=\"Convert this dataframe to an interactive table.\"\n",
              "              style=\"display:none;\">\n",
              "        \n",
              "  <svg xmlns=\"http://www.w3.org/2000/svg\" height=\"24px\"viewBox=\"0 0 24 24\"\n",
              "       width=\"24px\">\n",
              "    <path d=\"M0 0h24v24H0V0z\" fill=\"none\"/>\n",
              "    <path d=\"M18.56 5.44l.94 2.06.94-2.06 2.06-.94-2.06-.94-.94-2.06-.94 2.06-2.06.94zm-11 1L8.5 8.5l.94-2.06 2.06-.94-2.06-.94L8.5 2.5l-.94 2.06-2.06.94zm10 10l.94 2.06.94-2.06 2.06-.94-2.06-.94-.94-2.06-.94 2.06-2.06.94z\"/><path d=\"M17.41 7.96l-1.37-1.37c-.4-.4-.92-.59-1.43-.59-.52 0-1.04.2-1.43.59L10.3 9.45l-7.72 7.72c-.78.78-.78 2.05 0 2.83L4 21.41c.39.39.9.59 1.41.59.51 0 1.02-.2 1.41-.59l7.78-7.78 2.81-2.81c.8-.78.8-2.07 0-2.86zM5.41 20L4 18.59l7.72-7.72 1.47 1.35L5.41 20z\"/>\n",
              "  </svg>\n",
              "      </button>\n",
              "      \n",
              "  <style>\n",
              "    .colab-df-container {\n",
              "      display:flex;\n",
              "      flex-wrap:wrap;\n",
              "      gap: 12px;\n",
              "    }\n",
              "\n",
              "    .colab-df-convert {\n",
              "      background-color: #E8F0FE;\n",
              "      border: none;\n",
              "      border-radius: 50%;\n",
              "      cursor: pointer;\n",
              "      display: none;\n",
              "      fill: #1967D2;\n",
              "      height: 32px;\n",
              "      padding: 0 0 0 0;\n",
              "      width: 32px;\n",
              "    }\n",
              "\n",
              "    .colab-df-convert:hover {\n",
              "      background-color: #E2EBFA;\n",
              "      box-shadow: 0px 1px 2px rgba(60, 64, 67, 0.3), 0px 1px 3px 1px rgba(60, 64, 67, 0.15);\n",
              "      fill: #174EA6;\n",
              "    }\n",
              "\n",
              "    [theme=dark] .colab-df-convert {\n",
              "      background-color: #3B4455;\n",
              "      fill: #D2E3FC;\n",
              "    }\n",
              "\n",
              "    [theme=dark] .colab-df-convert:hover {\n",
              "      background-color: #434B5C;\n",
              "      box-shadow: 0px 1px 3px 1px rgba(0, 0, 0, 0.15);\n",
              "      filter: drop-shadow(0px 1px 2px rgba(0, 0, 0, 0.3));\n",
              "      fill: #FFFFFF;\n",
              "    }\n",
              "  </style>\n",
              "\n",
              "      <script>\n",
              "        const buttonEl =\n",
              "          document.querySelector('#df-67ccd0bc-d64d-48cd-950a-9089bf8f1e50 button.colab-df-convert');\n",
              "        buttonEl.style.display =\n",
              "          google.colab.kernel.accessAllowed ? 'block' : 'none';\n",
              "\n",
              "        async function convertToInteractive(key) {\n",
              "          const element = document.querySelector('#df-67ccd0bc-d64d-48cd-950a-9089bf8f1e50');\n",
              "          const dataTable =\n",
              "            await google.colab.kernel.invokeFunction('convertToInteractive',\n",
              "                                                     [key], {});\n",
              "          if (!dataTable) return;\n",
              "\n",
              "          const docLinkHtml = 'Like what you see? Visit the ' +\n",
              "            '<a target=\"_blank\" href=https://colab.research.google.com/notebooks/data_table.ipynb>data table notebook</a>'\n",
              "            + ' to learn more about interactive tables.';\n",
              "          element.innerHTML = '';\n",
              "          dataTable['output_type'] = 'display_data';\n",
              "          await google.colab.output.renderOutput(dataTable, element);\n",
              "          const docLink = document.createElement('div');\n",
              "          docLink.innerHTML = docLinkHtml;\n",
              "          element.appendChild(docLink);\n",
              "        }\n",
              "      </script>\n",
              "    </div>\n",
              "  </div>\n",
              "  "
            ]
          },
          "metadata": {},
          "execution_count": 38
        }
      ],
      "source": [
        "# Descriptive statistics after feature engineer \n",
        "\n",
        "describe = df1.describe().T.drop('id', axis=0)\n",
        "describe['range'] = describe['max'] - describe['min']\n",
        "describe['median'] = df1.apply( np.median )\n",
        "describe['kurtosis'] = df1.apply( kurtosis )\n",
        "describe['skew'] = df1.apply( skew )\n",
        "describe"
      ]
    },
    {
      "cell_type": "markdown",
      "metadata": {
        "id": "J7KZhvIJliou"
      },
      "source": [
        "## 4.0 - Data Filtering"
      ]
    },
    {
      "cell_type": "code",
      "execution_count": 84,
      "metadata": {
        "colab": {
          "base_uri": "https://localhost:8080/",
          "height": 1000
        },
        "id": "Py_Y_-bBliou",
        "outputId": "1f800f3c-1ae7-4059-da56-5b73ffc94e2b"
      },
      "outputs": [
        {
          "output_type": "error",
          "ename": "KeyError",
          "evalue": "ignored",
          "traceback": [
            "\u001b[0;31m---------------------------------------------------------------------------\u001b[0m",
            "\u001b[0;31mKeyError\u001b[0m                                  Traceback (most recent call last)",
            "\u001b[0;32m/usr/local/lib/python3.9/dist-packages/pandas/core/indexes/base.py\u001b[0m in \u001b[0;36mget_loc\u001b[0;34m(self, key, method, tolerance)\u001b[0m\n\u001b[1;32m   3628\u001b[0m             \u001b[0;32mtry\u001b[0m\u001b[0;34m:\u001b[0m\u001b[0;34m\u001b[0m\u001b[0;34m\u001b[0m\u001b[0m\n\u001b[0;32m-> 3629\u001b[0;31m                 \u001b[0;32mreturn\u001b[0m \u001b[0mself\u001b[0m\u001b[0;34m.\u001b[0m\u001b[0m_engine\u001b[0m\u001b[0;34m.\u001b[0m\u001b[0mget_loc\u001b[0m\u001b[0;34m(\u001b[0m\u001b[0mcasted_key\u001b[0m\u001b[0;34m)\u001b[0m\u001b[0;34m\u001b[0m\u001b[0;34m\u001b[0m\u001b[0m\n\u001b[0m\u001b[1;32m   3630\u001b[0m             \u001b[0;32mexcept\u001b[0m \u001b[0mKeyError\u001b[0m \u001b[0;32mas\u001b[0m \u001b[0merr\u001b[0m\u001b[0;34m:\u001b[0m\u001b[0;34m\u001b[0m\u001b[0;34m\u001b[0m\u001b[0m\n",
            "\u001b[0;32m/usr/local/lib/python3.9/dist-packages/pandas/_libs/index.pyx\u001b[0m in \u001b[0;36mpandas._libs.index.IndexEngine.get_loc\u001b[0;34m()\u001b[0m\n",
            "\u001b[0;32m/usr/local/lib/python3.9/dist-packages/pandas/_libs/index.pyx\u001b[0m in \u001b[0;36mpandas._libs.index.IndexEngine.get_loc\u001b[0;34m()\u001b[0m\n",
            "\u001b[0;32mpandas/_libs/hashtable_class_helper.pxi\u001b[0m in \u001b[0;36mpandas._libs.hashtable.Int64HashTable.get_item\u001b[0;34m()\u001b[0m\n",
            "\u001b[0;32mpandas/_libs/hashtable_class_helper.pxi\u001b[0m in \u001b[0;36mpandas._libs.hashtable.Int64HashTable.get_item\u001b[0;34m()\u001b[0m\n",
            "\u001b[0;31mKeyError\u001b[0m: 0",
            "\nThe above exception was the direct cause of the following exception:\n",
            "\u001b[0;31mKeyError\u001b[0m                                  Traceback (most recent call last)",
            "\u001b[0;32m<ipython-input-84-8e1ee5d609e4>\u001b[0m in \u001b[0;36m<cell line: 12>\u001b[0;34m()\u001b[0m\n\u001b[1;32m     10\u001b[0m \u001b[0mplt\u001b[0m\u001b[0;34m.\u001b[0m\u001b[0msubplot\u001b[0m\u001b[0;34m(\u001b[0m\u001b[0;36m1\u001b[0m\u001b[0;34m,\u001b[0m\u001b[0;36m3\u001b[0m\u001b[0;34m,\u001b[0m\u001b[0;36m2\u001b[0m\u001b[0;34m)\u001b[0m\u001b[0;34m\u001b[0m\u001b[0;34m\u001b[0m\u001b[0m\n\u001b[1;32m     11\u001b[0m \u001b[0mplt\u001b[0m\u001b[0;34m.\u001b[0m\u001b[0mtitle\u001b[0m\u001b[0;34m(\u001b[0m\u001b[0;34m'Height'\u001b[0m\u001b[0;34m)\u001b[0m\u001b[0;34m\u001b[0m\u001b[0;34m\u001b[0m\u001b[0m\n\u001b[0;32m---> 12\u001b[0;31m \u001b[0msns\u001b[0m\u001b[0;34m.\u001b[0m\u001b[0mboxplot\u001b[0m\u001b[0;34m(\u001b[0m\u001b[0mdf1\u001b[0m\u001b[0;34m[\u001b[0m\u001b[0;34m'height'\u001b[0m\u001b[0;34m]\u001b[0m\u001b[0;34m)\u001b[0m\u001b[0;34m;\u001b[0m\u001b[0;34m\u001b[0m\u001b[0;34m\u001b[0m\u001b[0m\n\u001b[0m\u001b[1;32m     13\u001b[0m \u001b[0;34m\u001b[0m\u001b[0m\n\u001b[1;32m     14\u001b[0m \u001b[0mplt\u001b[0m\u001b[0;34m.\u001b[0m\u001b[0msubplot\u001b[0m\u001b[0;34m(\u001b[0m\u001b[0;36m1\u001b[0m\u001b[0;34m,\u001b[0m\u001b[0;36m3\u001b[0m\u001b[0;34m,\u001b[0m\u001b[0;36m3\u001b[0m\u001b[0;34m)\u001b[0m\u001b[0;34m\u001b[0m\u001b[0;34m\u001b[0m\u001b[0m\n",
            "\u001b[0;32m/usr/local/lib/python3.9/dist-packages/seaborn/categorical.py\u001b[0m in \u001b[0;36mboxplot\u001b[0;34m(data, x, y, hue, order, hue_order, orient, color, palette, saturation, width, dodge, fliersize, linewidth, whis, ax, **kwargs)\u001b[0m\n\u001b[1;32m   2229\u001b[0m ):\n\u001b[1;32m   2230\u001b[0m \u001b[0;34m\u001b[0m\u001b[0m\n\u001b[0;32m-> 2231\u001b[0;31m     plotter = _BoxPlotter(x, y, hue, data, order, hue_order,\n\u001b[0m\u001b[1;32m   2232\u001b[0m                           \u001b[0morient\u001b[0m\u001b[0;34m,\u001b[0m \u001b[0mcolor\u001b[0m\u001b[0;34m,\u001b[0m \u001b[0mpalette\u001b[0m\u001b[0;34m,\u001b[0m \u001b[0msaturation\u001b[0m\u001b[0;34m,\u001b[0m\u001b[0;34m\u001b[0m\u001b[0;34m\u001b[0m\u001b[0m\n\u001b[1;32m   2233\u001b[0m                           width, dodge, fliersize, linewidth)\n",
            "\u001b[0;32m/usr/local/lib/python3.9/dist-packages/seaborn/categorical.py\u001b[0m in \u001b[0;36m__init__\u001b[0;34m(self, x, y, hue, data, order, hue_order, orient, color, palette, saturation, width, dodge, fliersize, linewidth)\u001b[0m\n\u001b[1;32m    783\u001b[0m                  width, dodge, fliersize, linewidth):\n\u001b[1;32m    784\u001b[0m \u001b[0;34m\u001b[0m\u001b[0m\n\u001b[0;32m--> 785\u001b[0;31m         \u001b[0mself\u001b[0m\u001b[0;34m.\u001b[0m\u001b[0mestablish_variables\u001b[0m\u001b[0;34m(\u001b[0m\u001b[0mx\u001b[0m\u001b[0;34m,\u001b[0m \u001b[0my\u001b[0m\u001b[0;34m,\u001b[0m \u001b[0mhue\u001b[0m\u001b[0;34m,\u001b[0m \u001b[0mdata\u001b[0m\u001b[0;34m,\u001b[0m \u001b[0morient\u001b[0m\u001b[0;34m,\u001b[0m \u001b[0morder\u001b[0m\u001b[0;34m,\u001b[0m \u001b[0mhue_order\u001b[0m\u001b[0;34m)\u001b[0m\u001b[0;34m\u001b[0m\u001b[0;34m\u001b[0m\u001b[0m\n\u001b[0m\u001b[1;32m    786\u001b[0m         \u001b[0mself\u001b[0m\u001b[0;34m.\u001b[0m\u001b[0mestablish_colors\u001b[0m\u001b[0;34m(\u001b[0m\u001b[0mcolor\u001b[0m\u001b[0;34m,\u001b[0m \u001b[0mpalette\u001b[0m\u001b[0;34m,\u001b[0m \u001b[0msaturation\u001b[0m\u001b[0;34m)\u001b[0m\u001b[0;34m\u001b[0m\u001b[0;34m\u001b[0m\u001b[0m\n\u001b[1;32m    787\u001b[0m \u001b[0;34m\u001b[0m\u001b[0m\n",
            "\u001b[0;32m/usr/local/lib/python3.9/dist-packages/seaborn/categorical.py\u001b[0m in \u001b[0;36mestablish_variables\u001b[0;34m(self, x, y, hue, data, orient, order, hue_order, units)\u001b[0m\n\u001b[1;32m    484\u001b[0m                 \u001b[0;32mif\u001b[0m \u001b[0mhasattr\u001b[0m\u001b[0;34m(\u001b[0m\u001b[0mdata\u001b[0m\u001b[0;34m,\u001b[0m \u001b[0;34m\"shape\"\u001b[0m\u001b[0;34m)\u001b[0m\u001b[0;34m:\u001b[0m\u001b[0;34m\u001b[0m\u001b[0;34m\u001b[0m\u001b[0m\n\u001b[1;32m    485\u001b[0m                     \u001b[0;32mif\u001b[0m \u001b[0mlen\u001b[0m\u001b[0;34m(\u001b[0m\u001b[0mdata\u001b[0m\u001b[0;34m.\u001b[0m\u001b[0mshape\u001b[0m\u001b[0;34m)\u001b[0m \u001b[0;34m==\u001b[0m \u001b[0;36m1\u001b[0m\u001b[0;34m:\u001b[0m\u001b[0;34m\u001b[0m\u001b[0;34m\u001b[0m\u001b[0m\n\u001b[0;32m--> 486\u001b[0;31m                         \u001b[0;32mif\u001b[0m \u001b[0mnp\u001b[0m\u001b[0;34m.\u001b[0m\u001b[0misscalar\u001b[0m\u001b[0;34m(\u001b[0m\u001b[0mdata\u001b[0m\u001b[0;34m[\u001b[0m\u001b[0;36m0\u001b[0m\u001b[0;34m]\u001b[0m\u001b[0;34m)\u001b[0m\u001b[0;34m:\u001b[0m\u001b[0;34m\u001b[0m\u001b[0;34m\u001b[0m\u001b[0m\n\u001b[0m\u001b[1;32m    487\u001b[0m                             \u001b[0mplot_data\u001b[0m \u001b[0;34m=\u001b[0m \u001b[0;34m[\u001b[0m\u001b[0mdata\u001b[0m\u001b[0;34m]\u001b[0m\u001b[0;34m\u001b[0m\u001b[0;34m\u001b[0m\u001b[0m\n\u001b[1;32m    488\u001b[0m                         \u001b[0;32melse\u001b[0m\u001b[0;34m:\u001b[0m\u001b[0;34m\u001b[0m\u001b[0;34m\u001b[0m\u001b[0m\n",
            "\u001b[0;32m/usr/local/lib/python3.9/dist-packages/pandas/core/series.py\u001b[0m in \u001b[0;36m__getitem__\u001b[0;34m(self, key)\u001b[0m\n\u001b[1;32m    956\u001b[0m \u001b[0;34m\u001b[0m\u001b[0m\n\u001b[1;32m    957\u001b[0m         \u001b[0;32melif\u001b[0m \u001b[0mkey_is_scalar\u001b[0m\u001b[0;34m:\u001b[0m\u001b[0;34m\u001b[0m\u001b[0;34m\u001b[0m\u001b[0m\n\u001b[0;32m--> 958\u001b[0;31m             \u001b[0;32mreturn\u001b[0m \u001b[0mself\u001b[0m\u001b[0;34m.\u001b[0m\u001b[0m_get_value\u001b[0m\u001b[0;34m(\u001b[0m\u001b[0mkey\u001b[0m\u001b[0;34m)\u001b[0m\u001b[0;34m\u001b[0m\u001b[0;34m\u001b[0m\u001b[0m\n\u001b[0m\u001b[1;32m    959\u001b[0m \u001b[0;34m\u001b[0m\u001b[0m\n\u001b[1;32m    960\u001b[0m         \u001b[0;32mif\u001b[0m \u001b[0mis_hashable\u001b[0m\u001b[0;34m(\u001b[0m\u001b[0mkey\u001b[0m\u001b[0;34m)\u001b[0m\u001b[0;34m:\u001b[0m\u001b[0;34m\u001b[0m\u001b[0;34m\u001b[0m\u001b[0m\n",
            "\u001b[0;32m/usr/local/lib/python3.9/dist-packages/pandas/core/series.py\u001b[0m in \u001b[0;36m_get_value\u001b[0;34m(self, label, takeable)\u001b[0m\n\u001b[1;32m   1067\u001b[0m \u001b[0;34m\u001b[0m\u001b[0m\n\u001b[1;32m   1068\u001b[0m         \u001b[0;31m# Similar to Index.get_value, but we do not fall back to positional\u001b[0m\u001b[0;34m\u001b[0m\u001b[0;34m\u001b[0m\u001b[0m\n\u001b[0;32m-> 1069\u001b[0;31m         \u001b[0mloc\u001b[0m \u001b[0;34m=\u001b[0m \u001b[0mself\u001b[0m\u001b[0;34m.\u001b[0m\u001b[0mindex\u001b[0m\u001b[0;34m.\u001b[0m\u001b[0mget_loc\u001b[0m\u001b[0;34m(\u001b[0m\u001b[0mlabel\u001b[0m\u001b[0;34m)\u001b[0m\u001b[0;34m\u001b[0m\u001b[0;34m\u001b[0m\u001b[0m\n\u001b[0m\u001b[1;32m   1070\u001b[0m         \u001b[0;32mreturn\u001b[0m \u001b[0mself\u001b[0m\u001b[0;34m.\u001b[0m\u001b[0mindex\u001b[0m\u001b[0;34m.\u001b[0m\u001b[0m_get_values_for_loc\u001b[0m\u001b[0;34m(\u001b[0m\u001b[0mself\u001b[0m\u001b[0;34m,\u001b[0m \u001b[0mloc\u001b[0m\u001b[0;34m,\u001b[0m \u001b[0mlabel\u001b[0m\u001b[0;34m)\u001b[0m\u001b[0;34m\u001b[0m\u001b[0;34m\u001b[0m\u001b[0m\n\u001b[1;32m   1071\u001b[0m \u001b[0;34m\u001b[0m\u001b[0m\n",
            "\u001b[0;32m/usr/local/lib/python3.9/dist-packages/pandas/core/indexes/base.py\u001b[0m in \u001b[0;36mget_loc\u001b[0;34m(self, key, method, tolerance)\u001b[0m\n\u001b[1;32m   3629\u001b[0m                 \u001b[0;32mreturn\u001b[0m \u001b[0mself\u001b[0m\u001b[0;34m.\u001b[0m\u001b[0m_engine\u001b[0m\u001b[0;34m.\u001b[0m\u001b[0mget_loc\u001b[0m\u001b[0;34m(\u001b[0m\u001b[0mcasted_key\u001b[0m\u001b[0;34m)\u001b[0m\u001b[0;34m\u001b[0m\u001b[0;34m\u001b[0m\u001b[0m\n\u001b[1;32m   3630\u001b[0m             \u001b[0;32mexcept\u001b[0m \u001b[0mKeyError\u001b[0m \u001b[0;32mas\u001b[0m \u001b[0merr\u001b[0m\u001b[0;34m:\u001b[0m\u001b[0;34m\u001b[0m\u001b[0;34m\u001b[0m\u001b[0m\n\u001b[0;32m-> 3631\u001b[0;31m                 \u001b[0;32mraise\u001b[0m \u001b[0mKeyError\u001b[0m\u001b[0;34m(\u001b[0m\u001b[0mkey\u001b[0m\u001b[0;34m)\u001b[0m \u001b[0;32mfrom\u001b[0m \u001b[0merr\u001b[0m\u001b[0;34m\u001b[0m\u001b[0;34m\u001b[0m\u001b[0m\n\u001b[0m\u001b[1;32m   3632\u001b[0m             \u001b[0;32mexcept\u001b[0m \u001b[0mTypeError\u001b[0m\u001b[0;34m:\u001b[0m\u001b[0;34m\u001b[0m\u001b[0;34m\u001b[0m\u001b[0m\n\u001b[1;32m   3633\u001b[0m                 \u001b[0;31m# If we have a listlike key, _check_indexing_error will raise\u001b[0m\u001b[0;34m\u001b[0m\u001b[0;34m\u001b[0m\u001b[0m\n",
            "\u001b[0;31mKeyError\u001b[0m: 0"
          ]
        },
        {
          "output_type": "display_data",
          "data": {
            "text/plain": [
              "<Figure size 1600x600 with 2 Axes>"
            ],
            "image/png": "[encoded data removed]"
          },
          "metadata": {}
        }
      ],
      "source": [
        "# sets plot size\n",
        "plt.figure(figsize=(16,6))\n",
        "# plots scatterplot\n",
        "plt.subplot(1,3,1)\n",
        "sns.scatterplot(x='height', y='weight', data=df1, hue='age_range', palette='rainbow', alpha=0.75)\n",
        "plt.xlabel(\"Height (m)\")\n",
        "plt.ylabel(\"Weight (kg)\")\n",
        "plt.title(\"Weight x Height\", fontsize=14)\n",
        "\n",
        "plt.subplot(1,3,2)\n",
        "plt.title('Height')\n",
        "sns.boxplot(df1['height']);\n",
        "\n",
        "plt.subplot(1,3,3)\n",
        "plt.title('Weight')\n",
        "sns.boxplot(df1['weight']);\n",
        "\n",
        "# displays the plot\n",
        "plt.show()"
      ]
    },
    {
      "cell_type": "code",
      "execution_count": null,
      "metadata": {
        "id": "F3f3ZJNgceEl"
      },
      "outputs": [],
      "source": [
        "# sets plot size\n",
        "plt.figure(figsize=(14,8))\n",
        "\n",
        "# plots scatterplot\n",
        "plt.subplot(1,2,1)\n",
        "sns.scatterplot(x='age', y='height', data=df1, hue='weight', size='weight', alpha=0.75)\n",
        "plt.xlabel(\"Age (years)\")\n",
        "plt.ylabel(\"Height (m)\")\n",
        "plt.title(\"Height x Age\", fontsize=14)\n",
        "\n",
        "# plots scatterplot\n",
        "plt.subplot(1,2,2)\n",
        "sns.scatterplot(x='age', y='weight', data=df1, hue='height', size='height', alpha=0.75)\n",
        "plt.xlabel(\"Age (years)\")\n",
        "plt.ylabel(\"Weight (kg)\")\n",
        "plt.title(\"Weight x Age\", fontsize=14)\n",
        "\n",
        "# displays the plot\n",
        "plt.show()"
      ]
    },
    {
      "cell_type": "code",
      "execution_count": null,
      "metadata": {
        "id": "S4ab68OuecfB"
      },
      "outputs": [],
      "source": [
        "# sets plot size\n",
        "plt.figure(figsize=(16,12))\n",
        "\n",
        "# plots scatterplot\n",
        "plt.subplot(2,2,1)\n",
        "sns.scatterplot(x='age', y='hight_pressure', data=df1, hue='weight', size='weight', alpha=0.75)\n",
        "plt.xlabel(\"Age (years)\")\n",
        "plt.ylabel(\"Systolic blood pressure\")\n",
        "plt.title(\"Systolic x Age\", fontsize=14)\n",
        "\n",
        "plt.subplot(2,2,3)\n",
        "sns.scatterplot(x='age', y='low_pressure', data=df1, hue='weight', size='weight', alpha=0.75)\n",
        "plt.xlabel(\"Age (years)\")\n",
        "plt.ylabel(\"Diastolic blood pressure\")\n",
        "plt.title(\"Diastolic x Age\", fontsize=14)\n",
        "\n",
        "plt.subplot(2,2,2)\n",
        "plt.title('Hight Pressure')\n",
        "sns.boxplot(df1['hight_pressure']);\n",
        "\n",
        "plt.subplot(2,2,4)\n",
        "plt.title('Low Pressure')\n",
        "sns.boxplot(df1['low_pressure']);\n",
        "\n",
        "# displays the plot\n",
        "plt.show()"
      ]
    },
    {
      "cell_type": "code",
      "execution_count": null,
      "metadata": {
        "id": "zCqWDls0gcA_"
      },
      "outputs": [],
      "source": [
        "# Boxplot from numerical data\n",
        "plt.figure(figsize=(16,6))\n",
        "\n",
        "plt.subplot(1,2,1)\n",
        "plt.title('Difference')\n",
        "sns.boxplot(df1['difference']);\n",
        "\n",
        "plt.subplot(1,2,2)\n",
        "plt.title('BMI')\n",
        "sns.boxplot(df1['bmi']);\n",
        "\n"
      ]
    },
    {
      "cell_type": "markdown",
      "metadata": {
        "id": "cq96MGsUliot"
      },
      "source": [
        "#### 2.3.1  Inconsistent numbers of **hight pressure** and **low pressure** \n"
      ]
    },
    {
      "cell_type": "code",
      "execution_count": null,
      "metadata": {
        "id": "Y2M6yqP3daru"
      },
      "outputs": [],
      "source": [
        "# calculates Q1, Q3 and IQR\n",
        "Q1 = np.quantile(df1['hight_pressure'], .25)\n",
        "Q3 = np.quantile(df1['hight_pressure'], .75)\n",
        "IQR = Q3 - Q1\n",
        "\n",
        "# calculates the outliers boundaries through statistical relationship\n",
        "low_outliers_h = Q1 - 1.5 * IQR\n",
        "high_outliers_h = Q3 + 1.5 * IQR\n",
        "\n",
        "print(\"Systolic boundaries for outliers\")\n",
        "print(f\"Q1 = {Q1}\\nQ3 = {Q3}\\nIQR = {IQR}\\nlow_outliers = {low_outliers_h}\\nhigh_outliers = {high_outliers_h}\")\n",
        "\n",
        "\n",
        "# calculates Q1, Q3 and IQR\n",
        "Q1 = np.quantile(df1['low_pressure'], .25)\n",
        "Q3 = np.quantile(df1['low_pressure'], .75)\n",
        "IQR = Q3 - Q1\n",
        "\n",
        "# calculates the outliers boundaries through statistical relationship\n",
        "low_outliers_l = Q1 - 1.5 * IQR\n",
        "high_outliers_l = Q3 + 1.5 * IQR\n",
        "\n",
        "print(\"\\nDiastolic boundaries for outliers\")\n",
        "print(f\"Q1 = {Q1}\\nQ3 = {Q3}\\nIQR = {IQR}\\nlow_outliers = {low_outliers_l}\\nhigh_outliers = {high_outliers_l}\")"
      ]
    },
    {
      "cell_type": "code",
      "execution_count": null,
      "metadata": {
        "id": "PmIonRw9liot"
      },
      "outputs": [],
      "source": [
        "\n",
        "print(f'''{df1[(df1['low_pressure'] < low_outliers_l) | (\n",
        "    df1['low_pressure'] > high_outliers_l)].shape[0]} inconsistent rows on low_pressure.''')\n",
        "print(f'''{df1[(df1['hight_pressure'] < low_outliers_h) | (\n",
        "    df1['hight_pressure'] > high_outliers_h)].shape[0]} inconsistent rows on hight_pressure. ''')\n",
        "\n",
        "# #filtering data without inconsistence data\n",
        "df1 = df1[(df1['low_pressure'] >= 20) & (df1['low_pressure'] <= 150)]\n",
        "df1 = df1[(df1['hight_pressure'] >= 40) & (df1['hight_pressure'] <= 300)]"
      ]
    },
    {
      "cell_type": "markdown",
      "metadata": {
        "id": "EguSDvK-liov"
      },
      "source": [
        "## 5.0 - EDA - Explolatory Data Analysis"
      ]
    },
    {
      "cell_type": "code",
      "execution_count": 41,
      "metadata": {
        "id": "enB0-zLqliov"
      },
      "outputs": [],
      "source": [
        "df2=df1.copy()\n"
      ]
    },
    {
      "cell_type": "markdown",
      "metadata": {
        "id": "QPOyVPFWliov"
      },
      "source": [
        "### 5.1 - Univariate Analysis"
      ]
    },
    {
      "cell_type": "code",
      "execution_count": 42,
      "metadata": {
        "id": "tifqX4Zlliov",
        "colab": {
          "base_uri": "https://localhost:8080/",
          "height": 780
        },
        "outputId": "b0af472f-222d-489e-86a2-8fff755e375d"
      },
      "outputs": [
        {
          "output_type": "display_data",
          "data": {
            "text/plain": [
              "<Figure size 2500x900 with 25 Axes>"
            ],
            "image/png": "[encoded data removed]"
          },
          "metadata": {}
        }
      ],
      "source": [
        "# Distribution from all data\n",
        "df2.hist(bins=50);"
      ]
    },
    {
      "cell_type": "code",
      "source": [
        "# Distribution from all data\n",
        "plt.subplot(2,4,1)\n",
        "plt.title('age')\n",
        "sns.boxplot(df2['age']);\n",
        "\n",
        "plt.subplot(2,4,2)\n",
        "plt.title('height')\n",
        "sns.boxplot(df2['height']);\n",
        "\n",
        "plt.subplot(2,4,3)\n",
        "plt.title('weight')\n",
        "sns.boxplot(df2['weight']);\n",
        "\n",
        "plt.subplot(2,4,4)\n",
        "plt.title('low_pressure')\n",
        "sns.boxplot(df2['low_pressure']);\n",
        "\n",
        "plt.subplot(2,4,5)\n",
        "plt.title('hight_pressure')\n",
        "sns.boxplot(df2['hight_pressure']);\n",
        "\n",
        "plt.subplot(2,4,6)\n",
        "plt.title('bmi')\n",
        "sns.boxplot(df2['bmi']);\n",
        "\n",
        "plt.subplot(2,4,7)\n",
        "plt.title('difference')\n",
        "sns.boxplot(df2['difference']);\n"
      ],
      "metadata": {
        "id": "nVs_PymkvZOV",
        "colab": {
          "base_uri": "https://localhost:8080/",
          "height": 888
        },
        "outputId": "5ce13766-a661-4738-d7d2-d24a02c9d01c"
      },
      "execution_count": 43,
      "outputs": [
        {
          "output_type": "error",
          "ename": "KeyError",
          "evalue": "ignored",
          "traceback": [
            "\u001b[0;31m---------------------------------------------------------------------------\u001b[0m",
            "\u001b[0;31mKeyError\u001b[0m                                  Traceback (most recent call last)",
            "\u001b[0;32m/usr/local/lib/python3.9/dist-packages/pandas/core/indexes/base.py\u001b[0m in \u001b[0;36mget_loc\u001b[0;34m(self, key, method, tolerance)\u001b[0m\n\u001b[1;32m   3628\u001b[0m             \u001b[0;32mtry\u001b[0m\u001b[0;34m:\u001b[0m\u001b[0;34m\u001b[0m\u001b[0;34m\u001b[0m\u001b[0m\n\u001b[0;32m-> 3629\u001b[0;31m                 \u001b[0;32mreturn\u001b[0m \u001b[0mself\u001b[0m\u001b[0;34m.\u001b[0m\u001b[0m_engine\u001b[0m\u001b[0;34m.\u001b[0m\u001b[0mget_loc\u001b[0m\u001b[0;34m(\u001b[0m\u001b[0mcasted_key\u001b[0m\u001b[0;34m)\u001b[0m\u001b[0;34m\u001b[0m\u001b[0;34m\u001b[0m\u001b[0m\n\u001b[0m\u001b[1;32m   3630\u001b[0m             \u001b[0;32mexcept\u001b[0m \u001b[0mKeyError\u001b[0m \u001b[0;32mas\u001b[0m \u001b[0merr\u001b[0m\u001b[0;34m:\u001b[0m\u001b[0;34m\u001b[0m\u001b[0;34m\u001b[0m\u001b[0m\n",
            "\u001b[0;32m/usr/local/lib/python3.9/dist-packages/pandas/_libs/index.pyx\u001b[0m in \u001b[0;36mpandas._libs.index.IndexEngine.get_loc\u001b[0;34m()\u001b[0m\n",
            "\u001b[0;32m/usr/local/lib/python3.9/dist-packages/pandas/_libs/index.pyx\u001b[0m in \u001b[0;36mpandas._libs.index.IndexEngine.get_loc\u001b[0;34m()\u001b[0m\n",
            "\u001b[0;32mpandas/_libs/hashtable_class_helper.pxi\u001b[0m in \u001b[0;36mpandas._libs.hashtable.Int64HashTable.get_item\u001b[0;34m()\u001b[0m\n",
            "\u001b[0;32mpandas/_libs/hashtable_class_helper.pxi\u001b[0m in \u001b[0;36mpandas._libs.hashtable.Int64HashTable.get_item\u001b[0;34m()\u001b[0m\n",
            "\u001b[0;31mKeyError\u001b[0m: 0",
            "\nThe above exception was the direct cause of the following exception:\n",
            "\u001b[0;31mKeyError\u001b[0m                                  Traceback (most recent call last)",
            "\u001b[0;32m<ipython-input-43-284fb2fc1bbf>\u001b[0m in \u001b[0;36m<cell line: 4>\u001b[0;34m()\u001b[0m\n\u001b[1;32m      2\u001b[0m \u001b[0mplt\u001b[0m\u001b[0;34m.\u001b[0m\u001b[0msubplot\u001b[0m\u001b[0;34m(\u001b[0m\u001b[0;36m2\u001b[0m\u001b[0;34m,\u001b[0m\u001b[0;36m4\u001b[0m\u001b[0;34m,\u001b[0m\u001b[0;36m1\u001b[0m\u001b[0;34m)\u001b[0m\u001b[0;34m\u001b[0m\u001b[0;34m\u001b[0m\u001b[0m\n\u001b[1;32m      3\u001b[0m \u001b[0mplt\u001b[0m\u001b[0;34m.\u001b[0m\u001b[0mtitle\u001b[0m\u001b[0;34m(\u001b[0m\u001b[0;34m'age'\u001b[0m\u001b[0;34m)\u001b[0m\u001b[0;34m\u001b[0m\u001b[0;34m\u001b[0m\u001b[0m\n\u001b[0;32m----> 4\u001b[0;31m \u001b[0msns\u001b[0m\u001b[0;34m.\u001b[0m\u001b[0mboxplot\u001b[0m\u001b[0;34m(\u001b[0m\u001b[0mdf2\u001b[0m\u001b[0;34m[\u001b[0m\u001b[0;34m'age'\u001b[0m\u001b[0;34m]\u001b[0m\u001b[0;34m)\u001b[0m\u001b[0;34m;\u001b[0m\u001b[0;34m\u001b[0m\u001b[0;34m\u001b[0m\u001b[0m\n\u001b[0m\u001b[1;32m      5\u001b[0m \u001b[0;34m\u001b[0m\u001b[0m\n\u001b[1;32m      6\u001b[0m \u001b[0mplt\u001b[0m\u001b[0;34m.\u001b[0m\u001b[0msubplot\u001b[0m\u001b[0;34m(\u001b[0m\u001b[0;36m2\u001b[0m\u001b[0;34m,\u001b[0m\u001b[0;36m4\u001b[0m\u001b[0;34m,\u001b[0m\u001b[0;36m2\u001b[0m\u001b[0;34m)\u001b[0m\u001b[0;34m\u001b[0m\u001b[0;34m\u001b[0m\u001b[0m\n",
            "\u001b[0;32m/usr/local/lib/python3.9/dist-packages/seaborn/categorical.py\u001b[0m in \u001b[0;36mboxplot\u001b[0;34m(data, x, y, hue, order, hue_order, orient, color, palette, saturation, width, dodge, fliersize, linewidth, whis, ax, **kwargs)\u001b[0m\n\u001b[1;32m   2229\u001b[0m ):\n\u001b[1;32m   2230\u001b[0m \u001b[0;34m\u001b[0m\u001b[0m\n\u001b[0;32m-> 2231\u001b[0;31m     plotter = _BoxPlotter(x, y, hue, data, order, hue_order,\n\u001b[0m\u001b[1;32m   2232\u001b[0m                           \u001b[0morient\u001b[0m\u001b[0;34m,\u001b[0m \u001b[0mcolor\u001b[0m\u001b[0;34m,\u001b[0m \u001b[0mpalette\u001b[0m\u001b[0;34m,\u001b[0m \u001b[0msaturation\u001b[0m\u001b[0;34m,\u001b[0m\u001b[0;34m\u001b[0m\u001b[0;34m\u001b[0m\u001b[0m\n\u001b[1;32m   2233\u001b[0m                           width, dodge, fliersize, linewidth)\n",
            "\u001b[0;32m/usr/local/lib/python3.9/dist-packages/seaborn/categorical.py\u001b[0m in \u001b[0;36m__init__\u001b[0;34m(self, x, y, hue, data, order, hue_order, orient, color, palette, saturation, width, dodge, fliersize, linewidth)\u001b[0m\n\u001b[1;32m    783\u001b[0m                  width, dodge, fliersize, linewidth):\n\u001b[1;32m    784\u001b[0m \u001b[0;34m\u001b[0m\u001b[0m\n\u001b[0;32m--> 785\u001b[0;31m         \u001b[0mself\u001b[0m\u001b[0;34m.\u001b[0m\u001b[0mestablish_variables\u001b[0m\u001b[0;34m(\u001b[0m\u001b[0mx\u001b[0m\u001b[0;34m,\u001b[0m \u001b[0my\u001b[0m\u001b[0;34m,\u001b[0m \u001b[0mhue\u001b[0m\u001b[0;34m,\u001b[0m \u001b[0mdata\u001b[0m\u001b[0;34m,\u001b[0m \u001b[0morient\u001b[0m\u001b[0;34m,\u001b[0m \u001b[0morder\u001b[0m\u001b[0;34m,\u001b[0m \u001b[0mhue_order\u001b[0m\u001b[0;34m)\u001b[0m\u001b[0;34m\u001b[0m\u001b[0;34m\u001b[0m\u001b[0m\n\u001b[0m\u001b[1;32m    786\u001b[0m         \u001b[0mself\u001b[0m\u001b[0;34m.\u001b[0m\u001b[0mestablish_colors\u001b[0m\u001b[0;34m(\u001b[0m\u001b[0mcolor\u001b[0m\u001b[0;34m,\u001b[0m \u001b[0mpalette\u001b[0m\u001b[0;34m,\u001b[0m \u001b[0msaturation\u001b[0m\u001b[0;34m)\u001b[0m\u001b[0;34m\u001b[0m\u001b[0;34m\u001b[0m\u001b[0m\n\u001b[1;32m    787\u001b[0m \u001b[0;34m\u001b[0m\u001b[0m\n",
            "\u001b[0;32m/usr/local/lib/python3.9/dist-packages/seaborn/categorical.py\u001b[0m in \u001b[0;36mestablish_variables\u001b[0;34m(self, x, y, hue, data, orient, order, hue_order, units)\u001b[0m\n\u001b[1;32m    484\u001b[0m                 \u001b[0;32mif\u001b[0m \u001b[0mhasattr\u001b[0m\u001b[0;34m(\u001b[0m\u001b[0mdata\u001b[0m\u001b[0;34m,\u001b[0m \u001b[0;34m\"shape\"\u001b[0m\u001b[0;34m)\u001b[0m\u001b[0;34m:\u001b[0m\u001b[0;34m\u001b[0m\u001b[0;34m\u001b[0m\u001b[0m\n\u001b[1;32m    485\u001b[0m                     \u001b[0;32mif\u001b[0m \u001b[0mlen\u001b[0m\u001b[0;34m(\u001b[0m\u001b[0mdata\u001b[0m\u001b[0;34m.\u001b[0m\u001b[0mshape\u001b[0m\u001b[0;34m)\u001b[0m \u001b[0;34m==\u001b[0m \u001b[0;36m1\u001b[0m\u001b[0;34m:\u001b[0m\u001b[0;34m\u001b[0m\u001b[0;34m\u001b[0m\u001b[0m\n\u001b[0;32m--> 486\u001b[0;31m                         \u001b[0;32mif\u001b[0m \u001b[0mnp\u001b[0m\u001b[0;34m.\u001b[0m\u001b[0misscalar\u001b[0m\u001b[0;34m(\u001b[0m\u001b[0mdata\u001b[0m\u001b[0;34m[\u001b[0m\u001b[0;36m0\u001b[0m\u001b[0;34m]\u001b[0m\u001b[0;34m)\u001b[0m\u001b[0;34m:\u001b[0m\u001b[0;34m\u001b[0m\u001b[0;34m\u001b[0m\u001b[0m\n\u001b[0m\u001b[1;32m    487\u001b[0m                             \u001b[0mplot_data\u001b[0m \u001b[0;34m=\u001b[0m \u001b[0;34m[\u001b[0m\u001b[0mdata\u001b[0m\u001b[0;34m]\u001b[0m\u001b[0;34m\u001b[0m\u001b[0;34m\u001b[0m\u001b[0m\n\u001b[1;32m    488\u001b[0m                         \u001b[0;32melse\u001b[0m\u001b[0;34m:\u001b[0m\u001b[0;34m\u001b[0m\u001b[0;34m\u001b[0m\u001b[0m\n",
            "\u001b[0;32m/usr/local/lib/python3.9/dist-packages/pandas/core/series.py\u001b[0m in \u001b[0;36m__getitem__\u001b[0;34m(self, key)\u001b[0m\n\u001b[1;32m    956\u001b[0m \u001b[0;34m\u001b[0m\u001b[0m\n\u001b[1;32m    957\u001b[0m         \u001b[0;32melif\u001b[0m \u001b[0mkey_is_scalar\u001b[0m\u001b[0;34m:\u001b[0m\u001b[0;34m\u001b[0m\u001b[0;34m\u001b[0m\u001b[0m\n\u001b[0;32m--> 958\u001b[0;31m             \u001b[0;32mreturn\u001b[0m \u001b[0mself\u001b[0m\u001b[0;34m.\u001b[0m\u001b[0m_get_value\u001b[0m\u001b[0;34m(\u001b[0m\u001b[0mkey\u001b[0m\u001b[0;34m)\u001b[0m\u001b[0;34m\u001b[0m\u001b[0;34m\u001b[0m\u001b[0m\n\u001b[0m\u001b[1;32m    959\u001b[0m \u001b[0;34m\u001b[0m\u001b[0m\n\u001b[1;32m    960\u001b[0m         \u001b[0;32mif\u001b[0m \u001b[0mis_hashable\u001b[0m\u001b[0;34m(\u001b[0m\u001b[0mkey\u001b[0m\u001b[0;34m)\u001b[0m\u001b[0;34m:\u001b[0m\u001b[0;34m\u001b[0m\u001b[0;34m\u001b[0m\u001b[0m\n",
            "\u001b[0;32m/usr/local/lib/python3.9/dist-packages/pandas/core/series.py\u001b[0m in \u001b[0;36m_get_value\u001b[0;34m(self, label, takeable)\u001b[0m\n\u001b[1;32m   1067\u001b[0m \u001b[0;34m\u001b[0m\u001b[0m\n\u001b[1;32m   1068\u001b[0m         \u001b[0;31m# Similar to Index.get_value, but we do not fall back to positional\u001b[0m\u001b[0;34m\u001b[0m\u001b[0;34m\u001b[0m\u001b[0m\n\u001b[0;32m-> 1069\u001b[0;31m         \u001b[0mloc\u001b[0m \u001b[0;34m=\u001b[0m \u001b[0mself\u001b[0m\u001b[0;34m.\u001b[0m\u001b[0mindex\u001b[0m\u001b[0;34m.\u001b[0m\u001b[0mget_loc\u001b[0m\u001b[0;34m(\u001b[0m\u001b[0mlabel\u001b[0m\u001b[0;34m)\u001b[0m\u001b[0;34m\u001b[0m\u001b[0;34m\u001b[0m\u001b[0m\n\u001b[0m\u001b[1;32m   1070\u001b[0m         \u001b[0;32mreturn\u001b[0m \u001b[0mself\u001b[0m\u001b[0;34m.\u001b[0m\u001b[0mindex\u001b[0m\u001b[0;34m.\u001b[0m\u001b[0m_get_values_for_loc\u001b[0m\u001b[0;34m(\u001b[0m\u001b[0mself\u001b[0m\u001b[0;34m,\u001b[0m \u001b[0mloc\u001b[0m\u001b[0;34m,\u001b[0m \u001b[0mlabel\u001b[0m\u001b[0;34m)\u001b[0m\u001b[0;34m\u001b[0m\u001b[0;34m\u001b[0m\u001b[0m\n\u001b[1;32m   1071\u001b[0m \u001b[0;34m\u001b[0m\u001b[0m\n",
            "\u001b[0;32m/usr/local/lib/python3.9/dist-packages/pandas/core/indexes/base.py\u001b[0m in \u001b[0;36mget_loc\u001b[0;34m(self, key, method, tolerance)\u001b[0m\n\u001b[1;32m   3629\u001b[0m                 \u001b[0;32mreturn\u001b[0m \u001b[0mself\u001b[0m\u001b[0;34m.\u001b[0m\u001b[0m_engine\u001b[0m\u001b[0;34m.\u001b[0m\u001b[0mget_loc\u001b[0m\u001b[0;34m(\u001b[0m\u001b[0mcasted_key\u001b[0m\u001b[0;34m)\u001b[0m\u001b[0;34m\u001b[0m\u001b[0;34m\u001b[0m\u001b[0m\n\u001b[1;32m   3630\u001b[0m             \u001b[0;32mexcept\u001b[0m \u001b[0mKeyError\u001b[0m \u001b[0;32mas\u001b[0m \u001b[0merr\u001b[0m\u001b[0;34m:\u001b[0m\u001b[0;34m\u001b[0m\u001b[0;34m\u001b[0m\u001b[0m\n\u001b[0;32m-> 3631\u001b[0;31m                 \u001b[0;32mraise\u001b[0m \u001b[0mKeyError\u001b[0m\u001b[0;34m(\u001b[0m\u001b[0mkey\u001b[0m\u001b[0;34m)\u001b[0m \u001b[0;32mfrom\u001b[0m \u001b[0merr\u001b[0m\u001b[0;34m\u001b[0m\u001b[0;34m\u001b[0m\u001b[0m\n\u001b[0m\u001b[1;32m   3632\u001b[0m             \u001b[0;32mexcept\u001b[0m \u001b[0mTypeError\u001b[0m\u001b[0;34m:\u001b[0m\u001b[0;34m\u001b[0m\u001b[0;34m\u001b[0m\u001b[0m\n\u001b[1;32m   3633\u001b[0m                 \u001b[0;31m# If we have a listlike key, _check_indexing_error will raise\u001b[0m\u001b[0;34m\u001b[0m\u001b[0;34m\u001b[0m\u001b[0m\n",
            "\u001b[0;31mKeyError\u001b[0m: 0"
          ]
        },
        {
          "output_type": "display_data",
          "data": {
            "text/plain": [
              "<Figure size 2500x900 with 1 Axes>"
            ],
            "image/png": "[encoded data removed]"
          },
          "metadata": {}
        }
      ]
    },
    {
      "cell_type": "code",
      "source": [
        "df2.columns"
      ],
      "metadata": {
        "id": "kMN192NswrHo"
      },
      "execution_count": null,
      "outputs": []
    },
    {
      "cell_type": "code",
      "source": [
        "df2.isna().sum()"
      ],
      "metadata": {
        "id": "j2grxzM7nnci"
      },
      "execution_count": null,
      "outputs": []
    },
    {
      "cell_type": "markdown",
      "metadata": {
        "id": "7I4Go99Rliov"
      },
      "source": [
        "### 5.2 - Bivariate Analysis"
      ]
    },
    {
      "cell_type": "markdown",
      "metadata": {
        "id": "dZuLrAXbliov"
      },
      "source": [
        "##### 5.2.1 - How more active, less diseases\n",
        "False"
      ]
    },
    {
      "cell_type": "code",
      "execution_count": null,
      "metadata": {
        "id": "puLYJYv2liov"
      },
      "outputs": [],
      "source": [
        "df2[['cardio','active']].groupby('cardio').value_counts(normalize=True ).reset_index()"
      ]
    },
    {
      "cell_type": "code",
      "execution_count": null,
      "metadata": {
        "id": "W-XYu7QZliov"
      },
      "outputs": [],
      "source": [
        "subplot(1,2,1)\n",
        "sns.countplot(hue='cardio', x='active', data=df2);\n",
        "\n",
        "subplot(1,2,2)\n",
        "sns.heatmap(df2[['cardio','active']].corr(method='pearson'), annot=True);\n"
      ]
    },
    {
      "cell_type": "markdown",
      "metadata": {
        "id": "EhttxJ7jliow"
      },
      "source": [
        "##### 5.2.2 - Cholesterou over level I, more risk\n",
        " True (perarson >0.2)"
      ]
    },
    {
      "cell_type": "code",
      "execution_count": null,
      "metadata": {
        "id": "WdGCtWfeliow"
      },
      "outputs": [],
      "source": [
        "df2[['cardio','cholesterol']].groupby('cardio').value_counts(normalize=True ).reset_index()"
      ]
    },
    {
      "cell_type": "code",
      "execution_count": null,
      "metadata": {
        "id": "fkOogm3fliow"
      },
      "outputs": [],
      "source": [
        "plt.subplot(1,2,1)\n",
        "sns.countplot(hue='cardio', x='cholesterol', data=df2);\n",
        "\n",
        "plt.subplot(1,2,2)\n",
        "sns.heatmap(df2[['cardio','cholesterol']].corr(method='pearson'), annot=True);\n"
      ]
    },
    {
      "cell_type": "markdown",
      "metadata": {
        "id": "d4Kd4sP3liow"
      },
      "source": [
        "##### 5.2.3 - How more clucose, more risk\n",
        "   False"
      ]
    },
    {
      "cell_type": "markdown",
      "metadata": {
        "id": "g49xQcVmliow"
      },
      "source": [
        "The correlation it's so low, insignificat to model"
      ]
    },
    {
      "cell_type": "code",
      "execution_count": null,
      "metadata": {
        "id": "lMv2wXTxliow"
      },
      "outputs": [],
      "source": [
        "plt.subplot(1,2,1)\n",
        "sns.countplot(hue='cardio', x='glucose', data=df2);\n",
        "\n",
        "plt.subplot(1,2,2)\n",
        "sns.heatmap(df2[['cardio','glucose']].corr(method='pearson'), annot=True);"
      ]
    },
    {
      "cell_type": "markdown",
      "metadata": {
        "id": "R64XdJgAliow"
      },
      "source": [
        "##### 5.2.4 - How more older, more risk\n",
        "   True (perarson >0.2)"
      ]
    },
    {
      "cell_type": "markdown",
      "metadata": {
        "id": "xrN7-Hrzliow"
      },
      "source": [
        "following the years it's more count and more avarage pear year old, low correlation, but, probly it's important to model"
      ]
    },
    {
      "cell_type": "code",
      "execution_count": null,
      "metadata": {
        "id": "Wyfz4UuIliow"
      },
      "outputs": [],
      "source": [
        "subplot(2,2,1)\n",
        "plt.title('Counting')\n",
        "sns.countplot(x='age', hue='cardio', data=df2);\n",
        "\n",
        "subplot(2,2,2)\n",
        "plt.title('Average')\n",
        "sns.lineplot(data=df2, x='age', y='cardio', estimator='mean');\n",
        "\n",
        "subplot(2,2,3)\n",
        "plt.title('Distribution')\n",
        "sns.distplot(df2['age']);\n",
        "\n",
        "subplot(2,2,4)\n",
        "plt.title('Correlation Between Cardio vs Age')\n",
        "sns.heatmap(df2[['cardio', 'age']].corr('pearson'), annot=True);"
      ]
    },
    {
      "cell_type": "markdown",
      "metadata": {
        "id": "RlFxsTZLliox"
      },
      "source": [
        "##### 5.2.5 - Over 60 year old with Hypertension, more risk\n",
        "   False"
      ]
    },
    {
      "cell_type": "code",
      "execution_count": null,
      "metadata": {
        "id": "clgJUEhhliox"
      },
      "outputs": [],
      "source": [
        "aux = df2[['age_range', 'cardio']].groupby('age_range').mean().reset_index()\n",
        "aux1 = df2[['cardio', 'age_range', 'hypertension']]\n",
        "\n",
        "plt.subplot(2,2,1)\n",
        "sns.countplot(hue='cardio', x='hypertension', data=aux1);\n",
        "\n",
        "plt.subplot(2,2,2)\n",
        "sns.countplot(x='age', hue='cardio', data=df2);\n",
        "\n",
        "# Average incidence of diseases by hypertension and over 60 year.\n",
        "subplot(2,2,3)\n",
        "aux = df2[['hypertension', 'cardio', 'age_range']].groupby(['hypertension', 'age_range']).mean().reset_index()\n",
        "sns.barplot(x='age_range', y='cardio', hue='hypertension', data=aux);\n",
        "\n",
        "subplot(2,2,4)\n",
        "sns.heatmap(df2[['cardio', 'hypertension', 'age']].corr('pearson'), annot=True);"
      ]
    },
    {
      "cell_type": "markdown",
      "metadata": {
        "id": "_NDnGpOHliox"
      },
      "source": [
        "##### 5.2.6 - 60 year old with Hypotension, more risk\n",
        "   False"
      ]
    },
    {
      "cell_type": "code",
      "execution_count": null,
      "metadata": {
        "id": "3sI_JEWNliox"
      },
      "outputs": [],
      "source": [
        "aux = df2[['hypotension', 'age_range', 'cardio']].groupby(\n",
        "    ['hypotension', 'age_range']).mean().reset_index()\n",
        "\n",
        "plt.subplot(1,2,1)\n",
        "sns.barplot(x='age_range', y='cardio', hue='hypotension', data=aux);\n",
        "\n",
        "\n",
        "plt.subplot(1,2,2)\n",
        "sns.heatmap(df2[['age_range', 'hypotension', 'cardio']].corr('pearson'), annot=True);"
      ]
    },
    {
      "cell_type": "markdown",
      "metadata": {
        "id": "qMAm3wHYliox"
      },
      "source": [
        "##### 5.2.7 - 60 year old, more risk\n",
        "   False"
      ]
    },
    {
      "cell_type": "code",
      "execution_count": null,
      "metadata": {
        "id": "150qDVEcliox"
      },
      "outputs": [],
      "source": [
        "df2[['cardio','age_range']].groupby('cardio').value_counts(normalize=True ).reset_index()"
      ]
    },
    {
      "cell_type": "markdown",
      "metadata": {
        "id": "iaEZxUW9liox"
      },
      "source": [
        "##### 5.2.8 - Divergent AP, more risk\n",
        "   True - Relevant variable"
      ]
    },
    {
      "cell_type": "code",
      "execution_count": null,
      "metadata": {
        "id": "wFkbzW45lioy"
      },
      "outputs": [],
      "source": [
        "aux = df2[['divergent', 'cardio']].groupby('divergent').mean().reset_index()\n",
        "\n",
        "plt.subplot(1,2,1)\n",
        "sns.barplot(x='divergent', y='cardio', data=aux)\n",
        "\n",
        "plt.subplot(1,2,2)\n",
        "sns.heatmap(df2[['cardio', 'divergent']].corr('pearson'), annot=True)"
      ]
    },
    {
      "cell_type": "markdown",
      "metadata": {
        "id": "areDzopblioy"
      },
      "source": [
        "##### 5.2.9 - Convergent AP, more risk\n",
        "   False"
      ]
    },
    {
      "cell_type": "code",
      "execution_count": null,
      "metadata": {
        "id": "XrgPiTHhlioy"
      },
      "outputs": [],
      "source": [
        "plt.subplot(1,2,1)\n",
        "sns.countplot(x='convergent', hue='cardio',\n",
        "    data=df2[['cardio', 'convergent']].groupby('convergent').mean().reset_index());\n",
        "\n",
        "plt.subplot(1,2,2)\n",
        "sns.heatmap(df2[['cardio', 'convergent']].corr('pearson'), annot=True);"
      ]
    },
    {
      "cell_type": "markdown",
      "metadata": {
        "id": "LrfScmtRlioy"
      },
      "source": [
        "##### 5.2.10 - Hypertension, more risk\n",
        "   True"
      ]
    },
    {
      "cell_type": "markdown",
      "metadata": {
        "id": "mqRhRUenlioy"
      },
      "source": [
        "Average incidence by Hypertension"
      ]
    },
    {
      "cell_type": "code",
      "execution_count": 83,
      "metadata": {
        "id": "gZd3cdIklioy",
        "colab": {
          "base_uri": "https://localhost:8080/",
          "height": 787
        },
        "outputId": "cf2a7130-d22b-41c1-c575-487f16e5f7b5"
      },
      "outputs": [
        {
          "output_type": "display_data",
          "data": {
            "text/plain": [
              "<Figure size 2500x900 with 4 Axes>"
            ],
            "image/png": "[encoded data removed]"
          },
          "metadata": {}
        }
      ],
      "source": [
        "aux = df2[['hypertension', 'cardio']].groupby('hypertension').mean().reset_index()\n",
        "\n",
        "plt.subplot(1,3,1)\n",
        "sns.barplot(x='hypertension', y='cardio', data=aux);\n",
        "\n",
        "plt.subplot(1,3,2)\n",
        "sns.countplot(x='hypertension', hue='cardio', data=df2);\n",
        "\n",
        "plt.subplot(1,3,3)\n",
        "sns.heatmap(df2[['hypertension', 'cardio']].corr('pearson'), annot=True);"
      ]
    },
    {
      "cell_type": "code",
      "execution_count": null,
      "metadata": {
        "id": "EiNsn0Hulioy"
      },
      "outputs": [],
      "source": [
        "# Hypertension percentual\n",
        "df2['hypertension'].value_counts()\n"
      ]
    },
    {
      "cell_type": "markdown",
      "metadata": {
        "id": "qau6p4yDlioy"
      },
      "source": [
        "##### 5.2.11 - Hypotension, more risk\n",
        "   False"
      ]
    },
    {
      "cell_type": "raw",
      "metadata": {
        "id": "fTXt2NSPlioy"
      },
      "source": [
        "Irrelevant to model"
      ]
    },
    {
      "cell_type": "code",
      "execution_count": null,
      "metadata": {
        "id": "kpPiU1fDlioz"
      },
      "outputs": [],
      "source": [
        "aux = df2[['hypotension', 'cardio']].groupby('hypotension').mean().reset_index()\n",
        "\n",
        "plt.subplot(1,2,1)\n",
        "sns.barplot(x='hypotension', y='cardio', data=aux);\n",
        "\n",
        "plt.subplot(1,2,2)\n",
        "sns.heatmap(df2[['hypotension', 'cardio']].corr('pearson'), annot=True);"
      ]
    },
    {
      "cell_type": "code",
      "execution_count": null,
      "metadata": {
        "id": "jn3tLnm3lioz"
      },
      "outputs": [],
      "source": [
        "df2['hypotension'].value_counts()"
      ]
    },
    {
      "cell_type": "markdown",
      "metadata": {
        "id": "JAtPMpPLlio1"
      },
      "source": [
        "##### 5.2.12 - BMI - Obesity, more risk\n",
        "   True"
      ]
    },
    {
      "cell_type": "code",
      "execution_count": null,
      "metadata": {
        "id": "_4b5_lc3lio1"
      },
      "outputs": [],
      "source": [
        "aux = df2[['bmi_level', 'cardio']].groupby('bmi_level').value_counts(normalize=True).reset_index()\n",
        "print(aux)\n",
        "aux = df2[['bmi_level', 'cardio']].groupby('bmi_level').mean().reset_index()\n",
        "print(aux)\n",
        "\n",
        "plt.subplot(1,2,1)\n",
        "sns.barplot(x='bmi_level', y='cardio' ,data=aux);\n",
        "\n",
        "plt.subplot(1,2,2)\n",
        "sns.heatmap(df2[['bmi_level', 'cardio']].corr('pearson'), annot=True);\n",
        "\n",
        "# aux1 = df2[(df2['cardio'] ==1)]\n",
        "# aux2 = df2[(df2['cardio'] ==2) ]\n"
      ]
    },
    {
      "cell_type": "markdown",
      "metadata": {
        "id": "Y4Dd1RdSlio1"
      },
      "source": [
        "##### 5.2.13 - Gender 2 has more risk\n",
        "   False"
      ]
    },
    {
      "cell_type": "code",
      "execution_count": null,
      "metadata": {
        "id": "fvObBKzVlio1"
      },
      "outputs": [],
      "source": [
        "aux = df2[['gender', 'cardio']].groupby('gender').value_counts(normalize=True).reset_index()\n",
        "print(aux)\n",
        "aux = df2[['gender', 'cardio']].groupby('gender').mean().reset_index()\n",
        "print(aux)"
      ]
    },
    {
      "cell_type": "code",
      "execution_count": null,
      "metadata": {
        "id": "IJSArZJQlio2"
      },
      "outputs": [],
      "source": [
        "plt.subplot(1,3,1)\n",
        "sns.barplot(x='gender', y='cardio', data=df2)\n",
        "plt.subplot(1,3,2)\n",
        "sns.countplot(x='gender', hue='cardio', data=df2 );\n",
        "plt.subplot(1,3,3)\n",
        "sns.heatmap(df2[['gender', 'cardio']].corr('pearson'), annot=True);\n"
      ]
    },
    {
      "cell_type": "markdown",
      "metadata": {
        "id": "osBzQWOvlio2"
      },
      "source": [
        "##### 5.2.14 - how more weith more risk\n",
        "   True"
      ]
    },
    {
      "cell_type": "code",
      "execution_count": null,
      "metadata": {
        "id": "7ELG0ubOlio2"
      },
      "outputs": [],
      "source": [
        "aux = df2[['weight_range', 'cardio']].groupby('weight_range').value_counts(normalize=True).reset_index()\n",
        "print(aux)\n",
        "aux = df2[['weight_range', 'cardio']].groupby('weight_range').mean().reset_index()\n",
        "print(aux)"
      ]
    },
    {
      "cell_type": "code",
      "execution_count": null,
      "metadata": {
        "id": "XEhOGSnXFPVl"
      },
      "outputs": [],
      "source": [
        "df2.isna().sum()"
      ]
    },
    {
      "cell_type": "code",
      "execution_count": null,
      "metadata": {
        "id": "rvaWUdyvlio2"
      },
      "outputs": [],
      "source": [
        "aux = df2[['weight_range', 'cardio']].groupby('weight_range').mean().reset_index()\n",
        "grid = GridSpec(2,2)\n",
        "\n",
        "plt.subplot(grid[1,0])\n",
        "sns.barplot(x='weight_range', y='cardio', data=aux);\n",
        "                 \n",
        "plt.subplot(grid[1,1])\n",
        "plt.title('Correlation between CARDIO and WEIGHT')\n",
        "pointb = pointbiserialr(df2['weight'], df2['cardio']).correlation\n",
        "sns.heatmap(pd.DataFrame({'weight':pointb}, index=['cardio']), annot=True);"
      ]
    },
    {
      "cell_type": "markdown",
      "metadata": {
        "id": "uhly6EXmlio2"
      },
      "source": [
        "### 5.3 - Multivariate Analysis"
      ]
    },
    {
      "cell_type": "code",
      "source": [
        "#pair grid\n",
        "fig, ax=plt.subplots(figsize=(6,6))\n",
        "vars=['age','weight','height','hight_pressure','low_pressure','bmi']\n",
        "p=pairplot(df2,vars=vars,hue='cardio',kind='reg');"
      ],
      "metadata": {
        "id": "aBusxNzo0S52"
      },
      "execution_count": null,
      "outputs": []
    },
    {
      "cell_type": "code",
      "execution_count": null,
      "metadata": {
        "id": "V0ousi7xlio2"
      },
      "outputs": [],
      "source": [
        "sns.heatmap(df2.corr(), annot=True);"
      ]
    },
    {
      "cell_type": "markdown",
      "metadata": {
        "id": "Tfvoi3_nlio2"
      },
      "source": [
        "## 6.0 - Data Preparation"
      ]
    },
    {
      "cell_type": "code",
      "execution_count": 44,
      "metadata": {
        "id": "iMph-GMFlio3"
      },
      "outputs": [],
      "source": [
        "df3=df2.copy()"
      ]
    },
    {
      "cell_type": "markdown",
      "source": [
        "\n",
        "### 6.1 - Normalization\n",
        "\n"
      ],
      "metadata": {
        "id": "VdOulPg64zln"
      }
    },
    {
      "cell_type": "code",
      "source": [
        "# age\n",
        "ss=StandardScaler()\n",
        "df3['age'] = ss.fit_transform(df3[['age']].values)\n",
        "#pickle.dump(mms, open(r'C:\\Users\\Utente77\\repos\\cardio_catch_disease_PA001\\parameters\\age_scaling.pkl', 'wb'))"
      ],
      "metadata": {
        "id": "ON4XSuxg45Q_"
      },
      "execution_count": 45,
      "outputs": []
    },
    {
      "cell_type": "markdown",
      "source": [
        "### 6.2 - Rescaling Robust Scaler"
      ],
      "metadata": {
        "id": "0Gx3KwmGuxKH"
      }
    },
    {
      "cell_type": "code",
      "execution_count": 46,
      "metadata": {
        "id": "5D9LFoADlio3"
      },
      "outputs": [],
      "source": [
        "rs = RobustScaler() #outiliers\n",
        "\n",
        "# height         \n",
        "df3['height'] = rs.fit_transform(df3[['height']].values)\n",
        "pickle.dump(rs, open(r'C:\\Users\\Utente77\\repos\\cardio_catch_disease_PA001\\parameters\\height_scaling.pkl', 'wb'))\n",
        "\n",
        "# weight\n",
        "df3['weight'] = rs.fit_transform(df3[['weight']].values)\n",
        "pickle.dump(rs, open(r'C:\\Users\\Utente77\\repos\\cardio_catch_disease_PA001\\parameters\\weight_scaling.pkl', 'wb'))\n",
        "\n",
        "# difference     \n",
        "df3['difference'] = rs.fit_transform(df3[['difference']].values)\n",
        "pickle.dump(rs, open(r'C:\\Users\\Utente77\\repos\\cardio_catch_disease_PA001\\parameters\\difference_scaling.pkl', 'wb'))\n",
        "\n",
        "# bmi            \n",
        "df3['bmi'] = rs.fit_transform(df3[['bmi']].values)\n",
        "pickle.dump(rs, open(r'C:\\Users\\Utente77\\repos\\cardio_catch_disease_PA001\\parameters\\bmi_scaling.pkl', 'wb'))\n"
      ]
    },
    {
      "cell_type": "markdown",
      "metadata": {
        "id": "eWDm_pPWlio3"
      },
      "source": [
        "### 6.3 - Rescaling MinMaxScaler"
      ]
    },
    {
      "cell_type": "code",
      "source": [
        "mms = MinMaxScaler()\n",
        "# low_pressure   \n",
        "df3['low_pressure'] = mms.fit_transform(df3[['low_pressure']].values)\n",
        "pickle.dump(rs, open(r'C:\\Users\\Utente77\\repos\\cardio_catch_disease_PA001\\parameters\\low_pressure_scaling.pkl', 'wb'))\n",
        "\n",
        "#hight_pressure\n",
        "df3['hight_pressure'] = mms.fit_transform(df3[['hight_pressure']].values)\n",
        "pickle.dump(rs, open(r'C:\\Users\\Utente77\\repos\\cardio_catch_disease_PA001\\parameters\\hight_pressure_scaling.pkl', 'wb'))\n",
        "\n",
        "pickle.dump(mms, open(r'C:\\Users\\Utente77\\repos\\cardio_catch_disease_PA001\\parameters\\age_scaling.pkl', 'wb'))"
      ],
      "metadata": {
        "id": "5DoqRsXHukzh"
      },
      "execution_count": 47,
      "outputs": []
    },
    {
      "cell_type": "markdown",
      "metadata": {
        "id": "SZfTNasplio4"
      },
      "source": [
        "### 6.4 - Encoding"
      ]
    },
    {
      "cell_type": "code",
      "source": [
        " # Nominal variables\n",
        " # One hot encoder\n",
        " df3=pd.get_dummies(df3,prefix=['gender'],columns=['gender'])\n",
        "\n",
        "# # Ordinal variables\n",
        "# oe=OrdinalEncoder()\n",
        "# df3['cholesterol']=oe.fit_transform(df3[['cholesterol']])\n",
        "# df3['glucose']=oe.fit_transform(df3[['glucose']])\n",
        "# df3['bmi_level']=oe.fit_transform(df3[['bmi_level']])\n",
        "# df3['age_range']=oe.fit_transform(df3[['age_range']])\n",
        "# df3['weight_range']=oe.fit_transform(df3[['weight_range']])\n"
      ],
      "metadata": {
        "id": "NGYUnOoaC2tH"
      },
      "execution_count": 48,
      "outputs": []
    },
    {
      "cell_type": "code",
      "source": [
        "df3.head()"
      ],
      "metadata": {
        "colab": {
          "base_uri": "https://localhost:8080/",
          "height": 206
        },
        "id": "5Ip2fF-LxkJE",
        "outputId": "75af786b-fe45-4e50-c114-6e9a1ea9de11"
      },
      "execution_count": 49,
      "outputs": [
        {
          "output_type": "execute_result",
          "data": {
            "text/plain": [
              "          id       age    height    weight  hight_pressure  low_pressure  cholesterol  glucose  smoker  alcohol  active  cardio       bmi  bmi_level  hypertension  hypotension  difference  convergent  divergent  age_range  weight_range  gender_1  gender_2\n",
              "43470  62107  1.359478 -0.818182 -0.176471        0.017934      0.015889            3        1       0        0       1       1  0.309619          2             0            0         1.0           0          0          3          0.75         1         0\n",
              "4771    6754  0.322641 -0.272727  0.470588        0.017934      0.015889            1        1       0        0       0       1  0.646955          3             0            0         1.0           0          0          2          1.00         0         1\n",
              "31029  44307  0.618880  0.363636 -0.117647        0.016079      0.013903            1        1       0        0       1       1 -0.299159          1             0            0         0.0           0          0          2          0.75         1         0\n",
              "7190   10244 -1.306674  0.000000 -0.588235        0.016079      0.012910            1        1       0        0       1       0 -0.574045          1             0            0         1.0           0          0          1          0.75         1         0\n",
              "23965  34268 -0.269837  0.272727  1.176471        0.017625      0.015889            1        3       0        0       1       0  0.981617          3             0            0         0.5           0          0          2          1.00         0         1"
            ],
            "text/html": [
              "\n",
              "  <div id=\"df-2f06c695-d08f-41b3-9400-8ba87c3decf1\">\n",
              "    <div class=\"colab-df-container\">\n",
              "      <div>\n",
              "<style scoped>\n",
              "    .dataframe tbody tr th:only-of-type {\n",
              "        vertical-align: middle;\n",
              "    }\n",
              "\n",
              "    .dataframe tbody tr th {\n",
              "        vertical-align: top;\n",
              "    }\n",
              "\n",
              "    .dataframe thead th {\n",
              "        text-align: right;\n",
              "    }\n",
              "</style>\n",
              "<table border=\"1\" class=\"dataframe\">\n",
              "  <thead>\n",
              "    <tr style=\"text-align: right;\">\n",
              "      <th></th>\n",
              "      <th>id</th>\n",
              "      <th>age</th>\n",
              "      <th>height</th>\n",
              "      <th>weight</th>\n",
              "      <th>hight_pressure</th>\n",
              "      <th>low_pressure</th>\n",
              "      <th>cholesterol</th>\n",
              "      <th>glucose</th>\n",
              "      <th>smoker</th>\n",
              "      <th>alcohol</th>\n",
              "      <th>active</th>\n",
              "      <th>cardio</th>\n",
              "      <th>bmi</th>\n",
              "      <th>bmi_level</th>\n",
              "      <th>hypertension</th>\n",
              "      <th>hypotension</th>\n",
              "      <th>difference</th>\n",
              "      <th>convergent</th>\n",
              "      <th>divergent</th>\n",
              "      <th>age_range</th>\n",
              "      <th>weight_range</th>\n",
              "      <th>gender_1</th>\n",
              "      <th>gender_2</th>\n",
              "    </tr>\n",
              "  </thead>\n",
              "  <tbody>\n",
              "    <tr>\n",
              "      <th>43470</th>\n",
              "      <td>62107</td>\n",
              "      <td>1.359478</td>\n",
              "      <td>-0.818182</td>\n",
              "      <td>-0.176471</td>\n",
              "      <td>0.017934</td>\n",
              "      <td>0.015889</td>\n",
              "      <td>3</td>\n",
              "      <td>1</td>\n",
              "      <td>0</td>\n",
              "      <td>0</td>\n",
              "      <td>1</td>\n",
              "      <td>1</td>\n",
              "      <td>0.309619</td>\n",
              "      <td>2</td>\n",
              "      <td>0</td>\n",
              "      <td>0</td>\n",
              "      <td>1.0</td>\n",
              "      <td>0</td>\n",
              "      <td>0</td>\n",
              "      <td>3</td>\n",
              "      <td>0.75</td>\n",
              "      <td>1</td>\n",
              "      <td>0</td>\n",
              "    </tr>\n",
              "    <tr>\n",
              "      <th>4771</th>\n",
              "      <td>6754</td>\n",
              "      <td>0.322641</td>\n",
              "      <td>-0.272727</td>\n",
              "      <td>0.470588</td>\n",
              "      <td>0.017934</td>\n",
              "      <td>0.015889</td>\n",
              "      <td>1</td>\n",
              "      <td>1</td>\n",
              "      <td>0</td>\n",
              "      <td>0</td>\n",
              "      <td>0</td>\n",
              "      <td>1</td>\n",
              "      <td>0.646955</td>\n",
              "      <td>3</td>\n",
              "      <td>0</td>\n",
              "      <td>0</td>\n",
              "      <td>1.0</td>\n",
              "      <td>0</td>\n",
              "      <td>0</td>\n",
              "      <td>2</td>\n",
              "      <td>1.00</td>\n",
              "      <td>0</td>\n",
              "      <td>1</td>\n",
              "    </tr>\n",
              "    <tr>\n",
              "      <th>31029</th>\n",
              "      <td>44307</td>\n",
              "      <td>0.618880</td>\n",
              "      <td>0.363636</td>\n",
              "      <td>-0.117647</td>\n",
              "      <td>0.016079</td>\n",
              "      <td>0.013903</td>\n",
              "      <td>1</td>\n",
              "      <td>1</td>\n",
              "      <td>0</td>\n",
              "      <td>0</td>\n",
              "      <td>1</td>\n",
              "      <td>1</td>\n",
              "      <td>-0.299159</td>\n",
              "      <td>1</td>\n",
              "      <td>0</td>\n",
              "      <td>0</td>\n",
              "      <td>0.0</td>\n",
              "      <td>0</td>\n",
              "      <td>0</td>\n",
              "      <td>2</td>\n",
              "      <td>0.75</td>\n",
              "      <td>1</td>\n",
              "      <td>0</td>\n",
              "    </tr>\n",
              "    <tr>\n",
              "      <th>7190</th>\n",
              "      <td>10244</td>\n",
              "      <td>-1.306674</td>\n",
              "      <td>0.000000</td>\n",
              "      <td>-0.588235</td>\n",
              "      <td>0.016079</td>\n",
              "      <td>0.012910</td>\n",
              "      <td>1</td>\n",
              "      <td>1</td>\n",
              "      <td>0</td>\n",
              "      <td>0</td>\n",
              "      <td>1</td>\n",
              "      <td>0</td>\n",
              "      <td>-0.574045</td>\n",
              "      <td>1</td>\n",
              "      <td>0</td>\n",
              "      <td>0</td>\n",
              "      <td>1.0</td>\n",
              "      <td>0</td>\n",
              "      <td>0</td>\n",
              "      <td>1</td>\n",
              "      <td>0.75</td>\n",
              "      <td>1</td>\n",
              "      <td>0</td>\n",
              "    </tr>\n",
              "    <tr>\n",
              "      <th>23965</th>\n",
              "      <td>34268</td>\n",
              "      <td>-0.269837</td>\n",
              "      <td>0.272727</td>\n",
              "      <td>1.176471</td>\n",
              "      <td>0.017625</td>\n",
              "      <td>0.015889</td>\n",
              "      <td>1</td>\n",
              "      <td>3</td>\n",
              "      <td>0</td>\n",
              "      <td>0</td>\n",
              "      <td>1</td>\n",
              "      <td>0</td>\n",
              "      <td>0.981617</td>\n",
              "      <td>3</td>\n",
              "      <td>0</td>\n",
              "      <td>0</td>\n",
              "      <td>0.5</td>\n",
              "      <td>0</td>\n",
              "      <td>0</td>\n",
              "      <td>2</td>\n",
              "      <td>1.00</td>\n",
              "      <td>0</td>\n",
              "      <td>1</td>\n",
              "    </tr>\n",
              "  </tbody>\n",
              "</table>\n",
              "</div>\n",
              "      <button class=\"colab-df-convert\" onclick=\"convertToInteractive('df-2f06c695-d08f-41b3-9400-8ba87c3decf1')\"\n",
              "              title=\"Convert this dataframe to an interactive table.\"\n",
              "              style=\"display:none;\">\n",
              "        \n",
              "  <svg xmlns=\"http://www.w3.org/2000/svg\" height=\"24px\"viewBox=\"0 0 24 24\"\n",
              "       width=\"24px\">\n",
              "    <path d=\"M0 0h24v24H0V0z\" fill=\"none\"/>\n",
              "    <path d=\"M18.56 5.44l.94 2.06.94-2.06 2.06-.94-2.06-.94-.94-2.06-.94 2.06-2.06.94zm-11 1L8.5 8.5l.94-2.06 2.06-.94-2.06-.94L8.5 2.5l-.94 2.06-2.06.94zm10 10l.94 2.06.94-2.06 2.06-.94-2.06-.94-.94-2.06-.94 2.06-2.06.94z\"/><path d=\"M17.41 7.96l-1.37-1.37c-.4-.4-.92-.59-1.43-.59-.52 0-1.04.2-1.43.59L10.3 9.45l-7.72 7.72c-.78.78-.78 2.05 0 2.83L4 21.41c.39.39.9.59 1.41.59.51 0 1.02-.2 1.41-.59l7.78-7.78 2.81-2.81c.8-.78.8-2.07 0-2.86zM5.41 20L4 18.59l7.72-7.72 1.47 1.35L5.41 20z\"/>\n",
              "  </svg>\n",
              "      </button>\n",
              "      \n",
              "  <style>\n",
              "    .colab-df-container {\n",
              "      display:flex;\n",
              "      flex-wrap:wrap;\n",
              "      gap: 12px;\n",
              "    }\n",
              "\n",
              "    .colab-df-convert {\n",
              "      background-color: #E8F0FE;\n",
              "      border: none;\n",
              "      border-radius: 50%;\n",
              "      cursor: pointer;\n",
              "      display: none;\n",
              "      fill: #1967D2;\n",
              "      height: 32px;\n",
              "      padding: 0 0 0 0;\n",
              "      width: 32px;\n",
              "    }\n",
              "\n",
              "    .colab-df-convert:hover {\n",
              "      background-color: #E2EBFA;\n",
              "      box-shadow: 0px 1px 2px rgba(60, 64, 67, 0.3), 0px 1px 3px 1px rgba(60, 64, 67, 0.15);\n",
              "      fill: #174EA6;\n",
              "    }\n",
              "\n",
              "    [theme=dark] .colab-df-convert {\n",
              "      background-color: #3B4455;\n",
              "      fill: #D2E3FC;\n",
              "    }\n",
              "\n",
              "    [theme=dark] .colab-df-convert:hover {\n",
              "      background-color: #434B5C;\n",
              "      box-shadow: 0px 1px 3px 1px rgba(0, 0, 0, 0.15);\n",
              "      filter: drop-shadow(0px 1px 2px rgba(0, 0, 0, 0.3));\n",
              "      fill: #FFFFFF;\n",
              "    }\n",
              "  </style>\n",
              "\n",
              "      <script>\n",
              "        const buttonEl =\n",
              "          document.querySelector('#df-2f06c695-d08f-41b3-9400-8ba87c3decf1 button.colab-df-convert');\n",
              "        buttonEl.style.display =\n",
              "          google.colab.kernel.accessAllowed ? 'block' : 'none';\n",
              "\n",
              "        async function convertToInteractive(key) {\n",
              "          const element = document.querySelector('#df-2f06c695-d08f-41b3-9400-8ba87c3decf1');\n",
              "          const dataTable =\n",
              "            await google.colab.kernel.invokeFunction('convertToInteractive',\n",
              "                                                     [key], {});\n",
              "          if (!dataTable) return;\n",
              "\n",
              "          const docLinkHtml = 'Like what you see? Visit the ' +\n",
              "            '<a target=\"_blank\" href=https://colab.research.google.com/notebooks/data_table.ipynb>data table notebook</a>'\n",
              "            + ' to learn more about interactive tables.';\n",
              "          element.innerHTML = '';\n",
              "          dataTable['output_type'] = 'display_data';\n",
              "          await google.colab.output.renderOutput(dataTable, element);\n",
              "          const docLink = document.createElement('div');\n",
              "          docLink.innerHTML = docLinkHtml;\n",
              "          element.appendChild(docLink);\n",
              "        }\n",
              "      </script>\n",
              "    </div>\n",
              "  </div>\n",
              "  "
            ]
          },
          "metadata": {},
          "execution_count": 49
        }
      ]
    },
    {
      "cell_type": "code",
      "source": [
        "# ## The features that it's binary yet, it's not necessary transform\n",
        "# ## If has the relevant outlier it's should use to RobustScaler else MinMaxScaler\n",
        "\n",
        "# mms = MinMaxScaler()\n",
        "# rs = RobustScaler()\n",
        "\n",
        "# # age\n",
        "# df3['age'] = mms.fit_transform(df3[['age']].values)\n",
        "# pickle.dump(mms, open(r'C:\\Users\\Utente77\\repos\\cardio_catch_disease_PA001\\parameters\\age_scaling.pkl', 'wb'))\n",
        "\n",
        "# # height         \n",
        "# df3['height'] = rs.fit_transform(df3[['height']].values)\n",
        "# pickle.dump(rs, open(r'C:\\Users\\Utente77\\repos\\cardio_catch_disease_PA001\\parameters\\height_scaling.pkl', 'wb'))\n",
        "\n",
        "# # weight\n",
        "# df3['weight'] = rs.fit_transform(df3[['weight']].values)\n",
        "# pickle.dump(rs, open(r'C:\\Users\\Utente77\\repos\\cardio_catch_disease_PA001\\parameters\\weight_scaling.pkl', 'wb'))\n",
        "\n",
        "# # low_pressure   \n",
        "# df3['low_pressure'] = rs.fit_transform(df3[['low_pressure']].values)\n",
        "# pickle.dump(rs, open(r'C:\\Users\\Utente77\\repos\\cardio_catch_disease_PA001\\parameters\\low_pressure_scaling.pkl', 'wb'))\n",
        "\n",
        "# #hight_pressure\n",
        "# df3['hight_pressure'] = rs.fit_transform(df3[['hight_pressure']].values)\n",
        "# pickle.dump(rs, open(r'C:\\Users\\Utente77\\repos\\cardio_catch_disease_PA001\\parameters\\hight_pressure_scaling.pkl', 'wb'))\n",
        "\n",
        "# # difference     \n",
        "# df3['difference'] = rs.fit_transform(df3[['difference']].values)\n",
        "# pickle.dump(rs, open(r'C:\\Users\\Utente77\\repos\\cardio_catch_disease_PA001\\parameters\\difference_scaling.pkl', 'wb'))\n",
        "\n",
        "# # bmi            \n",
        "# df3['bmi'] = rs.fit_transform(df3[['bmi']].values)\n",
        "# pickle.dump(rs, open(r'C:\\Users\\Utente77\\repos\\cardio_catch_disease_PA001\\parameters\\bmi_scaling.pkl', 'wb'))"
      ],
      "metadata": {
        "id": "TF_FYNFZ8LT3"
      },
      "execution_count": 50,
      "outputs": []
    },
    {
      "cell_type": "markdown",
      "metadata": {
        "id": "5RsNSW3-lio4"
      },
      "source": [
        "## 7.0 - Feature Selection"
      ]
    },
    {
      "cell_type": "code",
      "execution_count": 51,
      "metadata": {
        "id": "ymV9Corhlio4"
      },
      "outputs": [],
      "source": [
        "## Spliting after rescaling\n",
        "\n",
        "X = df3.drop(['cardio','id'], axis=1).copy()\n",
        "y = df3['cardio'].copy()\n",
        "x_train, x_valid, y_train, y_valid = train_test_split(X, y, test_size=0.3, random_state=42)"
      ]
    },
    {
      "cell_type": "markdown",
      "metadata": {
        "id": "8GlM5gDQedNA"
      },
      "source": [
        "### 7.1 - PCA"
      ]
    },
    {
      "cell_type": "code",
      "execution_count": 52,
      "metadata": {
        "id": "bTfhpGnUk0Y3",
        "colab": {
          "base_uri": "https://localhost:8080/"
        },
        "outputId": "d0e33986-cc52-497d-99c8-cfab496f04ae"
      },
      "outputs": [
        {
          "output_type": "execute_result",
          "data": {
            "text/plain": [
              "(52500, 21)"
            ]
          },
          "metadata": {},
          "execution_count": 52
        }
      ],
      "source": [
        "X.shape"
      ]
    },
    {
      "cell_type": "code",
      "execution_count": 53,
      "metadata": {
        "id": "zZfO_KDcjHCb",
        "colab": {
          "base_uri": "https://localhost:8080/"
        },
        "outputId": "3305eeab-fcb1-467b-9874-19831ee537ea"
      },
      "outputs": [
        {
          "output_type": "execute_result",
          "data": {
            "text/plain": [
              "array([ 0.10924537,  0.04512822,  0.50272802,  0.0276985 ,  0.02946439,\n",
              "        0.14809395,  0.11470995,  0.04313783,  0.04947697, -0.01005621,\n",
              "        0.45756242,  0.4434665 ,  0.13919292, -0.01365364, -0.00298534,\n",
              "       -0.05473224,  0.12197662,  0.10271202,  0.47875182, -0.0668395 ,\n",
              "        0.0668395 ])"
            ]
          },
          "metadata": {},
          "execution_count": 53
        }
      ],
      "source": [
        "pca= PCA(random_state=42)\n",
        "X_pca=pca.fit_transform(StandardScaler().fit_transform(X))\n",
        "pca.explained_variance_ratio_\n",
        "pca.components_[0]"
      ]
    },
    {
      "cell_type": "code",
      "execution_count": 54,
      "metadata": {
        "id": "kf6V5VFmkRuf",
        "colab": {
          "base_uri": "https://localhost:8080/",
          "height": 450
        },
        "outputId": "cbeac515-2e89-4fed-e06d-a229d536c5a0"
      },
      "outputs": [
        {
          "output_type": "display_data",
          "data": {
            "text/plain": [
              "<Figure size 1000x500 with 1 Axes>"
            ],
            "image/png": "[encoded data removed]"
          },
          "metadata": {}
        }
      ],
      "source": [
        "plt.figure(figsize=(10,5) )\n",
        "plt.plot( np.cumsum( pca.explained_variance_ratio_ ) )\n",
        "plt.axvline( 20, color='red', linestyle='--')\n",
        "plt.axhline( 0.95, color='red', linestyle='--');"
      ]
    },
    {
      "cell_type": "code",
      "execution_count": 55,
      "metadata": {
        "id": "2fRZxQ4LlYJA",
        "colab": {
          "base_uri": "https://localhost:8080/"
        },
        "outputId": "9fcbbfaa-48ca-4f56-9dbc-da920916b55a"
      },
      "outputs": [
        {
          "output_type": "execute_result",
          "data": {
            "text/plain": [
              "14"
            ]
          },
          "metadata": {},
          "execution_count": 55
        }
      ],
      "source": [
        "# change data to new space\n",
        "k = np.argmax( np.cumsum( pca.explained_variance_ratio_ ) > 0.95 )\n",
        "k"
      ]
    },
    {
      "cell_type": "markdown",
      "metadata": {
        "id": "YiR1MhKFXj6s"
      },
      "source": [
        "### 7.2 - RFE"
      ]
    },
    {
      "cell_type": "code",
      "execution_count": 56,
      "metadata": {
        "id": "JXh_-vT9SlMN",
        "colab": {
          "base_uri": "https://localhost:8080/"
        },
        "outputId": "4b36cf56-9fc3-4bde-9ced-6272269eada6"
      },
      "outputs": [
        {
          "output_type": "execute_result",
          "data": {
            "text/plain": [
              "['age',\n",
              " 'height',\n",
              " 'weight',\n",
              " 'hight_pressure',\n",
              " 'low_pressure',\n",
              " 'cholesterol',\n",
              " 'glucose',\n",
              " 'bmi',\n",
              " 'bmi_level',\n",
              " 'difference',\n",
              " 'divergent',\n",
              " 'age_range',\n",
              " 'weight_range',\n",
              " 'gender_1']"
            ]
          },
          "metadata": {},
          "execution_count": 56
        }
      ],
      "source": [
        "# Create linear regression object\n",
        "mdl = ExtraTreesClassifier(n_estimators=100)\n",
        "\n",
        "# Create RFE object \n",
        "rfe = RFE(mdl, n_features_to_select=k)\n",
        "\n",
        "# Fit RFE\n",
        "rfe.fit(X, y)\n",
        "\n",
        "# Print selected features\n",
        "#print(\"Selected features: {}\".format(X.columns[rfe.support_]))\n",
        "select_features_rfe=list(X.columns[rfe.support_])\n",
        "select_features_rfe"
      ]
    },
    {
      "cell_type": "markdown",
      "metadata": {
        "id": "jz9PoQebYD3J"
      },
      "source": [
        "### 7.3 - Decision Tree"
      ]
    },
    {
      "cell_type": "code",
      "execution_count": 57,
      "metadata": {
        "id": "oQeN52IuiKRJ",
        "colab": {
          "base_uri": "https://localhost:8080/"
        },
        "outputId": "8d19574c-44d6-4002-8adb-36b848df2edd"
      },
      "outputs": [
        {
          "output_type": "execute_result",
          "data": {
            "text/plain": [
              "id                  int64\n",
              "age                 int64\n",
              "gender              int64\n",
              "height            float64\n",
              "weight            float64\n",
              "hight_pressure      int64\n",
              "low_pressure        int64\n",
              "cholesterol         int64\n",
              "glucose             int64\n",
              "smoker              int64\n",
              "alcohol             int64\n",
              "active              int64\n",
              "cardio              int64\n",
              "bmi               float64\n",
              "bmi_level           int64\n",
              "hypertension        int64\n",
              "hypotension         int64\n",
              "difference          int64\n",
              "convergent          int64\n",
              "divergent           int64\n",
              "age_range           int64\n",
              "weight_range      float64\n",
              "dtype: object"
            ]
          },
          "metadata": {},
          "execution_count": 57
        }
      ],
      "source": [
        "df1.dtypes"
      ]
    },
    {
      "cell_type": "code",
      "execution_count": 58,
      "metadata": {
        "id": "efcd3kAEX_b2",
        "colab": {
          "base_uri": "https://localhost:8080/"
        },
        "outputId": "40cdaf73-7c8d-48d6-a979-fe023cf59cd9"
      },
      "outputs": [
        {
          "output_type": "stream",
          "name": "stdout",
          "text": [
            "Feature importances: [0.12104552 0.13329451 0.13078644 0.08936633 0.07460256 0.04520838\n",
            " 0.01973014 0.00935343 0.00883164 0.01382221 0.14896286 0.02414699\n",
            " 0.00036026 0.0005788  0.04764547 0.00834869 0.06476075 0.02930263\n",
            " 0.01758941 0.00613004 0.00613296]\n"
          ]
        },
        {
          "output_type": "execute_result",
          "data": {
            "text/plain": [
              "['bmi',\n",
              " 'height',\n",
              " 'weight',\n",
              " 'age',\n",
              " 'hight_pressure',\n",
              " 'low_pressure',\n",
              " 'divergent',\n",
              " 'difference',\n",
              " 'cholesterol']"
            ]
          },
          "metadata": {},
          "execution_count": 58
        }
      ],
      "source": [
        "# Create ExtraTreesClassifier object\n",
        "clf = ExtraTreesClassifier(n_estimators=100)\n",
        "\n",
        "# Fit ExtraTreesClassifier\n",
        "clf.fit(X, y)\n",
        "\n",
        "# Print feature importances\n",
        "print(\"Feature importances: {}\".format(clf.feature_importances_))\n",
        "\n",
        "# Select top 2 features\n",
        "top_indices = clf.feature_importances_.argsort()[::-1][:9]\n",
        "top_features = X.columns[top_indices]\n",
        "#print(\"Selected features: {}\".format(top_features))\n",
        "select_features_dt=list(top_features)\n",
        "select_features_dt"
      ]
    },
    {
      "cell_type": "markdown",
      "metadata": {
        "id": "hF8oPeaXlio4"
      },
      "source": [
        "### 7.4 - Boruta"
      ]
    },
    {
      "cell_type": "code",
      "execution_count": 59,
      "metadata": {
        "id": "SmU_QUWxlio4",
        "colab": {
          "base_uri": "https://localhost:8080/"
        },
        "outputId": "96bc426f-bb2d-4d97-8ad3-14805a956f3b"
      },
      "outputs": [
        {
          "output_type": "stream",
          "name": "stdout",
          "text": [
            "Looking in indexes: https://pypi.org/simple, https://us-python.pkg.dev/colab-wheels/public/simple/\n",
            "Collecting boruta\n",
            "  Downloading Boruta-0.3-py3-none-any.whl (56 kB)\n",
            "\u001b[2K     \u001b[90m━━━━━━━━━━━━━━━━━━━━━━━━━━━━━━━━━━━━━━━━\u001b[0m \u001b[32m56.6/56.6 KB\u001b[0m \u001b[31m8.1 MB/s\u001b[0m eta \u001b[36m0:00:00\u001b[0m\n",
            "\u001b[?25hRequirement already satisfied: scikit-learn>=0.17.1 in /usr/local/lib/python3.9/dist-packages (from boruta) (1.2.2)\n",
            "Requirement already satisfied: numpy>=1.10.4 in /usr/local/lib/python3.9/dist-packages (from boruta) (1.22.4)\n",
            "Requirement already satisfied: scipy>=0.17.0 in /usr/local/lib/python3.9/dist-packages (from boruta) (1.10.1)\n",
            "Requirement already satisfied: threadpoolctl>=2.0.0 in /usr/local/lib/python3.9/dist-packages (from scikit-learn>=0.17.1->boruta) (3.1.0)\n",
            "Requirement already satisfied: joblib>=1.1.1 in /usr/local/lib/python3.9/dist-packages (from scikit-learn>=0.17.1->boruta) (1.1.1)\n",
            "Installing collected packages: boruta\n",
            "Successfully installed boruta-0.3\n"
          ]
        },
        {
          "output_type": "execute_result",
          "data": {
            "text/plain": [
              "['age',\n",
              " 'weight',\n",
              " 'hight_pressure',\n",
              " 'low_pressure',\n",
              " 'cholesterol',\n",
              " 'bmi',\n",
              " 'divergent']"
            ]
          },
          "metadata": {},
          "execution_count": 59
        }
      ],
      "source": [
        "!pip install boruta\n",
        "from boruta import BorutaPy\n",
        "\n",
        "x_boruta = x_train.values\n",
        "y_boruta = y_train.ravel()\n",
        "clf = ExtraTreesClassifier(n_estimators=100)\n",
        "\n",
        "# Defining Boruta\n",
        "boruta = BorutaPy(clf, n_estimators='auto', verbose=0, random_state=42).fit(x_boruta, y_boruta)\n",
        "\n",
        "cols_selected = boruta.support_.tolist()\n",
        "cols_selected_boruta = x_train.iloc[:, cols_selected].columns.to_list()\n",
        "cols_selected_boruta"
      ]
    },
    {
      "cell_type": "markdown",
      "metadata": {
        "id": "touJPRQnkvzc"
      },
      "source": [
        "### 7.5 Features selected"
      ]
    },
    {
      "cell_type": "code",
      "execution_count": 60,
      "metadata": {
        "id": "lurBUTUe4K0_"
      },
      "outputs": [],
      "source": [
        "x_train = x_train[select_features_rfe].copy()\n",
        "x_valid=x_valid[select_features_rfe].copy()"
      ]
    },
    {
      "cell_type": "markdown",
      "metadata": {
        "id": "3yyKGTZhlio5"
      },
      "source": [
        "## 8.0 - Machine learning"
      ]
    },
    {
      "cell_type": "markdown",
      "metadata": {
        "id": "UxsQkpkglio5"
      },
      "source": [
        "### 8.1 - Baseline"
      ]
    },
    {
      "cell_type": "markdown",
      "metadata": {
        "id": "Kxf2CoMTlio5"
      },
      "source": [
        "*The* baseline is the \"status quo\", between **55%** and **65%** of **PRECISION** Score"
      ]
    },
    {
      "cell_type": "markdown",
      "metadata": {
        "id": "niEUGd1Alio5"
      },
      "source": [
        "### 8.2 - Random Forest"
      ]
    },
    {
      "cell_type": "code",
      "execution_count": 61,
      "metadata": {
        "id": "5wMhfqbOlio5",
        "colab": {
          "base_uri": "https://localhost:8080/",
          "height": 150
        },
        "outputId": "6f6a8751-bb14-4860-f715-d2fb044bb6af"
      },
      "outputs": [
        {
          "output_type": "stream",
          "name": "stderr",
          "text": [
            "[Parallel(n_jobs=1)]: Using backend SequentialBackend with 1 concurrent workers.\n",
            "[Parallel(n_jobs=1)]: Done 150 out of 150 | elapsed:    8.0s finished\n",
            "[Parallel(n_jobs=1)]: Using backend SequentialBackend with 1 concurrent workers.\n",
            "[Parallel(n_jobs=1)]: Done 150 out of 150 | elapsed:    0.9s finished\n"
          ]
        },
        {
          "output_type": "execute_result",
          "data": {
            "text/plain": [
              "                 mdl_name  accuracy  precision    recall  F1_score  accuracy_cv  accuracy_cv_std\n",
              "0  RandomForestClassifier  0.707619   0.708071  0.701837   0.70494     0.703565          0.00586"
            ],
            "text/html": [
              "\n",
              "  <div id=\"df-fdd2f8af-e655-4457-b0f1-8b687c7b3598\">\n",
              "    <div class=\"colab-df-container\">\n",
              "      <div>\n",
              "<style scoped>\n",
              "    .dataframe tbody tr th:only-of-type {\n",
              "        vertical-align: middle;\n",
              "    }\n",
              "\n",
              "    .dataframe tbody tr th {\n",
              "        vertical-align: top;\n",
              "    }\n",
              "\n",
              "    .dataframe thead th {\n",
              "        text-align: right;\n",
              "    }\n",
              "</style>\n",
              "<table border=\"1\" class=\"dataframe\">\n",
              "  <thead>\n",
              "    <tr style=\"text-align: right;\">\n",
              "      <th></th>\n",
              "      <th>mdl_name</th>\n",
              "      <th>accuracy</th>\n",
              "      <th>precision</th>\n",
              "      <th>recall</th>\n",
              "      <th>F1_score</th>\n",
              "      <th>accuracy_cv</th>\n",
              "      <th>accuracy_cv_std</th>\n",
              "    </tr>\n",
              "  </thead>\n",
              "  <tbody>\n",
              "    <tr>\n",
              "      <th>0</th>\n",
              "      <td>RandomForestClassifier</td>\n",
              "      <td>0.707619</td>\n",
              "      <td>0.708071</td>\n",
              "      <td>0.701837</td>\n",
              "      <td>0.70494</td>\n",
              "      <td>0.703565</td>\n",
              "      <td>0.00586</td>\n",
              "    </tr>\n",
              "  </tbody>\n",
              "</table>\n",
              "</div>\n",
              "      <button class=\"colab-df-convert\" onclick=\"convertToInteractive('df-fdd2f8af-e655-4457-b0f1-8b687c7b3598')\"\n",
              "              title=\"Convert this dataframe to an interactive table.\"\n",
              "              style=\"display:none;\">\n",
              "        \n",
              "  <svg xmlns=\"http://www.w3.org/2000/svg\" height=\"24px\"viewBox=\"0 0 24 24\"\n",
              "       width=\"24px\">\n",
              "    <path d=\"M0 0h24v24H0V0z\" fill=\"none\"/>\n",
              "    <path d=\"M18.56 5.44l.94 2.06.94-2.06 2.06-.94-2.06-.94-.94-2.06-.94 2.06-2.06.94zm-11 1L8.5 8.5l.94-2.06 2.06-.94-2.06-.94L8.5 2.5l-.94 2.06-2.06.94zm10 10l.94 2.06.94-2.06 2.06-.94-2.06-.94-.94-2.06-.94 2.06-2.06.94z\"/><path d=\"M17.41 7.96l-1.37-1.37c-.4-.4-.92-.59-1.43-.59-.52 0-1.04.2-1.43.59L10.3 9.45l-7.72 7.72c-.78.78-.78 2.05 0 2.83L4 21.41c.39.39.9.59 1.41.59.51 0 1.02-.2 1.41-.59l7.78-7.78 2.81-2.81c.8-.78.8-2.07 0-2.86zM5.41 20L4 18.59l7.72-7.72 1.47 1.35L5.41 20z\"/>\n",
              "  </svg>\n",
              "      </button>\n",
              "      \n",
              "  <style>\n",
              "    .colab-df-container {\n",
              "      display:flex;\n",
              "      flex-wrap:wrap;\n",
              "      gap: 12px;\n",
              "    }\n",
              "\n",
              "    .colab-df-convert {\n",
              "      background-color: #E8F0FE;\n",
              "      border: none;\n",
              "      border-radius: 50%;\n",
              "      cursor: pointer;\n",
              "      display: none;\n",
              "      fill: #1967D2;\n",
              "      height: 32px;\n",
              "      padding: 0 0 0 0;\n",
              "      width: 32px;\n",
              "    }\n",
              "\n",
              "    .colab-df-convert:hover {\n",
              "      background-color: #E2EBFA;\n",
              "      box-shadow: 0px 1px 2px rgba(60, 64, 67, 0.3), 0px 1px 3px 1px rgba(60, 64, 67, 0.15);\n",
              "      fill: #174EA6;\n",
              "    }\n",
              "\n",
              "    [theme=dark] .colab-df-convert {\n",
              "      background-color: #3B4455;\n",
              "      fill: #D2E3FC;\n",
              "    }\n",
              "\n",
              "    [theme=dark] .colab-df-convert:hover {\n",
              "      background-color: #434B5C;\n",
              "      box-shadow: 0px 1px 3px 1px rgba(0, 0, 0, 0.15);\n",
              "      filter: drop-shadow(0px 1px 2px rgba(0, 0, 0, 0.3));\n",
              "      fill: #FFFFFF;\n",
              "    }\n",
              "  </style>\n",
              "\n",
              "      <script>\n",
              "        const buttonEl =\n",
              "          document.querySelector('#df-fdd2f8af-e655-4457-b0f1-8b687c7b3598 button.colab-df-convert');\n",
              "        buttonEl.style.display =\n",
              "          google.colab.kernel.accessAllowed ? 'block' : 'none';\n",
              "\n",
              "        async function convertToInteractive(key) {\n",
              "          const element = document.querySelector('#df-fdd2f8af-e655-4457-b0f1-8b687c7b3598');\n",
              "          const dataTable =\n",
              "            await google.colab.kernel.invokeFunction('convertToInteractive',\n",
              "                                                     [key], {});\n",
              "          if (!dataTable) return;\n",
              "\n",
              "          const docLinkHtml = 'Like what you see? Visit the ' +\n",
              "            '<a target=\"_blank\" href=https://colab.research.google.com/notebooks/data_table.ipynb>data table notebook</a>'\n",
              "            + ' to learn more about interactive tables.';\n",
              "          element.innerHTML = '';\n",
              "          dataTable['output_type'] = 'display_data';\n",
              "          await google.colab.output.renderOutput(dataTable, element);\n",
              "          const docLink = document.createElement('div');\n",
              "          docLink.innerHTML = docLinkHtml;\n",
              "          element.appendChild(docLink);\n",
              "        }\n",
              "      </script>\n",
              "    </div>\n",
              "  </div>\n",
              "  "
            ]
          },
          "metadata": {},
          "execution_count": 61
        }
      ],
      "source": [
        "mdl = RandomForestClassifier(n_estimators=150, verbose=1,random_state=42).fit(x_train, y_train)\n",
        "mdl_name = 'RandomForestClassifier'\n",
        "y_hat = mdl.predict(x_valid)\n",
        "\n",
        "cv = RepeatedStratifiedKFold(n_splits=10, n_repeats=3, random_state=1)\n",
        "n_scores = cross_val_score(mdl, x_train, y_train, scoring='accuracy', cv=cv, n_jobs=-1)\n",
        "\n",
        "df3_score_rf = metrics_score(y_valid, y_hat, mdl_name)\n",
        "df3_score_rf['accuracy_cv'] = mean(n_scores)\n",
        "df3_score_rf['accuracy_cv_std'] = std(n_scores)\n",
        "df3_score_rf"
      ]
    },
    {
      "cell_type": "markdown",
      "metadata": {
        "id": "KmmHbeJKlio5"
      },
      "source": [
        "### 8.3 - GBDT"
      ]
    },
    {
      "cell_type": "code",
      "execution_count": 62,
      "metadata": {
        "id": "l0NxtCZIlio6",
        "colab": {
          "base_uri": "https://localhost:8080/",
          "height": 81
        },
        "outputId": "ffb9c763-d98f-4579-b32d-34198bc409e8"
      },
      "outputs": [
        {
          "output_type": "execute_result",
          "data": {
            "text/plain": [
              "                     mdl_name  accuracy  precision    recall  F1_score  accuracy_cv  accuracy_cv_std\n",
              "0  GradientBoostingClassifier  0.737587   0.756543  0.696989  0.725546     0.734576         0.006484"
            ],
            "text/html": [
              "\n",
              "  <div id=\"df-fa9661ff-ae46-4fac-8a91-e63512b3d86a\">\n",
              "    <div class=\"colab-df-container\">\n",
              "      <div>\n",
              "<style scoped>\n",
              "    .dataframe tbody tr th:only-of-type {\n",
              "        vertical-align: middle;\n",
              "    }\n",
              "\n",
              "    .dataframe tbody tr th {\n",
              "        vertical-align: top;\n",
              "    }\n",
              "\n",
              "    .dataframe thead th {\n",
              "        text-align: right;\n",
              "    }\n",
              "</style>\n",
              "<table border=\"1\" class=\"dataframe\">\n",
              "  <thead>\n",
              "    <tr style=\"text-align: right;\">\n",
              "      <th></th>\n",
              "      <th>mdl_name</th>\n",
              "      <th>accuracy</th>\n",
              "      <th>precision</th>\n",
              "      <th>recall</th>\n",
              "      <th>F1_score</th>\n",
              "      <th>accuracy_cv</th>\n",
              "      <th>accuracy_cv_std</th>\n",
              "    </tr>\n",
              "  </thead>\n",
              "  <tbody>\n",
              "    <tr>\n",
              "      <th>0</th>\n",
              "      <td>GradientBoostingClassifier</td>\n",
              "      <td>0.737587</td>\n",
              "      <td>0.756543</td>\n",
              "      <td>0.696989</td>\n",
              "      <td>0.725546</td>\n",
              "      <td>0.734576</td>\n",
              "      <td>0.006484</td>\n",
              "    </tr>\n",
              "  </tbody>\n",
              "</table>\n",
              "</div>\n",
              "      <button class=\"colab-df-convert\" onclick=\"convertToInteractive('df-fa9661ff-ae46-4fac-8a91-e63512b3d86a')\"\n",
              "              title=\"Convert this dataframe to an interactive table.\"\n",
              "              style=\"display:none;\">\n",
              "        \n",
              "  <svg xmlns=\"http://www.w3.org/2000/svg\" height=\"24px\"viewBox=\"0 0 24 24\"\n",
              "       width=\"24px\">\n",
              "    <path d=\"M0 0h24v24H0V0z\" fill=\"none\"/>\n",
              "    <path d=\"M18.56 5.44l.94 2.06.94-2.06 2.06-.94-2.06-.94-.94-2.06-.94 2.06-2.06.94zm-11 1L8.5 8.5l.94-2.06 2.06-.94-2.06-.94L8.5 2.5l-.94 2.06-2.06.94zm10 10l.94 2.06.94-2.06 2.06-.94-2.06-.94-.94-2.06-.94 2.06-2.06.94z\"/><path d=\"M17.41 7.96l-1.37-1.37c-.4-.4-.92-.59-1.43-.59-.52 0-1.04.2-1.43.59L10.3 9.45l-7.72 7.72c-.78.78-.78 2.05 0 2.83L4 21.41c.39.39.9.59 1.41.59.51 0 1.02-.2 1.41-.59l7.78-7.78 2.81-2.81c.8-.78.8-2.07 0-2.86zM5.41 20L4 18.59l7.72-7.72 1.47 1.35L5.41 20z\"/>\n",
              "  </svg>\n",
              "      </button>\n",
              "      \n",
              "  <style>\n",
              "    .colab-df-container {\n",
              "      display:flex;\n",
              "      flex-wrap:wrap;\n",
              "      gap: 12px;\n",
              "    }\n",
              "\n",
              "    .colab-df-convert {\n",
              "      background-color: #E8F0FE;\n",
              "      border: none;\n",
              "      border-radius: 50%;\n",
              "      cursor: pointer;\n",
              "      display: none;\n",
              "      fill: #1967D2;\n",
              "      height: 32px;\n",
              "      padding: 0 0 0 0;\n",
              "      width: 32px;\n",
              "    }\n",
              "\n",
              "    .colab-df-convert:hover {\n",
              "      background-color: #E2EBFA;\n",
              "      box-shadow: 0px 1px 2px rgba(60, 64, 67, 0.3), 0px 1px 3px 1px rgba(60, 64, 67, 0.15);\n",
              "      fill: #174EA6;\n",
              "    }\n",
              "\n",
              "    [theme=dark] .colab-df-convert {\n",
              "      background-color: #3B4455;\n",
              "      fill: #D2E3FC;\n",
              "    }\n",
              "\n",
              "    [theme=dark] .colab-df-convert:hover {\n",
              "      background-color: #434B5C;\n",
              "      box-shadow: 0px 1px 3px 1px rgba(0, 0, 0, 0.15);\n",
              "      filter: drop-shadow(0px 1px 2px rgba(0, 0, 0, 0.3));\n",
              "      fill: #FFFFFF;\n",
              "    }\n",
              "  </style>\n",
              "\n",
              "      <script>\n",
              "        const buttonEl =\n",
              "          document.querySelector('#df-fa9661ff-ae46-4fac-8a91-e63512b3d86a button.colab-df-convert');\n",
              "        buttonEl.style.display =\n",
              "          google.colab.kernel.accessAllowed ? 'block' : 'none';\n",
              "\n",
              "        async function convertToInteractive(key) {\n",
              "          const element = document.querySelector('#df-fa9661ff-ae46-4fac-8a91-e63512b3d86a');\n",
              "          const dataTable =\n",
              "            await google.colab.kernel.invokeFunction('convertToInteractive',\n",
              "                                                     [key], {});\n",
              "          if (!dataTable) return;\n",
              "\n",
              "          const docLinkHtml = 'Like what you see? Visit the ' +\n",
              "            '<a target=\"_blank\" href=https://colab.research.google.com/notebooks/data_table.ipynb>data table notebook</a>'\n",
              "            + ' to learn more about interactive tables.';\n",
              "          element.innerHTML = '';\n",
              "          dataTable['output_type'] = 'display_data';\n",
              "          await google.colab.output.renderOutput(dataTable, element);\n",
              "          const docLink = document.createElement('div');\n",
              "          docLink.innerHTML = docLinkHtml;\n",
              "          element.appendChild(docLink);\n",
              "        }\n",
              "      </script>\n",
              "    </div>\n",
              "  </div>\n",
              "  "
            ]
          },
          "metadata": {},
          "execution_count": 62
        }
      ],
      "source": [
        "mdl = GradientBoostingClassifier().fit(x_train, y_train)\n",
        "mdl_name ='GradientBoostingClassifier'\n",
        "y_hat = mdl.predict(x_valid)\n",
        "\n",
        "cv = RepeatedStratifiedKFold(n_splits=10, n_repeats=3, random_state=1)\n",
        "n_scores = cross_val_score(mdl, x_train, y_train, scoring='accuracy', cv=cv, n_jobs=-1)\n",
        "\n",
        "df3_score_gbdt = metrics_score(y_valid, y_hat, mdl_name)\n",
        "df3_score_gbdt['accuracy_cv'] = mean(n_scores)\n",
        "df3_score_gbdt['accuracy_cv_std'] = std(n_scores)\n",
        "df3_score_gbdt"
      ]
    },
    {
      "cell_type": "markdown",
      "metadata": {
        "id": "inbf5ncblio6"
      },
      "source": [
        "### 8.4 - Logistic Regression"
      ]
    },
    {
      "cell_type": "code",
      "execution_count": 63,
      "metadata": {
        "id": "ocf6y6Ojlio6",
        "colab": {
          "base_uri": "https://localhost:8080/",
          "height": 81
        },
        "outputId": "fae879c2-f569-488f-fa5d-67c186433e01"
      },
      "outputs": [
        {
          "output_type": "execute_result",
          "data": {
            "text/plain": [
              "             mdl_name  accuracy  precision    recall  F1_score  accuracy_cv  accuracy_cv_std\n",
              "0  LogisticRegression   0.68019   0.709813  0.604491  0.652932       0.6719         0.006371"
            ],
            "text/html": [
              "\n",
              "  <div id=\"df-8664abaa-447e-4244-b863-b2ed57c33fb3\">\n",
              "    <div class=\"colab-df-container\">\n",
              "      <div>\n",
              "<style scoped>\n",
              "    .dataframe tbody tr th:only-of-type {\n",
              "        vertical-align: middle;\n",
              "    }\n",
              "\n",
              "    .dataframe tbody tr th {\n",
              "        vertical-align: top;\n",
              "    }\n",
              "\n",
              "    .dataframe thead th {\n",
              "        text-align: right;\n",
              "    }\n",
              "</style>\n",
              "<table border=\"1\" class=\"dataframe\">\n",
              "  <thead>\n",
              "    <tr style=\"text-align: right;\">\n",
              "      <th></th>\n",
              "      <th>mdl_name</th>\n",
              "      <th>accuracy</th>\n",
              "      <th>precision</th>\n",
              "      <th>recall</th>\n",
              "      <th>F1_score</th>\n",
              "      <th>accuracy_cv</th>\n",
              "      <th>accuracy_cv_std</th>\n",
              "    </tr>\n",
              "  </thead>\n",
              "  <tbody>\n",
              "    <tr>\n",
              "      <th>0</th>\n",
              "      <td>LogisticRegression</td>\n",
              "      <td>0.68019</td>\n",
              "      <td>0.709813</td>\n",
              "      <td>0.604491</td>\n",
              "      <td>0.652932</td>\n",
              "      <td>0.6719</td>\n",
              "      <td>0.006371</td>\n",
              "    </tr>\n",
              "  </tbody>\n",
              "</table>\n",
              "</div>\n",
              "      <button class=\"colab-df-convert\" onclick=\"convertToInteractive('df-8664abaa-447e-4244-b863-b2ed57c33fb3')\"\n",
              "              title=\"Convert this dataframe to an interactive table.\"\n",
              "              style=\"display:none;\">\n",
              "        \n",
              "  <svg xmlns=\"http://www.w3.org/2000/svg\" height=\"24px\"viewBox=\"0 0 24 24\"\n",
              "       width=\"24px\">\n",
              "    <path d=\"M0 0h24v24H0V0z\" fill=\"none\"/>\n",
              "    <path d=\"M18.56 5.44l.94 2.06.94-2.06 2.06-.94-2.06-.94-.94-2.06-.94 2.06-2.06.94zm-11 1L8.5 8.5l.94-2.06 2.06-.94-2.06-.94L8.5 2.5l-.94 2.06-2.06.94zm10 10l.94 2.06.94-2.06 2.06-.94-2.06-.94-.94-2.06-.94 2.06-2.06.94z\"/><path d=\"M17.41 7.96l-1.37-1.37c-.4-.4-.92-.59-1.43-.59-.52 0-1.04.2-1.43.59L10.3 9.45l-7.72 7.72c-.78.78-.78 2.05 0 2.83L4 21.41c.39.39.9.59 1.41.59.51 0 1.02-.2 1.41-.59l7.78-7.78 2.81-2.81c.8-.78.8-2.07 0-2.86zM5.41 20L4 18.59l7.72-7.72 1.47 1.35L5.41 20z\"/>\n",
              "  </svg>\n",
              "      </button>\n",
              "      \n",
              "  <style>\n",
              "    .colab-df-container {\n",
              "      display:flex;\n",
              "      flex-wrap:wrap;\n",
              "      gap: 12px;\n",
              "    }\n",
              "\n",
              "    .colab-df-convert {\n",
              "      background-color: #E8F0FE;\n",
              "      border: none;\n",
              "      border-radius: 50%;\n",
              "      cursor: pointer;\n",
              "      display: none;\n",
              "      fill: #1967D2;\n",
              "      height: 32px;\n",
              "      padding: 0 0 0 0;\n",
              "      width: 32px;\n",
              "    }\n",
              "\n",
              "    .colab-df-convert:hover {\n",
              "      background-color: #E2EBFA;\n",
              "      box-shadow: 0px 1px 2px rgba(60, 64, 67, 0.3), 0px 1px 3px 1px rgba(60, 64, 67, 0.15);\n",
              "      fill: #174EA6;\n",
              "    }\n",
              "\n",
              "    [theme=dark] .colab-df-convert {\n",
              "      background-color: #3B4455;\n",
              "      fill: #D2E3FC;\n",
              "    }\n",
              "\n",
              "    [theme=dark] .colab-df-convert:hover {\n",
              "      background-color: #434B5C;\n",
              "      box-shadow: 0px 1px 3px 1px rgba(0, 0, 0, 0.15);\n",
              "      filter: drop-shadow(0px 1px 2px rgba(0, 0, 0, 0.3));\n",
              "      fill: #FFFFFF;\n",
              "    }\n",
              "  </style>\n",
              "\n",
              "      <script>\n",
              "        const buttonEl =\n",
              "          document.querySelector('#df-8664abaa-447e-4244-b863-b2ed57c33fb3 button.colab-df-convert');\n",
              "        buttonEl.style.display =\n",
              "          google.colab.kernel.accessAllowed ? 'block' : 'none';\n",
              "\n",
              "        async function convertToInteractive(key) {\n",
              "          const element = document.querySelector('#df-8664abaa-447e-4244-b863-b2ed57c33fb3');\n",
              "          const dataTable =\n",
              "            await google.colab.kernel.invokeFunction('convertToInteractive',\n",
              "                                                     [key], {});\n",
              "          if (!dataTable) return;\n",
              "\n",
              "          const docLinkHtml = 'Like what you see? Visit the ' +\n",
              "            '<a target=\"_blank\" href=https://colab.research.google.com/notebooks/data_table.ipynb>data table notebook</a>'\n",
              "            + ' to learn more about interactive tables.';\n",
              "          element.innerHTML = '';\n",
              "          dataTable['output_type'] = 'display_data';\n",
              "          await google.colab.output.renderOutput(dataTable, element);\n",
              "          const docLink = document.createElement('div');\n",
              "          docLink.innerHTML = docLinkHtml;\n",
              "          element.appendChild(docLink);\n",
              "        }\n",
              "      </script>\n",
              "    </div>\n",
              "  </div>\n",
              "  "
            ]
          },
          "metadata": {},
          "execution_count": 63
        }
      ],
      "source": [
        "mdl = LogisticRegression(random_state=42).fit(x_train, y_train)\n",
        "mdl_name = 'LogisticRegression'\n",
        "y_hat = mdl.predict(x_valid)\n",
        "\n",
        "cv = RepeatedStratifiedKFold(n_splits=10, n_repeats=3, random_state=1)\n",
        "n_scores = cross_val_score(mdl, x_train, y_train, scoring='accuracy', cv=cv, n_jobs=-1)\n",
        "\n",
        "df3_score_lr = metrics_score(y_valid, y_hat, mdl_name)\n",
        "df3_score_lr['accuracy_cv'] = mean(n_scores)\n",
        "df3_score_lr['accuracy_cv_std'] = std(n_scores)\n",
        "df3_score_lr"
      ]
    },
    {
      "cell_type": "markdown",
      "metadata": {
        "id": "pokdwoizlio6"
      },
      "source": [
        "### 8.5 - XGBClassifier"
      ]
    },
    {
      "cell_type": "code",
      "execution_count": 64,
      "metadata": {
        "id": "S1JMrKoplio6",
        "colab": {
          "base_uri": "https://localhost:8080/",
          "height": 81
        },
        "outputId": "f233a0dc-d0d2-4d95-e28a-48f2b858c267"
      },
      "outputs": [
        {
          "output_type": "execute_result",
          "data": {
            "text/plain": [
              "        mdl_name  accuracy  precision    recall  F1_score  accuracy_cv  accuracy_cv_std\n",
              "0  XGBClassifier  0.731175   0.752098  0.685889   0.71747     0.729224         0.006373"
            ],
            "text/html": [
              "\n",
              "  <div id=\"df-57f73168-1b46-4a61-ae2f-190dac9b228c\">\n",
              "    <div class=\"colab-df-container\">\n",
              "      <div>\n",
              "<style scoped>\n",
              "    .dataframe tbody tr th:only-of-type {\n",
              "        vertical-align: middle;\n",
              "    }\n",
              "\n",
              "    .dataframe tbody tr th {\n",
              "        vertical-align: top;\n",
              "    }\n",
              "\n",
              "    .dataframe thead th {\n",
              "        text-align: right;\n",
              "    }\n",
              "</style>\n",
              "<table border=\"1\" class=\"dataframe\">\n",
              "  <thead>\n",
              "    <tr style=\"text-align: right;\">\n",
              "      <th></th>\n",
              "      <th>mdl_name</th>\n",
              "      <th>accuracy</th>\n",
              "      <th>precision</th>\n",
              "      <th>recall</th>\n",
              "      <th>F1_score</th>\n",
              "      <th>accuracy_cv</th>\n",
              "      <th>accuracy_cv_std</th>\n",
              "    </tr>\n",
              "  </thead>\n",
              "  <tbody>\n",
              "    <tr>\n",
              "      <th>0</th>\n",
              "      <td>XGBClassifier</td>\n",
              "      <td>0.731175</td>\n",
              "      <td>0.752098</td>\n",
              "      <td>0.685889</td>\n",
              "      <td>0.71747</td>\n",
              "      <td>0.729224</td>\n",
              "      <td>0.006373</td>\n",
              "    </tr>\n",
              "  </tbody>\n",
              "</table>\n",
              "</div>\n",
              "      <button class=\"colab-df-convert\" onclick=\"convertToInteractive('df-57f73168-1b46-4a61-ae2f-190dac9b228c')\"\n",
              "              title=\"Convert this dataframe to an interactive table.\"\n",
              "              style=\"display:none;\">\n",
              "        \n",
              "  <svg xmlns=\"http://www.w3.org/2000/svg\" height=\"24px\"viewBox=\"0 0 24 24\"\n",
              "       width=\"24px\">\n",
              "    <path d=\"M0 0h24v24H0V0z\" fill=\"none\"/>\n",
              "    <path d=\"M18.56 5.44l.94 2.06.94-2.06 2.06-.94-2.06-.94-.94-2.06-.94 2.06-2.06.94zm-11 1L8.5 8.5l.94-2.06 2.06-.94-2.06-.94L8.5 2.5l-.94 2.06-2.06.94zm10 10l.94 2.06.94-2.06 2.06-.94-2.06-.94-.94-2.06-.94 2.06-2.06.94z\"/><path d=\"M17.41 7.96l-1.37-1.37c-.4-.4-.92-.59-1.43-.59-.52 0-1.04.2-1.43.59L10.3 9.45l-7.72 7.72c-.78.78-.78 2.05 0 2.83L4 21.41c.39.39.9.59 1.41.59.51 0 1.02-.2 1.41-.59l7.78-7.78 2.81-2.81c.8-.78.8-2.07 0-2.86zM5.41 20L4 18.59l7.72-7.72 1.47 1.35L5.41 20z\"/>\n",
              "  </svg>\n",
              "      </button>\n",
              "      \n",
              "  <style>\n",
              "    .colab-df-container {\n",
              "      display:flex;\n",
              "      flex-wrap:wrap;\n",
              "      gap: 12px;\n",
              "    }\n",
              "\n",
              "    .colab-df-convert {\n",
              "      background-color: #E8F0FE;\n",
              "      border: none;\n",
              "      border-radius: 50%;\n",
              "      cursor: pointer;\n",
              "      display: none;\n",
              "      fill: #1967D2;\n",
              "      height: 32px;\n",
              "      padding: 0 0 0 0;\n",
              "      width: 32px;\n",
              "    }\n",
              "\n",
              "    .colab-df-convert:hover {\n",
              "      background-color: #E2EBFA;\n",
              "      box-shadow: 0px 1px 2px rgba(60, 64, 67, 0.3), 0px 1px 3px 1px rgba(60, 64, 67, 0.15);\n",
              "      fill: #174EA6;\n",
              "    }\n",
              "\n",
              "    [theme=dark] .colab-df-convert {\n",
              "      background-color: #3B4455;\n",
              "      fill: #D2E3FC;\n",
              "    }\n",
              "\n",
              "    [theme=dark] .colab-df-convert:hover {\n",
              "      background-color: #434B5C;\n",
              "      box-shadow: 0px 1px 3px 1px rgba(0, 0, 0, 0.15);\n",
              "      filter: drop-shadow(0px 1px 2px rgba(0, 0, 0, 0.3));\n",
              "      fill: #FFFFFF;\n",
              "    }\n",
              "  </style>\n",
              "\n",
              "      <script>\n",
              "        const buttonEl =\n",
              "          document.querySelector('#df-57f73168-1b46-4a61-ae2f-190dac9b228c button.colab-df-convert');\n",
              "        buttonEl.style.display =\n",
              "          google.colab.kernel.accessAllowed ? 'block' : 'none';\n",
              "\n",
              "        async function convertToInteractive(key) {\n",
              "          const element = document.querySelector('#df-57f73168-1b46-4a61-ae2f-190dac9b228c');\n",
              "          const dataTable =\n",
              "            await google.colab.kernel.invokeFunction('convertToInteractive',\n",
              "                                                     [key], {});\n",
              "          if (!dataTable) return;\n",
              "\n",
              "          const docLinkHtml = 'Like what you see? Visit the ' +\n",
              "            '<a target=\"_blank\" href=https://colab.research.google.com/notebooks/data_table.ipynb>data table notebook</a>'\n",
              "            + ' to learn more about interactive tables.';\n",
              "          element.innerHTML = '';\n",
              "          dataTable['output_type'] = 'display_data';\n",
              "          await google.colab.output.renderOutput(dataTable, element);\n",
              "          const docLink = document.createElement('div');\n",
              "          docLink.innerHTML = docLinkHtml;\n",
              "          element.appendChild(docLink);\n",
              "        }\n",
              "      </script>\n",
              "    </div>\n",
              "  </div>\n",
              "  "
            ]
          },
          "metadata": {},
          "execution_count": 64
        }
      ],
      "source": [
        "mdl = XGBClassifier().fit(x_train, y_train)\n",
        "mdl_name = 'XGBClassifier'\n",
        "\n",
        "y_hat = mdl.predict(x_valid)\n",
        "\n",
        "cv = RepeatedStratifiedKFold(n_splits=10, n_repeats=3, random_state=1)\n",
        "n_scores = cross_val_score(mdl, x_train, y_train, scoring='accuracy', cv=cv, n_jobs=-1)\n",
        "\n",
        "df3_score_xgbc = metrics_score(y_valid, y_hat, mdl_name)\n",
        "df3_score_xgbc['accuracy_cv'] = mean(n_scores)\n",
        "df3_score_xgbc['accuracy_cv_std'] = std(n_scores)\n",
        "df3_score_xgbc"
      ]
    },
    {
      "cell_type": "markdown",
      "metadata": {
        "id": "S5C5-wXRlio6"
      },
      "source": [
        "### 8.6 - KNClassifier"
      ]
    },
    {
      "cell_type": "code",
      "execution_count": 65,
      "metadata": {
        "id": "3lporNzwlio6",
        "colab": {
          "base_uri": "https://localhost:8080/",
          "height": 81
        },
        "outputId": "ec7bc1f6-da0a-40ad-c48a-4d364be5fbbb"
      },
      "outputs": [
        {
          "output_type": "execute_result",
          "data": {
            "text/plain": [
              "               mdl_name  accuracy  precision    recall  F1_score  accuracy_cv  accuracy_cv_std\n",
              "0  KNeighborsClassifier  0.731175   0.752098  0.685889   0.71747     0.656308         0.005905"
            ],
            "text/html": [
              "\n",
              "  <div id=\"df-d6480bd7-2e87-4c28-993b-db2fb2d98bfb\">\n",
              "    <div class=\"colab-df-container\">\n",
              "      <div>\n",
              "<style scoped>\n",
              "    .dataframe tbody tr th:only-of-type {\n",
              "        vertical-align: middle;\n",
              "    }\n",
              "\n",
              "    .dataframe tbody tr th {\n",
              "        vertical-align: top;\n",
              "    }\n",
              "\n",
              "    .dataframe thead th {\n",
              "        text-align: right;\n",
              "    }\n",
              "</style>\n",
              "<table border=\"1\" class=\"dataframe\">\n",
              "  <thead>\n",
              "    <tr style=\"text-align: right;\">\n",
              "      <th></th>\n",
              "      <th>mdl_name</th>\n",
              "      <th>accuracy</th>\n",
              "      <th>precision</th>\n",
              "      <th>recall</th>\n",
              "      <th>F1_score</th>\n",
              "      <th>accuracy_cv</th>\n",
              "      <th>accuracy_cv_std</th>\n",
              "    </tr>\n",
              "  </thead>\n",
              "  <tbody>\n",
              "    <tr>\n",
              "      <th>0</th>\n",
              "      <td>KNeighborsClassifier</td>\n",
              "      <td>0.731175</td>\n",
              "      <td>0.752098</td>\n",
              "      <td>0.685889</td>\n",
              "      <td>0.71747</td>\n",
              "      <td>0.656308</td>\n",
              "      <td>0.005905</td>\n",
              "    </tr>\n",
              "  </tbody>\n",
              "</table>\n",
              "</div>\n",
              "      <button class=\"colab-df-convert\" onclick=\"convertToInteractive('df-d6480bd7-2e87-4c28-993b-db2fb2d98bfb')\"\n",
              "              title=\"Convert this dataframe to an interactive table.\"\n",
              "              style=\"display:none;\">\n",
              "        \n",
              "  <svg xmlns=\"http://www.w3.org/2000/svg\" height=\"24px\"viewBox=\"0 0 24 24\"\n",
              "       width=\"24px\">\n",
              "    <path d=\"M0 0h24v24H0V0z\" fill=\"none\"/>\n",
              "    <path d=\"M18.56 5.44l.94 2.06.94-2.06 2.06-.94-2.06-.94-.94-2.06-.94 2.06-2.06.94zm-11 1L8.5 8.5l.94-2.06 2.06-.94-2.06-.94L8.5 2.5l-.94 2.06-2.06.94zm10 10l.94 2.06.94-2.06 2.06-.94-2.06-.94-.94-2.06-.94 2.06-2.06.94z\"/><path d=\"M17.41 7.96l-1.37-1.37c-.4-.4-.92-.59-1.43-.59-.52 0-1.04.2-1.43.59L10.3 9.45l-7.72 7.72c-.78.78-.78 2.05 0 2.83L4 21.41c.39.39.9.59 1.41.59.51 0 1.02-.2 1.41-.59l7.78-7.78 2.81-2.81c.8-.78.8-2.07 0-2.86zM5.41 20L4 18.59l7.72-7.72 1.47 1.35L5.41 20z\"/>\n",
              "  </svg>\n",
              "      </button>\n",
              "      \n",
              "  <style>\n",
              "    .colab-df-container {\n",
              "      display:flex;\n",
              "      flex-wrap:wrap;\n",
              "      gap: 12px;\n",
              "    }\n",
              "\n",
              "    .colab-df-convert {\n",
              "      background-color: #E8F0FE;\n",
              "      border: none;\n",
              "      border-radius: 50%;\n",
              "      cursor: pointer;\n",
              "      display: none;\n",
              "      fill: #1967D2;\n",
              "      height: 32px;\n",
              "      padding: 0 0 0 0;\n",
              "      width: 32px;\n",
              "    }\n",
              "\n",
              "    .colab-df-convert:hover {\n",
              "      background-color: #E2EBFA;\n",
              "      box-shadow: 0px 1px 2px rgba(60, 64, 67, 0.3), 0px 1px 3px 1px rgba(60, 64, 67, 0.15);\n",
              "      fill: #174EA6;\n",
              "    }\n",
              "\n",
              "    [theme=dark] .colab-df-convert {\n",
              "      background-color: #3B4455;\n",
              "      fill: #D2E3FC;\n",
              "    }\n",
              "\n",
              "    [theme=dark] .colab-df-convert:hover {\n",
              "      background-color: #434B5C;\n",
              "      box-shadow: 0px 1px 3px 1px rgba(0, 0, 0, 0.15);\n",
              "      filter: drop-shadow(0px 1px 2px rgba(0, 0, 0, 0.3));\n",
              "      fill: #FFFFFF;\n",
              "    }\n",
              "  </style>\n",
              "\n",
              "      <script>\n",
              "        const buttonEl =\n",
              "          document.querySelector('#df-d6480bd7-2e87-4c28-993b-db2fb2d98bfb button.colab-df-convert');\n",
              "        buttonEl.style.display =\n",
              "          google.colab.kernel.accessAllowed ? 'block' : 'none';\n",
              "\n",
              "        async function convertToInteractive(key) {\n",
              "          const element = document.querySelector('#df-d6480bd7-2e87-4c28-993b-db2fb2d98bfb');\n",
              "          const dataTable =\n",
              "            await google.colab.kernel.invokeFunction('convertToInteractive',\n",
              "                                                     [key], {});\n",
              "          if (!dataTable) return;\n",
              "\n",
              "          const docLinkHtml = 'Like what you see? Visit the ' +\n",
              "            '<a target=\"_blank\" href=https://colab.research.google.com/notebooks/data_table.ipynb>data table notebook</a>'\n",
              "            + ' to learn more about interactive tables.';\n",
              "          element.innerHTML = '';\n",
              "          dataTable['output_type'] = 'display_data';\n",
              "          await google.colab.output.renderOutput(dataTable, element);\n",
              "          const docLink = document.createElement('div');\n",
              "          docLink.innerHTML = docLinkHtml;\n",
              "          element.appendChild(docLink);\n",
              "        }\n",
              "      </script>\n",
              "    </div>\n",
              "  </div>\n",
              "  "
            ]
          },
          "metadata": {},
          "execution_count": 65
        }
      ],
      "source": [
        "mdl = KNeighborsClassifier().fit(x_train, y_train)\n",
        "mdl_name = 'KNeighborsClassifier'\n",
        "yhat = mdl.predict(x_valid)\n",
        "\n",
        "cv = RepeatedStratifiedKFold(n_splits=10, n_repeats=3, random_state=1)\n",
        "n_scores = cross_val_score(mdl, x_train, y_train, scoring='accuracy', cv=cv, n_jobs=-1)\n",
        "\n",
        "df3_score_knc = metrics_score(y_valid, y_hat, mdl_name)\n",
        "df3_score_knc['accuracy_cv'] = mean(n_scores)\n",
        "df3_score_knc['accuracy_cv_std'] = std(n_scores)\n",
        "df3_score_knc"
      ]
    },
    {
      "cell_type": "markdown",
      "metadata": {
        "id": "LLutqWSQlio7"
      },
      "source": [
        "### 8.7 - LGBMClassifier"
      ]
    },
    {
      "cell_type": "code",
      "execution_count": 66,
      "metadata": {
        "id": "Diud4a1elio7",
        "colab": {
          "base_uri": "https://localhost:8080/",
          "height": 81
        },
        "outputId": "0aec0dfc-e256-451d-cd43-edb39f302cd5"
      },
      "outputs": [
        {
          "output_type": "execute_result",
          "data": {
            "text/plain": [
              "         mdl_name  accuracy  precision    recall  F1_score  accuracy_cv  accuracy_cv_std\n",
              "0  LGBMClassifier  0.736571   0.756145  0.694693  0.724117     0.734259         0.006405"
            ],
            "text/html": [
              "\n",
              "  <div id=\"df-682aec74-98be-4ad6-b7a5-015defa61246\">\n",
              "    <div class=\"colab-df-container\">\n",
              "      <div>\n",
              "<style scoped>\n",
              "    .dataframe tbody tr th:only-of-type {\n",
              "        vertical-align: middle;\n",
              "    }\n",
              "\n",
              "    .dataframe tbody tr th {\n",
              "        vertical-align: top;\n",
              "    }\n",
              "\n",
              "    .dataframe thead th {\n",
              "        text-align: right;\n",
              "    }\n",
              "</style>\n",
              "<table border=\"1\" class=\"dataframe\">\n",
              "  <thead>\n",
              "    <tr style=\"text-align: right;\">\n",
              "      <th></th>\n",
              "      <th>mdl_name</th>\n",
              "      <th>accuracy</th>\n",
              "      <th>precision</th>\n",
              "      <th>recall</th>\n",
              "      <th>F1_score</th>\n",
              "      <th>accuracy_cv</th>\n",
              "      <th>accuracy_cv_std</th>\n",
              "    </tr>\n",
              "  </thead>\n",
              "  <tbody>\n",
              "    <tr>\n",
              "      <th>0</th>\n",
              "      <td>LGBMClassifier</td>\n",
              "      <td>0.736571</td>\n",
              "      <td>0.756145</td>\n",
              "      <td>0.694693</td>\n",
              "      <td>0.724117</td>\n",
              "      <td>0.734259</td>\n",
              "      <td>0.006405</td>\n",
              "    </tr>\n",
              "  </tbody>\n",
              "</table>\n",
              "</div>\n",
              "      <button class=\"colab-df-convert\" onclick=\"convertToInteractive('df-682aec74-98be-4ad6-b7a5-015defa61246')\"\n",
              "              title=\"Convert this dataframe to an interactive table.\"\n",
              "              style=\"display:none;\">\n",
              "        \n",
              "  <svg xmlns=\"http://www.w3.org/2000/svg\" height=\"24px\"viewBox=\"0 0 24 24\"\n",
              "       width=\"24px\">\n",
              "    <path d=\"M0 0h24v24H0V0z\" fill=\"none\"/>\n",
              "    <path d=\"M18.56 5.44l.94 2.06.94-2.06 2.06-.94-2.06-.94-.94-2.06-.94 2.06-2.06.94zm-11 1L8.5 8.5l.94-2.06 2.06-.94-2.06-.94L8.5 2.5l-.94 2.06-2.06.94zm10 10l.94 2.06.94-2.06 2.06-.94-2.06-.94-.94-2.06-.94 2.06-2.06.94z\"/><path d=\"M17.41 7.96l-1.37-1.37c-.4-.4-.92-.59-1.43-.59-.52 0-1.04.2-1.43.59L10.3 9.45l-7.72 7.72c-.78.78-.78 2.05 0 2.83L4 21.41c.39.39.9.59 1.41.59.51 0 1.02-.2 1.41-.59l7.78-7.78 2.81-2.81c.8-.78.8-2.07 0-2.86zM5.41 20L4 18.59l7.72-7.72 1.47 1.35L5.41 20z\"/>\n",
              "  </svg>\n",
              "      </button>\n",
              "      \n",
              "  <style>\n",
              "    .colab-df-container {\n",
              "      display:flex;\n",
              "      flex-wrap:wrap;\n",
              "      gap: 12px;\n",
              "    }\n",
              "\n",
              "    .colab-df-convert {\n",
              "      background-color: #E8F0FE;\n",
              "      border: none;\n",
              "      border-radius: 50%;\n",
              "      cursor: pointer;\n",
              "      display: none;\n",
              "      fill: #1967D2;\n",
              "      height: 32px;\n",
              "      padding: 0 0 0 0;\n",
              "      width: 32px;\n",
              "    }\n",
              "\n",
              "    .colab-df-convert:hover {\n",
              "      background-color: #E2EBFA;\n",
              "      box-shadow: 0px 1px 2px rgba(60, 64, 67, 0.3), 0px 1px 3px 1px rgba(60, 64, 67, 0.15);\n",
              "      fill: #174EA6;\n",
              "    }\n",
              "\n",
              "    [theme=dark] .colab-df-convert {\n",
              "      background-color: #3B4455;\n",
              "      fill: #D2E3FC;\n",
              "    }\n",
              "\n",
              "    [theme=dark] .colab-df-convert:hover {\n",
              "      background-color: #434B5C;\n",
              "      box-shadow: 0px 1px 3px 1px rgba(0, 0, 0, 0.15);\n",
              "      filter: drop-shadow(0px 1px 2px rgba(0, 0, 0, 0.3));\n",
              "      fill: #FFFFFF;\n",
              "    }\n",
              "  </style>\n",
              "\n",
              "      <script>\n",
              "        const buttonEl =\n",
              "          document.querySelector('#df-682aec74-98be-4ad6-b7a5-015defa61246 button.colab-df-convert');\n",
              "        buttonEl.style.display =\n",
              "          google.colab.kernel.accessAllowed ? 'block' : 'none';\n",
              "\n",
              "        async function convertToInteractive(key) {\n",
              "          const element = document.querySelector('#df-682aec74-98be-4ad6-b7a5-015defa61246');\n",
              "          const dataTable =\n",
              "            await google.colab.kernel.invokeFunction('convertToInteractive',\n",
              "                                                     [key], {});\n",
              "          if (!dataTable) return;\n",
              "\n",
              "          const docLinkHtml = 'Like what you see? Visit the ' +\n",
              "            '<a target=\"_blank\" href=https://colab.research.google.com/notebooks/data_table.ipynb>data table notebook</a>'\n",
              "            + ' to learn more about interactive tables.';\n",
              "          element.innerHTML = '';\n",
              "          dataTable['output_type'] = 'display_data';\n",
              "          await google.colab.output.renderOutput(dataTable, element);\n",
              "          const docLink = document.createElement('div');\n",
              "          docLink.innerHTML = docLinkHtml;\n",
              "          element.appendChild(docLink);\n",
              "        }\n",
              "      </script>\n",
              "    </div>\n",
              "  </div>\n",
              "  "
            ]
          },
          "metadata": {},
          "execution_count": 66
        }
      ],
      "source": [
        "mdl = LGBMClassifier().fit(x_train, y_train)\n",
        "mdl_name = 'LGBMClassifier'\n",
        "y_hat = mdl.predict(x_valid)\n",
        "\n",
        "cv = RepeatedStratifiedKFold(n_splits=10, n_repeats=3, random_state=1)\n",
        "n_scores = cross_val_score(mdl, x_train, y_train, scoring='accuracy', cv=cv, n_jobs=-1)\n",
        "\n",
        "df3_score_lgbmc = metrics_score(y_valid, y_hat, mdl_name)\n",
        "df3_score_lgbmc['accuracy_cv'] = mean(n_scores)\n",
        "df3_score_lgbmc['accuracy_cv_std'] = std(n_scores)\n",
        "df3_score_lgbmc"
      ]
    },
    {
      "cell_type": "markdown",
      "metadata": {
        "id": "5kBwRiIJlio7"
      },
      "source": [
        "## 9.0 - Metrics"
      ]
    },
    {
      "cell_type": "markdown",
      "metadata": {
        "id": "mmibhaZulio7"
      },
      "source": [
        "### 9.1 - Validation"
      ]
    },
    {
      "cell_type": "code",
      "execution_count": 67,
      "metadata": {
        "id": "gXmjLiA6lio7",
        "colab": {
          "base_uri": "https://localhost:8080/",
          "height": 238
        },
        "outputId": "42ac418d-cf59-4a64-b63a-58acc06447b8"
      },
      "outputs": [
        {
          "output_type": "execute_result",
          "data": {
            "text/plain": [
              "<pandas.io.formats.style.Styler at 0x7f0ad69e1f40>"
            ],
            "text/html": [
              "<style type=\"text/css\">\n",
              "#T_53531_row0_col3, #T_53531_row1_col1, #T_53531_row1_col2, #T_53531_row1_col4, #T_53531_row1_col5, #T_53531_row1_col6 {\n",
              "  background-color: yellow;\n",
              "}\n",
              "</style>\n",
              "<table id=\"T_53531\" class=\"dataframe\">\n",
              "  <thead>\n",
              "    <tr>\n",
              "      <th class=\"blank level0\" >&nbsp;</th>\n",
              "      <th id=\"T_53531_level0_col0\" class=\"col_heading level0 col0\" >mdl_name</th>\n",
              "      <th id=\"T_53531_level0_col1\" class=\"col_heading level0 col1\" >accuracy</th>\n",
              "      <th id=\"T_53531_level0_col2\" class=\"col_heading level0 col2\" >precision</th>\n",
              "      <th id=\"T_53531_level0_col3\" class=\"col_heading level0 col3\" >recall</th>\n",
              "      <th id=\"T_53531_level0_col4\" class=\"col_heading level0 col4\" >F1_score</th>\n",
              "      <th id=\"T_53531_level0_col5\" class=\"col_heading level0 col5\" >accuracy_cv</th>\n",
              "      <th id=\"T_53531_level0_col6\" class=\"col_heading level0 col6\" >accuracy_cv_std</th>\n",
              "    </tr>\n",
              "  </thead>\n",
              "  <tbody>\n",
              "    <tr>\n",
              "      <th id=\"T_53531_level0_row0\" class=\"row_heading level0 row0\" >0</th>\n",
              "      <td id=\"T_53531_row0_col0\" class=\"data row0 col0\" >RandomForestClassifier</td>\n",
              "      <td id=\"T_53531_row0_col1\" class=\"data row0 col1\" >0.707619</td>\n",
              "      <td id=\"T_53531_row0_col2\" class=\"data row0 col2\" >0.708071</td>\n",
              "      <td id=\"T_53531_row0_col3\" class=\"data row0 col3\" >0.701837</td>\n",
              "      <td id=\"T_53531_row0_col4\" class=\"data row0 col4\" >0.704940</td>\n",
              "      <td id=\"T_53531_row0_col5\" class=\"data row0 col5\" >0.703565</td>\n",
              "      <td id=\"T_53531_row0_col6\" class=\"data row0 col6\" >0.005860</td>\n",
              "    </tr>\n",
              "    <tr>\n",
              "      <th id=\"T_53531_level0_row1\" class=\"row_heading level0 row1\" >1</th>\n",
              "      <td id=\"T_53531_row1_col0\" class=\"data row1 col0\" >GradientBoostingClassifier</td>\n",
              "      <td id=\"T_53531_row1_col1\" class=\"data row1 col1\" >0.737587</td>\n",
              "      <td id=\"T_53531_row1_col2\" class=\"data row1 col2\" >0.756543</td>\n",
              "      <td id=\"T_53531_row1_col3\" class=\"data row1 col3\" >0.696989</td>\n",
              "      <td id=\"T_53531_row1_col4\" class=\"data row1 col4\" >0.725546</td>\n",
              "      <td id=\"T_53531_row1_col5\" class=\"data row1 col5\" >0.734576</td>\n",
              "      <td id=\"T_53531_row1_col6\" class=\"data row1 col6\" >0.006484</td>\n",
              "    </tr>\n",
              "    <tr>\n",
              "      <th id=\"T_53531_level0_row2\" class=\"row_heading level0 row2\" >2</th>\n",
              "      <td id=\"T_53531_row2_col0\" class=\"data row2 col0\" >LogisticRegression</td>\n",
              "      <td id=\"T_53531_row2_col1\" class=\"data row2 col1\" >0.680190</td>\n",
              "      <td id=\"T_53531_row2_col2\" class=\"data row2 col2\" >0.709813</td>\n",
              "      <td id=\"T_53531_row2_col3\" class=\"data row2 col3\" >0.604491</td>\n",
              "      <td id=\"T_53531_row2_col4\" class=\"data row2 col4\" >0.652932</td>\n",
              "      <td id=\"T_53531_row2_col5\" class=\"data row2 col5\" >0.671900</td>\n",
              "      <td id=\"T_53531_row2_col6\" class=\"data row2 col6\" >0.006371</td>\n",
              "    </tr>\n",
              "    <tr>\n",
              "      <th id=\"T_53531_level0_row3\" class=\"row_heading level0 row3\" >3</th>\n",
              "      <td id=\"T_53531_row3_col0\" class=\"data row3 col0\" >XGBClassifier</td>\n",
              "      <td id=\"T_53531_row3_col1\" class=\"data row3 col1\" >0.731175</td>\n",
              "      <td id=\"T_53531_row3_col2\" class=\"data row3 col2\" >0.752098</td>\n",
              "      <td id=\"T_53531_row3_col3\" class=\"data row3 col3\" >0.685889</td>\n",
              "      <td id=\"T_53531_row3_col4\" class=\"data row3 col4\" >0.717470</td>\n",
              "      <td id=\"T_53531_row3_col5\" class=\"data row3 col5\" >0.729224</td>\n",
              "      <td id=\"T_53531_row3_col6\" class=\"data row3 col6\" >0.006373</td>\n",
              "    </tr>\n",
              "    <tr>\n",
              "      <th id=\"T_53531_level0_row4\" class=\"row_heading level0 row4\" >4</th>\n",
              "      <td id=\"T_53531_row4_col0\" class=\"data row4 col0\" >KNeighborsClassifier</td>\n",
              "      <td id=\"T_53531_row4_col1\" class=\"data row4 col1\" >0.731175</td>\n",
              "      <td id=\"T_53531_row4_col2\" class=\"data row4 col2\" >0.752098</td>\n",
              "      <td id=\"T_53531_row4_col3\" class=\"data row4 col3\" >0.685889</td>\n",
              "      <td id=\"T_53531_row4_col4\" class=\"data row4 col4\" >0.717470</td>\n",
              "      <td id=\"T_53531_row4_col5\" class=\"data row4 col5\" >0.656308</td>\n",
              "      <td id=\"T_53531_row4_col6\" class=\"data row4 col6\" >0.005905</td>\n",
              "    </tr>\n",
              "    <tr>\n",
              "      <th id=\"T_53531_level0_row5\" class=\"row_heading level0 row5\" >5</th>\n",
              "      <td id=\"T_53531_row5_col0\" class=\"data row5 col0\" >LGBMClassifier</td>\n",
              "      <td id=\"T_53531_row5_col1\" class=\"data row5 col1\" >0.736571</td>\n",
              "      <td id=\"T_53531_row5_col2\" class=\"data row5 col2\" >0.756145</td>\n",
              "      <td id=\"T_53531_row5_col3\" class=\"data row5 col3\" >0.694693</td>\n",
              "      <td id=\"T_53531_row5_col4\" class=\"data row5 col4\" >0.724117</td>\n",
              "      <td id=\"T_53531_row5_col5\" class=\"data row5 col5\" >0.734259</td>\n",
              "      <td id=\"T_53531_row5_col6\" class=\"data row5 col6\" >0.006405</td>\n",
              "    </tr>\n",
              "  </tbody>\n",
              "</table>\n"
            ]
          },
          "metadata": {},
          "execution_count": 67
        }
      ],
      "source": [
        "df3_all_scores_sbs = pd.concat([df3_score_rf, df3_score_gbdt, df3_score_lr, df3_score_xgbc, df3_score_knc, df3_score_lgbmc], axis=0).reset_index(drop=True)\n",
        "df3_all_scores_sbs.style.highlight_max(subset = [\"accuracy\",'precision','recall','F1_score','accuracy_cv','accuracy_cv_std'])"
      ]
    },
    {
      "cell_type": "markdown",
      "metadata": {
        "id": "xhmwbfeXlio7"
      },
      "source": [
        "## 10.0 - Hyperparameters (HyperOpt)"
      ]
    },
    {
      "cell_type": "markdown",
      "metadata": {
        "id": "e7j2-dKBlio8"
      },
      "source": [
        "**Gradient Boosting it's better**"
      ]
    },
    {
      "cell_type": "code",
      "execution_count": 68,
      "metadata": {
        "id": "7Kd0JlC9lio7"
      },
      "outputs": [],
      "source": [
        "parameters = {'learning_rate':[0.01, 0.08], \n",
        "    'n_estimators':[100, 150],\n",
        "    'subsample':[0.08, 0.1, 0.2, 0.6, 0.7, 0.8, 0.9, 1.0], \n",
        "    'min_samples_split':[0.3, 0.6, 0.8, 2, 3, 4],\n",
        "    'min_samples_leaf':[1, 2, 3, 4], \n",
        "    'max_depth':[3, 5, 10, 15, 20, 25]}"
      ]
    },
    {
      "cell_type": "code",
      "execution_count": 70,
      "metadata": {
        "id": "0JNpubZPlio7"
      },
      "outputs": [],
      "source": [
        "# #RepeatedStratifiedKFold\n",
        "# MAX_EVALS = 20\n",
        "# df3_hyper = pd.DataFrame(columns=['Mean_accuracy', 'Std_accuracy', 'Parameters'])\n",
        "\n",
        "# for i in range(MAX_EVALS):\n",
        "#     print(f'evals: {i}')\n",
        "    \n",
        "#     hp = {k:sp(v, 1)[0] for k, v in parameters.items()}\n",
        "#     print(f'Hyperparameters: {hp}')\n",
        "#     mdl = GradientBoostingClassifier(\n",
        "#         learning_rate=hp['learning_rate'], n_estimators=hp['n_estimators'],\n",
        "#         subsample=hp['subsample'], min_samples_split=hp['min_samples_split'],\n",
        "#         min_samples_leaf=hp['min_samples_leaf'], max_depth=hp['max_depth'],\n",
        "#         loss='deviance', random_state=42\n",
        "#         ).fit(x_train, y_train)\n",
        "#     print('trained...')\n",
        "    \n",
        "#     cv = RepeatedStratifiedKFold(n_splits=5, n_repeats=3, random_state=1)\n",
        "#     n_scores = cross_val_score(mdl, x_train, y_train, scoring='accuracy', cv=cv, n_jobs=-1)\n",
        "#     print('crossvalidation finished')\n",
        "    \n",
        "#     df3_cv = pd.DataFrame([[mean(n_scores), std(n_scores), hp]], \n",
        "#                         columns=['Mean_accuracy', 'Std_accuracy', 'Parameters'])\n",
        "    \n",
        "#     print(df3_cv)\n",
        "#     df3_hyper = pd.concat([df3_hyper, df3_cv], axis=0)\n",
        "    \n",
        "# df3_hyper"
      ]
    },
    {
      "cell_type": "markdown",
      "metadata": {
        "id": "3ZG0Kokalio7"
      },
      "source": [
        "## 11.0 - Final Model"
      ]
    },
    {
      "cell_type": "code",
      "execution_count": 71,
      "metadata": {
        "id": "m4pEORKuWJzA"
      },
      "outputs": [],
      "source": [
        "learning_rate= 0.08\n",
        "n_estimators= 100\n",
        "subsample= 1.0\n",
        "min_samples_split= 4\n",
        "min_samples_leaf= 4\n",
        "max_depth=3 \n"
      ]
    },
    {
      "cell_type": "code",
      "execution_count": 72,
      "metadata": {
        "id": "X89tEq3Nlio7"
      },
      "outputs": [],
      "source": [
        "final_model = GradientBoostingClassifier(\n",
        "        learning_rate=learning_rate, n_estimators=n_estimators,\n",
        "        subsample=subsample, min_samples_split=min_samples_split,\n",
        "        min_samples_leaf=min_samples_leaf,max_depth=max_depth,\n",
        "        loss='deviance', random_state=42\n",
        "        ).fit(x_train, y_train)\n",
        "\n",
        "\n",
        "pickle.dump(final_model, open(r'C:\\Users\\Utente77\\repos\\cardio_catch_disease_PA001\\model\\model_trained.pkl', 'wb'))\n"
      ]
    },
    {
      "cell_type": "markdown",
      "metadata": {
        "id": "wEFiJRe5lio-"
      },
      "source": [
        "## 12.0 - Business Performance"
      ]
    },
    {
      "cell_type": "code",
      "execution_count": 73,
      "metadata": {
        "id": "TPOLuefglio-"
      },
      "outputs": [],
      "source": [
        "cost_status_quo = 1000                         ## cost of each diagnostic with operators and machines\n",
        "percentual_status_quo = (0.55+0.65)/2\n",
        "revenue_status_quo = int((percentual_status_quo - 0.50)/0.05) * 500\n",
        "result_status_quo = revenue_status_quo - cost_status_quo\n",
        "\n",
        "cost_future = 0\n",
        "standard = 0.006706\n",
        "percentual_future = (0.752+0.765)/2\n",
        "revenue_future = int((percentual_future - 0.50)/0.05) * 500  \n",
        "result_model_future = revenue_future - cost_future   "
      ]
    },
    {
      "cell_type": "code",
      "source": [
        "print(result_status_quo)\n",
        "print(result_model_future)"
      ],
      "metadata": {
        "colab": {
          "base_uri": "https://localhost:8080/"
        },
        "id": "IBrfI6-uges2",
        "outputId": "48fdd69f-6a87-43e0-f63c-9ab2d8eff271"
      },
      "execution_count": 74,
      "outputs": [
        {
          "output_type": "stream",
          "name": "stdout",
          "text": [
            "0\n",
            "2500\n"
          ]
        }
      ]
    },
    {
      "cell_type": "code",
      "execution_count": 135,
      "metadata": {
        "id": "vzVjhra2lio-",
        "colab": {
          "base_uri": "https://localhost:8080/",
          "height": 81
        },
        "outputId": "3a7404a3-5a16-4708-b464-9d5a652f0c7d"
      },
      "outputs": [
        {
          "output_type": "execute_result",
          "data": {
            "text/plain": [
              "   status_quo  result_model\n",
              "0           0          2500"
            ],
            "text/html": [
              "\n",
              "  <div id=\"df-6bc378ca-f2eb-4191-9924-13e9d5b4c094\">\n",
              "    <div class=\"colab-df-container\">\n",
              "      <div>\n",
              "<style scoped>\n",
              "    .dataframe tbody tr th:only-of-type {\n",
              "        vertical-align: middle;\n",
              "    }\n",
              "\n",
              "    .dataframe tbody tr th {\n",
              "        vertical-align: top;\n",
              "    }\n",
              "\n",
              "    .dataframe thead th {\n",
              "        text-align: right;\n",
              "    }\n",
              "</style>\n",
              "<table border=\"1\" class=\"dataframe\">\n",
              "  <thead>\n",
              "    <tr style=\"text-align: right;\">\n",
              "      <th></th>\n",
              "      <th>status_quo</th>\n",
              "      <th>result_model</th>\n",
              "    </tr>\n",
              "  </thead>\n",
              "  <tbody>\n",
              "    <tr>\n",
              "      <th>0</th>\n",
              "      <td>0</td>\n",
              "      <td>2500</td>\n",
              "    </tr>\n",
              "  </tbody>\n",
              "</table>\n",
              "</div>\n",
              "      <button class=\"colab-df-convert\" onclick=\"convertToInteractive('df-6bc378ca-f2eb-4191-9924-13e9d5b4c094')\"\n",
              "              title=\"Convert this dataframe to an interactive table.\"\n",
              "              style=\"display:none;\">\n",
              "        \n",
              "  <svg xmlns=\"http://www.w3.org/2000/svg\" height=\"24px\"viewBox=\"0 0 24 24\"\n",
              "       width=\"24px\">\n",
              "    <path d=\"M0 0h24v24H0V0z\" fill=\"none\"/>\n",
              "    <path d=\"M18.56 5.44l.94 2.06.94-2.06 2.06-.94-2.06-.94-.94-2.06-.94 2.06-2.06.94zm-11 1L8.5 8.5l.94-2.06 2.06-.94-2.06-.94L8.5 2.5l-.94 2.06-2.06.94zm10 10l.94 2.06.94-2.06 2.06-.94-2.06-.94-.94-2.06-.94 2.06-2.06.94z\"/><path d=\"M17.41 7.96l-1.37-1.37c-.4-.4-.92-.59-1.43-.59-.52 0-1.04.2-1.43.59L10.3 9.45l-7.72 7.72c-.78.78-.78 2.05 0 2.83L4 21.41c.39.39.9.59 1.41.59.51 0 1.02-.2 1.41-.59l7.78-7.78 2.81-2.81c.8-.78.8-2.07 0-2.86zM5.41 20L4 18.59l7.72-7.72 1.47 1.35L5.41 20z\"/>\n",
              "  </svg>\n",
              "      </button>\n",
              "      \n",
              "  <style>\n",
              "    .colab-df-container {\n",
              "      display:flex;\n",
              "      flex-wrap:wrap;\n",
              "      gap: 12px;\n",
              "    }\n",
              "\n",
              "    .colab-df-convert {\n",
              "      background-color: #E8F0FE;\n",
              "      border: none;\n",
              "      border-radius: 50%;\n",
              "      cursor: pointer;\n",
              "      display: none;\n",
              "      fill: #1967D2;\n",
              "      height: 32px;\n",
              "      padding: 0 0 0 0;\n",
              "      width: 32px;\n",
              "    }\n",
              "\n",
              "    .colab-df-convert:hover {\n",
              "      background-color: #E2EBFA;\n",
              "      box-shadow: 0px 1px 2px rgba(60, 64, 67, 0.3), 0px 1px 3px 1px rgba(60, 64, 67, 0.15);\n",
              "      fill: #174EA6;\n",
              "    }\n",
              "\n",
              "    [theme=dark] .colab-df-convert {\n",
              "      background-color: #3B4455;\n",
              "      fill: #D2E3FC;\n",
              "    }\n",
              "\n",
              "    [theme=dark] .colab-df-convert:hover {\n",
              "      background-color: #434B5C;\n",
              "      box-shadow: 0px 1px 3px 1px rgba(0, 0, 0, 0.15);\n",
              "      filter: drop-shadow(0px 1px 2px rgba(0, 0, 0, 0.3));\n",
              "      fill: #FFFFFF;\n",
              "    }\n",
              "  </style>\n",
              "\n",
              "      <script>\n",
              "        const buttonEl =\n",
              "          document.querySelector('#df-6bc378ca-f2eb-4191-9924-13e9d5b4c094 button.colab-df-convert');\n",
              "        buttonEl.style.display =\n",
              "          google.colab.kernel.accessAllowed ? 'block' : 'none';\n",
              "\n",
              "        async function convertToInteractive(key) {\n",
              "          const element = document.querySelector('#df-6bc378ca-f2eb-4191-9924-13e9d5b4c094');\n",
              "          const dataTable =\n",
              "            await google.colab.kernel.invokeFunction('convertToInteractive',\n",
              "                                                     [key], {});\n",
              "          if (!dataTable) return;\n",
              "\n",
              "          const docLinkHtml = 'Like what you see? Visit the ' +\n",
              "            '<a target=\"_blank\" href=https://colab.research.google.com/notebooks/data_table.ipynb>data table notebook</a>'\n",
              "            + ' to learn more about interactive tables.';\n",
              "          element.innerHTML = '';\n",
              "          dataTable['output_type'] = 'display_data';\n",
              "          await google.colab.output.renderOutput(dataTable, element);\n",
              "          const docLink = document.createElement('div');\n",
              "          docLink.innerHTML = docLinkHtml;\n",
              "          element.appendChild(docLink);\n",
              "        }\n",
              "      </script>\n",
              "    </div>\n",
              "  </div>\n",
              "  "
            ]
          },
          "metadata": {},
          "execution_count": 135
        }
      ],
      "source": [
        "bp=pd.DataFrame(pd.concat([pd.Series(result_status_quo), pd.Series(result_model_future)])).T\n",
        "bp.columns=['status_quo','result_model']\n",
        "bp"
      ]
    },
    {
      "cell_type": "code",
      "source": [
        "bp.plot(x=None, y=None,kind='bar', table=True,title='Business Performance');"
      ],
      "metadata": {
        "colab": {
          "base_uri": "https://localhost:8080/",
          "height": 802
        },
        "id": "rXrY_RtEg4NF",
        "outputId": "b3018c6f-b21e-43d8-c64a-5eda0ee711cf"
      },
      "execution_count": 136,
      "outputs": [
        {
          "output_type": "display_data",
          "data": {
            "text/plain": [
              "<Figure size 2500x900 with 1 Axes>"
            ],
            "image/png": "[encoded data removed]"
          },
          "metadata": {}
        }
      ]
    },
    {
      "cell_type": "code",
      "source": [
        "# bp.plot.bar(x='status_quo', y='result_model', rot=0);"
      ],
      "metadata": {
        "id": "jHtDijL8u-BO"
      },
      "execution_count": 127,
      "outputs": []
    },
    {
      "cell_type": "markdown",
      "metadata": {
        "id": "Lhk0ipmVlio-"
      },
      "source": [
        "## 13.0 - Deploy"
      ]
    },
    {
      "cell_type": "markdown",
      "metadata": {
        "id": "QvG_lFHNlio-"
      },
      "source": [
        "### 13.1 - Class"
      ]
    },
    {
      "cell_type": "code",
      "execution_count": null,
      "metadata": {
        "id": "nrTKhrwjlio-"
      },
      "outputs": [],
      "source": [
        "import pandas as pd\n",
        "import numpy as np\n",
        "import json\n",
        "import pickle\n",
        "\n",
        "# this file will be a handler \"API\"\n",
        "class Cardio_Catch_Diseases(object):\n",
        "    def __init__(self):\n",
        "        self.home_path              = '/home/python/Documents/Projects/pa001_cardio_catch_diseases/'\n",
        "        self.age_scaling            = pickle.load(open(self.home_path + 'parameters/age_scaling.pkl', 'rb'))\n",
        "        self.bmi_scaling            = pickle.load(open(self.home_path + 'parameters/bmi_scaling.pkl', 'rb'))\n",
        "        self.difference_scaling     = pickle.load(open(self.home_path + 'parameters/difference_scaling.pkl', 'rb'))\n",
        "        self.height_scaling         = pickle.load(open(self.home_path + 'parameters/height_scaling.pkl', 'rb'))\n",
        "        self.hight_pressure_scaling = pickle.load(open(self.home_path + 'parameters/hight_pressure_scaling.pkl', 'rb'))\n",
        "        self.low_pressure_scaling   = pickle.load(open(self.home_path + 'parameters/low_pressure_scaling.pkl', 'rb'))\n",
        "        self.weight_scaling         = pickle.load(open(self.home_path + 'parameters/weight_scaling.pkl', 'rb'))\n",
        "        self.gender_encoder         = pickle.load(open(self.home_path + 'parameters/gender_encoder.pkl', 'rb'))\n",
        "\n",
        "\n",
        "    \n",
        "    def data_cleaning(self, df3):\n",
        "        '''df3: is the input data from user on website'''\n",
        "\n",
        "\n",
        "        # height - change centimeters to meters\n",
        "        df3['height'] = (df3['height'] / 100)\n",
        "\n",
        "        return df3\n",
        "\n",
        "    def feature_engineering(self, df3):\n",
        "        '''Get the dataframe from data cleaning and create a new features'''\n",
        "\n",
        "\n",
        "        # feature engineering\n",
        "        df3['difference'] = df3['hight_pressure'] - df3['low_pressure']\n",
        "        df3['convergent'] = df3['difference'].apply(lambda x: 1 if x <= 30 else 0)\n",
        "        df3['divergent'] = df3['difference'].apply(lambda x: 1 if x >= 60 else 0)\n",
        "        df3['bmi'] = (df3['weight']/(df3['height'] * df3['height']))\n",
        "        df3['bmi_level'] = df3['bmi'].apply(lambda x: \n",
        "                                                      'underweight' if x <= 18.5 else\n",
        "                                                      'normal'      if x >  18.5 and x <= 24.9 else\n",
        "                                                      'overweight'  if x >= 25.0 and x <= 29.9 else\n",
        "                                                      'obesity')\n",
        "        df3['hypertension'] = df3.apply(lambda x: 1 if x[4] >=140 and x[5] >= 90 else 0, axis=1)\n",
        "        df3['hypotension'] = df3.apply(lambda x: 1 if x[4] <=90 and x[5] <= 60 else 0, axis=1)\n",
        "        df3['age_range'] = df3['age'].apply(lambda x: 'age_0_50'    if x <= 50 \n",
        "                                                           else 'age_51_59'   if x >= 51 and x <= 59 \n",
        "                                                           else 'age_60_over' if x >= 60 \n",
        "                                                           else x)\n",
        "\n",
        "        df3['weight_range'] = df3['weight'].apply(\n",
        "            lambda x:   0.50 if x <= 50  else\n",
        "                        0.75 if x >= 51  and x <= 75 else\n",
        "                        1.00 if x >= 76  and x <= 100 else\n",
        "                        1.25 if x >= 101 and x <= 125 else\n",
        "                        1.50 if x >= 126 and x <= 150 else\n",
        "                        1.75 if x >= 151 and x <= 175 else 2.00)\n",
        "\n",
        "        # Data Filtering rows, values or columns\n",
        "        df3 = df3.drop('id', axis=1)\n",
        "\n",
        "        return df3\n",
        "\n",
        "\n",
        "    def data_rescaling(self, df3):\n",
        "        '''\n",
        "        Rescaling data\n",
        "        Return: json file with x_test data to input the prediction\n",
        "        '''\n",
        "\n",
        "\n",
        "        # Transforming data to will be in correct data scaler to input at model\n",
        "        df3['age']            = self.age_scaling.transform(df3[['age']].values)\n",
        "        df3['height']         = self.height_scaling.transform(df3[['height']].values)\n",
        "        df3['weight']         = self.weight_scaling.transform(df3[['weight']].values)\n",
        "        df3['low_pressure']   = self.low_pressure_scaling.transform(df3[['low_pressure']].values)\n",
        "        df3['hight_pressure'] = self.hight_pressure_scaling.transform(df3[['hight_pressure']].values)\n",
        "        df3['difference']     = self.difference_scaling.transform(df3[['difference']].values)\n",
        "        df3['bmi']            = self.bmi_scaling.transform(df3[['bmi']].values)\n",
        "        df3['gender']         = self.gender_encoder.transform(df3[['gender']].values)\n",
        "        df3['age_range']      = df3['age_range'].map(\n",
        "            {'age_0_50':1, 'age_51_59':1, 'age_60_over':3})\n",
        "        df3['bmi_level']      = df3['bmi_level'].map(\n",
        "            {'underweight':1, 'normal':2, 'overweight':3, 'obesity':4})\n",
        "\n",
        "        # Deleting target\n",
        "        x_test = df3.drop('cardio', axis=1).copy()\n",
        "        #data_json = json.dumps(x_test.to_dict(orient='records')) # converto to json\n",
        "\n",
        "        return x_test"
      ]
    },
    {
      "cell_type": "markdown",
      "metadata": {
        "id": "oK5celzflio_"
      },
      "source": [
        "### 13.2 - Input Simulation"
      ]
    },
    {
      "cell_type": "code",
      "execution_count": null,
      "metadata": {
        "id": "R3sCKxRAlio_"
      },
      "outputs": [],
      "source": [
        "import pandas as pd\n",
        "\n",
        "def input_simulation():\n",
        "    # inputs from user\n",
        "    \n",
        "    age = input('age: ')\n",
        "    gender = int(input('gender: '))\n",
        "    height = int(input('height: '))\n",
        "    weight = float(input('weight: '))\n",
        "    ap_hi = int(input('hight_pressure: '))\n",
        "    ap_lo = int(input('low_pressure: '))\n",
        "    cholesterol = int(input('cholesterol (1,2 or 3): '))\n",
        "    gluc = int(input('glucose (1,2 or 3): '))\n",
        "    smoke = int(input('smoker: '))\n",
        "    alco = int(input('alcohol: '))\n",
        "    active = input('active: ')\n",
        "\n",
        "    # replacing columns names\n",
        "    new_col = ['id', 'age', 'gender', 'height', 'weight', 'hight_pressure', 'low_pressure',\n",
        "               'cholesterol', 'glucose', 'smoker', 'alcohol', 'active', 'cardio']\n",
        "\n",
        "    # getting data and converting to dataframe\n",
        "    df3_inputed = [[1, age, gender, height, weight, ap_hi, ap_lo, cholesterol, gluc, smoke, alco, active, 0,]]\n",
        "    df3 = pd.DataFrame(df3_inputed, columns=new_col)\n",
        "\n",
        "    # datatypes transformations\n",
        "    df3['age'] = df3['age'].astype('int64')\n",
        "    df3['gender'] = df3['gender'].astype('int64')\n",
        "    df3['height'] = df3['height'].astype('int64')\n",
        "    df3['weight'] = df3['weight'].astype('float64')\n",
        "    df3['hight_pressure'] = df3['hight_pressure'].astype('int64') \n",
        "    df3['low_pressure'] = df3['low_pressure'].astype('int64') \n",
        "    df3['cholesterol'] = df3['cholesterol'].astype('int64')\n",
        "    df3['glucose'] = df3['glucose'].astype('int64')\n",
        "    df3['smoker'] = df3['smoker'].astype('int64') \n",
        "    df3['alcohol'] = df3['alcohol'].astype('int64')\n",
        "    df3['active'] = df3['active'].astype('int64')\n",
        "    df3['cardio'] = df3['cardio'].astype('int64')\n",
        "\n",
        "    return json.dumps(df3.to_dict(orient='records'))"
      ]
    },
    {
      "cell_type": "markdown",
      "metadata": {
        "id": "k60hZXS9lio_"
      },
      "source": [
        "### 13.3 - API / Handler"
      ]
    },
    {
      "cell_type": "code",
      "execution_count": null,
      "metadata": {
        "id": "u_ciQsJXlio_"
      },
      "outputs": [],
      "source": [
        "import pickle\n",
        "import pandas as pd\n",
        "import numpy as np\n",
        "from flask import Flask, request, Response\n",
        "from ccd.ccd import Cardio_Catch_Diseases\n",
        "import json\n",
        "\n",
        "# loading model trained from pickle file\n",
        "with open('/home/python/Documents/Projects/pa001_cardio_catch_diseases/model/model_trained.pkl', 'rb') as file:\n",
        "    model = pickle.load(file)\n",
        "\n",
        "# initialized API\n",
        "app = Flask(__name__)\n",
        "\n",
        "@app.route('/ccd/predict', methods=['POST'])\n",
        "def ccd_predict():\n",
        "    '''\n",
        "    ccd: Cardio Catch Diseases\n",
        "    This function it will be create the API request, where the user will be input the user data that \n",
        "    will used to data_cleaning(), data_engineering(), data_scaler() \n",
        "    this functions will be return the dataframe 'x_est', that will be used to predict\n",
        "    Return: Prediction \"array\"\n",
        "    '''\n",
        "    \n",
        "    test_json = request.get_json()\n",
        "        \n",
        "    if test_json:\n",
        "        if isinstance(test_json, dict): # Unique Example\n",
        "            test_raw = pd.DataFrame(test_json, index=[0])\n",
        "        else: # multiple Example\n",
        "            test_raw = pd.DataFrame(test_json, columns=test_json[0].keys())\n",
        "\n",
        "        # Instantiate CCD class\n",
        "        pipeline = Cardio_Catch_Diseases()\n",
        "        # cleaning data\n",
        "        test_raw_cleaned = pipeline.data_cleaning(test_raw)\n",
        "        # creating derivates to new features\n",
        "        test_raw_features = pipeline.feature_engineering(test_raw_cleaned)        \n",
        "        \n",
        "        # preparing data to model\n",
        "        test_raw_selected = pipeline.data_rescaling(test_raw_features)\n",
        "        \n",
        "        y_hat = model.predict(test_raw_selected)\n",
        "        test_raw['prediction'] = y_hat.copy()\n",
        "        return test_raw.to_json(orient='records')\n",
        "    \n",
        "    else:\n",
        "        return Response( \"{}\", status=200, mimetype='application/json')\n",
        "\n",
        "    \n",
        "if __name__=='__main__':\n",
        "    app.run('0.0.0.0')"
      ]
    },
    {
      "cell_type": "markdown",
      "metadata": {
        "id": "WSd66IA7lio_"
      },
      "source": [
        "### 13.4 - API Request Tester"
      ]
    },
    {
      "cell_type": "code",
      "execution_count": null,
      "metadata": {
        "id": "JMeOEHu2lio_",
        "scrolled": true
      },
      "outputs": [],
      "source": [
        "import requests\n",
        "\n",
        "# Input data user\n",
        "data = input_simulation()\n",
        "\n",
        "# API request\n",
        "url = \"https://ccd-model.herokuapp.com/ccd/predict\"\n",
        "header = {'Content-type': 'application/json'}\n",
        "\n",
        "response_ccd = requests.post(url, data=data, headers=header)\n",
        "print(f'Status Code: {response_ccd.status_code}')\n",
        "\n",
        "df3_response = pd.DataFrame(response_ccd.json(), columns=response_ccd.json()[0].keys())\n",
        "\n",
        "# Loading json to Dataframe\n",
        "df3_new = pd.DataFrame(json.loads(data))\n",
        "\n",
        "# converting to back the original datatype\n",
        "df3_new['age'] = df3_new['age'] * 365\n",
        "\n",
        "# getting prediction\n",
        "df3_new['cardio'] = df3_response['cardio'].copy()\n",
        "\n",
        "# getting current time in seconds since the Epoch.\n",
        "# convert to normal date use time.ctime(time.time())\n",
        "df3_new['id'] = time.time()\n",
        "\n",
        "# Insert into database\n",
        "insert_database_values(df3_new)\n",
        "\n",
        "df3_response"
      ]
    },
    {
      "cell_type": "markdown",
      "metadata": {
        "id": "jFhEQurUlipA"
      },
      "source": [
        "## 14.0 - Dashboard - PowerBI"
      ]
    },
    {
      "cell_type": "code",
      "execution_count": null,
      "metadata": {
        "id": "AVg-XrzIlipA"
      },
      "outputs": [],
      "source": [
        "# Connecting sqlite database\n",
        "import pandas as pd\n",
        "from sqlalchemy import create_engine\n",
        "\n",
        "new_col = ['id', 'age', 'gender', 'height', 'weight', 'hight_pressure', 'low_pressure',\n",
        "           'cholesterol', 'glucose', 'smoker', 'alcohol', 'active', 'cardio']\n",
        "\n",
        "engine = create_engine('sqlite:///Y:\\\\pa001_cardio_catch_diseases\\\\ccd.db', echo=False)\n",
        "df3 = engine.execute('SELECT * FROM patients').fetchall()\n",
        "df3 = pd.DataFrame(df3, columns=new_col)\n",
        "\n",
        "# Data Preparation/transformation\n",
        "\n"
      ]
    }
  ],
  "metadata": {
    "accelerator": "GPU",
    "colab": {
      "provenance": [],
      "toc_visible": true,
      "include_colab_link": true
    },
    "gpuClass": "standard",
    "kernelspec": {
      "display_name": "Python 3",
      "language": "python",
      "name": "python3"
    },
    "language_info": {
      "codemirror_mode": {
        "name": "ipython",
        "version": 3
      },
      "file_extension": ".py",
      "mimetype": "text/x-python",
      "name": "python",
      "nbconvert_exporter": "python",
      "pygments_lexer": "ipython3",
      "version": "3.10.9"
    }
  },
  "nbformat": 4,
  "nbformat_minor": 0
}