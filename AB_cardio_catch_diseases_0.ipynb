{
  "cells": [
    {
      "cell_type": "markdown",
      "metadata": {
        "id": "QP0xYztXliol"
      },
      "source": [
        "![Cardio Image](https://img.freepik.com/free-photo/human-heart-design_1048-1855.jpg?size=626&ext=jpg&ga=GA1.1.110088987.1677679311&semt=ais)\n",
        "<h1>Cardio Catch Diseases </h1>"
      ]
    },
    {
      "cell_type": "markdown",
      "metadata": {
        "heading_collapsed": true,
        "id": "8wS7sSsIliom"
      },
      "source": [
        "## 0.0 - Planning and Business Knowledge"
      ]
    },
    {
      "cell_type": "markdown",
      "metadata": {
        "hidden": true,
        "id": "IqjC1Jq4liom"
      },
      "source": [
        "<h4>0.1. Business Problem.</h4>\n",
        "<p>Cardio Catch Diseases is a company specialized in detecting heart disease in the early stages. Its business model lies in offering an early diagnosis of cardiovascular disease for a certain price.\n",
        "\n",
        "<h4>0.2. Objective</h4>\n",
        "    <li>Growth diagnostic precision and make stable.</li>\n",
        "\n",
        "\n",
        "<h4>0.3. Justification</h4>\n",
        "    <li>Currently, it's a manual diagnostic by humans.</li>\n",
        "    <li>Low Precision, between 55% and 65%.</li>\n",
        "    <li>Hight cost around one thousand (1.000,00) Reals with operators and machines costing.</li>\n",
        "    <li>The revenue is variable accordingly precision from diagnostics, 500 each 5% above than 50% precision.</li>\n",
        "    \n",
        "<h4>0.4. Solution Proposal</h4>\n",
        "    <lu>\n",
        "        <li>Collect data from <a href=\"https://www.kaggle.com/sulianova/cardiovascular-disease-dataset\">Kaggle</a></li>\n",
        "        <li>Build a binary classification with <b>Machine Learning</b> or <b>statistics models</b> solution to diseases prediction.</li>\n",
        "    </lu>\n",
        "    \n",
        "<h4>0.5 Report</h4>\n",
        "    <lu>\n",
        "        <li>What the precision accuracy from the solution?.</li>\n",
        "        <li>How much profit you will get because of that solution?</li>\n",
        "        <li>how reliable is the solution?</li>\n",
        "    </lu>\n",
        "\n",
        "<h4>0.6 Premises</h4>\n",
        "    <lu>\n",
        "        <li>Drop inconsistent data from low pressure .</li>\n",
        "        <li>Drop inconsistent data from high pressure</li>\n",
        "        <li>Drop inconsistent data from height</li>\n",
        "        <li>Drop inconsistent data from weight</li>\n",
        "    </lu>"
      ]
    },
    {
      "cell_type": "markdown",
      "metadata": {
        "heading_collapsed": true,
        "id": "KZGqnGm4lion"
      },
      "source": [
        "## 1.0 - Imports"
      ]
    },
    {
      "cell_type": "markdown",
      "metadata": {
        "heading_collapsed": true,
        "hidden": true,
        "id": "IsAPM2iTlion"
      },
      "source": [
        "### 1.1 - Libraries"
      ]
    },
    {
      "cell_type": "code",
      "execution_count": 159,
      "metadata": {
        "ExecuteTime": {
          "end_time": "2020-11-18T11:46:01.656774Z",
          "start_time": "2020-11-18T11:45:55.603705Z"
        },
        "hidden": true,
        "id": "ZtocpK8flion"
      },
      "outputs": [],
      "source": [
        "import pandas as pd\n",
        "import numpy as np\n",
        "# #import inflection \n",
        "# import datetime\n",
        "# from random import sample as sp\n",
        "from   pandas_profiling      import ProfileReport #conda install -c conda-forge ydata-profiling\n",
        "\n",
        "\n",
        "# # Database CRUD\n",
        "from sqlalchemy import create_engine\n",
        "import sqlite3\n",
        "\n",
        "# # Data Transformation\n",
        "from sklearn.preprocessing import StandardScaler, MinMaxScaler, RobustScaler, LabelEncoder\n",
        "\n",
        "# # visualization\n",
        "import seaborn as sns\n",
        "import matplotlib.pyplot as plt\n",
        "from sklearn.metrics import confusion_matrix\n",
        "from scipy.stats import pointbiserialr\n",
        "\n",
        "\n",
        "# # Machine Learning, selection and split\n",
        "from sklearn.model_selection import train_test_split\n",
        "# from sklearn.ensemble import RandomForestClassifier, GradientBoostingClassifier\n",
        "# from sklearn.metrics import accuracy_score, recall_score, precision_score\n",
        "import pickle\n",
        "# #from boruta import BorutaPy\n",
        "# from sklearn.linear_model import LogisticRegression \n",
        "# from xgboost import XGBClassifier\n",
        "# from sklearn.neighbors import KNeighborsClassifier\n",
        "# #from lightgbm import LGBMClassifier\n",
        "# from sklearn.model_selection import RepeatedStratifiedKFold, cross_val_score\n",
        "\n",
        "\n",
        "# #Configurations\n",
        "from IPython.display import Image\n",
        "from IPython.display import HTML\n",
        "import warnings\n"
      ]
    },
    {
      "cell_type": "markdown",
      "metadata": {
        "heading_collapsed": true,
        "hidden": true,
        "id": "ni-RHnuzlioo"
      },
      "source": [
        "### 1.2 - Funcions"
      ]
    },
    {
      "cell_type": "code",
      "execution_count": 160,
      "metadata": {
        "ExecuteTime": {
          "end_time": "2020-11-18T11:46:01.734870Z",
          "start_time": "2020-11-18T11:46:01.660080Z"
        },
        "code_folding": [],
        "hidden": true,
        "id": "t39wFeg-lioo",
        "outputId": "0b96459e-c386-4cf4-d8ce-c481d6d6bd8c",
        "colab": {
          "base_uri": "https://localhost:8080/",
          "height": 34
        }
      },
      "outputs": [
        {
          "output_type": "stream",
          "name": "stdout",
          "text": [
            "Populating the interactive namespace from numpy and matplotlib\n"
          ]
        },
        {
          "output_type": "display_data",
          "data": {
            "text/plain": [
              "<IPython.core.display.HTML object>"
            ],
            "text/html": [
              "<style>.container{width:100% !important; }</style>"
            ]
          },
          "metadata": {}
        }
      ],
      "source": [
        "\n",
        "\n",
        "\n",
        "\n",
        "# # Calculating Scores to classification \n",
        "# def metrics_score(y_valid, y_hat, mdl_name:str, transform_before_split:bool, obs:str):\n",
        "#     '''\n",
        "#         y_hat:    is the prediction array\n",
        "#         y_valid:  is the true targe array or series\n",
        "#         mdl_name: is the name of machine learning model\n",
        "#         transform_before_split: If True it was transformation before of Split else False \n",
        "#         obs:      is to any observation that you want to write\n",
        "        \n",
        "#         positive_true  = (y_hat[y_hat == y_valid] == 1).sum()\n",
        "#         positive_false = (y_hat[y_hat != y_valid] == 1).sum()\n",
        "#         negative_false = (y_hat[y_hat != y_valid] == 0).sum()\n",
        "        \n",
        "#         Accuracy formula  -->   accuracy   = np.mean(y_hat == y_valid)\n",
        "#         Precision formula -->   precision  = positive_true/(positive_true+positive_false)      \n",
        "#         Recall formula    -->   recall     = positive_true/(positive_true+negative_false)\n",
        "        \n",
        "#         Return -->> mdl_name, accuracy, precision, recall, transform_before_split, datetime.date.today(), obs\n",
        "        \n",
        "#         See more: https://medium.com/@vitorborbarodrigues/m%C3%A9tricas-de-avalia%C3%A7%C3%A3o-\n",
        "#         acur%C3%A1cia-precis%C3%A3o-recall-quais-as-diferen%C3%A7as-c8f05e0a513c\n",
        "        \n",
        "#         By: Diego Poleto Mayer\n",
        "#         Email: diegopmayer@gmail.com\n",
        "    \n",
        "#     '''\n",
        "#     accuracy = accuracy_score(y_valid, y_hat)\n",
        "#     precision = precision_score(y_valid, y_hat)\n",
        "#     recall = recall_score(y_valid, y_hat)\n",
        "    \n",
        "#     return pd.DataFrame([[mdl_name, accuracy, precision, recall, \n",
        "#                         transform_before_split, datetime.date.today(), obs]], \n",
        "#                         columns=['mdl_name', 'accuracy', 'precision', 'recall', \n",
        "#                                  'split_before_scaling', 'date', 'obs'])\n",
        "    \n",
        "#     #return mdl_name, accuracy, precision, recall, transform_before_split, datetime.date.today(), obs\n",
        "\n",
        "\n",
        "# # Calculating phi to correlation between two dichotomous variables\n",
        "# def phi_correlation(col1, col2):\n",
        "\n",
        "# \t'''\n",
        "\n",
        "#         The phi coefficient it's to correlation between dichotomous vs dichotomous. \n",
        "#         col1, col2 must be dichotomous variables.\n",
        "\n",
        "#     '''\n",
        "\n",
        "# \ttable = pd.crosstab(col1, col2, margins=True)\n",
        "\n",
        "# \ta = table.iloc[0, 0]\n",
        "# \tb = table.iloc[0, 1]\n",
        "# \tc = table.iloc[1, 0]\n",
        "# \td = table.iloc[1, 1]\n",
        "# \tr_1 = table.iloc[0, 2]\n",
        "# \tr_2 = table.iloc[1, 2]\n",
        "# \tc_1 = table.iloc[2, 0]\n",
        "# \tc_2 = table.iloc[2, 1]\n",
        "\n",
        "# \tphi = round((a * d - b * c) / math.sqrt(r_1 * r_2 * c_1 * c_2), 2)\n",
        "\n",
        "# \treturn sns.heatmap(pd.DataFrame({col1.name:phi}, index=[col2.name]), annot=True)\n",
        "\n",
        "\n",
        "# Jupyter configuring to better experience\n",
        "def jupyter_settings():\n",
        "    %matplotlib inline\n",
        "    %pylab inline\n",
        "        \n",
        "    plt.style.use('bmh')\n",
        "    plt.rcParams['figure.figsize'] = [25,9]\n",
        "    plt.rcParams['font.size'] = 24\n",
        "    \n",
        "    display(HTML('<style>.container{width:100% !important; }</style>'))\n",
        "    pd.options.display.max_columns = None\n",
        "    pd.options.display.max_rows = None\n",
        "    pd.set_option('display.expand_frame_repr', False)\n",
        "    \n",
        "    sns.set()\n",
        "jupyter_settings()  \n",
        "\n",
        "# To hide warning messages\n",
        "warnings.filterwarnings('ignore')\n"
      ]
    },
    {
      "cell_type": "markdown",
      "metadata": {
        "heading_collapsed": true,
        "hidden": true,
        "id": "vt0dWy1Lliop"
      },
      "source": [
        "### 1.3 - Data Collect - CSV"
      ]
    },
    {
      "cell_type": "code",
      "execution_count": 161,
      "metadata": {
        "ExecuteTime": {
          "end_time": "2020-11-09T13:45:27.146940Z",
          "start_time": "2020-11-09T13:45:26.970324Z"
        },
        "hidden": true,
        "id": "Y0seyO50liop",
        "outputId": "b2cc1bce-1f55-458c-84e8-eac8e2102c16",
        "colab": {
          "base_uri": "https://localhost:8080/",
          "height": 206
        }
      },
      "outputs": [
        {
          "output_type": "execute_result",
          "data": {
            "text/plain": [
              "          id    age  gender  height  weight  ap_hi  ap_lo  cholesterol  gluc  smoke  alco  active  cardio\n",
              "66741  95300  22054       1     165    90.0    140     90            1     2      0     0       0       1\n",
              "12117  17305  17658       1     152    78.0    140     90            2     1      0     0       1       1\n",
              "12840  18313  17425       2     165    65.0    120     90            3     3      0     0       0       1\n",
              "4368    6172  23302       1     163    82.0    140     90            3     1      0     0       1       1\n",
              "33674  48100  20545       1     156    52.0    120     80            3     3      0     0       1       0"
            ],
            "text/html": [
              "\n",
              "  <div id=\"df-24a02101-214a-4aa3-92eb-b50ad497ba7a\">\n",
              "    <div class=\"colab-df-container\">\n",
              "      <div>\n",
              "<style scoped>\n",
              "    .dataframe tbody tr th:only-of-type {\n",
              "        vertical-align: middle;\n",
              "    }\n",
              "\n",
              "    .dataframe tbody tr th {\n",
              "        vertical-align: top;\n",
              "    }\n",
              "\n",
              "    .dataframe thead th {\n",
              "        text-align: right;\n",
              "    }\n",
              "</style>\n",
              "<table border=\"1\" class=\"dataframe\">\n",
              "  <thead>\n",
              "    <tr style=\"text-align: right;\">\n",
              "      <th></th>\n",
              "      <th>id</th>\n",
              "      <th>age</th>\n",
              "      <th>gender</th>\n",
              "      <th>height</th>\n",
              "      <th>weight</th>\n",
              "      <th>ap_hi</th>\n",
              "      <th>ap_lo</th>\n",
              "      <th>cholesterol</th>\n",
              "      <th>gluc</th>\n",
              "      <th>smoke</th>\n",
              "      <th>alco</th>\n",
              "      <th>active</th>\n",
              "      <th>cardio</th>\n",
              "    </tr>\n",
              "  </thead>\n",
              "  <tbody>\n",
              "    <tr>\n",
              "      <th>66741</th>\n",
              "      <td>95300</td>\n",
              "      <td>22054</td>\n",
              "      <td>1</td>\n",
              "      <td>165</td>\n",
              "      <td>90.0</td>\n",
              "      <td>140</td>\n",
              "      <td>90</td>\n",
              "      <td>1</td>\n",
              "      <td>2</td>\n",
              "      <td>0</td>\n",
              "      <td>0</td>\n",
              "      <td>0</td>\n",
              "      <td>1</td>\n",
              "    </tr>\n",
              "    <tr>\n",
              "      <th>12117</th>\n",
              "      <td>17305</td>\n",
              "      <td>17658</td>\n",
              "      <td>1</td>\n",
              "      <td>152</td>\n",
              "      <td>78.0</td>\n",
              "      <td>140</td>\n",
              "      <td>90</td>\n",
              "      <td>2</td>\n",
              "      <td>1</td>\n",
              "      <td>0</td>\n",
              "      <td>0</td>\n",
              "      <td>1</td>\n",
              "      <td>1</td>\n",
              "    </tr>\n",
              "    <tr>\n",
              "      <th>12840</th>\n",
              "      <td>18313</td>\n",
              "      <td>17425</td>\n",
              "      <td>2</td>\n",
              "      <td>165</td>\n",
              "      <td>65.0</td>\n",
              "      <td>120</td>\n",
              "      <td>90</td>\n",
              "      <td>3</td>\n",
              "      <td>3</td>\n",
              "      <td>0</td>\n",
              "      <td>0</td>\n",
              "      <td>0</td>\n",
              "      <td>1</td>\n",
              "    </tr>\n",
              "    <tr>\n",
              "      <th>4368</th>\n",
              "      <td>6172</td>\n",
              "      <td>23302</td>\n",
              "      <td>1</td>\n",
              "      <td>163</td>\n",
              "      <td>82.0</td>\n",
              "      <td>140</td>\n",
              "      <td>90</td>\n",
              "      <td>3</td>\n",
              "      <td>1</td>\n",
              "      <td>0</td>\n",
              "      <td>0</td>\n",
              "      <td>1</td>\n",
              "      <td>1</td>\n",
              "    </tr>\n",
              "    <tr>\n",
              "      <th>33674</th>\n",
              "      <td>48100</td>\n",
              "      <td>20545</td>\n",
              "      <td>1</td>\n",
              "      <td>156</td>\n",
              "      <td>52.0</td>\n",
              "      <td>120</td>\n",
              "      <td>80</td>\n",
              "      <td>3</td>\n",
              "      <td>3</td>\n",
              "      <td>0</td>\n",
              "      <td>0</td>\n",
              "      <td>1</td>\n",
              "      <td>0</td>\n",
              "    </tr>\n",
              "  </tbody>\n",
              "</table>\n",
              "</div>\n",
              "      <button class=\"colab-df-convert\" onclick=\"convertToInteractive('df-24a02101-214a-4aa3-92eb-b50ad497ba7a')\"\n",
              "              title=\"Convert this dataframe to an interactive table.\"\n",
              "              style=\"display:none;\">\n",
              "        \n",
              "  <svg xmlns=\"http://www.w3.org/2000/svg\" height=\"24px\"viewBox=\"0 0 24 24\"\n",
              "       width=\"24px\">\n",
              "    <path d=\"M0 0h24v24H0V0z\" fill=\"none\"/>\n",
              "    <path d=\"M18.56 5.44l.94 2.06.94-2.06 2.06-.94-2.06-.94-.94-2.06-.94 2.06-2.06.94zm-11 1L8.5 8.5l.94-2.06 2.06-.94-2.06-.94L8.5 2.5l-.94 2.06-2.06.94zm10 10l.94 2.06.94-2.06 2.06-.94-2.06-.94-.94-2.06-.94 2.06-2.06.94z\"/><path d=\"M17.41 7.96l-1.37-1.37c-.4-.4-.92-.59-1.43-.59-.52 0-1.04.2-1.43.59L10.3 9.45l-7.72 7.72c-.78.78-.78 2.05 0 2.83L4 21.41c.39.39.9.59 1.41.59.51 0 1.02-.2 1.41-.59l7.78-7.78 2.81-2.81c.8-.78.8-2.07 0-2.86zM5.41 20L4 18.59l7.72-7.72 1.47 1.35L5.41 20z\"/>\n",
              "  </svg>\n",
              "      </button>\n",
              "      \n",
              "  <style>\n",
              "    .colab-df-container {\n",
              "      display:flex;\n",
              "      flex-wrap:wrap;\n",
              "      gap: 12px;\n",
              "    }\n",
              "\n",
              "    .colab-df-convert {\n",
              "      background-color: #E8F0FE;\n",
              "      border: none;\n",
              "      border-radius: 50%;\n",
              "      cursor: pointer;\n",
              "      display: none;\n",
              "      fill: #1967D2;\n",
              "      height: 32px;\n",
              "      padding: 0 0 0 0;\n",
              "      width: 32px;\n",
              "    }\n",
              "\n",
              "    .colab-df-convert:hover {\n",
              "      background-color: #E2EBFA;\n",
              "      box-shadow: 0px 1px 2px rgba(60, 64, 67, 0.3), 0px 1px 3px 1px rgba(60, 64, 67, 0.15);\n",
              "      fill: #174EA6;\n",
              "    }\n",
              "\n",
              "    [theme=dark] .colab-df-convert {\n",
              "      background-color: #3B4455;\n",
              "      fill: #D2E3FC;\n",
              "    }\n",
              "\n",
              "    [theme=dark] .colab-df-convert:hover {\n",
              "      background-color: #434B5C;\n",
              "      box-shadow: 0px 1px 3px 1px rgba(0, 0, 0, 0.15);\n",
              "      filter: drop-shadow(0px 1px 2px rgba(0, 0, 0, 0.3));\n",
              "      fill: #FFFFFF;\n",
              "    }\n",
              "  </style>\n",
              "\n",
              "      <script>\n",
              "        const buttonEl =\n",
              "          document.querySelector('#df-24a02101-214a-4aa3-92eb-b50ad497ba7a button.colab-df-convert');\n",
              "        buttonEl.style.display =\n",
              "          google.colab.kernel.accessAllowed ? 'block' : 'none';\n",
              "\n",
              "        async function convertToInteractive(key) {\n",
              "          const element = document.querySelector('#df-24a02101-214a-4aa3-92eb-b50ad497ba7a');\n",
              "          const dataTable =\n",
              "            await google.colab.kernel.invokeFunction('convertToInteractive',\n",
              "                                                     [key], {});\n",
              "          if (!dataTable) return;\n",
              "\n",
              "          const docLinkHtml = 'Like what you see? Visit the ' +\n",
              "            '<a target=\"_blank\" href=https://colab.research.google.com/notebooks/data_table.ipynb>data table notebook</a>'\n",
              "            + ' to learn more about interactive tables.';\n",
              "          element.innerHTML = '';\n",
              "          dataTable['output_type'] = 'display_data';\n",
              "          await google.colab.output.renderOutput(dataTable, element);\n",
              "          const docLink = document.createElement('div');\n",
              "          docLink.innerHTML = docLinkHtml;\n",
              "          element.appendChild(docLink);\n",
              "        }\n",
              "      </script>\n",
              "    </div>\n",
              "  </div>\n",
              "  "
            ]
          },
          "metadata": {},
          "execution_count": 161
        }
      ],
      "source": [
        "# Loading dataset\n",
        "# from google import colab as cl\n",
        "# file_upload=cl.files.upload()\n",
        "#df = pd.read_csv(r'C:\\Users\\Utente77\\repos\\cardio_catch_disease_PA001\\datasets\\cardio_train.csv', sep=';')\n",
        "df = pd.read_csv('/content/cardio_train.csv', sep=';')\n",
        "\n",
        "#Test split\n",
        "df, df_test = train_test_split(df)\n",
        "df.head()"
      ]
    },
    {
      "cell_type": "markdown",
      "metadata": {
        "hidden": true,
        "id": "cnuOH_4Fliop"
      },
      "source": [
        "### 1.4 - Creating Datawerehouse"
      ]
    },
    {
      "cell_type": "markdown",
      "metadata": {
        "heading_collapsed": true,
        "hidden": true,
        "id": "jn-DxraQliop"
      },
      "source": [
        "##### 1.4.1 - Rename Columns"
      ]
    },
    {
      "cell_type": "code",
      "execution_count": 162,
      "metadata": {
        "ExecuteTime": {
          "end_time": "2020-11-09T13:45:27.161222Z",
          "start_time": "2020-11-09T13:45:27.151339Z"
        },
        "hidden": true,
        "id": "lyyGeW7eliop",
        "outputId": "688c6b3a-b5b3-49d7-ee9c-1e879d0d8b02",
        "colab": {
          "base_uri": "https://localhost:8080/"
        }
      },
      "outputs": [
        {
          "output_type": "execute_result",
          "data": {
            "text/plain": [
              "Index(['id', 'age', 'gender', 'height', 'weight', 'ap_hi', 'ap_lo',\n",
              "       'cholesterol', 'gluc', 'smoke', 'alco', 'active', 'cardio'],\n",
              "      dtype='object')"
            ]
          },
          "metadata": {},
          "execution_count": 162
        }
      ],
      "source": [
        "# Old columns\n",
        "df.columns"
      ]
    },
    {
      "cell_type": "code",
      "execution_count": 163,
      "metadata": {
        "ExecuteTime": {
          "end_time": "2020-11-09T13:45:27.220607Z",
          "start_time": "2020-11-09T13:45:27.163397Z"
        },
        "hidden": true,
        "scrolled": true,
        "id": "nvQyxl18lioq",
        "outputId": "6bcdd02e-c782-4b04-d3ab-b87d432cb150",
        "colab": {
          "base_uri": "https://localhost:8080/"
        }
      },
      "outputs": [
        {
          "output_type": "execute_result",
          "data": {
            "text/plain": [
              "Index(['id', 'age', 'gender', 'height', 'weight', 'hight_pressure',\n",
              "       'low_pressure', 'cholesterol', 'glucose', 'smoker', 'alcohol', 'active',\n",
              "       'cardio'],\n",
              "      dtype='object')"
            ]
          },
          "metadata": {},
          "execution_count": 163
        }
      ],
      "source": [
        "# Rewriting columns names and replace then\n",
        "new_col = ['id', 'age', 'gender', 'height', 'weight', 'hight_pressure', 'low_pressure',\n",
        "       'cholesterol', 'glucose', 'smoker', 'alcohol', 'active', 'cardio']\n",
        "df.columns = new_col\n",
        "df.columns"
      ]
    },
    {
      "cell_type": "markdown",
      "metadata": {
        "heading_collapsed": true,
        "hidden": true,
        "id": "i27piK2Vlioq"
      },
      "source": [
        "##### 1.4.2 - Database"
      ]
    },
    {
      "cell_type": "code",
      "execution_count": 164,
      "metadata": {
        "ExecuteTime": {
          "end_time": "2020-11-09T13:45:27.561913Z",
          "start_time": "2020-11-09T13:45:27.223297Z"
        },
        "hidden": true,
        "id": "fXHUZt4flioq",
        "outputId": "4b47b0c4-5117-48f6-cfb4-058c75483af2",
        "colab": {
          "base_uri": "https://localhost:8080/"
        }
      },
      "outputs": [
        {
          "output_type": "execute_result",
          "data": {
            "text/plain": [
              "52500"
            ]
          },
          "metadata": {},
          "execution_count": 164
        }
      ],
      "source": [
        "# creating database\n",
        "path_local=\"C:/Users/Utente77/repos/cardio_catch_disease_PA001/\"\n",
        "engine_db = create_engine(f\"sqlite:////{path_local}/ccd.db\", echo=False)\n",
        "conn = sqlite3.Connection('cardio_disease.db')\n",
        "cursor = conn.cursor()\n",
        "\n",
        "# create table\n",
        "query = '''CREATE TABLE IF NOT EXISTS patients(\n",
        "                                id INTEGER,\n",
        "                                age INTEGER,\n",
        "                                gender INTEGER,\n",
        "                                height INTEGER,\n",
        "                                weight INTEGER,\n",
        "                                hight_pressure INTEGER,\n",
        "                                low_pressure INTEGER,\n",
        "                                cholesterol INTEGER,\n",
        "                                glucose INTEGER,\n",
        "                                smoker INTEGER,\n",
        "                                alcohol INTEGER,\n",
        "                                active INTEGER,\n",
        "                                cardio INTEGER\n",
        "                                )'''\n",
        "\n",
        "cursor.execute(query)\n",
        "#engine = engine_db()\n",
        "df.to_sql('patients', con=conn, if_exists='append', index=False)\n",
        "\n"
      ]
    },
    {
      "cell_type": "markdown",
      "metadata": {
        "heading_collapsed": true,
        "hidden": true,
        "id": "WVs7Qn15lioq"
      },
      "source": [
        "#### 1.4.3 - Data Collect from Database"
      ]
    },
    {
      "cell_type": "code",
      "execution_count": 165,
      "metadata": {
        "ExecuteTime": {
          "end_time": "2020-11-09T13:45:27.937783Z",
          "start_time": "2020-11-09T13:45:27.563752Z"
        },
        "hidden": true,
        "id": "u-vsHKu9lioq"
      },
      "outputs": [],
      "source": [
        "# Selecting data\n",
        "query=\"\"\"\n",
        "    SELECT *\n",
        "    FROM patients;\n",
        "\n",
        "\"\"\"\n",
        "df=pd.read_sql_query(query,conn)\n"
      ]
    },
    {
      "cell_type": "markdown",
      "metadata": {
        "heading_collapsed": true,
        "id": "rvYDREBKlior"
      },
      "source": [
        "## 2.0 - Descriptive Analysis"
      ]
    },
    {
      "cell_type": "markdown",
      "metadata": {
        "heading_collapsed": true,
        "hidden": true,
        "id": "i-tVkDA5lior"
      },
      "source": [
        "### 2.1 - Dimensions"
      ]
    },
    {
      "cell_type": "code",
      "execution_count": 166,
      "metadata": {
        "ExecuteTime": {
          "end_time": "2020-11-09T13:45:27.944040Z",
          "start_time": "2020-11-09T13:45:27.939603Z"
        },
        "hidden": true,
        "id": "SHaqQnoslior",
        "outputId": "3f5c7082-e5f9-4175-a408-d64717eb9540",
        "colab": {
          "base_uri": "https://localhost:8080/"
        }
      },
      "outputs": [
        {
          "output_type": "stream",
          "name": "stdout",
          "text": [
            "157500 linhas.\n",
            "13 colunas.\n"
          ]
        }
      ],
      "source": [
        "# Printing the data dimensions, how much rows and columns\n",
        "print(f'{df.shape[0]} linhas.')\n",
        "print(f'{df.shape[1]} colunas.')"
      ]
    },
    {
      "cell_type": "markdown",
      "metadata": {
        "heading_collapsed": true,
        "hidden": true,
        "id": "9mj5VUy9lior"
      },
      "source": [
        "### 2.2 - Datatype and NaN fillout"
      ]
    },
    {
      "cell_type": "code",
      "execution_count": 167,
      "metadata": {
        "ExecuteTime": {
          "end_time": "2020-11-09T13:45:28.014604Z",
          "start_time": "2020-11-09T13:45:27.947698Z"
        },
        "hidden": true,
        "id": "Bs0Xbil-lior",
        "outputId": "74122d61-c443-46bd-cb1f-ed10a86649fa",
        "colab": {
          "base_uri": "https://localhost:8080/"
        }
      },
      "outputs": [
        {
          "output_type": "stream",
          "name": "stdout",
          "text": [
            "<class 'pandas.core.frame.DataFrame'>\n",
            "RangeIndex: 157500 entries, 0 to 157499\n",
            "Data columns (total 13 columns):\n",
            " #   Column          Non-Null Count   Dtype  \n",
            "---  ------          --------------   -----  \n",
            " 0   id              157500 non-null  int64  \n",
            " 1   age             157500 non-null  int64  \n",
            " 2   gender          157500 non-null  int64  \n",
            " 3   height          157500 non-null  int64  \n",
            " 4   weight          157500 non-null  float64\n",
            " 5   hight_pressure  157500 non-null  int64  \n",
            " 6   low_pressure    157500 non-null  int64  \n",
            " 7   cholesterol     157500 non-null  int64  \n",
            " 8   glucose         157500 non-null  int64  \n",
            " 9   smoker          157500 non-null  int64  \n",
            " 10  alcohol         157500 non-null  int64  \n",
            " 11  active          157500 non-null  int64  \n",
            " 12  cardio          157500 non-null  int64  \n",
            "dtypes: float64(1), int64(12)\n",
            "memory usage: 15.6 MB\n"
          ]
        }
      ],
      "source": [
        "# Columns Datatypes\n",
        "df.info()"
      ]
    },
    {
      "cell_type": "code",
      "execution_count": 168,
      "metadata": {
        "id": "1dUZ7NHzlios",
        "outputId": "6c2757b7-e71b-49c0-90e4-dc9102cb312c",
        "colab": {
          "base_uri": "https://localhost:8080/",
          "height": 1000
        }
      },
      "outputs": [
        {
          "output_type": "execute_result",
          "data": {
            "image/png": "[encoded data removed]",
            "text/plain": [
              "<IPython.core.display.Image object>"
            ]
          },
          "metadata": {},
          "execution_count": 168
        }
      ],
      "source": [
        "Image('/content/Cardio_Disease.png')"
      ]
    },
    {
      "cell_type": "code",
      "execution_count": 169,
      "metadata": {
        "ExecuteTime": {
          "end_time": "2020-11-09T13:45:28.176475Z",
          "start_time": "2020-11-09T13:45:28.101739Z"
        },
        "hidden": true,
        "id": "vOYesUV9lios",
        "outputId": "2b9ab6b3-829a-4079-a515-434becc3e514",
        "colab": {
          "base_uri": "https://localhost:8080/",
          "height": 457
        }
      },
      "outputs": [
        {
          "output_type": "execute_result",
          "data": {
            "text/plain": [
              "                NaN  NaN %\n",
              "id                0    0.0\n",
              "age               0    0.0\n",
              "gender            0    0.0\n",
              "height            0    0.0\n",
              "weight            0    0.0\n",
              "hight_pressure    0    0.0\n",
              "low_pressure      0    0.0\n",
              "cholesterol       0    0.0\n",
              "glucose           0    0.0\n",
              "smoker            0    0.0\n",
              "alcohol           0    0.0\n",
              "active            0    0.0\n",
              "cardio            0    0.0"
            ],
            "text/html": [
              "\n",
              "  <div id=\"df-6b9a2e53-c0f4-499c-b10b-5511dbdcef48\">\n",
              "    <div class=\"colab-df-container\">\n",
              "      <div>\n",
              "<style scoped>\n",
              "    .dataframe tbody tr th:only-of-type {\n",
              "        vertical-align: middle;\n",
              "    }\n",
              "\n",
              "    .dataframe tbody tr th {\n",
              "        vertical-align: top;\n",
              "    }\n",
              "\n",
              "    .dataframe thead th {\n",
              "        text-align: right;\n",
              "    }\n",
              "</style>\n",
              "<table border=\"1\" class=\"dataframe\">\n",
              "  <thead>\n",
              "    <tr style=\"text-align: right;\">\n",
              "      <th></th>\n",
              "      <th>NaN</th>\n",
              "      <th>NaN %</th>\n",
              "    </tr>\n",
              "  </thead>\n",
              "  <tbody>\n",
              "    <tr>\n",
              "      <th>id</th>\n",
              "      <td>0</td>\n",
              "      <td>0.0</td>\n",
              "    </tr>\n",
              "    <tr>\n",
              "      <th>age</th>\n",
              "      <td>0</td>\n",
              "      <td>0.0</td>\n",
              "    </tr>\n",
              "    <tr>\n",
              "      <th>gender</th>\n",
              "      <td>0</td>\n",
              "      <td>0.0</td>\n",
              "    </tr>\n",
              "    <tr>\n",
              "      <th>height</th>\n",
              "      <td>0</td>\n",
              "      <td>0.0</td>\n",
              "    </tr>\n",
              "    <tr>\n",
              "      <th>weight</th>\n",
              "      <td>0</td>\n",
              "      <td>0.0</td>\n",
              "    </tr>\n",
              "    <tr>\n",
              "      <th>hight_pressure</th>\n",
              "      <td>0</td>\n",
              "      <td>0.0</td>\n",
              "    </tr>\n",
              "    <tr>\n",
              "      <th>low_pressure</th>\n",
              "      <td>0</td>\n",
              "      <td>0.0</td>\n",
              "    </tr>\n",
              "    <tr>\n",
              "      <th>cholesterol</th>\n",
              "      <td>0</td>\n",
              "      <td>0.0</td>\n",
              "    </tr>\n",
              "    <tr>\n",
              "      <th>glucose</th>\n",
              "      <td>0</td>\n",
              "      <td>0.0</td>\n",
              "    </tr>\n",
              "    <tr>\n",
              "      <th>smoker</th>\n",
              "      <td>0</td>\n",
              "      <td>0.0</td>\n",
              "    </tr>\n",
              "    <tr>\n",
              "      <th>alcohol</th>\n",
              "      <td>0</td>\n",
              "      <td>0.0</td>\n",
              "    </tr>\n",
              "    <tr>\n",
              "      <th>active</th>\n",
              "      <td>0</td>\n",
              "      <td>0.0</td>\n",
              "    </tr>\n",
              "    <tr>\n",
              "      <th>cardio</th>\n",
              "      <td>0</td>\n",
              "      <td>0.0</td>\n",
              "    </tr>\n",
              "  </tbody>\n",
              "</table>\n",
              "</div>\n",
              "      <button class=\"colab-df-convert\" onclick=\"convertToInteractive('df-6b9a2e53-c0f4-499c-b10b-5511dbdcef48')\"\n",
              "              title=\"Convert this dataframe to an interactive table.\"\n",
              "              style=\"display:none;\">\n",
              "        \n",
              "  <svg xmlns=\"http://www.w3.org/2000/svg\" height=\"24px\"viewBox=\"0 0 24 24\"\n",
              "       width=\"24px\">\n",
              "    <path d=\"M0 0h24v24H0V0z\" fill=\"none\"/>\n",
              "    <path d=\"M18.56 5.44l.94 2.06.94-2.06 2.06-.94-2.06-.94-.94-2.06-.94 2.06-2.06.94zm-11 1L8.5 8.5l.94-2.06 2.06-.94-2.06-.94L8.5 2.5l-.94 2.06-2.06.94zm10 10l.94 2.06.94-2.06 2.06-.94-2.06-.94-.94-2.06-.94 2.06-2.06.94z\"/><path d=\"M17.41 7.96l-1.37-1.37c-.4-.4-.92-.59-1.43-.59-.52 0-1.04.2-1.43.59L10.3 9.45l-7.72 7.72c-.78.78-.78 2.05 0 2.83L4 21.41c.39.39.9.59 1.41.59.51 0 1.02-.2 1.41-.59l7.78-7.78 2.81-2.81c.8-.78.8-2.07 0-2.86zM5.41 20L4 18.59l7.72-7.72 1.47 1.35L5.41 20z\"/>\n",
              "  </svg>\n",
              "      </button>\n",
              "      \n",
              "  <style>\n",
              "    .colab-df-container {\n",
              "      display:flex;\n",
              "      flex-wrap:wrap;\n",
              "      gap: 12px;\n",
              "    }\n",
              "\n",
              "    .colab-df-convert {\n",
              "      background-color: #E8F0FE;\n",
              "      border: none;\n",
              "      border-radius: 50%;\n",
              "      cursor: pointer;\n",
              "      display: none;\n",
              "      fill: #1967D2;\n",
              "      height: 32px;\n",
              "      padding: 0 0 0 0;\n",
              "      width: 32px;\n",
              "    }\n",
              "\n",
              "    .colab-df-convert:hover {\n",
              "      background-color: #E2EBFA;\n",
              "      box-shadow: 0px 1px 2px rgba(60, 64, 67, 0.3), 0px 1px 3px 1px rgba(60, 64, 67, 0.15);\n",
              "      fill: #174EA6;\n",
              "    }\n",
              "\n",
              "    [theme=dark] .colab-df-convert {\n",
              "      background-color: #3B4455;\n",
              "      fill: #D2E3FC;\n",
              "    }\n",
              "\n",
              "    [theme=dark] .colab-df-convert:hover {\n",
              "      background-color: #434B5C;\n",
              "      box-shadow: 0px 1px 3px 1px rgba(0, 0, 0, 0.15);\n",
              "      filter: drop-shadow(0px 1px 2px rgba(0, 0, 0, 0.3));\n",
              "      fill: #FFFFFF;\n",
              "    }\n",
              "  </style>\n",
              "\n",
              "      <script>\n",
              "        const buttonEl =\n",
              "          document.querySelector('#df-6b9a2e53-c0f4-499c-b10b-5511dbdcef48 button.colab-df-convert');\n",
              "        buttonEl.style.display =\n",
              "          google.colab.kernel.accessAllowed ? 'block' : 'none';\n",
              "\n",
              "        async function convertToInteractive(key) {\n",
              "          const element = document.querySelector('#df-6b9a2e53-c0f4-499c-b10b-5511dbdcef48');\n",
              "          const dataTable =\n",
              "            await google.colab.kernel.invokeFunction('convertToInteractive',\n",
              "                                                     [key], {});\n",
              "          if (!dataTable) return;\n",
              "\n",
              "          const docLinkHtml = 'Like what you see? Visit the ' +\n",
              "            '<a target=\"_blank\" href=https://colab.research.google.com/notebooks/data_table.ipynb>data table notebook</a>'\n",
              "            + ' to learn more about interactive tables.';\n",
              "          element.innerHTML = '';\n",
              "          dataTable['output_type'] = 'display_data';\n",
              "          await google.colab.output.renderOutput(dataTable, element);\n",
              "          const docLink = document.createElement('div');\n",
              "          docLink.innerHTML = docLinkHtml;\n",
              "          element.appendChild(docLink);\n",
              "        }\n",
              "      </script>\n",
              "    </div>\n",
              "  </div>\n",
              "  "
            ]
          },
          "metadata": {},
          "execution_count": 169
        }
      ],
      "source": [
        "# age - change days to year old\n",
        "df['age'] = (df['age'] / 365).astype('int')\n",
        "\n",
        "# height - change centimeters to meters\n",
        "df['height'] = (df['height'] / 100)\n",
        "\n",
        "aux=df.isna().sum().sort_values(ascending=False)\n",
        "aux1=df.isna().sum().sort_values(ascending=False)/df.shape[0]*100\n",
        "\n",
        "na=pd.concat([aux,aux1],axis=1)\n",
        "na.columns=['NaN', 'NaN %']\n",
        "na"
      ]
    },
    {
      "cell_type": "markdown",
      "metadata": {
        "heading_collapsed": true,
        "hidden": true,
        "id": "CvP0OjSqlios"
      },
      "source": [
        "### 2.3 - Data Description"
      ]
    },
    {
      "cell_type": "code",
      "execution_count": 170,
      "metadata": {
        "id": "Z55JRtjqlios"
      },
      "outputs": [],
      "source": [
        "# profile=ProfileReport(df, title=\"Pandas Profiling Report\")\n",
        "# profile.to_file(r\"C:\\Users\\Utente77\\repos\\cardio_catch_disease_PA001\\img\\report.html\")\n",
        "# profile"
      ]
    },
    {
      "cell_type": "code",
      "execution_count": 171,
      "metadata": {
        "id": "H7ebRI-Qlios"
      },
      "outputs": [],
      "source": [
        "num_attributes = df.select_dtypes( include=['int64', 'int32','float64'] )\n",
        "cat_attributes = df.select_dtypes( exclude=['int64', 'int32','float64', 'datetime64[ns]'] )"
      ]
    },
    {
      "cell_type": "code",
      "execution_count": 172,
      "metadata": {
        "id": "ZE8BhQH-lios",
        "outputId": "e44b628e-c8ca-4aad-c4f3-988e989ca4c9",
        "colab": {
          "base_uri": "https://localhost:8080/",
          "height": 426
        }
      },
      "outputs": [
        {
          "output_type": "execute_result",
          "data": {
            "text/plain": [
              "        attributes     min      max     range        mean  median         std       skew     kurtosis\n",
              "0              age   29.00     64.0     35.00   52.830610   53.00    6.772081  -0.303891    -0.823856\n",
              "1           gender    1.00      2.0      1.00    1.349422    1.00    0.476788   0.631641    -1.601050\n",
              "2           height    0.55      2.5      1.95    1.643597    1.65    0.081930  -0.618964     7.923490\n",
              "3           weight   10.00    200.0    190.00   74.188268   72.00   14.365631   0.993886     2.457006\n",
              "4   hight_pressure -150.00  16020.0  16170.00  128.879537  120.00  153.755351  83.405129  7253.530154\n",
              "5     low_pressure  -70.00  11000.0  11070.00   96.374317   80.00  179.756527  31.466470  1416.428301\n",
              "6      cholesterol    1.00      3.0      2.00    1.367676    1.00    0.680594   1.583464     0.982814\n",
              "7          glucose    1.00      3.0      2.00    1.224686    1.00    0.569616   2.410044     4.365241\n",
              "8           smoker    0.00      1.0      1.00    0.088432    0.00    0.283922   2.899194     6.405408\n",
              "9          alcohol    0.00      1.0      1.00    0.054057    0.00    0.226130   3.944158    13.556558\n",
              "10          active    0.00      1.0      1.00    0.804527    1.00    0.396564  -1.535841     0.358812\n",
              "11          cardio    0.00      1.0      1.00    0.499835    0.00    0.500000   0.000660    -2.000025"
            ],
            "text/html": [
              "\n",
              "  <div id=\"df-e861227e-9bd6-472d-87dd-55f1d86293b9\">\n",
              "    <div class=\"colab-df-container\">\n",
              "      <div>\n",
              "<style scoped>\n",
              "    .dataframe tbody tr th:only-of-type {\n",
              "        vertical-align: middle;\n",
              "    }\n",
              "\n",
              "    .dataframe tbody tr th {\n",
              "        vertical-align: top;\n",
              "    }\n",
              "\n",
              "    .dataframe thead th {\n",
              "        text-align: right;\n",
              "    }\n",
              "</style>\n",
              "<table border=\"1\" class=\"dataframe\">\n",
              "  <thead>\n",
              "    <tr style=\"text-align: right;\">\n",
              "      <th></th>\n",
              "      <th>attributes</th>\n",
              "      <th>min</th>\n",
              "      <th>max</th>\n",
              "      <th>range</th>\n",
              "      <th>mean</th>\n",
              "      <th>median</th>\n",
              "      <th>std</th>\n",
              "      <th>skew</th>\n",
              "      <th>kurtosis</th>\n",
              "    </tr>\n",
              "  </thead>\n",
              "  <tbody>\n",
              "    <tr>\n",
              "      <th>0</th>\n",
              "      <td>age</td>\n",
              "      <td>29.00</td>\n",
              "      <td>64.0</td>\n",
              "      <td>35.00</td>\n",
              "      <td>52.830610</td>\n",
              "      <td>53.00</td>\n",
              "      <td>6.772081</td>\n",
              "      <td>-0.303891</td>\n",
              "      <td>-0.823856</td>\n",
              "    </tr>\n",
              "    <tr>\n",
              "      <th>1</th>\n",
              "      <td>gender</td>\n",
              "      <td>1.00</td>\n",
              "      <td>2.0</td>\n",
              "      <td>1.00</td>\n",
              "      <td>1.349422</td>\n",
              "      <td>1.00</td>\n",
              "      <td>0.476788</td>\n",
              "      <td>0.631641</td>\n",
              "      <td>-1.601050</td>\n",
              "    </tr>\n",
              "    <tr>\n",
              "      <th>2</th>\n",
              "      <td>height</td>\n",
              "      <td>0.55</td>\n",
              "      <td>2.5</td>\n",
              "      <td>1.95</td>\n",
              "      <td>1.643597</td>\n",
              "      <td>1.65</td>\n",
              "      <td>0.081930</td>\n",
              "      <td>-0.618964</td>\n",
              "      <td>7.923490</td>\n",
              "    </tr>\n",
              "    <tr>\n",
              "      <th>3</th>\n",
              "      <td>weight</td>\n",
              "      <td>10.00</td>\n",
              "      <td>200.0</td>\n",
              "      <td>190.00</td>\n",
              "      <td>74.188268</td>\n",
              "      <td>72.00</td>\n",
              "      <td>14.365631</td>\n",
              "      <td>0.993886</td>\n",
              "      <td>2.457006</td>\n",
              "    </tr>\n",
              "    <tr>\n",
              "      <th>4</th>\n",
              "      <td>hight_pressure</td>\n",
              "      <td>-150.00</td>\n",
              "      <td>16020.0</td>\n",
              "      <td>16170.00</td>\n",
              "      <td>128.879537</td>\n",
              "      <td>120.00</td>\n",
              "      <td>153.755351</td>\n",
              "      <td>83.405129</td>\n",
              "      <td>7253.530154</td>\n",
              "    </tr>\n",
              "    <tr>\n",
              "      <th>5</th>\n",
              "      <td>low_pressure</td>\n",
              "      <td>-70.00</td>\n",
              "      <td>11000.0</td>\n",
              "      <td>11070.00</td>\n",
              "      <td>96.374317</td>\n",
              "      <td>80.00</td>\n",
              "      <td>179.756527</td>\n",
              "      <td>31.466470</td>\n",
              "      <td>1416.428301</td>\n",
              "    </tr>\n",
              "    <tr>\n",
              "      <th>6</th>\n",
              "      <td>cholesterol</td>\n",
              "      <td>1.00</td>\n",
              "      <td>3.0</td>\n",
              "      <td>2.00</td>\n",
              "      <td>1.367676</td>\n",
              "      <td>1.00</td>\n",
              "      <td>0.680594</td>\n",
              "      <td>1.583464</td>\n",
              "      <td>0.982814</td>\n",
              "    </tr>\n",
              "    <tr>\n",
              "      <th>7</th>\n",
              "      <td>glucose</td>\n",
              "      <td>1.00</td>\n",
              "      <td>3.0</td>\n",
              "      <td>2.00</td>\n",
              "      <td>1.224686</td>\n",
              "      <td>1.00</td>\n",
              "      <td>0.569616</td>\n",
              "      <td>2.410044</td>\n",
              "      <td>4.365241</td>\n",
              "    </tr>\n",
              "    <tr>\n",
              "      <th>8</th>\n",
              "      <td>smoker</td>\n",
              "      <td>0.00</td>\n",
              "      <td>1.0</td>\n",
              "      <td>1.00</td>\n",
              "      <td>0.088432</td>\n",
              "      <td>0.00</td>\n",
              "      <td>0.283922</td>\n",
              "      <td>2.899194</td>\n",
              "      <td>6.405408</td>\n",
              "    </tr>\n",
              "    <tr>\n",
              "      <th>9</th>\n",
              "      <td>alcohol</td>\n",
              "      <td>0.00</td>\n",
              "      <td>1.0</td>\n",
              "      <td>1.00</td>\n",
              "      <td>0.054057</td>\n",
              "      <td>0.00</td>\n",
              "      <td>0.226130</td>\n",
              "      <td>3.944158</td>\n",
              "      <td>13.556558</td>\n",
              "    </tr>\n",
              "    <tr>\n",
              "      <th>10</th>\n",
              "      <td>active</td>\n",
              "      <td>0.00</td>\n",
              "      <td>1.0</td>\n",
              "      <td>1.00</td>\n",
              "      <td>0.804527</td>\n",
              "      <td>1.00</td>\n",
              "      <td>0.396564</td>\n",
              "      <td>-1.535841</td>\n",
              "      <td>0.358812</td>\n",
              "    </tr>\n",
              "    <tr>\n",
              "      <th>11</th>\n",
              "      <td>cardio</td>\n",
              "      <td>0.00</td>\n",
              "      <td>1.0</td>\n",
              "      <td>1.00</td>\n",
              "      <td>0.499835</td>\n",
              "      <td>0.00</td>\n",
              "      <td>0.500000</td>\n",
              "      <td>0.000660</td>\n",
              "      <td>-2.000025</td>\n",
              "    </tr>\n",
              "  </tbody>\n",
              "</table>\n",
              "</div>\n",
              "      <button class=\"colab-df-convert\" onclick=\"convertToInteractive('df-e861227e-9bd6-472d-87dd-55f1d86293b9')\"\n",
              "              title=\"Convert this dataframe to an interactive table.\"\n",
              "              style=\"display:none;\">\n",
              "        \n",
              "  <svg xmlns=\"http://www.w3.org/2000/svg\" height=\"24px\"viewBox=\"0 0 24 24\"\n",
              "       width=\"24px\">\n",
              "    <path d=\"M0 0h24v24H0V0z\" fill=\"none\"/>\n",
              "    <path d=\"M18.56 5.44l.94 2.06.94-2.06 2.06-.94-2.06-.94-.94-2.06-.94 2.06-2.06.94zm-11 1L8.5 8.5l.94-2.06 2.06-.94-2.06-.94L8.5 2.5l-.94 2.06-2.06.94zm10 10l.94 2.06.94-2.06 2.06-.94-2.06-.94-.94-2.06-.94 2.06-2.06.94z\"/><path d=\"M17.41 7.96l-1.37-1.37c-.4-.4-.92-.59-1.43-.59-.52 0-1.04.2-1.43.59L10.3 9.45l-7.72 7.72c-.78.78-.78 2.05 0 2.83L4 21.41c.39.39.9.59 1.41.59.51 0 1.02-.2 1.41-.59l7.78-7.78 2.81-2.81c.8-.78.8-2.07 0-2.86zM5.41 20L4 18.59l7.72-7.72 1.47 1.35L5.41 20z\"/>\n",
              "  </svg>\n",
              "      </button>\n",
              "      \n",
              "  <style>\n",
              "    .colab-df-container {\n",
              "      display:flex;\n",
              "      flex-wrap:wrap;\n",
              "      gap: 12px;\n",
              "    }\n",
              "\n",
              "    .colab-df-convert {\n",
              "      background-color: #E8F0FE;\n",
              "      border: none;\n",
              "      border-radius: 50%;\n",
              "      cursor: pointer;\n",
              "      display: none;\n",
              "      fill: #1967D2;\n",
              "      height: 32px;\n",
              "      padding: 0 0 0 0;\n",
              "      width: 32px;\n",
              "    }\n",
              "\n",
              "    .colab-df-convert:hover {\n",
              "      background-color: #E2EBFA;\n",
              "      box-shadow: 0px 1px 2px rgba(60, 64, 67, 0.3), 0px 1px 3px 1px rgba(60, 64, 67, 0.15);\n",
              "      fill: #174EA6;\n",
              "    }\n",
              "\n",
              "    [theme=dark] .colab-df-convert {\n",
              "      background-color: #3B4455;\n",
              "      fill: #D2E3FC;\n",
              "    }\n",
              "\n",
              "    [theme=dark] .colab-df-convert:hover {\n",
              "      background-color: #434B5C;\n",
              "      box-shadow: 0px 1px 3px 1px rgba(0, 0, 0, 0.15);\n",
              "      filter: drop-shadow(0px 1px 2px rgba(0, 0, 0, 0.3));\n",
              "      fill: #FFFFFF;\n",
              "    }\n",
              "  </style>\n",
              "\n",
              "      <script>\n",
              "        const buttonEl =\n",
              "          document.querySelector('#df-e861227e-9bd6-472d-87dd-55f1d86293b9 button.colab-df-convert');\n",
              "        buttonEl.style.display =\n",
              "          google.colab.kernel.accessAllowed ? 'block' : 'none';\n",
              "\n",
              "        async function convertToInteractive(key) {\n",
              "          const element = document.querySelector('#df-e861227e-9bd6-472d-87dd-55f1d86293b9');\n",
              "          const dataTable =\n",
              "            await google.colab.kernel.invokeFunction('convertToInteractive',\n",
              "                                                     [key], {});\n",
              "          if (!dataTable) return;\n",
              "\n",
              "          const docLinkHtml = 'Like what you see? Visit the ' +\n",
              "            '<a target=\"_blank\" href=https://colab.research.google.com/notebooks/data_table.ipynb>data table notebook</a>'\n",
              "            + ' to learn more about interactive tables.';\n",
              "          element.innerHTML = '';\n",
              "          dataTable['output_type'] = 'display_data';\n",
              "          await google.colab.output.renderOutput(dataTable, element);\n",
              "          const docLink = document.createElement('div');\n",
              "          docLink.innerHTML = docLinkHtml;\n",
              "          element.appendChild(docLink);\n",
              "        }\n",
              "      </script>\n",
              "    </div>\n",
              "  </div>\n",
              "  "
            ]
          },
          "metadata": {},
          "execution_count": 172
        }
      ],
      "source": [
        "# Central Tendency - mean, median\n",
        "ct1 = pd.DataFrame( num_attributes.apply( np.mean ) ).T.drop('id', axis=1)\n",
        "ct2 = pd.DataFrame( num_attributes.apply( np.median ) ).T.drop('id', axis=1)\n",
        "\n",
        "# dispersion - std, min, max, range, skew, kurtosis\n",
        "d1 = pd.DataFrame( num_attributes.apply( np.std ) ).T.drop('id', axis=1) \n",
        "d2 = pd.DataFrame( num_attributes.apply( min ) ).T.drop('id', axis=1) \n",
        "d3 = pd.DataFrame( num_attributes.apply( max ) ).T.drop('id', axis=1) \n",
        "d4 = pd.DataFrame( num_attributes.apply( lambda x: x.max() - x.min() ) ).T.drop('id', axis=1) \n",
        "d5 = pd.DataFrame( num_attributes.apply( lambda x: x.skew() ) ).T.drop('id', axis=1) \n",
        "d6 = pd.DataFrame( num_attributes.apply( lambda x: x.kurtosis() ) ).T.drop('id', axis=1) \n",
        "\n",
        "# concatenar\n",
        "m = pd.concat( [d2, d3, d4, ct1, ct2, d1, d5, d6] ).T.reset_index()\n",
        "m.columns = ['attributes', 'min', 'max', 'range', 'mean', 'median', 'std', 'skew', 'kurtosis']\n",
        "m"
      ]
    },
    {
      "cell_type": "markdown",
      "metadata": {
        "id": "cq96MGsUliot"
      },
      "source": [
        "#### 2.3.1  Inconsistent numbers of **hight pressure** and **low pressure** \n"
      ]
    },
    {
      "cell_type": "code",
      "execution_count": 173,
      "metadata": {
        "ExecuteTime": {
          "end_time": "2020-11-09T13:45:28.322203Z",
          "start_time": "2020-11-09T13:45:28.314393Z"
        },
        "hidden": true,
        "id": "PmIonRw9liot",
        "outputId": "9bcaabd1-d258-453e-b1f7-56a40742c2dd",
        "colab": {
          "base_uri": "https://localhost:8080/"
        }
      },
      "outputs": [
        {
          "output_type": "stream",
          "name": "stdout",
          "text": [
            "2292 inconsistent rows on low_pressure.\n",
            "526 inconsistent rows on hight_pressure. \n"
          ]
        }
      ],
      "source": [
        "\n",
        "print(f'''{df[(df['low_pressure'] < 20) | (\n",
        "    df['low_pressure'] > 150)].shape[0]} inconsistent rows on low_pressure.''')\n",
        "print(f'''{df[(df['hight_pressure'] < 40) | (\n",
        "    df['hight_pressure'] > 300)].shape[0]} inconsistent rows on hight_pressure. ''')\n",
        "\n",
        "# filtering data without inconsistence data\n",
        "df = df[(df['low_pressure'] >= 20) & (df['low_pressure'] <= 150)]\n",
        "df = df[(df['hight_pressure'] >= 40) & (df['hight_pressure'] <= 300)]"
      ]
    },
    {
      "cell_type": "markdown",
      "metadata": {
        "id": "JzzlFqQ_liot"
      },
      "source": [
        "#### 2.3.2 Inconsistent numbers of **height**\n"
      ]
    },
    {
      "cell_type": "code",
      "execution_count": 174,
      "metadata": {
        "id": "9S2O4UNQliot",
        "outputId": "49ebfefe-b8d4-4c36-d2f2-e4a3666e47b8",
        "colab": {
          "base_uri": "https://localhost:8080/"
        }
      },
      "outputs": [
        {
          "output_type": "stream",
          "name": "stdout",
          "text": [
            "1125 inconsistent rows on height.\n"
          ]
        }
      ],
      "source": [
        "print(f'''{df[df['height'] <= 1.45].shape[0]} inconsistent rows on height.''')\n",
        "\n",
        "# Data filtering possible incosistent data by height \n",
        "df = df[df['height'] > 1.45]\n"
      ]
    },
    {
      "cell_type": "code",
      "execution_count": 175,
      "metadata": {
        "ExecuteTime": {
          "end_time": "2020-11-09T13:45:28.538692Z",
          "start_time": "2020-11-09T13:45:28.416801Z"
        },
        "hidden": true,
        "id": "UM3HZik4liot",
        "outputId": "269314cf-9c48-4a0e-fe79-7a2f1b4c5ef6",
        "colab": {
          "base_uri": "https://localhost:8080/",
          "height": 426
        }
      },
      "outputs": [
        {
          "output_type": "execute_result",
          "data": {
            "text/plain": [
              "                   count        mean        std    min     25%     50%    75%    max   range  kurtosis      skew\n",
              "age             153594.0   52.804426   6.772265  29.00   48.00   53.00   58.0   64.0   35.00  8.999997  3.162277\n",
              "gender          153594.0    1.350209   0.477037   1.00    1.00    1.00    2.0    2.0    1.00  9.000000  3.162278\n",
              "height          153594.0    1.645717   0.076739   1.46    1.59    1.65    1.7    2.5    1.04  9.000000  3.162278\n",
              "weight          153594.0   74.158935  14.227391  11.00   65.00   72.00   82.0  200.0  189.00  8.999957  3.162266\n",
              "hight_pressure  153594.0  126.591840  16.721107  60.00  120.00  120.00  140.0  240.0  180.00  8.999960  3.162265\n",
              "low_pressure    153594.0   81.328307   9.586391  20.00   80.00   80.00   90.0  150.0  130.00  8.999980  3.162272\n",
              "cholesterol     153594.0    1.364806   0.678849   1.00    1.00    1.00    2.0    3.0    2.00  9.000000  3.162278\n",
              "glucose         153594.0    1.224149   0.569318   1.00    1.00    1.00    1.0    3.0    2.00  9.000000  3.162278\n",
              "smoker          153594.0    0.088688   0.284294   0.00    0.00    0.00    0.0    1.0    1.00  9.000000  3.162278\n",
              "alcohol         153594.0    0.054058   0.226133   0.00    0.00    0.00    0.0    1.0    1.00  9.000000  3.162278\n",
              "active          153594.0    0.804341   0.396708   0.00    1.00    1.00    1.0    1.0    1.00  9.000000  3.162278\n",
              "cardio          153594.0    0.494459   0.499971   0.00    0.00    0.00    1.0    1.0    1.00  9.000000  3.162278"
            ],
            "text/html": [
              "\n",
              "  <div id=\"df-632ae014-1549-4e3c-b7b4-b5f40f36fd27\">\n",
              "    <div class=\"colab-df-container\">\n",
              "      <div>\n",
              "<style scoped>\n",
              "    .dataframe tbody tr th:only-of-type {\n",
              "        vertical-align: middle;\n",
              "    }\n",
              "\n",
              "    .dataframe tbody tr th {\n",
              "        vertical-align: top;\n",
              "    }\n",
              "\n",
              "    .dataframe thead th {\n",
              "        text-align: right;\n",
              "    }\n",
              "</style>\n",
              "<table border=\"1\" class=\"dataframe\">\n",
              "  <thead>\n",
              "    <tr style=\"text-align: right;\">\n",
              "      <th></th>\n",
              "      <th>count</th>\n",
              "      <th>mean</th>\n",
              "      <th>std</th>\n",
              "      <th>min</th>\n",
              "      <th>25%</th>\n",
              "      <th>50%</th>\n",
              "      <th>75%</th>\n",
              "      <th>max</th>\n",
              "      <th>range</th>\n",
              "      <th>kurtosis</th>\n",
              "      <th>skew</th>\n",
              "    </tr>\n",
              "  </thead>\n",
              "  <tbody>\n",
              "    <tr>\n",
              "      <th>age</th>\n",
              "      <td>153594.0</td>\n",
              "      <td>52.804426</td>\n",
              "      <td>6.772265</td>\n",
              "      <td>29.00</td>\n",
              "      <td>48.00</td>\n",
              "      <td>53.00</td>\n",
              "      <td>58.0</td>\n",
              "      <td>64.0</td>\n",
              "      <td>35.00</td>\n",
              "      <td>8.999997</td>\n",
              "      <td>3.162277</td>\n",
              "    </tr>\n",
              "    <tr>\n",
              "      <th>gender</th>\n",
              "      <td>153594.0</td>\n",
              "      <td>1.350209</td>\n",
              "      <td>0.477037</td>\n",
              "      <td>1.00</td>\n",
              "      <td>1.00</td>\n",
              "      <td>1.00</td>\n",
              "      <td>2.0</td>\n",
              "      <td>2.0</td>\n",
              "      <td>1.00</td>\n",
              "      <td>9.000000</td>\n",
              "      <td>3.162278</td>\n",
              "    </tr>\n",
              "    <tr>\n",
              "      <th>height</th>\n",
              "      <td>153594.0</td>\n",
              "      <td>1.645717</td>\n",
              "      <td>0.076739</td>\n",
              "      <td>1.46</td>\n",
              "      <td>1.59</td>\n",
              "      <td>1.65</td>\n",
              "      <td>1.7</td>\n",
              "      <td>2.5</td>\n",
              "      <td>1.04</td>\n",
              "      <td>9.000000</td>\n",
              "      <td>3.162278</td>\n",
              "    </tr>\n",
              "    <tr>\n",
              "      <th>weight</th>\n",
              "      <td>153594.0</td>\n",
              "      <td>74.158935</td>\n",
              "      <td>14.227391</td>\n",
              "      <td>11.00</td>\n",
              "      <td>65.00</td>\n",
              "      <td>72.00</td>\n",
              "      <td>82.0</td>\n",
              "      <td>200.0</td>\n",
              "      <td>189.00</td>\n",
              "      <td>8.999957</td>\n",
              "      <td>3.162266</td>\n",
              "    </tr>\n",
              "    <tr>\n",
              "      <th>hight_pressure</th>\n",
              "      <td>153594.0</td>\n",
              "      <td>126.591840</td>\n",
              "      <td>16.721107</td>\n",
              "      <td>60.00</td>\n",
              "      <td>120.00</td>\n",
              "      <td>120.00</td>\n",
              "      <td>140.0</td>\n",
              "      <td>240.0</td>\n",
              "      <td>180.00</td>\n",
              "      <td>8.999960</td>\n",
              "      <td>3.162265</td>\n",
              "    </tr>\n",
              "    <tr>\n",
              "      <th>low_pressure</th>\n",
              "      <td>153594.0</td>\n",
              "      <td>81.328307</td>\n",
              "      <td>9.586391</td>\n",
              "      <td>20.00</td>\n",
              "      <td>80.00</td>\n",
              "      <td>80.00</td>\n",
              "      <td>90.0</td>\n",
              "      <td>150.0</td>\n",
              "      <td>130.00</td>\n",
              "      <td>8.999980</td>\n",
              "      <td>3.162272</td>\n",
              "    </tr>\n",
              "    <tr>\n",
              "      <th>cholesterol</th>\n",
              "      <td>153594.0</td>\n",
              "      <td>1.364806</td>\n",
              "      <td>0.678849</td>\n",
              "      <td>1.00</td>\n",
              "      <td>1.00</td>\n",
              "      <td>1.00</td>\n",
              "      <td>2.0</td>\n",
              "      <td>3.0</td>\n",
              "      <td>2.00</td>\n",
              "      <td>9.000000</td>\n",
              "      <td>3.162278</td>\n",
              "    </tr>\n",
              "    <tr>\n",
              "      <th>glucose</th>\n",
              "      <td>153594.0</td>\n",
              "      <td>1.224149</td>\n",
              "      <td>0.569318</td>\n",
              "      <td>1.00</td>\n",
              "      <td>1.00</td>\n",
              "      <td>1.00</td>\n",
              "      <td>1.0</td>\n",
              "      <td>3.0</td>\n",
              "      <td>2.00</td>\n",
              "      <td>9.000000</td>\n",
              "      <td>3.162278</td>\n",
              "    </tr>\n",
              "    <tr>\n",
              "      <th>smoker</th>\n",
              "      <td>153594.0</td>\n",
              "      <td>0.088688</td>\n",
              "      <td>0.284294</td>\n",
              "      <td>0.00</td>\n",
              "      <td>0.00</td>\n",
              "      <td>0.00</td>\n",
              "      <td>0.0</td>\n",
              "      <td>1.0</td>\n",
              "      <td>1.00</td>\n",
              "      <td>9.000000</td>\n",
              "      <td>3.162278</td>\n",
              "    </tr>\n",
              "    <tr>\n",
              "      <th>alcohol</th>\n",
              "      <td>153594.0</td>\n",
              "      <td>0.054058</td>\n",
              "      <td>0.226133</td>\n",
              "      <td>0.00</td>\n",
              "      <td>0.00</td>\n",
              "      <td>0.00</td>\n",
              "      <td>0.0</td>\n",
              "      <td>1.0</td>\n",
              "      <td>1.00</td>\n",
              "      <td>9.000000</td>\n",
              "      <td>3.162278</td>\n",
              "    </tr>\n",
              "    <tr>\n",
              "      <th>active</th>\n",
              "      <td>153594.0</td>\n",
              "      <td>0.804341</td>\n",
              "      <td>0.396708</td>\n",
              "      <td>0.00</td>\n",
              "      <td>1.00</td>\n",
              "      <td>1.00</td>\n",
              "      <td>1.0</td>\n",
              "      <td>1.0</td>\n",
              "      <td>1.00</td>\n",
              "      <td>9.000000</td>\n",
              "      <td>3.162278</td>\n",
              "    </tr>\n",
              "    <tr>\n",
              "      <th>cardio</th>\n",
              "      <td>153594.0</td>\n",
              "      <td>0.494459</td>\n",
              "      <td>0.499971</td>\n",
              "      <td>0.00</td>\n",
              "      <td>0.00</td>\n",
              "      <td>0.00</td>\n",
              "      <td>1.0</td>\n",
              "      <td>1.0</td>\n",
              "      <td>1.00</td>\n",
              "      <td>9.000000</td>\n",
              "      <td>3.162278</td>\n",
              "    </tr>\n",
              "  </tbody>\n",
              "</table>\n",
              "</div>\n",
              "      <button class=\"colab-df-convert\" onclick=\"convertToInteractive('df-632ae014-1549-4e3c-b7b4-b5f40f36fd27')\"\n",
              "              title=\"Convert this dataframe to an interactive table.\"\n",
              "              style=\"display:none;\">\n",
              "        \n",
              "  <svg xmlns=\"http://www.w3.org/2000/svg\" height=\"24px\"viewBox=\"0 0 24 24\"\n",
              "       width=\"24px\">\n",
              "    <path d=\"M0 0h24v24H0V0z\" fill=\"none\"/>\n",
              "    <path d=\"M18.56 5.44l.94 2.06.94-2.06 2.06-.94-2.06-.94-.94-2.06-.94 2.06-2.06.94zm-11 1L8.5 8.5l.94-2.06 2.06-.94-2.06-.94L8.5 2.5l-.94 2.06-2.06.94zm10 10l.94 2.06.94-2.06 2.06-.94-2.06-.94-.94-2.06-.94 2.06-2.06.94z\"/><path d=\"M17.41 7.96l-1.37-1.37c-.4-.4-.92-.59-1.43-.59-.52 0-1.04.2-1.43.59L10.3 9.45l-7.72 7.72c-.78.78-.78 2.05 0 2.83L4 21.41c.39.39.9.59 1.41.59.51 0 1.02-.2 1.41-.59l7.78-7.78 2.81-2.81c.8-.78.8-2.07 0-2.86zM5.41 20L4 18.59l7.72-7.72 1.47 1.35L5.41 20z\"/>\n",
              "  </svg>\n",
              "      </button>\n",
              "      \n",
              "  <style>\n",
              "    .colab-df-container {\n",
              "      display:flex;\n",
              "      flex-wrap:wrap;\n",
              "      gap: 12px;\n",
              "    }\n",
              "\n",
              "    .colab-df-convert {\n",
              "      background-color: #E8F0FE;\n",
              "      border: none;\n",
              "      border-radius: 50%;\n",
              "      cursor: pointer;\n",
              "      display: none;\n",
              "      fill: #1967D2;\n",
              "      height: 32px;\n",
              "      padding: 0 0 0 0;\n",
              "      width: 32px;\n",
              "    }\n",
              "\n",
              "    .colab-df-convert:hover {\n",
              "      background-color: #E2EBFA;\n",
              "      box-shadow: 0px 1px 2px rgba(60, 64, 67, 0.3), 0px 1px 3px 1px rgba(60, 64, 67, 0.15);\n",
              "      fill: #174EA6;\n",
              "    }\n",
              "\n",
              "    [theme=dark] .colab-df-convert {\n",
              "      background-color: #3B4455;\n",
              "      fill: #D2E3FC;\n",
              "    }\n",
              "\n",
              "    [theme=dark] .colab-df-convert:hover {\n",
              "      background-color: #434B5C;\n",
              "      box-shadow: 0px 1px 3px 1px rgba(0, 0, 0, 0.15);\n",
              "      filter: drop-shadow(0px 1px 2px rgba(0, 0, 0, 0.3));\n",
              "      fill: #FFFFFF;\n",
              "    }\n",
              "  </style>\n",
              "\n",
              "      <script>\n",
              "        const buttonEl =\n",
              "          document.querySelector('#df-632ae014-1549-4e3c-b7b4-b5f40f36fd27 button.colab-df-convert');\n",
              "        buttonEl.style.display =\n",
              "          google.colab.kernel.accessAllowed ? 'block' : 'none';\n",
              "\n",
              "        async function convertToInteractive(key) {\n",
              "          const element = document.querySelector('#df-632ae014-1549-4e3c-b7b4-b5f40f36fd27');\n",
              "          const dataTable =\n",
              "            await google.colab.kernel.invokeFunction('convertToInteractive',\n",
              "                                                     [key], {});\n",
              "          if (!dataTable) return;\n",
              "\n",
              "          const docLinkHtml = 'Like what you see? Visit the ' +\n",
              "            '<a target=\"_blank\" href=https://colab.research.google.com/notebooks/data_table.ipynb>data table notebook</a>'\n",
              "            + ' to learn more about interactive tables.';\n",
              "          element.innerHTML = '';\n",
              "          dataTable['output_type'] = 'display_data';\n",
              "          await google.colab.output.renderOutput(dataTable, element);\n",
              "          const docLink = document.createElement('div');\n",
              "          docLink.innerHTML = docLinkHtml;\n",
              "          element.appendChild(docLink);\n",
              "        }\n",
              "      </script>\n",
              "    </div>\n",
              "  </div>\n",
              "  "
            ]
          },
          "metadata": {},
          "execution_count": 175
        }
      ],
      "source": [
        "# Descriptive statistics after filters\n",
        "\n",
        "describe = df.describe().T.drop('id', axis=0)\n",
        "describe['range'] = describe['max'] - describe['min']\n",
        "describe['kurtosis'] = describe.T.kurtosis()\n",
        "describe['skew'] = describe.T.skew()\n",
        "describe"
      ]
    },
    {
      "cell_type": "markdown",
      "metadata": {
        "heading_collapsed": true,
        "id": "_8fzLkyrliot"
      },
      "source": [
        "## 3.0 - Feature Engineering"
      ]
    },
    {
      "cell_type": "code",
      "execution_count": 176,
      "metadata": {
        "ExecuteTime": {
          "end_time": "2020-11-09T13:45:28.893911Z",
          "start_time": "2020-11-09T13:45:28.882967Z"
        },
        "hidden": true,
        "id": "jPXZ1AQ0liot"
      },
      "outputs": [],
      "source": [
        "df1=df.copy(())"
      ]
    },
    {
      "cell_type": "code",
      "execution_count": 177,
      "metadata": {
        "ExecuteTime": {
          "end_time": "2020-11-09T13:45:28.995218Z",
          "start_time": "2020-11-09T13:45:28.895364Z"
        },
        "hidden": true,
        "id": "C3yhuDZTliou"
      },
      "outputs": [],
      "source": [
        "# A difference between systolic and diastolic arterial pressure, \n",
        "\n",
        "df1['difference'] = df1['hight_pressure'] - df1['low_pressure'] # A difference between systolic and diastolic arterial pressure\n",
        "df1['convergent'] = df1['difference'].apply(lambda x: 1 if x <= 30 else 0) # lesser than 30mmhg called convergent \n",
        "df1['divergent'] = df1['difference'].apply(lambda x: 1 if x >= 60 else 0)# and upper than 60mmhg called divergent "
      ]
    },
    {
      "cell_type": "code",
      "execution_count": 178,
      "metadata": {
        "ExecuteTime": {
          "end_time": "2020-11-09T13:45:29.039434Z",
          "start_time": "2020-11-09T13:45:28.996621Z"
        },
        "hidden": true,
        "id": "UuIfNfrgliou"
      },
      "outputs": [],
      "source": [
        "# BMI calculus and slices in four levels\n",
        "df1['bmi'] = (df1['weight']/(df1['height'] * df1['height']))\n",
        "df1['bmi_level'] = df1['bmi'].apply(lambda x: \n",
        "                                              '0' if x <= 18.5 else\n",
        "                                              '1'      if x >  18.5 and x <= 24.9 else\n",
        "                                              '2'  if x >= 25.0 and x <= 29.9 else\n",
        "                                              '3')"
      ]
    },
    {
      "cell_type": "code",
      "execution_count": 179,
      "metadata": {
        "ExecuteTime": {
          "end_time": "2020-11-09T13:45:29.915396Z",
          "start_time": "2020-11-09T13:45:29.040920Z"
        },
        "hidden": true,
        "id": "eqps3oHmliou"
      },
      "outputs": [],
      "source": [
        "# Hypertension and Hipotension binary\n",
        "df1['hypertension'] = df1.apply(lambda x: 1 if x[4] >=140 and x[5] >= 90 else 0, axis=1)\n",
        "df1['hypotension'] = df1.apply(lambda x: 1 if x[4] <=90 and x[5] <= 60 else 0, axis=1)"
      ]
    },
    {
      "cell_type": "code",
      "execution_count": 180,
      "metadata": {
        "ExecuteTime": {
          "end_time": "2020-11-09T13:45:29.936759Z",
          "start_time": "2020-11-09T13:45:29.916859Z"
        },
        "hidden": true,
        "id": "Ez43w-rvliou"
      },
      "outputs": [],
      "source": [
        "# Slicing ages with three ranges\n",
        "df1['age_range'] = df1['age'].apply(lambda x: 1    if x <= 50 \n",
        "                                                   else 2   if x >= 51 and x <= 59 \n",
        "                                                   else 3 if x >= 60 \n",
        "                                                   else x)"
      ]
    },
    {
      "cell_type": "code",
      "execution_count": 181,
      "metadata": {
        "ExecuteTime": {
          "end_time": "2020-11-09T13:45:31.221741Z",
          "start_time": "2020-11-09T13:45:29.938497Z"
        },
        "hidden": true,
        "id": "0mRbAX2-liou"
      },
      "outputs": [],
      "source": [
        "df1['weight_range'] = df1['weight'].apply(\n",
        "    lambda x:   0.50 if x <= 50  else\n",
        "                0.75 if x >= 51  and x <= 75 else\n",
        "                1.00 if x >= 76  and x <= 100 else\n",
        "                1.25 if x >= 101 and x <= 125 else\n",
        "                1.50 if x >= 126 and x <= 150 else\n",
        "                1.75 if x >= 151 and x <= 175 else 2.00)"
      ]
    },
    {
      "cell_type": "markdown",
      "metadata": {
        "heading_collapsed": true,
        "id": "J7KZhvIJliou"
      },
      "source": [
        "## 4.0 - Data Filtering"
      ]
    },
    {
      "cell_type": "code",
      "execution_count": 182,
      "metadata": {
        "ExecuteTime": {
          "end_time": "2020-11-09T13:45:31.277215Z",
          "start_time": "2020-11-09T13:45:31.223143Z"
        },
        "hidden": true,
        "id": "Py_Y_-bBliou",
        "outputId": "84c7f40e-193a-4184-8a40-5ad1bc7e515e",
        "colab": {
          "base_uri": "https://localhost:8080/",
          "height": 250
        }
      },
      "outputs": [
        {
          "output_type": "execute_result",
          "data": {
            "text/plain": [
              "      id  age  gender  height  weight  hight_pressure  low_pressure  cholesterol  glucose  smoker  alcohol  active  cardio  difference  convergent  divergent        bmi bmi_level  hypertension  hypotension  age_range  weight_range\n",
              "0  85211   58       1    1.65    75.0             140            80            2        3       0        0       1       0          60           0          1  27.548209         2             0            0          2          0.75\n",
              "1  44031   47       1    1.65   100.0             120            80            3        1       0        0       1       1          40           0          0  36.730946         3             0            0          1          1.00\n",
              "2  57435   59       2    1.76    96.0             130            90            1        1       0        1       0       1          40           0          0  30.991736         3             0            0          2          1.00\n",
              "3  12364   50       1    1.60    60.0             150            90            1        1       0        0       1       1          60           0          1  23.437500         1             0            0          1          0.75\n",
              "4  46428   63       1    1.67    56.0             140            90            1        1       0        0       1       1          50           0          0  20.079601         1             0            0          3          0.75"
            ],
            "text/html": [
              "\n",
              "  <div id=\"df-cc0bfd78-9d44-46fb-8d7c-6c1e37e4e69b\">\n",
              "    <div class=\"colab-df-container\">\n",
              "      <div>\n",
              "<style scoped>\n",
              "    .dataframe tbody tr th:only-of-type {\n",
              "        vertical-align: middle;\n",
              "    }\n",
              "\n",
              "    .dataframe tbody tr th {\n",
              "        vertical-align: top;\n",
              "    }\n",
              "\n",
              "    .dataframe thead th {\n",
              "        text-align: right;\n",
              "    }\n",
              "</style>\n",
              "<table border=\"1\" class=\"dataframe\">\n",
              "  <thead>\n",
              "    <tr style=\"text-align: right;\">\n",
              "      <th></th>\n",
              "      <th>id</th>\n",
              "      <th>age</th>\n",
              "      <th>gender</th>\n",
              "      <th>height</th>\n",
              "      <th>weight</th>\n",
              "      <th>hight_pressure</th>\n",
              "      <th>low_pressure</th>\n",
              "      <th>cholesterol</th>\n",
              "      <th>glucose</th>\n",
              "      <th>smoker</th>\n",
              "      <th>alcohol</th>\n",
              "      <th>active</th>\n",
              "      <th>cardio</th>\n",
              "      <th>difference</th>\n",
              "      <th>convergent</th>\n",
              "      <th>divergent</th>\n",
              "      <th>bmi</th>\n",
              "      <th>bmi_level</th>\n",
              "      <th>hypertension</th>\n",
              "      <th>hypotension</th>\n",
              "      <th>age_range</th>\n",
              "      <th>weight_range</th>\n",
              "    </tr>\n",
              "  </thead>\n",
              "  <tbody>\n",
              "    <tr>\n",
              "      <th>0</th>\n",
              "      <td>85211</td>\n",
              "      <td>58</td>\n",
              "      <td>1</td>\n",
              "      <td>1.65</td>\n",
              "      <td>75.0</td>\n",
              "      <td>140</td>\n",
              "      <td>80</td>\n",
              "      <td>2</td>\n",
              "      <td>3</td>\n",
              "      <td>0</td>\n",
              "      <td>0</td>\n",
              "      <td>1</td>\n",
              "      <td>0</td>\n",
              "      <td>60</td>\n",
              "      <td>0</td>\n",
              "      <td>1</td>\n",
              "      <td>27.548209</td>\n",
              "      <td>2</td>\n",
              "      <td>0</td>\n",
              "      <td>0</td>\n",
              "      <td>2</td>\n",
              "      <td>0.75</td>\n",
              "    </tr>\n",
              "    <tr>\n",
              "      <th>1</th>\n",
              "      <td>44031</td>\n",
              "      <td>47</td>\n",
              "      <td>1</td>\n",
              "      <td>1.65</td>\n",
              "      <td>100.0</td>\n",
              "      <td>120</td>\n",
              "      <td>80</td>\n",
              "      <td>3</td>\n",
              "      <td>1</td>\n",
              "      <td>0</td>\n",
              "      <td>0</td>\n",
              "      <td>1</td>\n",
              "      <td>1</td>\n",
              "      <td>40</td>\n",
              "      <td>0</td>\n",
              "      <td>0</td>\n",
              "      <td>36.730946</td>\n",
              "      <td>3</td>\n",
              "      <td>0</td>\n",
              "      <td>0</td>\n",
              "      <td>1</td>\n",
              "      <td>1.00</td>\n",
              "    </tr>\n",
              "    <tr>\n",
              "      <th>2</th>\n",
              "      <td>57435</td>\n",
              "      <td>59</td>\n",
              "      <td>2</td>\n",
              "      <td>1.76</td>\n",
              "      <td>96.0</td>\n",
              "      <td>130</td>\n",
              "      <td>90</td>\n",
              "      <td>1</td>\n",
              "      <td>1</td>\n",
              "      <td>0</td>\n",
              "      <td>1</td>\n",
              "      <td>0</td>\n",
              "      <td>1</td>\n",
              "      <td>40</td>\n",
              "      <td>0</td>\n",
              "      <td>0</td>\n",
              "      <td>30.991736</td>\n",
              "      <td>3</td>\n",
              "      <td>0</td>\n",
              "      <td>0</td>\n",
              "      <td>2</td>\n",
              "      <td>1.00</td>\n",
              "    </tr>\n",
              "    <tr>\n",
              "      <th>3</th>\n",
              "      <td>12364</td>\n",
              "      <td>50</td>\n",
              "      <td>1</td>\n",
              "      <td>1.60</td>\n",
              "      <td>60.0</td>\n",
              "      <td>150</td>\n",
              "      <td>90</td>\n",
              "      <td>1</td>\n",
              "      <td>1</td>\n",
              "      <td>0</td>\n",
              "      <td>0</td>\n",
              "      <td>1</td>\n",
              "      <td>1</td>\n",
              "      <td>60</td>\n",
              "      <td>0</td>\n",
              "      <td>1</td>\n",
              "      <td>23.437500</td>\n",
              "      <td>1</td>\n",
              "      <td>0</td>\n",
              "      <td>0</td>\n",
              "      <td>1</td>\n",
              "      <td>0.75</td>\n",
              "    </tr>\n",
              "    <tr>\n",
              "      <th>4</th>\n",
              "      <td>46428</td>\n",
              "      <td>63</td>\n",
              "      <td>1</td>\n",
              "      <td>1.67</td>\n",
              "      <td>56.0</td>\n",
              "      <td>140</td>\n",
              "      <td>90</td>\n",
              "      <td>1</td>\n",
              "      <td>1</td>\n",
              "      <td>0</td>\n",
              "      <td>0</td>\n",
              "      <td>1</td>\n",
              "      <td>1</td>\n",
              "      <td>50</td>\n",
              "      <td>0</td>\n",
              "      <td>0</td>\n",
              "      <td>20.079601</td>\n",
              "      <td>1</td>\n",
              "      <td>0</td>\n",
              "      <td>0</td>\n",
              "      <td>3</td>\n",
              "      <td>0.75</td>\n",
              "    </tr>\n",
              "  </tbody>\n",
              "</table>\n",
              "</div>\n",
              "      <button class=\"colab-df-convert\" onclick=\"convertToInteractive('df-cc0bfd78-9d44-46fb-8d7c-6c1e37e4e69b')\"\n",
              "              title=\"Convert this dataframe to an interactive table.\"\n",
              "              style=\"display:none;\">\n",
              "        \n",
              "  <svg xmlns=\"http://www.w3.org/2000/svg\" height=\"24px\"viewBox=\"0 0 24 24\"\n",
              "       width=\"24px\">\n",
              "    <path d=\"M0 0h24v24H0V0z\" fill=\"none\"/>\n",
              "    <path d=\"M18.56 5.44l.94 2.06.94-2.06 2.06-.94-2.06-.94-.94-2.06-.94 2.06-2.06.94zm-11 1L8.5 8.5l.94-2.06 2.06-.94-2.06-.94L8.5 2.5l-.94 2.06-2.06.94zm10 10l.94 2.06.94-2.06 2.06-.94-2.06-.94-.94-2.06-.94 2.06-2.06.94z\"/><path d=\"M17.41 7.96l-1.37-1.37c-.4-.4-.92-.59-1.43-.59-.52 0-1.04.2-1.43.59L10.3 9.45l-7.72 7.72c-.78.78-.78 2.05 0 2.83L4 21.41c.39.39.9.59 1.41.59.51 0 1.02-.2 1.41-.59l7.78-7.78 2.81-2.81c.8-.78.8-2.07 0-2.86zM5.41 20L4 18.59l7.72-7.72 1.47 1.35L5.41 20z\"/>\n",
              "  </svg>\n",
              "      </button>\n",
              "      \n",
              "  <style>\n",
              "    .colab-df-container {\n",
              "      display:flex;\n",
              "      flex-wrap:wrap;\n",
              "      gap: 12px;\n",
              "    }\n",
              "\n",
              "    .colab-df-convert {\n",
              "      background-color: #E8F0FE;\n",
              "      border: none;\n",
              "      border-radius: 50%;\n",
              "      cursor: pointer;\n",
              "      display: none;\n",
              "      fill: #1967D2;\n",
              "      height: 32px;\n",
              "      padding: 0 0 0 0;\n",
              "      width: 32px;\n",
              "    }\n",
              "\n",
              "    .colab-df-convert:hover {\n",
              "      background-color: #E2EBFA;\n",
              "      box-shadow: 0px 1px 2px rgba(60, 64, 67, 0.3), 0px 1px 3px 1px rgba(60, 64, 67, 0.15);\n",
              "      fill: #174EA6;\n",
              "    }\n",
              "\n",
              "    [theme=dark] .colab-df-convert {\n",
              "      background-color: #3B4455;\n",
              "      fill: #D2E3FC;\n",
              "    }\n",
              "\n",
              "    [theme=dark] .colab-df-convert:hover {\n",
              "      background-color: #434B5C;\n",
              "      box-shadow: 0px 1px 3px 1px rgba(0, 0, 0, 0.15);\n",
              "      filter: drop-shadow(0px 1px 2px rgba(0, 0, 0, 0.3));\n",
              "      fill: #FFFFFF;\n",
              "    }\n",
              "  </style>\n",
              "\n",
              "      <script>\n",
              "        const buttonEl =\n",
              "          document.querySelector('#df-cc0bfd78-9d44-46fb-8d7c-6c1e37e4e69b button.colab-df-convert');\n",
              "        buttonEl.style.display =\n",
              "          google.colab.kernel.accessAllowed ? 'block' : 'none';\n",
              "\n",
              "        async function convertToInteractive(key) {\n",
              "          const element = document.querySelector('#df-cc0bfd78-9d44-46fb-8d7c-6c1e37e4e69b');\n",
              "          const dataTable =\n",
              "            await google.colab.kernel.invokeFunction('convertToInteractive',\n",
              "                                                     [key], {});\n",
              "          if (!dataTable) return;\n",
              "\n",
              "          const docLinkHtml = 'Like what you see? Visit the ' +\n",
              "            '<a target=\"_blank\" href=https://colab.research.google.com/notebooks/data_table.ipynb>data table notebook</a>'\n",
              "            + ' to learn more about interactive tables.';\n",
              "          element.innerHTML = '';\n",
              "          dataTable['output_type'] = 'display_data';\n",
              "          await google.colab.output.renderOutput(dataTable, element);\n",
              "          const docLink = document.createElement('div');\n",
              "          docLink.innerHTML = docLinkHtml;\n",
              "          element.appendChild(docLink);\n",
              "        }\n",
              "      </script>\n",
              "    </div>\n",
              "  </div>\n",
              "  "
            ]
          },
          "metadata": {},
          "execution_count": 182
        }
      ],
      "source": [
        "df1.head()"
      ]
    },
    {
      "cell_type": "code",
      "execution_count": 183,
      "metadata": {
        "ExecuteTime": {
          "end_time": "2020-11-09T13:45:31.410765Z",
          "start_time": "2020-11-09T13:45:31.355518Z"
        },
        "hidden": true,
        "id": "sRz660foliou",
        "outputId": "7ee7c013-1156-49be-9fe9-f4c0c9b0e646",
        "colab": {
          "base_uri": "https://localhost:8080/"
        }
      },
      "outputs": [
        {
          "output_type": "execute_result",
          "data": {
            "text/plain": [
              "(153594, 22)"
            ]
          },
          "metadata": {},
          "execution_count": 183
        }
      ],
      "source": [
        "df1.shape"
      ]
    },
    {
      "cell_type": "markdown",
      "metadata": {
        "heading_collapsed": true,
        "id": "EguSDvK-liov"
      },
      "source": [
        "## 5.0 - EDA - Explolatory Data Analysis"
      ]
    },
    {
      "cell_type": "code",
      "execution_count": 184,
      "metadata": {
        "id": "enB0-zLqliov"
      },
      "outputs": [],
      "source": [
        "df2=df1.copy()"
      ]
    },
    {
      "cell_type": "markdown",
      "metadata": {
        "id": "QPOyVPFWliov"
      },
      "source": [
        "### 5.1 - Univariate Analysis"
      ]
    },
    {
      "cell_type": "code",
      "execution_count": 185,
      "metadata": {
        "ExecuteTime": {
          "end_time": "2020-10-22T22:42:17.646083Z",
          "start_time": "2020-10-22T22:42:13.914660Z"
        },
        "hidden": true,
        "id": "tifqX4Zlliov",
        "outputId": "30904ae4-c578-4323-a09d-18c6b9ee8e5a",
        "colab": {
          "base_uri": "https://localhost:8080/",
          "height": 556
        }
      },
      "outputs": [
        {
          "output_type": "display_data",
          "data": {
            "text/plain": [
              "<Figure size 1800x648 with 25 Axes>"
            ],
            "image/png": "[encoded data removed]"
          },
          "metadata": {}
        }
      ],
      "source": [
        "# Distribution from all data\n",
        "df2.hist(bins=50);"
      ]
    },
    {
      "cell_type": "markdown",
      "metadata": {
        "ExecuteTime": {
          "end_time": "2020-09-18T01:04:48.261141Z",
          "start_time": "2020-09-18T01:04:48.255706Z"
        },
        "heading_collapsed": true,
        "hidden": true,
        "id": "7I4Go99Rliov"
      },
      "source": [
        "### 5.2 - Bivariate Analysis"
      ]
    },
    {
      "cell_type": "markdown",
      "metadata": {
        "ExecuteTime": {
          "end_time": "2020-09-18T01:04:48.261141Z",
          "start_time": "2020-09-18T01:04:48.255706Z"
        },
        "heading_collapsed": true,
        "hidden": true,
        "id": "dZuLrAXbliov"
      },
      "source": [
        "##### 5.2.1 - How more active, less diseases\n",
        "False"
      ]
    },
    {
      "cell_type": "code",
      "execution_count": 186,
      "metadata": {
        "ExecuteTime": {
          "end_time": "2020-10-22T22:42:23.268094Z",
          "start_time": "2020-10-22T22:42:23.251686Z"
        },
        "hidden": true,
        "id": "puLYJYv2liov",
        "outputId": "381c3bd3-f724-4442-b89d-33843b4852b0",
        "colab": {
          "base_uri": "https://localhost:8080/",
          "height": 175
        }
      },
      "outputs": [
        {
          "output_type": "execute_result",
          "data": {
            "text/plain": [
              "   cardio  active         0\n",
              "0       0       1  0.819081\n",
              "1       0       0  0.180919\n",
              "2       1       1  0.789271\n",
              "3       1       0  0.210729"
            ],
            "text/html": [
              "\n",
              "  <div id=\"df-1b4960bc-1daa-4ece-a61d-54d5a2c504de\">\n",
              "    <div class=\"colab-df-container\">\n",
              "      <div>\n",
              "<style scoped>\n",
              "    .dataframe tbody tr th:only-of-type {\n",
              "        vertical-align: middle;\n",
              "    }\n",
              "\n",
              "    .dataframe tbody tr th {\n",
              "        vertical-align: top;\n",
              "    }\n",
              "\n",
              "    .dataframe thead th {\n",
              "        text-align: right;\n",
              "    }\n",
              "</style>\n",
              "<table border=\"1\" class=\"dataframe\">\n",
              "  <thead>\n",
              "    <tr style=\"text-align: right;\">\n",
              "      <th></th>\n",
              "      <th>cardio</th>\n",
              "      <th>active</th>\n",
              "      <th>0</th>\n",
              "    </tr>\n",
              "  </thead>\n",
              "  <tbody>\n",
              "    <tr>\n",
              "      <th>0</th>\n",
              "      <td>0</td>\n",
              "      <td>1</td>\n",
              "      <td>0.819081</td>\n",
              "    </tr>\n",
              "    <tr>\n",
              "      <th>1</th>\n",
              "      <td>0</td>\n",
              "      <td>0</td>\n",
              "      <td>0.180919</td>\n",
              "    </tr>\n",
              "    <tr>\n",
              "      <th>2</th>\n",
              "      <td>1</td>\n",
              "      <td>1</td>\n",
              "      <td>0.789271</td>\n",
              "    </tr>\n",
              "    <tr>\n",
              "      <th>3</th>\n",
              "      <td>1</td>\n",
              "      <td>0</td>\n",
              "      <td>0.210729</td>\n",
              "    </tr>\n",
              "  </tbody>\n",
              "</table>\n",
              "</div>\n",
              "      <button class=\"colab-df-convert\" onclick=\"convertToInteractive('df-1b4960bc-1daa-4ece-a61d-54d5a2c504de')\"\n",
              "              title=\"Convert this dataframe to an interactive table.\"\n",
              "              style=\"display:none;\">\n",
              "        \n",
              "  <svg xmlns=\"http://www.w3.org/2000/svg\" height=\"24px\"viewBox=\"0 0 24 24\"\n",
              "       width=\"24px\">\n",
              "    <path d=\"M0 0h24v24H0V0z\" fill=\"none\"/>\n",
              "    <path d=\"M18.56 5.44l.94 2.06.94-2.06 2.06-.94-2.06-.94-.94-2.06-.94 2.06-2.06.94zm-11 1L8.5 8.5l.94-2.06 2.06-.94-2.06-.94L8.5 2.5l-.94 2.06-2.06.94zm10 10l.94 2.06.94-2.06 2.06-.94-2.06-.94-.94-2.06-.94 2.06-2.06.94z\"/><path d=\"M17.41 7.96l-1.37-1.37c-.4-.4-.92-.59-1.43-.59-.52 0-1.04.2-1.43.59L10.3 9.45l-7.72 7.72c-.78.78-.78 2.05 0 2.83L4 21.41c.39.39.9.59 1.41.59.51 0 1.02-.2 1.41-.59l7.78-7.78 2.81-2.81c.8-.78.8-2.07 0-2.86zM5.41 20L4 18.59l7.72-7.72 1.47 1.35L5.41 20z\"/>\n",
              "  </svg>\n",
              "      </button>\n",
              "      \n",
              "  <style>\n",
              "    .colab-df-container {\n",
              "      display:flex;\n",
              "      flex-wrap:wrap;\n",
              "      gap: 12px;\n",
              "    }\n",
              "\n",
              "    .colab-df-convert {\n",
              "      background-color: #E8F0FE;\n",
              "      border: none;\n",
              "      border-radius: 50%;\n",
              "      cursor: pointer;\n",
              "      display: none;\n",
              "      fill: #1967D2;\n",
              "      height: 32px;\n",
              "      padding: 0 0 0 0;\n",
              "      width: 32px;\n",
              "    }\n",
              "\n",
              "    .colab-df-convert:hover {\n",
              "      background-color: #E2EBFA;\n",
              "      box-shadow: 0px 1px 2px rgba(60, 64, 67, 0.3), 0px 1px 3px 1px rgba(60, 64, 67, 0.15);\n",
              "      fill: #174EA6;\n",
              "    }\n",
              "\n",
              "    [theme=dark] .colab-df-convert {\n",
              "      background-color: #3B4455;\n",
              "      fill: #D2E3FC;\n",
              "    }\n",
              "\n",
              "    [theme=dark] .colab-df-convert:hover {\n",
              "      background-color: #434B5C;\n",
              "      box-shadow: 0px 1px 3px 1px rgba(0, 0, 0, 0.15);\n",
              "      filter: drop-shadow(0px 1px 2px rgba(0, 0, 0, 0.3));\n",
              "      fill: #FFFFFF;\n",
              "    }\n",
              "  </style>\n",
              "\n",
              "      <script>\n",
              "        const buttonEl =\n",
              "          document.querySelector('#df-1b4960bc-1daa-4ece-a61d-54d5a2c504de button.colab-df-convert');\n",
              "        buttonEl.style.display =\n",
              "          google.colab.kernel.accessAllowed ? 'block' : 'none';\n",
              "\n",
              "        async function convertToInteractive(key) {\n",
              "          const element = document.querySelector('#df-1b4960bc-1daa-4ece-a61d-54d5a2c504de');\n",
              "          const dataTable =\n",
              "            await google.colab.kernel.invokeFunction('convertToInteractive',\n",
              "                                                     [key], {});\n",
              "          if (!dataTable) return;\n",
              "\n",
              "          const docLinkHtml = 'Like what you see? Visit the ' +\n",
              "            '<a target=\"_blank\" href=https://colab.research.google.com/notebooks/data_table.ipynb>data table notebook</a>'\n",
              "            + ' to learn more about interactive tables.';\n",
              "          element.innerHTML = '';\n",
              "          dataTable['output_type'] = 'display_data';\n",
              "          await google.colab.output.renderOutput(dataTable, element);\n",
              "          const docLink = document.createElement('div');\n",
              "          docLink.innerHTML = docLinkHtml;\n",
              "          element.appendChild(docLink);\n",
              "        }\n",
              "      </script>\n",
              "    </div>\n",
              "  </div>\n",
              "  "
            ]
          },
          "metadata": {},
          "execution_count": 186
        }
      ],
      "source": [
        "df2[['cardio','active']].groupby('cardio').value_counts(normalize=True ).reset_index()"
      ]
    },
    {
      "cell_type": "code",
      "execution_count": 187,
      "metadata": {
        "ExecuteTime": {
          "end_time": "2020-10-22T22:42:22.570622Z",
          "start_time": "2020-10-22T22:42:20.920272Z"
        },
        "hidden": true,
        "id": "W-XYu7QZliov",
        "outputId": "aa2f107b-2a1c-4121-ff4e-215f088dfde8",
        "colab": {
          "base_uri": "https://localhost:8080/",
          "height": 561
        }
      },
      "outputs": [
        {
          "output_type": "display_data",
          "data": {
            "text/plain": [
              "<Figure size 1800x648 with 3 Axes>"
            ],
            "image/png": "[encoded data removed]"
          },
          "metadata": {}
        }
      ],
      "source": [
        "subplot(1,2,1)\n",
        "sns.countplot(hue='cardio', x='active', data=df2);\n",
        "\n",
        "subplot(1,2,2)\n",
        "sns.heatmap(df2[['cardio','active']].corr(method='pearson'), annot=True);\n"
      ]
    },
    {
      "cell_type": "markdown",
      "metadata": {
        "ExecuteTime": {
          "end_time": "2020-09-18T01:04:48.261141Z",
          "start_time": "2020-09-18T01:04:48.255706Z"
        },
        "heading_collapsed": true,
        "hidden": true,
        "id": "EhttxJ7jliow"
      },
      "source": [
        "##### 5.2.2 - Cholesterou over level I, more risk\n",
        " True (perarson >0.2)"
      ]
    },
    {
      "cell_type": "code",
      "execution_count": 188,
      "metadata": {
        "id": "WdGCtWfeliow",
        "outputId": "2dc13883-bd7e-486e-85b3-6b155edf0c25",
        "colab": {
          "base_uri": "https://localhost:8080/",
          "height": 238
        }
      },
      "outputs": [
        {
          "output_type": "execute_result",
          "data": {
            "text/plain": [
              "   cardio  cholesterol         0\n",
              "0       0            1  0.837729\n",
              "1       0            2  0.108206\n",
              "2       0            3  0.054064\n",
              "3       1            1  0.659798\n",
              "4       1            3  0.176402\n",
              "5       1            2  0.163801"
            ],
            "text/html": [
              "\n",
              "  <div id=\"df-8a4ea00b-f234-491f-8bcb-f07660caf742\">\n",
              "    <div class=\"colab-df-container\">\n",
              "      <div>\n",
              "<style scoped>\n",
              "    .dataframe tbody tr th:only-of-type {\n",
              "        vertical-align: middle;\n",
              "    }\n",
              "\n",
              "    .dataframe tbody tr th {\n",
              "        vertical-align: top;\n",
              "    }\n",
              "\n",
              "    .dataframe thead th {\n",
              "        text-align: right;\n",
              "    }\n",
              "</style>\n",
              "<table border=\"1\" class=\"dataframe\">\n",
              "  <thead>\n",
              "    <tr style=\"text-align: right;\">\n",
              "      <th></th>\n",
              "      <th>cardio</th>\n",
              "      <th>cholesterol</th>\n",
              "      <th>0</th>\n",
              "    </tr>\n",
              "  </thead>\n",
              "  <tbody>\n",
              "    <tr>\n",
              "      <th>0</th>\n",
              "      <td>0</td>\n",
              "      <td>1</td>\n",
              "      <td>0.837729</td>\n",
              "    </tr>\n",
              "    <tr>\n",
              "      <th>1</th>\n",
              "      <td>0</td>\n",
              "      <td>2</td>\n",
              "      <td>0.108206</td>\n",
              "    </tr>\n",
              "    <tr>\n",
              "      <th>2</th>\n",
              "      <td>0</td>\n",
              "      <td>3</td>\n",
              "      <td>0.054064</td>\n",
              "    </tr>\n",
              "    <tr>\n",
              "      <th>3</th>\n",
              "      <td>1</td>\n",
              "      <td>1</td>\n",
              "      <td>0.659798</td>\n",
              "    </tr>\n",
              "    <tr>\n",
              "      <th>4</th>\n",
              "      <td>1</td>\n",
              "      <td>3</td>\n",
              "      <td>0.176402</td>\n",
              "    </tr>\n",
              "    <tr>\n",
              "      <th>5</th>\n",
              "      <td>1</td>\n",
              "      <td>2</td>\n",
              "      <td>0.163801</td>\n",
              "    </tr>\n",
              "  </tbody>\n",
              "</table>\n",
              "</div>\n",
              "      <button class=\"colab-df-convert\" onclick=\"convertToInteractive('df-8a4ea00b-f234-491f-8bcb-f07660caf742')\"\n",
              "              title=\"Convert this dataframe to an interactive table.\"\n",
              "              style=\"display:none;\">\n",
              "        \n",
              "  <svg xmlns=\"http://www.w3.org/2000/svg\" height=\"24px\"viewBox=\"0 0 24 24\"\n",
              "       width=\"24px\">\n",
              "    <path d=\"M0 0h24v24H0V0z\" fill=\"none\"/>\n",
              "    <path d=\"M18.56 5.44l.94 2.06.94-2.06 2.06-.94-2.06-.94-.94-2.06-.94 2.06-2.06.94zm-11 1L8.5 8.5l.94-2.06 2.06-.94-2.06-.94L8.5 2.5l-.94 2.06-2.06.94zm10 10l.94 2.06.94-2.06 2.06-.94-2.06-.94-.94-2.06-.94 2.06-2.06.94z\"/><path d=\"M17.41 7.96l-1.37-1.37c-.4-.4-.92-.59-1.43-.59-.52 0-1.04.2-1.43.59L10.3 9.45l-7.72 7.72c-.78.78-.78 2.05 0 2.83L4 21.41c.39.39.9.59 1.41.59.51 0 1.02-.2 1.41-.59l7.78-7.78 2.81-2.81c.8-.78.8-2.07 0-2.86zM5.41 20L4 18.59l7.72-7.72 1.47 1.35L5.41 20z\"/>\n",
              "  </svg>\n",
              "      </button>\n",
              "      \n",
              "  <style>\n",
              "    .colab-df-container {\n",
              "      display:flex;\n",
              "      flex-wrap:wrap;\n",
              "      gap: 12px;\n",
              "    }\n",
              "\n",
              "    .colab-df-convert {\n",
              "      background-color: #E8F0FE;\n",
              "      border: none;\n",
              "      border-radius: 50%;\n",
              "      cursor: pointer;\n",
              "      display: none;\n",
              "      fill: #1967D2;\n",
              "      height: 32px;\n",
              "      padding: 0 0 0 0;\n",
              "      width: 32px;\n",
              "    }\n",
              "\n",
              "    .colab-df-convert:hover {\n",
              "      background-color: #E2EBFA;\n",
              "      box-shadow: 0px 1px 2px rgba(60, 64, 67, 0.3), 0px 1px 3px 1px rgba(60, 64, 67, 0.15);\n",
              "      fill: #174EA6;\n",
              "    }\n",
              "\n",
              "    [theme=dark] .colab-df-convert {\n",
              "      background-color: #3B4455;\n",
              "      fill: #D2E3FC;\n",
              "    }\n",
              "\n",
              "    [theme=dark] .colab-df-convert:hover {\n",
              "      background-color: #434B5C;\n",
              "      box-shadow: 0px 1px 3px 1px rgba(0, 0, 0, 0.15);\n",
              "      filter: drop-shadow(0px 1px 2px rgba(0, 0, 0, 0.3));\n",
              "      fill: #FFFFFF;\n",
              "    }\n",
              "  </style>\n",
              "\n",
              "      <script>\n",
              "        const buttonEl =\n",
              "          document.querySelector('#df-8a4ea00b-f234-491f-8bcb-f07660caf742 button.colab-df-convert');\n",
              "        buttonEl.style.display =\n",
              "          google.colab.kernel.accessAllowed ? 'block' : 'none';\n",
              "\n",
              "        async function convertToInteractive(key) {\n",
              "          const element = document.querySelector('#df-8a4ea00b-f234-491f-8bcb-f07660caf742');\n",
              "          const dataTable =\n",
              "            await google.colab.kernel.invokeFunction('convertToInteractive',\n",
              "                                                     [key], {});\n",
              "          if (!dataTable) return;\n",
              "\n",
              "          const docLinkHtml = 'Like what you see? Visit the ' +\n",
              "            '<a target=\"_blank\" href=https://colab.research.google.com/notebooks/data_table.ipynb>data table notebook</a>'\n",
              "            + ' to learn more about interactive tables.';\n",
              "          element.innerHTML = '';\n",
              "          dataTable['output_type'] = 'display_data';\n",
              "          await google.colab.output.renderOutput(dataTable, element);\n",
              "          const docLink = document.createElement('div');\n",
              "          docLink.innerHTML = docLinkHtml;\n",
              "          element.appendChild(docLink);\n",
              "        }\n",
              "      </script>\n",
              "    </div>\n",
              "  </div>\n",
              "  "
            ]
          },
          "metadata": {},
          "execution_count": 188
        }
      ],
      "source": [
        "df2[['cardio','cholesterol']].groupby('cardio').value_counts(normalize=True ).reset_index()"
      ]
    },
    {
      "cell_type": "code",
      "execution_count": 189,
      "metadata": {
        "ExecuteTime": {
          "end_time": "2020-10-22T22:42:24.582632Z",
          "start_time": "2020-10-22T22:42:23.272599Z"
        },
        "hidden": true,
        "id": "fkOogm3fliow",
        "outputId": "e2463b8a-5fc0-47e7-a97c-4ff43ceac4a5",
        "colab": {
          "base_uri": "https://localhost:8080/",
          "height": 561
        }
      },
      "outputs": [
        {
          "output_type": "display_data",
          "data": {
            "text/plain": [
              "<Figure size 1800x648 with 3 Axes>"
            ],
            "image/png": "[encoded data removed]"
          },
          "metadata": {}
        }
      ],
      "source": [
        "plt.subplot(1,2,1)\n",
        "sns.countplot(hue='cardio', x='cholesterol', data=df2);\n",
        "\n",
        "plt.subplot(1,2,2)\n",
        "sns.heatmap(df2[['cardio','cholesterol']].corr(method='pearson'), annot=True);\n"
      ]
    },
    {
      "cell_type": "markdown",
      "metadata": {
        "ExecuteTime": {
          "end_time": "2020-09-18T01:04:48.261141Z",
          "start_time": "2020-09-18T01:04:48.255706Z"
        },
        "heading_collapsed": true,
        "hidden": true,
        "id": "d4Kd4sP3liow"
      },
      "source": [
        "##### 5.2.3 - How more clucose, more risk\n",
        "   False"
      ]
    },
    {
      "cell_type": "markdown",
      "metadata": {
        "hidden": true,
        "id": "g49xQcVmliow"
      },
      "source": [
        "The correlation it's so low, insignificat to model"
      ]
    },
    {
      "cell_type": "code",
      "execution_count": 190,
      "metadata": {
        "id": "lMv2wXTxliow",
        "outputId": "af975c75-d8a9-47f2-8d40-3952d98013a1",
        "colab": {
          "base_uri": "https://localhost:8080/",
          "height": 561
        }
      },
      "outputs": [
        {
          "output_type": "display_data",
          "data": {
            "text/plain": [
              "<Figure size 1800x648 with 3 Axes>"
            ],
            "image/png": "[encoded data removed]"
          },
          "metadata": {}
        }
      ],
      "source": [
        "plt.subplot(1,2,1)\n",
        "sns.countplot(hue='cardio', x='glucose', data=df2);\n",
        "\n",
        "plt.subplot(1,2,2)\n",
        "sns.heatmap(df2[['cardio','glucose']].corr(method='pearson'), annot=True);"
      ]
    },
    {
      "cell_type": "markdown",
      "metadata": {
        "ExecuteTime": {
          "end_time": "2020-09-18T01:04:48.261141Z",
          "start_time": "2020-09-18T01:04:48.255706Z"
        },
        "heading_collapsed": true,
        "hidden": true,
        "id": "R64XdJgAliow"
      },
      "source": [
        "##### 5.2.4 - How more older, more risk\n",
        "   True (perarson >0.2)"
      ]
    },
    {
      "cell_type": "markdown",
      "metadata": {
        "hidden": true,
        "id": "xrN7-Hrzliow"
      },
      "source": [
        "following the years it's more count and more avarage pear year old, low correlation, but, probly it's important to model"
      ]
    },
    {
      "cell_type": "code",
      "execution_count": 191,
      "metadata": {
        "ExecuteTime": {
          "end_time": "2020-10-22T22:42:30.290653Z",
          "start_time": "2020-10-22T22:42:25.571399Z"
        },
        "hidden": true,
        "id": "Wyfz4UuIliow",
        "outputId": "c870ec45-7bed-4622-a9e9-02fc32ef34c0",
        "colab": {
          "base_uri": "https://localhost:8080/",
          "height": 573
        }
      },
      "outputs": [
        {
          "output_type": "display_data",
          "data": {
            "text/plain": [
              "<Figure size 1800x648 with 5 Axes>"
            ],
            "image/png": "[encoded data removed]"
          },
          "metadata": {}
        }
      ],
      "source": [
        "subplot(2,2,1)\n",
        "plt.title('Counting')\n",
        "sns.countplot(x='age', hue='cardio', data=df2);\n",
        "\n",
        "subplot(2,2,2)\n",
        "plt.title('Average')\n",
        "sns.lineplot(data=df2, x='age', y='cardio', estimator='mean');\n",
        "\n",
        "subplot(2,2,3)\n",
        "plt.title('Distribution')\n",
        "sns.distplot(df2['age']);\n",
        "\n",
        "subplot(2,2,4)\n",
        "plt.title('Correlation Between Cardio vs Age')\n",
        "sns.heatmap(df2[['cardio', 'age']].corr('pearson'), annot=True);"
      ]
    },
    {
      "cell_type": "markdown",
      "metadata": {
        "ExecuteTime": {
          "end_time": "2020-09-18T01:04:48.261141Z",
          "start_time": "2020-09-18T01:04:48.255706Z"
        },
        "heading_collapsed": true,
        "hidden": true,
        "id": "RlFxsTZLliox"
      },
      "source": [
        "##### 5.2.5 - Over 60 year old with Hypertension, more risk\n",
        "   False"
      ]
    },
    {
      "cell_type": "code",
      "execution_count": 192,
      "metadata": {
        "ExecuteTime": {
          "end_time": "2020-10-22T22:42:32.532022Z",
          "start_time": "2020-10-22T22:42:30.294257Z"
        },
        "hidden": true,
        "id": "clgJUEhhliox",
        "outputId": "0eef38e7-e1cf-4154-f3e9-38a45400ab75",
        "colab": {
          "base_uri": "https://localhost:8080/",
          "height": 557
        }
      },
      "outputs": [
        {
          "output_type": "display_data",
          "data": {
            "text/plain": [
              "<Figure size 1800x648 with 5 Axes>"
            ],
            "image/png": "[encoded data removed]"
          },
          "metadata": {}
        }
      ],
      "source": [
        "aux = df2[['age_range', 'cardio']].groupby('age_range').mean().reset_index()\n",
        "aux1 = df2[['cardio', 'age_range', 'hypertension']]\n",
        "\n",
        "plt.subplot(2,2,1)\n",
        "sns.countplot(hue='cardio', x='hypertension', data=aux1);\n",
        "\n",
        "plt.subplot(2,2,2)\n",
        "sns.countplot(x='age', hue='cardio', data=df2);\n",
        "\n",
        "# Average incidence of diseases by hypertension and over 60 year.\n",
        "subplot(2,2,3)\n",
        "aux = df2[['hypertension', 'cardio', 'age_range']].groupby(['hypertension', 'age_range']).mean().reset_index()\n",
        "sns.barplot(x='age_range', y='cardio', hue='hypertension', data=aux);\n",
        "\n",
        "subplot(2,2,4)\n",
        "sns.heatmap(df2[['cardio', 'hypertension', 'age']].corr('pearson'), annot=True);"
      ]
    },
    {
      "cell_type": "markdown",
      "metadata": {
        "ExecuteTime": {
          "end_time": "2020-09-18T01:04:48.261141Z",
          "start_time": "2020-09-18T01:04:48.255706Z"
        },
        "heading_collapsed": true,
        "hidden": true,
        "id": "_NDnGpOHliox"
      },
      "source": [
        "##### 5.2.6 - 60 year old with Hypotension, more risk\n",
        "   False"
      ]
    },
    {
      "cell_type": "code",
      "execution_count": 193,
      "metadata": {
        "ExecuteTime": {
          "end_time": "2020-10-22T22:42:33.105010Z",
          "start_time": "2020-10-22T22:42:32.534076Z"
        },
        "hidden": true,
        "id": "3sI_JEWNliox",
        "outputId": "285243bc-7f7c-4767-f1e0-c786bb72a82e",
        "colab": {
          "base_uri": "https://localhost:8080/",
          "height": 561
        }
      },
      "outputs": [
        {
          "output_type": "display_data",
          "data": {
            "text/plain": [
              "<Figure size 1800x648 with 3 Axes>"
            ],
            "image/png": "[encoded data removed]"
          },
          "metadata": {}
        }
      ],
      "source": [
        "aux = df2[['hypotension', 'age_range', 'cardio']].groupby(\n",
        "    ['hypotension', 'age_range']).mean().reset_index()\n",
        "\n",
        "plt.subplot(1,2,1)\n",
        "sns.barplot(x='age_range', y='cardio', hue='hypotension', data=aux);\n",
        "\n",
        "\n",
        "plt.subplot(1,2,2)\n",
        "sns.heatmap(df2[['age_range', 'hypotension', 'cardio']].corr('pearson'), annot=True);"
      ]
    },
    {
      "cell_type": "markdown",
      "metadata": {
        "id": "qMAm3wHYliox"
      },
      "source": [
        "##### 5.2.7 - 60 year old, more risk\n",
        "   False"
      ]
    },
    {
      "cell_type": "code",
      "execution_count": 194,
      "metadata": {
        "id": "150qDVEcliox",
        "outputId": "cfd2f071-b6d3-46e1-bfa5-2e253781daf1",
        "colab": {
          "base_uri": "https://localhost:8080/",
          "height": 238
        }
      },
      "outputs": [
        {
          "output_type": "execute_result",
          "data": {
            "text/plain": [
              "   cardio  age_range         0\n",
              "0       0          1  0.444313\n",
              "1       0          2  0.433727\n",
              "2       0          3  0.121961\n",
              "3       1          2  0.487465\n",
              "4       1          1  0.262502\n",
              "5       1          3  0.250033"
            ],
            "text/html": [
              "\n",
              "  <div id=\"df-8649e85a-5577-43f2-ad22-5841bfafa733\">\n",
              "    <div class=\"colab-df-container\">\n",
              "      <div>\n",
              "<style scoped>\n",
              "    .dataframe tbody tr th:only-of-type {\n",
              "        vertical-align: middle;\n",
              "    }\n",
              "\n",
              "    .dataframe tbody tr th {\n",
              "        vertical-align: top;\n",
              "    }\n",
              "\n",
              "    .dataframe thead th {\n",
              "        text-align: right;\n",
              "    }\n",
              "</style>\n",
              "<table border=\"1\" class=\"dataframe\">\n",
              "  <thead>\n",
              "    <tr style=\"text-align: right;\">\n",
              "      <th></th>\n",
              "      <th>cardio</th>\n",
              "      <th>age_range</th>\n",
              "      <th>0</th>\n",
              "    </tr>\n",
              "  </thead>\n",
              "  <tbody>\n",
              "    <tr>\n",
              "      <th>0</th>\n",
              "      <td>0</td>\n",
              "      <td>1</td>\n",
              "      <td>0.444313</td>\n",
              "    </tr>\n",
              "    <tr>\n",
              "      <th>1</th>\n",
              "      <td>0</td>\n",
              "      <td>2</td>\n",
              "      <td>0.433727</td>\n",
              "    </tr>\n",
              "    <tr>\n",
              "      <th>2</th>\n",
              "      <td>0</td>\n",
              "      <td>3</td>\n",
              "      <td>0.121961</td>\n",
              "    </tr>\n",
              "    <tr>\n",
              "      <th>3</th>\n",
              "      <td>1</td>\n",
              "      <td>2</td>\n",
              "      <td>0.487465</td>\n",
              "    </tr>\n",
              "    <tr>\n",
              "      <th>4</th>\n",
              "      <td>1</td>\n",
              "      <td>1</td>\n",
              "      <td>0.262502</td>\n",
              "    </tr>\n",
              "    <tr>\n",
              "      <th>5</th>\n",
              "      <td>1</td>\n",
              "      <td>3</td>\n",
              "      <td>0.250033</td>\n",
              "    </tr>\n",
              "  </tbody>\n",
              "</table>\n",
              "</div>\n",
              "      <button class=\"colab-df-convert\" onclick=\"convertToInteractive('df-8649e85a-5577-43f2-ad22-5841bfafa733')\"\n",
              "              title=\"Convert this dataframe to an interactive table.\"\n",
              "              style=\"display:none;\">\n",
              "        \n",
              "  <svg xmlns=\"http://www.w3.org/2000/svg\" height=\"24px\"viewBox=\"0 0 24 24\"\n",
              "       width=\"24px\">\n",
              "    <path d=\"M0 0h24v24H0V0z\" fill=\"none\"/>\n",
              "    <path d=\"M18.56 5.44l.94 2.06.94-2.06 2.06-.94-2.06-.94-.94-2.06-.94 2.06-2.06.94zm-11 1L8.5 8.5l.94-2.06 2.06-.94-2.06-.94L8.5 2.5l-.94 2.06-2.06.94zm10 10l.94 2.06.94-2.06 2.06-.94-2.06-.94-.94-2.06-.94 2.06-2.06.94z\"/><path d=\"M17.41 7.96l-1.37-1.37c-.4-.4-.92-.59-1.43-.59-.52 0-1.04.2-1.43.59L10.3 9.45l-7.72 7.72c-.78.78-.78 2.05 0 2.83L4 21.41c.39.39.9.59 1.41.59.51 0 1.02-.2 1.41-.59l7.78-7.78 2.81-2.81c.8-.78.8-2.07 0-2.86zM5.41 20L4 18.59l7.72-7.72 1.47 1.35L5.41 20z\"/>\n",
              "  </svg>\n",
              "      </button>\n",
              "      \n",
              "  <style>\n",
              "    .colab-df-container {\n",
              "      display:flex;\n",
              "      flex-wrap:wrap;\n",
              "      gap: 12px;\n",
              "    }\n",
              "\n",
              "    .colab-df-convert {\n",
              "      background-color: #E8F0FE;\n",
              "      border: none;\n",
              "      border-radius: 50%;\n",
              "      cursor: pointer;\n",
              "      display: none;\n",
              "      fill: #1967D2;\n",
              "      height: 32px;\n",
              "      padding: 0 0 0 0;\n",
              "      width: 32px;\n",
              "    }\n",
              "\n",
              "    .colab-df-convert:hover {\n",
              "      background-color: #E2EBFA;\n",
              "      box-shadow: 0px 1px 2px rgba(60, 64, 67, 0.3), 0px 1px 3px 1px rgba(60, 64, 67, 0.15);\n",
              "      fill: #174EA6;\n",
              "    }\n",
              "\n",
              "    [theme=dark] .colab-df-convert {\n",
              "      background-color: #3B4455;\n",
              "      fill: #D2E3FC;\n",
              "    }\n",
              "\n",
              "    [theme=dark] .colab-df-convert:hover {\n",
              "      background-color: #434B5C;\n",
              "      box-shadow: 0px 1px 3px 1px rgba(0, 0, 0, 0.15);\n",
              "      filter: drop-shadow(0px 1px 2px rgba(0, 0, 0, 0.3));\n",
              "      fill: #FFFFFF;\n",
              "    }\n",
              "  </style>\n",
              "\n",
              "      <script>\n",
              "        const buttonEl =\n",
              "          document.querySelector('#df-8649e85a-5577-43f2-ad22-5841bfafa733 button.colab-df-convert');\n",
              "        buttonEl.style.display =\n",
              "          google.colab.kernel.accessAllowed ? 'block' : 'none';\n",
              "\n",
              "        async function convertToInteractive(key) {\n",
              "          const element = document.querySelector('#df-8649e85a-5577-43f2-ad22-5841bfafa733');\n",
              "          const dataTable =\n",
              "            await google.colab.kernel.invokeFunction('convertToInteractive',\n",
              "                                                     [key], {});\n",
              "          if (!dataTable) return;\n",
              "\n",
              "          const docLinkHtml = 'Like what you see? Visit the ' +\n",
              "            '<a target=\"_blank\" href=https://colab.research.google.com/notebooks/data_table.ipynb>data table notebook</a>'\n",
              "            + ' to learn more about interactive tables.';\n",
              "          element.innerHTML = '';\n",
              "          dataTable['output_type'] = 'display_data';\n",
              "          await google.colab.output.renderOutput(dataTable, element);\n",
              "          const docLink = document.createElement('div');\n",
              "          docLink.innerHTML = docLinkHtml;\n",
              "          element.appendChild(docLink);\n",
              "        }\n",
              "      </script>\n",
              "    </div>\n",
              "  </div>\n",
              "  "
            ]
          },
          "metadata": {},
          "execution_count": 194
        }
      ],
      "source": [
        "df2[['cardio','age_range']].groupby('cardio').value_counts(normalize=True ).reset_index()"
      ]
    },
    {
      "cell_type": "markdown",
      "metadata": {
        "ExecuteTime": {
          "end_time": "2020-09-18T01:04:48.261141Z",
          "start_time": "2020-09-18T01:04:48.255706Z"
        },
        "heading_collapsed": true,
        "hidden": true,
        "id": "iaEZxUW9liox"
      },
      "source": [
        "##### 5.2.8 - Divergent AP, more risk\n",
        "   True - Relevant variable"
      ]
    },
    {
      "cell_type": "code",
      "execution_count": null,
      "metadata": {
        "ExecuteTime": {
          "end_time": "2020-10-22T22:42:34.157147Z",
          "start_time": "2020-10-22T22:42:33.624054Z"
        },
        "hidden": true,
        "id": "wFkbzW45lioy"
      },
      "outputs": [],
      "source": [
        "aux = df2[['divergent', 'cardio']].groupby('divergent').mean().reset_index()\n",
        "\n",
        "plt.subplot(1,2,1)\n",
        "sns.barplot(x='divergent', y='cardio', data=aux)\n",
        "\n",
        "plt.subplot(1,2,2)\n",
        "sns.heatmap(df2[['cardio', 'divergent']].corr('pearson'), annot=True)"
      ]
    },
    {
      "cell_type": "markdown",
      "metadata": {
        "ExecuteTime": {
          "end_time": "2020-09-18T01:04:48.261141Z",
          "start_time": "2020-09-18T01:04:48.255706Z"
        },
        "heading_collapsed": true,
        "hidden": true,
        "id": "areDzopblioy"
      },
      "source": [
        "##### 5.2.9 - Convergent AP, more risk\n",
        "   False"
      ]
    },
    {
      "cell_type": "code",
      "execution_count": null,
      "metadata": {
        "ExecuteTime": {
          "end_time": "2020-10-22T22:42:34.548579Z",
          "start_time": "2020-10-22T22:42:34.159354Z"
        },
        "hidden": true,
        "id": "XrgPiTHhlioy"
      },
      "outputs": [],
      "source": [
        "plt.subplot(1,2,1)\n",
        "sns.countplot(x='convergent', hue='cardio',\n",
        "    data=df2[['cardio', 'convergent']].groupby('convergent').mean().reset_index());\n",
        "\n",
        "plt.subplot(1,2,2)\n",
        "sns.heatmap(df2[['cardio', 'convergent']].corr('pearson'), annot=True);"
      ]
    },
    {
      "cell_type": "markdown",
      "metadata": {
        "ExecuteTime": {
          "end_time": "2020-09-18T01:04:48.261141Z",
          "start_time": "2020-09-18T01:04:48.255706Z"
        },
        "heading_collapsed": true,
        "hidden": true,
        "id": "LrfScmtRlioy"
      },
      "source": [
        "##### 5.2.10 - Hypertension, more risk\n",
        "   True"
      ]
    },
    {
      "cell_type": "markdown",
      "metadata": {
        "hidden": true,
        "id": "mqRhRUenlioy"
      },
      "source": [
        "Average incidence by Hypertension"
      ]
    },
    {
      "cell_type": "code",
      "execution_count": null,
      "metadata": {
        "ExecuteTime": {
          "end_time": "2020-10-22T22:42:35.620451Z",
          "start_time": "2020-10-22T22:42:34.550600Z"
        },
        "hidden": true,
        "id": "gZd3cdIklioy"
      },
      "outputs": [],
      "source": [
        "aux = df2[['hypertension', 'cardio']].groupby('hypertension').mean().reset_index()\n",
        "\n",
        "plt.subplot(1,3,1)\n",
        "sns.barplot(x='hypertension', y='cardio', data=aux);\n",
        "\n",
        "plt.subplot(1,3,2)\n",
        "sns.countplot(x='hypertension', hue='cardio', data=df2);\n",
        "\n",
        "plt.subplot(1,3,3)\n",
        "sns.heatmap(df2[['hypertension', 'cardio']].corr('pearson'), annot=True);"
      ]
    },
    {
      "cell_type": "code",
      "execution_count": null,
      "metadata": {
        "ExecuteTime": {
          "end_time": "2020-10-22T22:42:35.631844Z",
          "start_time": "2020-10-22T22:42:35.622531Z"
        },
        "hidden": true,
        "id": "EiNsn0Hulioy"
      },
      "outputs": [],
      "source": [
        "# Hypertension percentual\n",
        "df2['hypertension'].value_counts()[1] / df2['hypertension'].value_counts()[0] * 100"
      ]
    },
    {
      "cell_type": "markdown",
      "metadata": {
        "ExecuteTime": {
          "end_time": "2020-09-18T01:04:48.261141Z",
          "start_time": "2020-09-18T01:04:48.255706Z"
        },
        "heading_collapsed": true,
        "hidden": true,
        "id": "qau6p4yDlioy"
      },
      "source": [
        "##### 5.2.11 - Hypotension, more risk\n",
        "   False"
      ]
    },
    {
      "cell_type": "raw",
      "metadata": {
        "ExecuteTime": {
          "end_time": "2020-09-24T14:48:06.813902Z",
          "start_time": "2020-09-24T14:48:06.798601Z"
        },
        "hidden": true,
        "id": "fTXt2NSPlioy"
      },
      "source": [
        "Irrelevant to model"
      ]
    },
    {
      "cell_type": "code",
      "execution_count": null,
      "metadata": {
        "ExecuteTime": {
          "end_time": "2020-10-22T22:42:36.442899Z",
          "start_time": "2020-10-22T22:42:35.633954Z"
        },
        "hidden": true,
        "id": "kpPiU1fDlioz"
      },
      "outputs": [],
      "source": [
        "aux = df2[['hypotension', 'cardio']].groupby('hypotension').mean().reset_index()\n",
        "\n",
        "plt.subplot(1,2,1)\n",
        "sns.barplot(x='hypotension', y='cardio', data=aux);\n",
        "\n",
        "plt.subplot(1,2,2)\n",
        "sns.heatmap(df2[['hypotension', 'cardio']].corr('pearson'), annot=True);"
      ]
    },
    {
      "cell_type": "code",
      "execution_count": null,
      "metadata": {
        "ExecuteTime": {
          "end_time": "2020-10-22T22:42:36.581639Z",
          "start_time": "2020-10-22T22:42:36.445044Z"
        },
        "hidden": true,
        "id": "jn3tLnm3lioz"
      },
      "outputs": [],
      "source": [
        "df2['hypotension'].value_counts()"
      ]
    },
    {
      "cell_type": "markdown",
      "metadata": {
        "ExecuteTime": {
          "end_time": "2020-09-18T01:04:48.261141Z",
          "start_time": "2020-09-18T01:04:48.255706Z"
        },
        "heading_collapsed": true,
        "hidden": true,
        "id": "JAtPMpPLlio1"
      },
      "source": [
        "##### 5.2.12 - BMI - Obesity, more risk\n",
        "   True"
      ]
    },
    {
      "cell_type": "code",
      "execution_count": null,
      "metadata": {
        "ExecuteTime": {
          "end_time": "2020-10-22T22:42:37.672927Z",
          "start_time": "2020-10-22T22:42:36.585827Z"
        },
        "hidden": true,
        "id": "_4b5_lc3lio1"
      },
      "outputs": [],
      "source": [
        "aux = df2[['bmi_level', 'cardio']].groupby('bmi_level').value_counts(normalize=True).reset_index()\n",
        "print(aux)\n",
        "aux = df2[['bmi_level', 'cardio']].groupby('bmi_level').mean().reset_index()\n",
        "print(aux)\n",
        "\n",
        "plt.subplot(1,2,1)\n",
        "sns.barplot(x='bmi_level', y='cardio' ,data=aux);\n",
        "\n",
        "plt.subplot(1,2,2)\n",
        "sns.heatmap(df2[['bmi_level', 'cardio']].corr('pearson'), annot=True);\n",
        "\n",
        "# aux1 = df2[(df2['cardio'] ==1)]\n",
        "# aux2 = df2[(df2['cardio'] ==2) ]\n"
      ]
    },
    {
      "cell_type": "markdown",
      "metadata": {
        "ExecuteTime": {
          "end_time": "2020-09-18T01:04:48.261141Z",
          "start_time": "2020-09-18T01:04:48.255706Z"
        },
        "heading_collapsed": true,
        "hidden": true,
        "id": "Y4Dd1RdSlio1"
      },
      "source": [
        "##### 5.2.13 - Gender 2 has more risk\n",
        "   False"
      ]
    },
    {
      "cell_type": "code",
      "execution_count": null,
      "metadata": {
        "id": "fvObBKzVlio1"
      },
      "outputs": [],
      "source": [
        "aux = df2[['gender', 'cardio']].groupby('gender').value_counts(normalize=True).reset_index()\n",
        "print(aux)\n",
        "aux = df2[['gender', 'cardio']].groupby('gender').mean().reset_index()\n",
        "print(aux)"
      ]
    },
    {
      "cell_type": "code",
      "execution_count": null,
      "metadata": {
        "ExecuteTime": {
          "end_time": "2020-10-22T22:42:39.789946Z",
          "start_time": "2020-10-22T22:42:38.445199Z"
        },
        "hidden": true,
        "id": "IJSArZJQlio2"
      },
      "outputs": [],
      "source": [
        "plt.subplot(1,3,1)\n",
        "sns.barplot(x='gender', y='cardio', data=df2)\n",
        "plt.subplot(1,3,2)\n",
        "sns.countplot(x='gender', hue='cardio', data=df2 );\n",
        "plt.subplot(1,3,3)\n",
        "sns.heatmap(df2[['gender', 'cardio']].corr('pearson'), annot=True);\n"
      ]
    },
    {
      "cell_type": "markdown",
      "metadata": {
        "ExecuteTime": {
          "end_time": "2020-09-18T01:04:48.261141Z",
          "start_time": "2020-09-18T01:04:48.255706Z"
        },
        "heading_collapsed": true,
        "hidden": true,
        "id": "osBzQWOvlio2"
      },
      "source": [
        "##### 5.2.14 - how more weith more risk\n",
        "   True"
      ]
    },
    {
      "cell_type": "code",
      "execution_count": null,
      "metadata": {
        "id": "7ELG0ubOlio2"
      },
      "outputs": [],
      "source": [
        "aux = df2[['weight_range', 'cardio']].groupby('weight_range').value_counts(normalize=True).reset_index()\n",
        "print(aux)\n",
        "aux = df2[['weight_range', 'cardio']].groupby('weight_range').mean().reset_index()\n",
        "print(aux)"
      ]
    },
    {
      "cell_type": "code",
      "execution_count": null,
      "metadata": {
        "ExecuteTime": {
          "end_time": "2020-10-22T22:42:50.095605Z",
          "start_time": "2020-10-22T22:42:40.309781Z"
        },
        "hidden": true,
        "id": "rvaWUdyvlio2"
      },
      "outputs": [],
      "source": [
        "aux = df2[['weight_range', 'cardio']].groupby('weight_range').mean().reset_index()\n",
        "\n",
        "grid = GridSpec(2,2)\n",
        "\n",
        "plt.subplot(grid[1,0])\n",
        "sns.barplot(x='weight_range', y='cardio', data=aux);\n",
        "                 \n",
        "plt.subplot(grid[1,1])\n",
        "plt.title('Correlation between CARDIO and WEIGHT')\n",
        "pointb = pointbiserialr(df2['weight'], df2['cardio']).correlation\n",
        "sns.heatmap(pd.DataFrame({'weight':pointb}, index=['cardio']), annot=True);"
      ]
    },
    {
      "cell_type": "markdown",
      "metadata": {
        "ExecuteTime": {
          "end_time": "2020-09-18T01:04:48.261141Z",
          "start_time": "2020-09-18T01:04:48.255706Z"
        },
        "heading_collapsed": true,
        "hidden": true,
        "id": "uhly6EXmlio2"
      },
      "source": [
        "### 5.3 - Multivariate Analysis"
      ]
    },
    {
      "cell_type": "code",
      "execution_count": null,
      "metadata": {
        "ExecuteTime": {
          "end_time": "2020-10-22T22:42:52.403207Z",
          "start_time": "2020-10-22T22:42:50.097229Z"
        },
        "hidden": true,
        "id": "V0ousi7xlio2"
      },
      "outputs": [],
      "source": [
        "sns.heatmap(df2.corr(), annot=True);"
      ]
    },
    {
      "cell_type": "markdown",
      "metadata": {
        "heading_collapsed": true,
        "id": "Tfvoi3_nlio2"
      },
      "source": [
        "## 6.0 - Data Preparation"
      ]
    },
    {
      "cell_type": "markdown",
      "metadata": {
        "heading_collapsed": true,
        "hidden": true,
        "id": "jXinSJYolio2"
      },
      "source": [
        "### 6.1 - Split - Before Preparation"
      ]
    },
    {
      "cell_type": "code",
      "execution_count": null,
      "metadata": {
        "id": "iMph-GMFlio3"
      },
      "outputs": [],
      "source": [
        "df3=df2.copy()"
      ]
    },
    {
      "cell_type": "code",
      "execution_count": null,
      "metadata": {
        "ExecuteTime": {
          "end_time": "2020-10-20T20:05:53.236265Z",
          "start_time": "2020-10-20T20:05:53.209623Z"
        },
        "hidden": true,
        "id": "kFGJm3Qvlio3"
      },
      "outputs": [],
      "source": [
        "X = df3.drop('cardio', axis=1).copy()\n",
        "y = df3['cardio'].copy()\n",
        "x_train, x_valid, y_train, y_valid = train_test_split(X, y, test_size=0.2, random_state=42)"
      ]
    },
    {
      "cell_type": "code",
      "execution_count": null,
      "metadata": {
        "ExecuteTime": {
          "end_time": "2020-10-20T20:05:53.963046Z",
          "start_time": "2020-10-20T20:05:53.947839Z"
        },
        "hidden": true,
        "id": "fmTVsFhclio3"
      },
      "outputs": [],
      "source": [
        "df3 = pd.concat([x_train, y_train], axis=1)\n",
        "x_test = x_valid\n",
        "y_test = y_valid"
      ]
    },
    {
      "cell_type": "markdown",
      "metadata": {
        "heading_collapsed": true,
        "hidden": true,
        "id": "WlgTR0mplio3"
      },
      "source": [
        "### 6.2 - Normalization"
      ]
    },
    {
      "cell_type": "markdown",
      "metadata": {
        "hidden": true,
        "id": "3x8-fRwxlio3"
      },
      "source": [
        "If the data is normal/gaussian distribution\n",
        "<p>(item - média) / desvio padrão</p>"
      ]
    },
    {
      "cell_type": "markdown",
      "metadata": {
        "heading_collapsed": true,
        "hidden": true,
        "id": "eWDm_pPWlio3"
      },
      "source": [
        "### 6.3 - Rescaling"
      ]
    },
    {
      "cell_type": "markdown",
      "metadata": {
        "hidden": true,
        "id": "WpdjLCS1lio3"
      },
      "source": [
        "If the data it's **NOT** gaussian distribution, gaussian is egual normal distribution"
      ]
    },
    {
      "cell_type": "code",
      "execution_count": null,
      "metadata": {
        "ExecuteTime": {
          "end_time": "2020-10-20T22:51:59.820354Z",
          "start_time": "2020-10-20T22:51:59.751388Z"
        },
        "hidden": true,
        "id": "5D9LFoADlio3"
      },
      "outputs": [],
      "source": [
        "## The features that it's binary yet, it's not necessary transform\n",
        "## If has the relevant outlier it's should use to RobustScaler else MinMaxScaler\n",
        "\n",
        "mms = MinMaxScaler()\n",
        "rs = RobustScaler()\n",
        "\n",
        "# age\n",
        "df3['age'] = mms.fit_transform(df3[['age']].values)\n",
        "pickle.dump(mms, open(r'C:\\Users\\Utente77\\repos\\cardio_catch_disease_PA001\\parameters\\age_scaling.pkl', 'wb'))\n",
        "\n",
        "# height         \n",
        "df3['height'] = rs.fit_transform(df3[['height']].values)\n",
        "pickle.dump(rs, open(r'C:\\Users\\Utente77\\repos\\cardio_catch_disease_PA001\\parameters\\height_scaling.pkl', 'wb'))\n",
        "\n",
        "# weight\n",
        "df3['weight'] = rs.fit_transform(df3[['weight']].values)\n",
        "pickle.dump(rs, open(r'C:\\Users\\Utente77\\repos\\cardio_catch_disease_PA001\\parameters\\weight_scaling.pkl', 'wb'))\n",
        "\n",
        "# low_pressure   \n",
        "df3['low_pressure'] = rs.fit_transform(df3[['low_pressure']].values)\n",
        "pickle.dump(rs, open(r'C:\\Users\\Utente77\\repos\\cardio_catch_disease_PA001\\parameters\\low_pressure_scaling.pkl', 'wb'))\n",
        "\n",
        "#hight_pressure\n",
        "df3['hight_pressure'] = rs.fit_transform(df3[['hight_pressure']].values)\n",
        "pickle.dump(rs, open(r'C:\\Users\\Utente77\\repos\\cardio_catch_disease_PA001\\parameters\\hight_pressure_scaling.pkl', 'wb'))\n",
        "\n",
        "# difference     \n",
        "df3['difference'] = rs.fit_transform(df3[['difference']].values)\n",
        "pickle.dump(rs, open(r'C:\\Users\\Utente77\\repos\\cardio_catch_disease_PA001\\parameters\\difference_scaling.pkl', 'wb'))\n",
        "\n",
        "# bmi            \n",
        "df3['bmi'] = rs.fit_transform(df3[['bmi']].values)\n",
        "pickle.dump(rs, open(r'C:\\Users\\Utente77\\repos\\cardio_catch_disease_PA001\\parameters\\bmi_scaling.pkl', 'wb'))\n"
      ]
    },
    {
      "cell_type": "markdown",
      "metadata": {
        "heading_collapsed": true,
        "hidden": true,
        "id": "oFwawwjblio4"
      },
      "source": [
        "### 6.4 - Transformation"
      ]
    },
    {
      "cell_type": "markdown",
      "metadata": {
        "heading_collapsed": true,
        "hidden": true,
        "id": "SZfTNasplio4"
      },
      "source": [
        "#### 6.3.1 - Encoding"
      ]
    },
    {
      "cell_type": "markdown",
      "metadata": {
        "hidden": true,
        "id": "mnsj1z61lio4"
      },
      "source": [
        "Transforming category data to numeric"
      ]
    },
    {
      "cell_type": "code",
      "execution_count": null,
      "metadata": {
        "ExecuteTime": {
          "end_time": "2020-10-20T22:52:06.620090Z",
          "start_time": "2020-10-20T22:52:06.584517Z"
        },
        "hidden": true,
        "id": "itsWvwQslio4"
      },
      "outputs": [],
      "source": [
        "le = LabelEncoder()\n",
        "\n",
        "## Label encoding\n",
        "# age\n",
        "df3['gender'] = le.fit_transform(df3[['gender']].values)\n",
        "pickle.dump(le, open(r'C:\\Users\\Utente77\\repos\\cardio_catch_disease_PA001\\parameters\\gender_encoder.pkl', 'wb'))\n",
        "\n",
        "## Ordinal encoding\n",
        "# age_range \n",
        "df3['age_range'] = df3['age_range'].map(\n",
        "    {'age_0_50':1, 'age_51_59':1, 'age_60_over':3})\n",
        "\n",
        "# bmi_level\n",
        "df3['bmi_level'] = df3['bmi_level'].map({\n",
        "    'underweight':1, 'normal':2, 'overweight':3, 'obesity':4\n",
        "})"
      ]
    },
    {
      "cell_type": "markdown",
      "metadata": {
        "hidden": true,
        "id": "cEjScZCulio4"
      },
      "source": [
        "#### 6.3.2 - Nature Transformation"
      ]
    },
    {
      "cell_type": "markdown",
      "metadata": {
        "hidden": true,
        "id": "4U1EXlv-lio4"
      },
      "source": [
        "Transforming the data to cycle nature"
      ]
    },
    {
      "cell_type": "markdown",
      "metadata": {
        "heading_collapsed": true,
        "id": "5RsNSW3-lio4"
      },
      "source": [
        "## 7.0 - Feature Selection"
      ]
    },
    {
      "cell_type": "markdown",
      "metadata": {
        "heading_collapsed": true,
        "hidden": true,
        "id": "XCrH_ivzlio4"
      },
      "source": [
        "### 7.0 - Split"
      ]
    },
    {
      "cell_type": "code",
      "execution_count": null,
      "metadata": {
        "ExecuteTime": {
          "end_time": "2020-10-20T18:22:14.154365Z",
          "start_time": "2020-10-20T18:22:14.130433Z"
        },
        "hidden": true,
        "id": "ymV9Corhlio4"
      },
      "outputs": [],
      "source": [
        "## Spliting after rescaling\n",
        "\n",
        "X = df3.drop('cardio', axis=1).copy()\n",
        "y = df3['cardio'].copy()\n",
        "x_train, x_valid, y_train, y_valid = train_test_split(X, y, test_size=0.3, random_state=42)"
      ]
    },
    {
      "cell_type": "markdown",
      "metadata": {
        "heading_collapsed": true,
        "hidden": true,
        "id": "hF8oPeaXlio4"
      },
      "source": [
        "### 7.1 - Boruta"
      ]
    },
    {
      "cell_type": "code",
      "execution_count": null,
      "metadata": {
        "ExecuteTime": {
          "end_time": "2020-10-16T21:58:20.252447Z",
          "start_time": "2020-10-16T21:58:06.370Z"
        },
        "hidden": true,
        "id": "SmU_QUWxlio4"
      },
      "outputs": [],
      "source": [
        "#same pararameter from item 8.0\n",
        "#x_boruta = x_train.values\n",
        "#y_boruta = y_train.ravel()\n",
        "#\n",
        "#mdl = RandomForestClassifier(n_estimators=150, random_state=42, n_jobs=-1)\n"
      ]
    },
    {
      "cell_type": "code",
      "execution_count": null,
      "metadata": {
        "ExecuteTime": {
          "end_time": "2020-10-16T21:58:20.253661Z",
          "start_time": "2020-10-16T21:58:06.373Z"
        },
        "hidden": true,
        "id": "WVpYdJpclio5"
      },
      "outputs": [],
      "source": [
        "# Defining Boruta\n",
        "#boruta = BorutaPy(mdl, n_estimators='auto', verbose=2, random_state=42).fit(x_boruta, y_boruta)"
      ]
    },
    {
      "cell_type": "code",
      "execution_count": null,
      "metadata": {
        "ExecuteTime": {
          "end_time": "2020-10-16T21:58:20.255133Z",
          "start_time": "2020-10-16T21:58:06.376Z"
        },
        "hidden": true,
        "id": "yOgCtd-mlio5"
      },
      "outputs": [],
      "source": [
        "#cols_selected = boruta.support_.tolist()\n",
        "#cols_selected_boruta = x_train.iloc[:, cols_selected].copy()"
      ]
    },
    {
      "cell_type": "code",
      "execution_count": null,
      "metadata": {
        "ExecuteTime": {
          "end_time": "2020-10-16T21:58:20.256495Z",
          "start_time": "2020-10-16T21:58:06.380Z"
        },
        "hidden": true,
        "id": "P_NAL6yalio5"
      },
      "outputs": [],
      "source": [
        "#x_train = x_train[['bmi', 'weight', 'hight_pressure', 'low_pressure', 'cholesterol', 'age', 'divergent', 'difference']].copy()\n",
        "#x_valid = x_valid[['bmi', 'weight', 'hight_pressure', 'low_pressure', 'cholesterol', 'age', 'divergent', 'difference']].copy()"
      ]
    },
    {
      "cell_type": "markdown",
      "metadata": {
        "heading_collapsed": true,
        "id": "3yyKGTZhlio5"
      },
      "source": [
        "## 8.0 - Machine learning"
      ]
    },
    {
      "cell_type": "markdown",
      "metadata": {
        "heading_collapsed": true,
        "hidden": true,
        "id": "UxsQkpkglio5"
      },
      "source": [
        "### 8.1 - Baseline"
      ]
    },
    {
      "cell_type": "markdown",
      "metadata": {
        "hidden": true,
        "id": "Kxf2CoMTlio5"
      },
      "source": [
        "The baseline is the \"status quo\", between **55%** and **65%** of **PRECISION** Score"
      ]
    },
    {
      "cell_type": "markdown",
      "metadata": {
        "heading_collapsed": true,
        "hidden": true,
        "id": "niEUGd1Alio5"
      },
      "source": [
        "### 8.2 - Random Forest"
      ]
    },
    {
      "cell_type": "code",
      "execution_count": null,
      "metadata": {
        "ExecuteTime": {
          "end_time": "2020-10-16T21:58:20.257953Z",
          "start_time": "2020-10-16T21:58:06.390Z"
        },
        "hidden": true,
        "id": "5wMhfqbOlio5"
      },
      "outputs": [],
      "source": [
        "mdl = RandomForestClassifier(n_estimators=150, random_state=42).fit(x_train, y_train)\n",
        "mdl_name = mdl.__repr__()\n",
        "y_hat = mdl.predict(x_valid)\n",
        "\n",
        "cv = RepeatedStratifiedKFold(n_splits=10, n_repeats=3, random_state=1)\n",
        "n_scores = cross_val_score(mdl, x_train, y_train, scoring='accuracy', cv=cv, n_jobs=-1)\n",
        "\n",
        "df3_score_rf = metrics_score(y_valid, y_hat, mdl_name, True, \"All Data Features\")\n",
        "df3_score_rf['accuracy_cv'] = mean(n_scores)\n",
        "df3_score_rf['accuracy_cv_std'] = std(n_scores)\n",
        "df3_score_rf"
      ]
    },
    {
      "cell_type": "markdown",
      "metadata": {
        "heading_collapsed": true,
        "hidden": true,
        "id": "KmmHbeJKlio5"
      },
      "source": [
        "### 8.3 - GBDT"
      ]
    },
    {
      "cell_type": "markdown",
      "metadata": {
        "ExecuteTime": {
          "end_time": "2020-10-05T15:13:22.160958Z",
          "start_time": "2020-10-05T15:13:22.155454Z"
        },
        "hidden": true,
        "id": "I0xH524Nlio6"
      },
      "source": [
        "<a style=\"font-size:10px\" href=\"https://machinelearningmastery.com/gradient-boosting-machine-ensemble-in-python/\"> Font Coding</a>"
      ]
    },
    {
      "cell_type": "code",
      "execution_count": null,
      "metadata": {
        "ExecuteTime": {
          "end_time": "2020-10-19T21:28:58.882429Z",
          "start_time": "2020-10-19T21:28:10.398681Z"
        },
        "hidden": true,
        "id": "l0NxtCZIlio6"
      },
      "outputs": [],
      "source": [
        "mdl = GradientBoostingClassifier().fit(x_train, y_train)\n",
        "mdl_name = mdl.__repr__()\n",
        "y_hat = mdl.predict(x_valid)\n",
        "\n",
        "cv = RepeatedStratifiedKFold(n_splits=10, n_repeats=3, random_state=1)\n",
        "n_scores = cross_val_score(mdl, x_train, y_train, scoring='accuracy', cv=cv, n_jobs=-1)\n",
        "\n",
        "df3_score_gbdt = metrics_score(y_valid, y_hat, mdl_name, True, \"All Data Features\")\n",
        "df3_score_gbdt['accuracy_cv'] = mean(n_scores)\n",
        "df3_score_gbdt['accuracy_cv_std'] = std(n_scores)\n",
        "df3_score_gbdt"
      ]
    },
    {
      "cell_type": "markdown",
      "metadata": {
        "heading_collapsed": true,
        "hidden": true,
        "id": "inbf5ncblio6"
      },
      "source": [
        "### 8.4 - Logistic Regression"
      ]
    },
    {
      "cell_type": "code",
      "execution_count": null,
      "metadata": {
        "ExecuteTime": {
          "end_time": "2020-10-16T21:58:20.260747Z",
          "start_time": "2020-10-16T21:58:06.405Z"
        },
        "hidden": true,
        "id": "ocf6y6Ojlio6"
      },
      "outputs": [],
      "source": [
        "mdl = LogisticRegression(random_state=42).fit(x_train, y_train)\n",
        "mdl_name = mdl.__repr__()\n",
        "y_hat = mdl.predict(x_valid)\n",
        "\n",
        "cv = RepeatedStratifiedKFold(n_splits=10, n_repeats=3, random_state=1)\n",
        "n_scores = cross_val_score(mdl, x_train, y_train, scoring='accuracy', cv=cv, n_jobs=-1)\n",
        "\n",
        "df3_score_lr = metrics_score(y_valid, y_hat, mdl_name, True, \"All Data Features\")\n",
        "df3_score_lr['accuracy_cv'] = mean(n_scores)\n",
        "df3_score_lr['accuracy_cv_std'] = std(n_scores)\n",
        "df3_score_lr"
      ]
    },
    {
      "cell_type": "markdown",
      "metadata": {
        "heading_collapsed": true,
        "hidden": true,
        "id": "pokdwoizlio6"
      },
      "source": [
        "### 8.5 - XGBClassifier"
      ]
    },
    {
      "cell_type": "markdown",
      "metadata": {
        "ExecuteTime": {
          "end_time": "2020-10-05T15:13:22.160958Z",
          "start_time": "2020-10-05T15:13:22.155454Z"
        },
        "hidden": true,
        "id": "zx3ev3yPlio6"
      },
      "source": [
        "<a style=\"font-size:10px\" href=\"https://machinelearningmastery.com/develop-first-xgboost-model-python-scikit-learn/\"> Font Coding</a>"
      ]
    },
    {
      "cell_type": "code",
      "execution_count": null,
      "metadata": {
        "ExecuteTime": {
          "end_time": "2020-10-16T21:58:20.262139Z",
          "start_time": "2020-10-16T21:58:06.416Z"
        },
        "hidden": true,
        "id": "S1JMrKoplio6"
      },
      "outputs": [],
      "source": [
        "mdl = XGBClassifier().fit(x_train, y_train)\n",
        "mdl_name = mdl.__repr__()\n",
        "y_hat = mdl.predict(x_valid)\n",
        "\n",
        "cv = RepeatedStratifiedKFold(n_splits=10, n_repeats=3, random_state=1)\n",
        "n_scores = cross_val_score(mdl, x_train, y_train, scoring='accuracy', cv=cv, n_jobs=-1)\n",
        "\n",
        "df3_score_xgbc = metrics_score(y_valid, y_hat, mdl_name, True, 'All Data Feature')\n",
        "df3_score_xgbc['accuracy_cv'] = mean(n_scores)\n",
        "df3_score_xgbc['accuracy_cv_std'] = std(n_scores)\n",
        "df3_score_xgbc"
      ]
    },
    {
      "cell_type": "markdown",
      "metadata": {
        "heading_collapsed": true,
        "hidden": true,
        "id": "S5C5-wXRlio6"
      },
      "source": [
        "### 8.6 - KNClassifier"
      ]
    },
    {
      "cell_type": "code",
      "execution_count": null,
      "metadata": {
        "ExecuteTime": {
          "end_time": "2020-10-16T21:58:20.263580Z",
          "start_time": "2020-10-16T21:58:06.426Z"
        },
        "hidden": true,
        "id": "3lporNzwlio6"
      },
      "outputs": [],
      "source": [
        "mdl = KNeighborsClassifier().fit(x_train, y_train)\n",
        "mdl_name = mdl.__repr__()\n",
        "yhat = mdl.predict(x_valid)\n",
        "\n",
        "cv = RepeatedStratifiedKFold(n_splits=10, n_repeats=3, random_state=1)\n",
        "n_scores = cross_val_score(mdl, x_train, y_train, scoring='accuracy', cv=cv, n_jobs=-1)\n",
        "\n",
        "df3_score_knc = metrics_score(y_valid, y_hat, mdl_name, True, 'All Data Feature')\n",
        "df3_score_knc['accuracy_cv'] = mean(n_scores)\n",
        "df3_score_knc['accuracy_cv_std'] = std(n_scores)\n",
        "df3_score_knc"
      ]
    },
    {
      "cell_type": "markdown",
      "metadata": {
        "heading_collapsed": true,
        "hidden": true,
        "id": "LLutqWSQlio7"
      },
      "source": [
        "### 8.7 - LGBMClassifier"
      ]
    },
    {
      "cell_type": "code",
      "execution_count": null,
      "metadata": {
        "ExecuteTime": {
          "end_time": "2020-10-16T21:58:20.265055Z",
          "start_time": "2020-10-16T21:58:06.434Z"
        },
        "hidden": true,
        "id": "Diud4a1elio7"
      },
      "outputs": [],
      "source": [
        "mdl = LGBMClassifier().fit(x_train, y_train)\n",
        "mdl_name = mdl.__repr__()\n",
        "y_hat = mdl.predict(x_valid)\n",
        "\n",
        "cv = RepeatedStratifiedKFold(n_splits=10, n_repeats=3, random_state=1)\n",
        "n_scores = cross_val_score(mdl, x_train, y_train, scoring='accuracy', cv=cv, n_jobs=-1)\n",
        "\n",
        "df3_score_lgbmc = metrics_score(y_valid, y_hat, mdl_name, True, 'All Data Features')\n",
        "df3_score_lgbmc['accuracy_cv'] = mean(n_scores)\n",
        "df3_score_lgbmc['accuracy_cv_std'] = std(n_scores)\n",
        "df3_score_lgbmc"
      ]
    },
    {
      "cell_type": "markdown",
      "metadata": {
        "heading_collapsed": true,
        "hidden": true,
        "id": "xhmwbfeXlio7"
      },
      "source": [
        "### 8.8 - Hyperparameters"
      ]
    },
    {
      "cell_type": "code",
      "execution_count": null,
      "metadata": {
        "ExecuteTime": {
          "end_time": "2020-10-16T21:58:20.266380Z",
          "start_time": "2020-10-16T21:58:06.440Z"
        },
        "hidden": true,
        "id": "7Kd0JlC9lio7"
      },
      "outputs": [],
      "source": [
        "parameters = {'learning_rate':[0.01, 0.08], \n",
        "    'n_estimators':[100, 150],\n",
        "    'subsample':[0.08, 0.1, 0.2, 0.6, 0.7, 0.8, 0.9, 1.0], \n",
        "    'min_samples_split':[0.3, 0.6, 0.8, 2, 3, 4],\n",
        "    'min_samples_leaf':[1, 2, 3, 4], \n",
        "    'max_depth':[3, 5, 10, 15, 20, 25]}"
      ]
    },
    {
      "cell_type": "code",
      "execution_count": null,
      "metadata": {
        "ExecuteTime": {
          "end_time": "2020-10-16T21:58:20.267793Z",
          "start_time": "2020-10-16T21:58:06.445Z"
        },
        "hidden": true,
        "id": "0JNpubZPlio7"
      },
      "outputs": [],
      "source": [
        "MAX_EVALS = 50\n",
        "df3_hyper = pd.DataFrame(columns=['Mean_accuracy', 'Std_accuracy', 'Parameters'])\n",
        "\n",
        "for i in range(MAX_EVALS):\n",
        "    print(f'evals: {i}')\n",
        "    \n",
        "    hp = {k:sp(v, 1)[0] for k, v in parameters.items()}\n",
        "    print(f'Hyperparameters: {hp}')\n",
        "    mdl = GradientBoostingClassifier(\n",
        "        learning_rate=hp['learning_rate'], n_estimators=hp['n_estimators'],\n",
        "        subsample=hp['subsample'], min_samples_split=hp['min_samples_split'],\n",
        "        min_samples_leaf=hp['min_samples_leaf'], max_depth=hp['max_depth'],\n",
        "        loss='deviance', random_state=42\n",
        "        ).fit(x_train, y_train)\n",
        "    print('trained...')\n",
        "    \n",
        "    cv = RepeatedStratifiedKFold(n_splits=5, n_repeats=3, random_state=1)\n",
        "    n_scores = cross_val_score(mdl, x_train, y_train, scoring='accuracy', cv=cv, n_jobs=-1)\n",
        "    print('crossvalidation finished')\n",
        "    \n",
        "    df3_cv = pd.DataFrame([[mean(n_scores), std(n_scores), hp]], \n",
        "                        columns=['Mean_accuracy', 'Std_accuracy', 'Parameters'])\n",
        "    \n",
        "    print(df3_cv)\n",
        "    df3_hyper = pd.concat([df3_hyper, df3_cv], axis=0)\n",
        "    \n",
        "df3_hyper"
      ]
    },
    {
      "cell_type": "markdown",
      "metadata": {
        "heading_collapsed": true,
        "hidden": true,
        "id": "3ZG0Kokalio7"
      },
      "source": [
        "### 8.9 - Final Model"
      ]
    },
    {
      "cell_type": "code",
      "execution_count": null,
      "metadata": {
        "ExecuteTime": {
          "end_time": "2020-10-19T22:03:01.254737Z",
          "start_time": "2020-10-19T22:02:57.628236Z"
        },
        "hidden": true,
        "id": "X89tEq3Nlio7"
      },
      "outputs": [],
      "source": [
        "final_model = GradientBoostingClassifier().fit(x_train, y_train)\n",
        "#pickle.dump(final_model, open('/home/python/Documents/Projects/pa001_cardio_catch_diseases/model/model_trained.pkl', 'wb'))"
      ]
    },
    {
      "cell_type": "markdown",
      "metadata": {
        "heading_collapsed": true,
        "id": "5kBwRiIJlio7"
      },
      "source": [
        "## 9.0 - Metrics"
      ]
    },
    {
      "cell_type": "markdown",
      "metadata": {
        "heading_collapsed": true,
        "hidden": true,
        "id": "mmibhaZulio7"
      },
      "source": [
        "### 9.1 - Validation"
      ]
    },
    {
      "cell_type": "code",
      "execution_count": null,
      "metadata": {
        "ExecuteTime": {
          "end_time": "2020-10-16T21:58:20.271818Z",
          "start_time": "2020-10-16T21:58:06.461Z"
        },
        "hidden": true,
        "id": "gXmjLiA6lio7"
      },
      "outputs": [],
      "source": [
        "## all scoring sbs == spliting before scaling\n",
        "df3_all_scores_sbs = pd.concat([df3_score_rf, df3_score_gbdt, df3_score_lr, df3_score_xgbc, df3_score_knc, df3_score_lgbmc], axis=0)\n",
        "df3_all_scores_sbs"
      ]
    },
    {
      "cell_type": "code",
      "execution_count": null,
      "metadata": {
        "ExecuteTime": {
          "end_time": "2020-10-16T21:58:20.273325Z",
          "start_time": "2020-10-16T21:58:06.466Z"
        },
        "hidden": true,
        "id": "oTIm8mLklio8"
      },
      "outputs": [],
      "source": [
        "with open('score_cycle_02.pkl', 'rb') as file:\n",
        "    df3_score_pic = pickle.load(file)\n",
        "    \n",
        "df3_all_scores_concat = pd.concat([df3_score_pic, df3_all_scores_sbs], axis=0)\n",
        "df3_all_scores_concat"
      ]
    },
    {
      "cell_type": "markdown",
      "metadata": {
        "heading_collapsed": true,
        "hidden": true,
        "id": "LfUWNqWjlio8"
      },
      "source": [
        "### 9.2 - Cross Validation"
      ]
    },
    {
      "cell_type": "code",
      "execution_count": null,
      "metadata": {
        "ExecuteTime": {
          "end_time": "2020-10-19T21:42:33.965190Z",
          "start_time": "2020-10-19T21:42:33.944826Z"
        },
        "hidden": true,
        "id": "1DnatSbolio8"
      },
      "outputs": [],
      "source": [
        "## all scoring split before scaling\n",
        "\n",
        "df3_all_scores_cv = pd.concat([df3_score_rf, df3_score_gbdt, df3_score_lr, df3_score_xgbc, \n",
        "                              df3_score_knc, df3_score_lgbmc], axis=0)\n",
        "# rename column \n",
        "df3_all_scores_cv.columns = ['mdl_name', 'accuracy', 'precision', 'recall', 'split_before_scaling',\n",
        "                            'date', 'obs', 'accuracy_cv', 'accuracy_cv_std']\n",
        "\n",
        "# reordenation from columns\n",
        "df3_all_scores_cv[['mdl_name', 'accuracy', 'accuracy_cv', 'accuracy_cv_std', 'precision', \n",
        "                 'recall', 'split_before_scaling', 'date', 'obs']]"
      ]
    },
    {
      "cell_type": "markdown",
      "metadata": {
        "hidden": true,
        "id": "e7j2-dKBlio8"
      },
      "source": [
        "**Gradient Boosting it's better**"
      ]
    },
    {
      "cell_type": "code",
      "execution_count": null,
      "metadata": {
        "ExecuteTime": {
          "end_time": "2020-10-16T21:58:20.277620Z",
          "start_time": "2020-10-16T21:58:06.479Z"
        },
        "hidden": true,
        "id": "6xewGmoLlio8"
      },
      "outputs": [],
      "source": [
        "## Exporting result from cross validation\n",
        "#with open('score_cycle_02_cv.pkl', 'wb') as file:\n",
        "#    pickle.dump(df3_all_scores_cv, file)"
      ]
    },
    {
      "cell_type": "markdown",
      "metadata": {
        "heading_collapsed": true,
        "hidden": true,
        "id": "o7cncl4wlio8"
      },
      "source": [
        "### 9.3 - Test Data"
      ]
    },
    {
      "cell_type": "markdown",
      "metadata": {
        "hidden": true,
        "id": "lUz2K2vClio8"
      },
      "source": [
        "If the data is normal/gaussian distribution\n",
        "<p>(item - média) / desvio padrão</p>"
      ]
    },
    {
      "cell_type": "markdown",
      "metadata": {
        "heading_collapsed": true,
        "hidden": true,
        "id": "Hz1liLzwlio9"
      },
      "source": [
        "#### 9.2.1 - Rescaling"
      ]
    },
    {
      "cell_type": "markdown",
      "metadata": {
        "hidden": true,
        "id": "LGgruXHGlio9"
      },
      "source": [
        "If the data it's **NOT** gaussian distribution, gaussian is egual normal distribution"
      ]
    },
    {
      "cell_type": "code",
      "execution_count": null,
      "metadata": {
        "ExecuteTime": {
          "end_time": "2020-10-19T21:38:57.227131Z",
          "start_time": "2020-10-19T21:38:57.202795Z"
        },
        "hidden": true,
        "id": "_y_Oy_Brlio9"
      },
      "outputs": [],
      "source": [
        "## The features that it's binary yet, it's not necessary transform\n",
        "## If has the relevant outlier it's should use to RobustScaler else MinMaxScaler\n",
        "\n",
        "mms = MinMaxScaler()\n",
        "rs = RobustScaler()\n",
        "\n",
        "# age\n",
        "x_test['age'] = mms.fit_transform(x_test[['age']].values)\n",
        "\n",
        "# height         \n",
        "x_test['height'] = rs.fit_transform(x_test[['height']].values)\n",
        "\n",
        "# weight\n",
        "x_test['weight'] = rs.fit_transform(x_test[['weight']].values)\n",
        "\n",
        "# low_pressure   \n",
        "x_test['low_pressure'] = rs.fit_transform(x_test[['low_pressure']].values)\n",
        "\n",
        "#hight_pressure\n",
        "x_test['hight_pressure'] = rs.fit_transform(x_test[['hight_pressure']].values)\n",
        "\n",
        "# difference     \n",
        "x_test['difference'] = rs.fit_transform(x_test[['difference']].values)\n",
        "\n",
        "# bmi            \n",
        "x_test['bmi'] = rs.fit_transform(x_test[['bmi']].values)"
      ]
    },
    {
      "cell_type": "markdown",
      "metadata": {
        "hidden": true,
        "id": "4UGOTs8Nlio9"
      },
      "source": [
        "#### 9.2.2 - Transformation"
      ]
    },
    {
      "cell_type": "markdown",
      "metadata": {
        "heading_collapsed": true,
        "hidden": true,
        "id": "auMcuIuelio9"
      },
      "source": [
        "#### 9.2.3 - Encoding"
      ]
    },
    {
      "cell_type": "markdown",
      "metadata": {
        "hidden": true,
        "id": "ec96leKKlio9"
      },
      "source": [
        "Transforming category data to numeric"
      ]
    },
    {
      "cell_type": "code",
      "execution_count": null,
      "metadata": {
        "ExecuteTime": {
          "end_time": "2020-10-19T21:39:07.450300Z",
          "start_time": "2020-10-19T21:39:07.437264Z"
        },
        "hidden": true,
        "id": "XF7X5Rpflio9"
      },
      "outputs": [],
      "source": [
        "le = LabelEncoder()\n",
        "\n",
        "## Label encoding\n",
        "# age\n",
        "x_test['gender'] = le.fit_transform(x_test[['gender']].values)\n",
        "\n",
        "\n",
        "## Ordinal encoding\n",
        "# age_range \n",
        "x_test['age_range'] = x_test['age_range'].map(\n",
        "    {'age_0_50':1, 'age_51_59':1, 'age_60_over':3})\n",
        "\n",
        "# bmi_level\n",
        "x_test['bmi_level'] = x_test['bmi_level'].map({\n",
        "    'underweight':1, 'normal':2, 'overweight':3, 'obesity':4\n",
        "})"
      ]
    },
    {
      "cell_type": "markdown",
      "metadata": {
        "heading_collapsed": true,
        "hidden": true,
        "id": "nX66sm2rlio9"
      },
      "source": [
        "#### 9.2.4 - Modeling and Metrics"
      ]
    },
    {
      "cell_type": "code",
      "execution_count": null,
      "metadata": {
        "ExecuteTime": {
          "end_time": "2020-10-19T21:39:24.969221Z",
          "start_time": "2020-10-19T21:39:21.289855Z"
        },
        "hidden": true,
        "scrolled": true,
        "id": "n7hOxGzElio-"
      },
      "outputs": [],
      "source": [
        "mdl = GradientBoostingClassifier().fit(x_train, y_train)\n",
        "mdl_name = mdl.__repr__()\n",
        "y_hat = mdl.predict(x_test)\n",
        "\n",
        "df3_score_gbdt_test = metrics_score(y_test, y_hat, mdl_name, True, \"All Data Features\")\n",
        "df3_score_gbdt_test"
      ]
    },
    {
      "cell_type": "markdown",
      "metadata": {
        "heading_collapsed": true,
        "hidden": true,
        "id": "wEFiJRe5lio-"
      },
      "source": [
        "### 9.4 - Business Performance"
      ]
    },
    {
      "cell_type": "code",
      "execution_count": null,
      "metadata": {
        "ExecuteTime": {
          "end_time": "2020-10-19T21:40:19.602055Z",
          "start_time": "2020-10-19T21:40:19.597264Z"
        },
        "hidden": true,
        "id": "TPOLuefglio-"
      },
      "outputs": [],
      "source": [
        "cost_status_quo = 1000                         ## cost of each diagnostic with operators and machines\n",
        "percentual_status_quo = (0.55+0.65)/2\n",
        "revenue_status_quo = int((percentual_status_quo - 0.50)/0.05) * 500\n",
        "result_status_quo = revenue_status_quo - cost_status_quo\n",
        "\n",
        "cost_future = 0\n",
        "standard = 0.006706\n",
        "percentual_future = (0.752+0.765)/2\n",
        "revenue_future = int((percentual_future - 0.50)/0.05) * 500  \n",
        "result_model_future = revenue_future - cost_future   "
      ]
    },
    {
      "cell_type": "code",
      "execution_count": null,
      "metadata": {
        "ExecuteTime": {
          "end_time": "2020-10-19T21:40:20.811116Z",
          "start_time": "2020-10-19T21:40:20.456355Z"
        },
        "hidden": true,
        "id": "vzVjhra2lio-"
      },
      "outputs": [],
      "source": [
        "pd.concat([pd.Series(result_status_quo), pd.Series(result_model_future)]).reset_index().T.plot(kind='bar');"
      ]
    },
    {
      "cell_type": "markdown",
      "metadata": {
        "heading_collapsed": true,
        "id": "Lhk0ipmVlio-"
      },
      "source": [
        "## 10.0 - Deploy"
      ]
    },
    {
      "cell_type": "markdown",
      "metadata": {
        "heading_collapsed": true,
        "hidden": true,
        "id": "QvG_lFHNlio-"
      },
      "source": [
        "### 10.1 - Class"
      ]
    },
    {
      "cell_type": "code",
      "execution_count": null,
      "metadata": {
        "ExecuteTime": {
          "end_time": "2020-10-20T18:31:35.651855Z",
          "start_time": "2020-10-20T18:31:35.631889Z"
        },
        "hidden": true,
        "id": "nrTKhrwjlio-"
      },
      "outputs": [],
      "source": [
        "import pandas as pd\n",
        "import numpy as np\n",
        "import json\n",
        "import pickle\n",
        "\n",
        "# this file will be a handler \"API\"\n",
        "class Cardio_Catch_Diseases(object):\n",
        "    def __init__(self):\n",
        "        self.home_path              = '/home/python/Documents/Projects/pa001_cardio_catch_diseases/'\n",
        "        self.age_scaling            = pickle.load(open(self.home_path + 'parameters/age_scaling.pkl', 'rb'))\n",
        "        self.bmi_scaling            = pickle.load(open(self.home_path + 'parameters/bmi_scaling.pkl', 'rb'))\n",
        "        self.difference_scaling     = pickle.load(open(self.home_path + 'parameters/difference_scaling.pkl', 'rb'))\n",
        "        self.height_scaling         = pickle.load(open(self.home_path + 'parameters/height_scaling.pkl', 'rb'))\n",
        "        self.hight_pressure_scaling = pickle.load(open(self.home_path + 'parameters/hight_pressure_scaling.pkl', 'rb'))\n",
        "        self.low_pressure_scaling   = pickle.load(open(self.home_path + 'parameters/low_pressure_scaling.pkl', 'rb'))\n",
        "        self.weight_scaling         = pickle.load(open(self.home_path + 'parameters/weight_scaling.pkl', 'rb'))\n",
        "        self.gender_encoder         = pickle.load(open(self.home_path + 'parameters/gender_encoder.pkl', 'rb'))\n",
        "\n",
        "\n",
        "    \n",
        "    def data_cleaning(self, df3):\n",
        "        '''df3: is the input data from user on website'''\n",
        "\n",
        "\n",
        "        # height - change centimeters to meters\n",
        "        df3['height'] = (df3['height'] / 100)\n",
        "\n",
        "        return df3\n",
        "\n",
        "    def feature_engineering(self, df3):\n",
        "        '''Get the dataframe from data cleaning and create a new features'''\n",
        "\n",
        "\n",
        "        # feature engineering\n",
        "        df3['difference'] = df3['hight_pressure'] - df3['low_pressure']\n",
        "        df3['convergent'] = df3['difference'].apply(lambda x: 1 if x <= 30 else 0)\n",
        "        df3['divergent'] = df3['difference'].apply(lambda x: 1 if x >= 60 else 0)\n",
        "        df3['bmi'] = (df3['weight']/(df3['height'] * df3['height']))\n",
        "        df3['bmi_level'] = df3['bmi'].apply(lambda x: \n",
        "                                                      'underweight' if x <= 18.5 else\n",
        "                                                      'normal'      if x >  18.5 and x <= 24.9 else\n",
        "                                                      'overweight'  if x >= 25.0 and x <= 29.9 else\n",
        "                                                      'obesity')\n",
        "        df3['hypertension'] = df3.apply(lambda x: 1 if x[4] >=140 and x[5] >= 90 else 0, axis=1)\n",
        "        df3['hypotension'] = df3.apply(lambda x: 1 if x[4] <=90 and x[5] <= 60 else 0, axis=1)\n",
        "        df3['age_range'] = df3['age'].apply(lambda x: 'age_0_50'    if x <= 50 \n",
        "                                                           else 'age_51_59'   if x >= 51 and x <= 59 \n",
        "                                                           else 'age_60_over' if x >= 60 \n",
        "                                                           else x)\n",
        "\n",
        "        df3['weight_range'] = df3['weight'].apply(\n",
        "            lambda x:   0.50 if x <= 50  else\n",
        "                        0.75 if x >= 51  and x <= 75 else\n",
        "                        1.00 if x >= 76  and x <= 100 else\n",
        "                        1.25 if x >= 101 and x <= 125 else\n",
        "                        1.50 if x >= 126 and x <= 150 else\n",
        "                        1.75 if x >= 151 and x <= 175 else 2.00)\n",
        "\n",
        "        # Data Filtering rows, values or columns\n",
        "        df3 = df3.drop('id', axis=1)\n",
        "\n",
        "        return df3\n",
        "\n",
        "\n",
        "    def data_rescaling(self, df3):\n",
        "        '''\n",
        "        Rescaling data\n",
        "        Return: json file with x_test data to input the prediction\n",
        "        '''\n",
        "\n",
        "\n",
        "        # Transforming data to will be in correct data scaler to input at model\n",
        "        df3['age']            = self.age_scaling.transform(df3[['age']].values)\n",
        "        df3['height']         = self.height_scaling.transform(df3[['height']].values)\n",
        "        df3['weight']         = self.weight_scaling.transform(df3[['weight']].values)\n",
        "        df3['low_pressure']   = self.low_pressure_scaling.transform(df3[['low_pressure']].values)\n",
        "        df3['hight_pressure'] = self.hight_pressure_scaling.transform(df3[['hight_pressure']].values)\n",
        "        df3['difference']     = self.difference_scaling.transform(df3[['difference']].values)\n",
        "        df3['bmi']            = self.bmi_scaling.transform(df3[['bmi']].values)\n",
        "        df3['gender']         = self.gender_encoder.transform(df3[['gender']].values)\n",
        "        df3['age_range']      = df3['age_range'].map(\n",
        "            {'age_0_50':1, 'age_51_59':1, 'age_60_over':3})\n",
        "        df3['bmi_level']      = df3['bmi_level'].map(\n",
        "            {'underweight':1, 'normal':2, 'overweight':3, 'obesity':4})\n",
        "\n",
        "        # Deleting target\n",
        "        x_test = df3.drop('cardio', axis=1).copy()\n",
        "        #data_json = json.dumps(x_test.to_dict(orient='records')) # converto to json\n",
        "\n",
        "        return x_test"
      ]
    },
    {
      "cell_type": "markdown",
      "metadata": {
        "heading_collapsed": true,
        "hidden": true,
        "id": "oK5celzflio_"
      },
      "source": [
        "### 10.2 - Input Simulation"
      ]
    },
    {
      "cell_type": "code",
      "execution_count": null,
      "metadata": {
        "ExecuteTime": {
          "end_time": "2020-10-27T14:08:51.752258Z",
          "start_time": "2020-10-27T14:08:51.736846Z"
        },
        "hidden": true,
        "id": "R3sCKxRAlio_"
      },
      "outputs": [],
      "source": [
        "import pandas as pd\n",
        "\n",
        "def input_simulation():\n",
        "    # inputs from user\n",
        "    \n",
        "    age = input('age: ')\n",
        "    gender = int(input('gender: '))\n",
        "    height = int(input('height: '))\n",
        "    weight = float(input('weight: '))\n",
        "    ap_hi = int(input('hight_pressure: '))\n",
        "    ap_lo = int(input('low_pressure: '))\n",
        "    cholesterol = int(input('cholesterol (1,2 or 3): '))\n",
        "    gluc = int(input('glucose (1,2 or 3): '))\n",
        "    smoke = int(input('smoker: '))\n",
        "    alco = int(input('alcohol: '))\n",
        "    active = input('active: ')\n",
        "\n",
        "    # replacing columns names\n",
        "    new_col = ['id', 'age', 'gender', 'height', 'weight', 'hight_pressure', 'low_pressure',\n",
        "               'cholesterol', 'glucose', 'smoker', 'alcohol', 'active', 'cardio']\n",
        "\n",
        "    # getting data and converting to dataframe\n",
        "    df3_inputed = [[1, age, gender, height, weight, ap_hi, ap_lo, cholesterol, gluc, smoke, alco, active, 0,]]\n",
        "    df3 = pd.DataFrame(df3_inputed, columns=new_col)\n",
        "\n",
        "    # datatypes transformations\n",
        "    df3['age'] = df3['age'].astype('int64')\n",
        "    df3['gender'] = df3['gender'].astype('int64')\n",
        "    df3['height'] = df3['height'].astype('int64')\n",
        "    df3['weight'] = df3['weight'].astype('float64')\n",
        "    df3['hight_pressure'] = df3['hight_pressure'].astype('int64') \n",
        "    df3['low_pressure'] = df3['low_pressure'].astype('int64') \n",
        "    df3['cholesterol'] = df3['cholesterol'].astype('int64')\n",
        "    df3['glucose'] = df3['glucose'].astype('int64')\n",
        "    df3['smoker'] = df3['smoker'].astype('int64') \n",
        "    df3['alcohol'] = df3['alcohol'].astype('int64')\n",
        "    df3['active'] = df3['active'].astype('int64')\n",
        "    df3['cardio'] = df3['cardio'].astype('int64')\n",
        "\n",
        "    return json.dumps(df3.to_dict(orient='records'))"
      ]
    },
    {
      "cell_type": "markdown",
      "metadata": {
        "heading_collapsed": true,
        "hidden": true,
        "id": "k60hZXS9lio_"
      },
      "source": [
        "### 10.2 - API / Handler"
      ]
    },
    {
      "cell_type": "code",
      "execution_count": null,
      "metadata": {
        "ExecuteTime": {
          "end_time": "2020-10-20T18:23:08.246193Z",
          "start_time": "2020-10-20T18:23:07.403099Z"
        },
        "hidden": true,
        "id": "u_ciQsJXlio_"
      },
      "outputs": [],
      "source": [
        "import pickle\n",
        "import pandas as pd\n",
        "import numpy as np\n",
        "from flask import Flask, request, Response\n",
        "from ccd.ccd import Cardio_Catch_Diseases\n",
        "import json\n",
        "\n",
        "# loading model trained from pickle file\n",
        "with open('/home/python/Documents/Projects/pa001_cardio_catch_diseases/model/model_trained.pkl', 'rb') as file:\n",
        "    model = pickle.load(file)\n",
        "\n",
        "# initialized API\n",
        "app = Flask(__name__)\n",
        "\n",
        "@app.route('/ccd/predict', methods=['POST'])\n",
        "def ccd_predict():\n",
        "    '''\n",
        "    ccd: Cardio Catch Diseases\n",
        "    This function it will be create the API request, where the user will be input the user data that \n",
        "    will used to data_cleaning(), data_engineering(), data_scaler() \n",
        "    this functions will be return the dataframe 'x_est', that will be used to predict\n",
        "    Return: Prediction \"array\"\n",
        "    '''\n",
        "    \n",
        "    test_json = request.get_json()\n",
        "        \n",
        "    if test_json:\n",
        "        if isinstance(test_json, dict): # Unique Example\n",
        "            test_raw = pd.DataFrame(test_json, index=[0])\n",
        "        else: # multiple Example\n",
        "            test_raw = pd.DataFrame(test_json, columns=test_json[0].keys())\n",
        "\n",
        "        # Instantiate CCD class\n",
        "        pipeline = Cardio_Catch_Diseases()\n",
        "        # cleaning data\n",
        "        test_raw_cleaned = pipeline.data_cleaning(test_raw)\n",
        "        # creating derivates to new features\n",
        "        test_raw_features = pipeline.feature_engineering(test_raw_cleaned)        \n",
        "        \n",
        "        # preparing data to model\n",
        "        test_raw_selected = pipeline.data_rescaling(test_raw_features)\n",
        "        \n",
        "        y_hat = model.predict(test_raw_selected)\n",
        "        test_raw['prediction'] = y_hat.copy()\n",
        "        return test_raw.to_json(orient='records')\n",
        "    \n",
        "    else:\n",
        "        return Response( \"{}\", status=200, mimetype='application/json')\n",
        "\n",
        "    \n",
        "if __name__=='__main__':\n",
        "    app.run('0.0.0.0')"
      ]
    },
    {
      "cell_type": "markdown",
      "metadata": {
        "heading_collapsed": true,
        "hidden": true,
        "id": "WSd66IA7lio_"
      },
      "source": [
        "### 10.2 - API Request Tester"
      ]
    },
    {
      "cell_type": "code",
      "execution_count": null,
      "metadata": {
        "ExecuteTime": {
          "end_time": "2020-10-27T15:32:52.061661Z",
          "start_time": "2020-10-27T15:31:39.603800Z"
        },
        "hidden": true,
        "scrolled": true,
        "id": "JMeOEHu2lio_"
      },
      "outputs": [],
      "source": [
        "import requests\n",
        "\n",
        "# Input data user\n",
        "data = input_simulation()\n",
        "\n",
        "# API request\n",
        "url = \"https://ccd-model.herokuapp.com/ccd/predict\"\n",
        "header = {'Content-type': 'application/json'}\n",
        "\n",
        "response_ccd = requests.post(url, data=data, headers=header)\n",
        "print(f'Status Code: {response_ccd.status_code}')\n",
        "\n",
        "df3_response = pd.DataFrame(response_ccd.json(), columns=response_ccd.json()[0].keys())\n",
        "\n",
        "# Loading json to Dataframe\n",
        "df3_new = pd.DataFrame(json.loads(data))\n",
        "\n",
        "# converting to back the original datatype\n",
        "df3_new['age'] = df3_new['age'] * 365\n",
        "\n",
        "# getting prediction\n",
        "df3_new['cardio'] = df3_response['cardio'].copy()\n",
        "\n",
        "# getting current time in seconds since the Epoch.\n",
        "# convert to normal date use time.ctime(time.time())\n",
        "df3_new['id'] = time.time()\n",
        "\n",
        "# Insert into database\n",
        "insert_database_values(df3_new)\n",
        "\n",
        "df3_response"
      ]
    },
    {
      "cell_type": "code",
      "execution_count": null,
      "metadata": {
        "hidden": true,
        "id": "EIEZRsDhlipA"
      },
      "outputs": [],
      "source": []
    },
    {
      "cell_type": "markdown",
      "metadata": {
        "heading_collapsed": true,
        "id": "jFhEQurUlipA"
      },
      "source": [
        "## 11.0 - Dashboard - PowerBI"
      ]
    },
    {
      "cell_type": "code",
      "execution_count": null,
      "metadata": {
        "hidden": true,
        "id": "AVg-XrzIlipA"
      },
      "outputs": [],
      "source": [
        "# Connecting sqlite database\n",
        "import pandas as pd\n",
        "from sqlalchemy import create_engine\n",
        "\n",
        "new_col = ['id', 'age', 'gender', 'height', 'weight', 'hight_pressure', 'low_pressure',\n",
        "           'cholesterol', 'glucose', 'smoker', 'alcohol', 'active', 'cardio']\n",
        "\n",
        "engine = create_engine('sqlite:///Y:\\\\pa001_cardio_catch_diseases\\\\ccd.db', echo=False)\n",
        "df3 = engine.execute('SELECT * FROM patients').fetchall()\n",
        "df3 = pd.DataFrame(df3, columns=new_col)\n",
        "\n",
        "# Data Preparation/transformation\n",
        "\n"
      ]
    }
  ],
  "metadata": {
    "kernelspec": {
      "display_name": "Python 3",
      "language": "python",
      "name": "python3"
    },
    "language_info": {
      "codemirror_mode": {
        "name": "ipython",
        "version": 3
      },
      "file_extension": ".py",
      "mimetype": "text/x-python",
      "name": "python",
      "nbconvert_exporter": "python",
      "pygments_lexer": "ipython3",
      "version": "3.10.9"
    },
    "colab": {
      "provenance": []
    }
  },
  "nbformat": 4,
  "nbformat_minor": 0
}