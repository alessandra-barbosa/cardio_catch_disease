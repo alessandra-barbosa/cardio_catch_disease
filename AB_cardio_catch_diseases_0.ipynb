{
 "cells": [
  {
   "attachments": {},
   "cell_type": "markdown",
   "metadata": {},
   "source": [
    "![Cardio Image](https://img.freepik.com/free-photo/human-heart-design_1048-1855.jpg?size=626&ext=jpg&ga=GA1.1.110088987.1677679311&semt=ais)\n",
    "<h1>Cardio Catch Diseases </h1>"
   ]
  },
  {
   "cell_type": "markdown",
   "metadata": {
    "heading_collapsed": true
   },
   "source": [
    "## 0.0 - Planning and Business Knowledge"
   ]
  },
  {
   "attachments": {},
   "cell_type": "markdown",
   "metadata": {
    "hidden": true
   },
   "source": [
    "<h4>1. Business Problem.</h4>\n",
    "<p>Cardio Catch Diseases is a company specialized in detecting heart disease in the early stages. Its business model lies in offering an early diagnosis of cardiovascular disease for a certain price.\n",
    "\n",
    "<h4>2. Objective</h4>\n",
    "    <li>Growth diagnostic precision and make stable.</li>\n",
    "\n",
    "\n",
    "<h4>3. Justification</h4>\n",
    "    <li>Currently, it's a manual diagnostic by humans.</li>\n",
    "    <li>Low Precision, between 55% and 65%.</li>\n",
    "    <li>Hight cost around one thousand (1.000,00) Reals with operators and machines costing.</li>\n",
    "    <li>The revenue is variable accordingly precision from diagnostics, 500 each 5% above than 50% precision.</li>\n",
    "    \n",
    "<h4>4. Solution Proposal</h4>\n",
    "    <lu>\n",
    "        <li>Collect data from <a href=\"https://www.kaggle.com/sulianova/cardiovascular-disease-dataset\">Kaggle</a></li>\n",
    "        <li>Build a binary classification with <b>Machine Learning</b> or <b>statistics models</b> solution to diseases prediction.</li>\n",
    "    </lu>\n",
    "    \n",
    "<h4>Report</h4>\n",
    "    <lu>\n",
    "        <li>What the precision accuracy from the solution?.</li>\n",
    "        <li>How much profit you will get because of that solution?</li>\n",
    "        <li>how reliable is the solution?</li>\n",
    "    </lu>\n",
    "\n",
    "<h4>Premises</h4>\n",
    "    <lu>\n",
    "        <li>Drop inconsistent data from low pressure .</li>\n",
    "        <li>Drop inconsistent data from high pressure</li>\n",
    "        <li>Drop inconsistent data from height</li>\n",
    "        <li>Drop inconsistent data from weight</li>\n",
    "    </lu>"
   ]
  },
  {
   "cell_type": "markdown",
   "metadata": {
    "heading_collapsed": true
   },
   "source": [
    "## 1.0 - Imports"
   ]
  },
  {
   "cell_type": "markdown",
   "metadata": {
    "heading_collapsed": true,
    "hidden": true
   },
   "source": [
    "### 1.1 - Libraries"
   ]
  },
  {
   "cell_type": "code",
   "execution_count": 333,
   "metadata": {
    "ExecuteTime": {
     "end_time": "2020-11-18T11:46:01.656774Z",
     "start_time": "2020-11-18T11:45:55.603705Z"
    },
    "hidden": true
   },
   "outputs": [],
   "source": [
    "import pandas as pd\n",
    "import numpy as np\n",
    "# #import inflection \n",
    "# import datetime\n",
    "# from random import sample as sp\n",
    "from   pandas_profiling      import ProfileReport #conda install -c conda-forge ydata-profiling\n",
    "\n",
    "\n",
    "# # Database CRUD\n",
    "from sqlalchemy import create_engine\n",
    "import sqlite3\n",
    "\n",
    "# # Data Transformation\n",
    "#from sklearn.preprocessing import StandardScaler, MinMaxScaler, RobustScaler, LabelEncoder\n",
    "\n",
    "# # visualization\n",
    "import seaborn as sns\n",
    "import matplotlib.pyplot as plt\n",
    "# #from scipy.stats import pointbiserialr\n",
    "\n",
    "\n",
    "# # Machine Learning, selection and split\n",
    "from sklearn.model_selection import train_test_split\n",
    "# from sklearn.ensemble import RandomForestClassifier, GradientBoostingClassifier\n",
    "# from sklearn.metrics import accuracy_score, recall_score, precision_score\n",
    "# import pickle\n",
    "# #from boruta import BorutaPy\n",
    "# from sklearn.linear_model import LogisticRegression \n",
    "# from xgboost import XGBClassifier\n",
    "# from sklearn.neighbors import KNeighborsClassifier\n",
    "# #from lightgbm import LGBMClassifier\n",
    "# from sklearn.model_selection import RepeatedStratifiedKFold, cross_val_score\n",
    "\n",
    "\n",
    "# #Configurations\n",
    "from IPython.display import Image\n",
    "from IPython.display import HTML\n",
    "import warnings"
   ]
  },
  {
   "cell_type": "markdown",
   "metadata": {
    "heading_collapsed": true,
    "hidden": true
   },
   "source": [
    "### 1.2 - Funcions"
   ]
  },
  {
   "cell_type": "code",
   "execution_count": 334,
   "metadata": {
    "ExecuteTime": {
     "end_time": "2020-11-18T11:46:01.734870Z",
     "start_time": "2020-11-18T11:46:01.660080Z"
    },
    "code_folding": [],
    "hidden": true
   },
   "outputs": [
    {
     "name": "stdout",
     "output_type": "stream",
     "text": [
      "%pylab is deprecated, use %matplotlib inline and import the required libraries.\n",
      "Populating the interactive namespace from numpy and matplotlib\n"
     ]
    },
    {
     "data": {
      "text/html": [
       "<style>.container{width:100% !important; }</style>"
      ],
      "text/plain": [
       "<IPython.core.display.HTML object>"
      ]
     },
     "metadata": {},
     "output_type": "display_data"
    }
   ],
   "source": [
    "#path_local=\"C:\\Users\\Utente77\\repos\\cardio_catch_disease_PA001\\\"\n",
    "\n",
    "# Engine\n",
    "def engine_db():\n",
    "    engine_db = create_engine(f\"sqlite:////{path_local}/ccd.db\", echo=False)\n",
    "    return engine_db\n",
    "\n",
    "\n",
    "# # Insert dataframe to database\n",
    "# def insert_database_values(data_frame):\n",
    "#     engine = engine_db()\n",
    "#     data_frame.to_sql('patients', con=engine, if_exists='append', index=False)\n",
    "\n",
    "\n",
    "# # Calculating Scores to classification \n",
    "# def metrics_score(y_valid, y_hat, mdl_name:str, transform_before_split:bool, obs:str):\n",
    "#     '''\n",
    "#         y_hat:    is the prediction array\n",
    "#         y_valid:  is the true targe array or series\n",
    "#         mdl_name: is the name of machine learning model\n",
    "#         transform_before_split: If True it was transformation before of Split else False \n",
    "#         obs:      is to any observation that you want to write\n",
    "        \n",
    "#         positive_true  = (y_hat[y_hat == y_valid] == 1).sum()\n",
    "#         positive_false = (y_hat[y_hat != y_valid] == 1).sum()\n",
    "#         negative_false = (y_hat[y_hat != y_valid] == 0).sum()\n",
    "        \n",
    "#         Accuracy formula  -->   accuracy   = np.mean(y_hat == y_valid)\n",
    "#         Precision formula -->   precision  = positive_true/(positive_true+positive_false)      \n",
    "#         Recall formula    -->   recall     = positive_true/(positive_true+negative_false)\n",
    "        \n",
    "#         Return -->> mdl_name, accuracy, precision, recall, transform_before_split, datetime.date.today(), obs\n",
    "        \n",
    "#         See more: https://medium.com/@vitorborbarodrigues/m%C3%A9tricas-de-avalia%C3%A7%C3%A3o-\n",
    "#         acur%C3%A1cia-precis%C3%A3o-recall-quais-as-diferen%C3%A7as-c8f05e0a513c\n",
    "        \n",
    "#         By: Diego Poleto Mayer\n",
    "#         Email: diegopmayer@gmail.com\n",
    "    \n",
    "#     '''\n",
    "#     accuracy = accuracy_score(y_valid, y_hat)\n",
    "#     precision = precision_score(y_valid, y_hat)\n",
    "#     recall = recall_score(y_valid, y_hat)\n",
    "    \n",
    "#     return pd.DataFrame([[mdl_name, accuracy, precision, recall, \n",
    "#                         transform_before_split, datetime.date.today(), obs]], \n",
    "#                         columns=['mdl_name', 'accuracy', 'precision', 'recall', \n",
    "#                                  'split_before_scaling', 'date', 'obs'])\n",
    "    \n",
    "#     #return mdl_name, accuracy, precision, recall, transform_before_split, datetime.date.today(), obs\n",
    "\n",
    "\n",
    "# # Calculating phi to correlation between two dichotomous variables\n",
    "# def phi_correlation(col1, col2):\n",
    "\n",
    "# \t'''\n",
    "\n",
    "#         The phi coefficient it's to correlation between dichotomous vs dichotomous. \n",
    "#         col1, col2 must be dichotomous variables.\n",
    "\n",
    "#     '''\n",
    "\n",
    "# \ttable = pd.crosstab(col1, col2, margins=True)\n",
    "\n",
    "# \ta = table.iloc[0, 0]\n",
    "# \tb = table.iloc[0, 1]\n",
    "# \tc = table.iloc[1, 0]\n",
    "# \td = table.iloc[1, 1]\n",
    "# \tr_1 = table.iloc[0, 2]\n",
    "# \tr_2 = table.iloc[1, 2]\n",
    "# \tc_1 = table.iloc[2, 0]\n",
    "# \tc_2 = table.iloc[2, 1]\n",
    "\n",
    "# \tphi = round((a * d - b * c) / math.sqrt(r_1 * r_2 * c_1 * c_2), 2)\n",
    "\n",
    "# \treturn sns.heatmap(pd.DataFrame({col1.name:phi}, index=[col2.name]), annot=True)\n",
    "\n",
    "\n",
    "# Jupyter configuring to better experience\n",
    "def jupyter_settings():\n",
    "    %matplotlib inline\n",
    "    %pylab inline\n",
    "        \n",
    "    plt.style.use('bmh')\n",
    "    plt.rcParams['figure.figsize'] = [25,9]\n",
    "    plt.rcParams['font.size'] = 24\n",
    "    \n",
    "    display(HTML('<style>.container{width:100% !important; }</style>'))\n",
    "    pd.options.display.max_columns = None\n",
    "    pd.options.display.max_rows = None\n",
    "    pd.set_option('display.expand_frame_repr', False)\n",
    "    \n",
    "    sns.set()\n",
    "jupyter_settings()  \n",
    "\n",
    "# To hide warning messages\n",
    "warnings.filterwarnings('ignore')\n"
   ]
  },
  {
   "attachments": {},
   "cell_type": "markdown",
   "metadata": {
    "heading_collapsed": true,
    "hidden": true
   },
   "source": [
    "#### 1.3 - Data Collect - CSV"
   ]
  },
  {
   "cell_type": "code",
   "execution_count": 335,
   "metadata": {
    "ExecuteTime": {
     "end_time": "2020-11-09T13:45:27.146940Z",
     "start_time": "2020-11-09T13:45:26.970324Z"
    },
    "hidden": true
   },
   "outputs": [
    {
     "data": {
      "text/html": [
       "<div>\n",
       "<style scoped>\n",
       "    .dataframe tbody tr th:only-of-type {\n",
       "        vertical-align: middle;\n",
       "    }\n",
       "\n",
       "    .dataframe tbody tr th {\n",
       "        vertical-align: top;\n",
       "    }\n",
       "\n",
       "    .dataframe thead th {\n",
       "        text-align: right;\n",
       "    }\n",
       "</style>\n",
       "<table border=\"1\" class=\"dataframe\">\n",
       "  <thead>\n",
       "    <tr style=\"text-align: right;\">\n",
       "      <th></th>\n",
       "      <th>id</th>\n",
       "      <th>age</th>\n",
       "      <th>gender</th>\n",
       "      <th>height</th>\n",
       "      <th>weight</th>\n",
       "      <th>ap_hi</th>\n",
       "      <th>ap_lo</th>\n",
       "      <th>cholesterol</th>\n",
       "      <th>gluc</th>\n",
       "      <th>smoke</th>\n",
       "      <th>alco</th>\n",
       "      <th>active</th>\n",
       "      <th>cardio</th>\n",
       "    </tr>\n",
       "  </thead>\n",
       "  <tbody>\n",
       "    <tr>\n",
       "      <th>3687</th>\n",
       "      <td>5213</td>\n",
       "      <td>18108</td>\n",
       "      <td>1</td>\n",
       "      <td>165</td>\n",
       "      <td>70.0</td>\n",
       "      <td>120</td>\n",
       "      <td>80</td>\n",
       "      <td>1</td>\n",
       "      <td>1</td>\n",
       "      <td>0</td>\n",
       "      <td>0</td>\n",
       "      <td>1</td>\n",
       "      <td>0</td>\n",
       "    </tr>\n",
       "    <tr>\n",
       "      <th>40479</th>\n",
       "      <td>57845</td>\n",
       "      <td>20904</td>\n",
       "      <td>1</td>\n",
       "      <td>164</td>\n",
       "      <td>67.0</td>\n",
       "      <td>155</td>\n",
       "      <td>90</td>\n",
       "      <td>1</td>\n",
       "      <td>1</td>\n",
       "      <td>0</td>\n",
       "      <td>0</td>\n",
       "      <td>1</td>\n",
       "      <td>1</td>\n",
       "    </tr>\n",
       "    <tr>\n",
       "      <th>14725</th>\n",
       "      <td>21043</td>\n",
       "      <td>20439</td>\n",
       "      <td>1</td>\n",
       "      <td>159</td>\n",
       "      <td>88.0</td>\n",
       "      <td>130</td>\n",
       "      <td>80</td>\n",
       "      <td>1</td>\n",
       "      <td>1</td>\n",
       "      <td>0</td>\n",
       "      <td>0</td>\n",
       "      <td>1</td>\n",
       "      <td>0</td>\n",
       "    </tr>\n",
       "    <tr>\n",
       "      <th>20559</th>\n",
       "      <td>29344</td>\n",
       "      <td>16158</td>\n",
       "      <td>2</td>\n",
       "      <td>164</td>\n",
       "      <td>55.0</td>\n",
       "      <td>120</td>\n",
       "      <td>80</td>\n",
       "      <td>1</td>\n",
       "      <td>1</td>\n",
       "      <td>0</td>\n",
       "      <td>0</td>\n",
       "      <td>1</td>\n",
       "      <td>0</td>\n",
       "    </tr>\n",
       "    <tr>\n",
       "      <th>22532</th>\n",
       "      <td>32194</td>\n",
       "      <td>22489</td>\n",
       "      <td>1</td>\n",
       "      <td>168</td>\n",
       "      <td>72.0</td>\n",
       "      <td>140</td>\n",
       "      <td>80</td>\n",
       "      <td>1</td>\n",
       "      <td>2</td>\n",
       "      <td>0</td>\n",
       "      <td>0</td>\n",
       "      <td>1</td>\n",
       "      <td>1</td>\n",
       "    </tr>\n",
       "  </tbody>\n",
       "</table>\n",
       "</div>"
      ],
      "text/plain": [
       "          id    age  gender  height  weight  ap_hi  ap_lo  cholesterol  gluc  smoke  alco  active  cardio\n",
       "3687    5213  18108       1     165    70.0    120     80            1     1      0     0       1       0\n",
       "40479  57845  20904       1     164    67.0    155     90            1     1      0     0       1       1\n",
       "14725  21043  20439       1     159    88.0    130     80            1     1      0     0       1       0\n",
       "20559  29344  16158       2     164    55.0    120     80            1     1      0     0       1       0\n",
       "22532  32194  22489       1     168    72.0    140     80            1     2      0     0       1       1"
      ]
     },
     "execution_count": 335,
     "metadata": {},
     "output_type": "execute_result"
    }
   ],
   "source": [
    "# Loading dataset\n",
    "df = pd.read_csv(r'C:\\Users\\Utente77\\repos\\cardio_catch_disease_PA001\\datasets\\cardio_train.csv', sep=';')\n",
    "\n",
    "#Test split\n",
    "df, df_test = train_test_split(df)\n",
    "df.head()"
   ]
  },
  {
   "attachments": {},
   "cell_type": "markdown",
   "metadata": {
    "hidden": true
   },
   "source": [
    "#### 1.4 - Creating Datawerehouse"
   ]
  },
  {
   "attachments": {},
   "cell_type": "markdown",
   "metadata": {
    "heading_collapsed": true,
    "hidden": true
   },
   "source": [
    "##### 1.4.1 - Rename Columns"
   ]
  },
  {
   "cell_type": "code",
   "execution_count": 336,
   "metadata": {
    "ExecuteTime": {
     "end_time": "2020-11-09T13:45:27.161222Z",
     "start_time": "2020-11-09T13:45:27.151339Z"
    },
    "hidden": true
   },
   "outputs": [
    {
     "data": {
      "text/plain": [
       "Index(['id', 'age', 'gender', 'height', 'weight', 'ap_hi', 'ap_lo',\n",
       "       'cholesterol', 'gluc', 'smoke', 'alco', 'active', 'cardio'],\n",
       "      dtype='object')"
      ]
     },
     "execution_count": 336,
     "metadata": {},
     "output_type": "execute_result"
    }
   ],
   "source": [
    "# Old columns\n",
    "df.columns"
   ]
  },
  {
   "cell_type": "code",
   "execution_count": 337,
   "metadata": {
    "ExecuteTime": {
     "end_time": "2020-11-09T13:45:27.220607Z",
     "start_time": "2020-11-09T13:45:27.163397Z"
    },
    "hidden": true,
    "scrolled": true
   },
   "outputs": [
    {
     "data": {
      "text/plain": [
       "Index(['id', 'age', 'gender', 'height', 'weight', 'hight_pressure',\n",
       "       'low_pressure', 'cholesterol', 'glucose', 'smoker', 'alcohol', 'active',\n",
       "       'cardio'],\n",
       "      dtype='object')"
      ]
     },
     "execution_count": 337,
     "metadata": {},
     "output_type": "execute_result"
    }
   ],
   "source": [
    "# Rewriting columns names and replace then\n",
    "new_col = ['id', 'age', 'gender', 'height', 'weight', 'hight_pressure', 'low_pressure',\n",
    "       'cholesterol', 'glucose', 'smoker', 'alcohol', 'active', 'cardio']\n",
    "df.columns = new_col\n",
    "df.columns"
   ]
  },
  {
   "attachments": {},
   "cell_type": "markdown",
   "metadata": {
    "heading_collapsed": true,
    "hidden": true
   },
   "source": [
    "##### 1.4.2 - Database"
   ]
  },
  {
   "cell_type": "code",
   "execution_count": 338,
   "metadata": {
    "ExecuteTime": {
     "end_time": "2020-11-09T13:45:27.561913Z",
     "start_time": "2020-11-09T13:45:27.223297Z"
    },
    "hidden": true
   },
   "outputs": [],
   "source": [
    "# # creating database\n",
    "# conn = sqlite3.Connection('ccd.db')\n",
    "# cursor = conn.cursor()\n",
    "\n",
    "# # create table\n",
    "# query = '''CREATE TABLE IF NOT EXISTS patients(\n",
    "#                                 id INTEGER,\n",
    "#                                 age INTEGER,\n",
    "#                                 gender INTEGER,\n",
    "#                                 height INTEGER,\n",
    "#                                 weight INTEGER,\n",
    "#                                 hight_pressure INTEGER,\n",
    "#                                 low_pressure INTEGER,\n",
    "#                                 cholesterol INTEGER,\n",
    "#                                 glucose INTEGER,\n",
    "#                                 smoker INTEGER,\n",
    "#                                 alcohol INTEGER,\n",
    "#                                 active INTEGER,\n",
    "#                                 cardio INTEGER\n",
    "#                                 )'''\n",
    "\n",
    "# cursor.execute(query)\n",
    "# engine = engine_db()\n",
    "# # insert values from functions\n",
    "# if not engine.execute('SELECT * FROM patients').fetchall():\n",
    "#     insert_database_values(df1)\n",
    "#     print('Values Inserted')\n",
    "# else:\n",
    "#     print('Continue')"
   ]
  },
  {
   "attachments": {},
   "cell_type": "markdown",
   "metadata": {
    "heading_collapsed": true,
    "hidden": true
   },
   "source": [
    "#### 1.5 - Data Collect from Database"
   ]
  },
  {
   "cell_type": "code",
   "execution_count": 339,
   "metadata": {
    "ExecuteTime": {
     "end_time": "2020-11-09T13:45:27.937783Z",
     "start_time": "2020-11-09T13:45:27.563752Z"
    },
    "hidden": true
   },
   "outputs": [],
   "source": [
    "# # Selecting data\n",
    "# engine = engine_db()\n",
    "# select_data = engine.execute('SELECT * FROM patients').fetchall()\n",
    "\n",
    "# # Converting to Dataframe\n",
    "# df1 = pd.DataFrame(select_data, columns=df1.columns)\n",
    "# print(df1.shape)\n",
    "# df1.head()"
   ]
  },
  {
   "cell_type": "markdown",
   "metadata": {
    "heading_collapsed": true
   },
   "source": [
    "## 2.0 - Descriptive Analysis"
   ]
  },
  {
   "cell_type": "markdown",
   "metadata": {
    "heading_collapsed": true,
    "hidden": true
   },
   "source": [
    "### 2.1 - Dimensions"
   ]
  },
  {
   "cell_type": "code",
   "execution_count": 340,
   "metadata": {
    "ExecuteTime": {
     "end_time": "2020-11-09T13:45:27.944040Z",
     "start_time": "2020-11-09T13:45:27.939603Z"
    },
    "hidden": true
   },
   "outputs": [
    {
     "name": "stdout",
     "output_type": "stream",
     "text": [
      "52500 linhas.\n",
      "13 colunas.\n"
     ]
    }
   ],
   "source": [
    "# Printing the data dimensions, how much rows and columns\n",
    "print(f'{df.shape[0]} linhas.')\n",
    "print(f'{df.shape[1]} colunas.')"
   ]
  },
  {
   "cell_type": "markdown",
   "metadata": {
    "heading_collapsed": true,
    "hidden": true
   },
   "source": [
    "### 2.2 - Datatype and NaN fillout"
   ]
  },
  {
   "cell_type": "code",
   "execution_count": 341,
   "metadata": {
    "ExecuteTime": {
     "end_time": "2020-11-09T13:45:28.014604Z",
     "start_time": "2020-11-09T13:45:27.947698Z"
    },
    "hidden": true
   },
   "outputs": [
    {
     "name": "stdout",
     "output_type": "stream",
     "text": [
      "<class 'pandas.core.frame.DataFrame'>\n",
      "Int64Index: 52500 entries, 3687 to 29636\n",
      "Data columns (total 13 columns):\n",
      " #   Column          Non-Null Count  Dtype  \n",
      "---  ------          --------------  -----  \n",
      " 0   id              52500 non-null  int64  \n",
      " 1   age             52500 non-null  int64  \n",
      " 2   gender          52500 non-null  int64  \n",
      " 3   height          52500 non-null  int64  \n",
      " 4   weight          52500 non-null  float64\n",
      " 5   hight_pressure  52500 non-null  int64  \n",
      " 6   low_pressure    52500 non-null  int64  \n",
      " 7   cholesterol     52500 non-null  int64  \n",
      " 8   glucose         52500 non-null  int64  \n",
      " 9   smoker          52500 non-null  int64  \n",
      " 10  alcohol         52500 non-null  int64  \n",
      " 11  active          52500 non-null  int64  \n",
      " 12  cardio          52500 non-null  int64  \n",
      "dtypes: float64(1), int64(12)\n",
      "memory usage: 5.6 MB\n"
     ]
    }
   ],
   "source": [
    "# Columns Datatypes\n",
    "df.info()"
   ]
  },
  {
   "cell_type": "code",
   "execution_count": 342,
   "metadata": {},
   "outputs": [
    {
     "data": {
      "image/png": "[encoded data removed]",
      "text/plain": [
       "<IPython.core.display.Image object>"
      ]
     },
     "execution_count": 342,
     "metadata": {},
     "output_type": "execute_result"
    }
   ],
   "source": [
    "Image(r'C:\\Users\\Utente77\\repos\\cardio_catch_disease_PA001\\img\\Cardio_Disease.png')"
   ]
  },
  {
   "cell_type": "code",
   "execution_count": 343,
   "metadata": {
    "ExecuteTime": {
     "end_time": "2020-11-09T13:45:28.176475Z",
     "start_time": "2020-11-09T13:45:28.101739Z"
    },
    "hidden": true
   },
   "outputs": [
    {
     "data": {
      "text/html": [
       "<div>\n",
       "<style scoped>\n",
       "    .dataframe tbody tr th:only-of-type {\n",
       "        vertical-align: middle;\n",
       "    }\n",
       "\n",
       "    .dataframe tbody tr th {\n",
       "        vertical-align: top;\n",
       "    }\n",
       "\n",
       "    .dataframe thead th {\n",
       "        text-align: right;\n",
       "    }\n",
       "</style>\n",
       "<table border=\"1\" class=\"dataframe\">\n",
       "  <thead>\n",
       "    <tr style=\"text-align: right;\">\n",
       "      <th></th>\n",
       "      <th>NaN</th>\n",
       "      <th>NaN %</th>\n",
       "    </tr>\n",
       "  </thead>\n",
       "  <tbody>\n",
       "    <tr>\n",
       "      <th>id</th>\n",
       "      <td>0</td>\n",
       "      <td>0.0</td>\n",
       "    </tr>\n",
       "    <tr>\n",
       "      <th>age</th>\n",
       "      <td>0</td>\n",
       "      <td>0.0</td>\n",
       "    </tr>\n",
       "    <tr>\n",
       "      <th>gender</th>\n",
       "      <td>0</td>\n",
       "      <td>0.0</td>\n",
       "    </tr>\n",
       "    <tr>\n",
       "      <th>height</th>\n",
       "      <td>0</td>\n",
       "      <td>0.0</td>\n",
       "    </tr>\n",
       "    <tr>\n",
       "      <th>weight</th>\n",
       "      <td>0</td>\n",
       "      <td>0.0</td>\n",
       "    </tr>\n",
       "    <tr>\n",
       "      <th>hight_pressure</th>\n",
       "      <td>0</td>\n",
       "      <td>0.0</td>\n",
       "    </tr>\n",
       "    <tr>\n",
       "      <th>low_pressure</th>\n",
       "      <td>0</td>\n",
       "      <td>0.0</td>\n",
       "    </tr>\n",
       "    <tr>\n",
       "      <th>cholesterol</th>\n",
       "      <td>0</td>\n",
       "      <td>0.0</td>\n",
       "    </tr>\n",
       "    <tr>\n",
       "      <th>glucose</th>\n",
       "      <td>0</td>\n",
       "      <td>0.0</td>\n",
       "    </tr>\n",
       "    <tr>\n",
       "      <th>smoker</th>\n",
       "      <td>0</td>\n",
       "      <td>0.0</td>\n",
       "    </tr>\n",
       "    <tr>\n",
       "      <th>alcohol</th>\n",
       "      <td>0</td>\n",
       "      <td>0.0</td>\n",
       "    </tr>\n",
       "    <tr>\n",
       "      <th>active</th>\n",
       "      <td>0</td>\n",
       "      <td>0.0</td>\n",
       "    </tr>\n",
       "    <tr>\n",
       "      <th>cardio</th>\n",
       "      <td>0</td>\n",
       "      <td>0.0</td>\n",
       "    </tr>\n",
       "  </tbody>\n",
       "</table>\n",
       "</div>"
      ],
      "text/plain": [
       "                NaN  NaN %\n",
       "id                0    0.0\n",
       "age               0    0.0\n",
       "gender            0    0.0\n",
       "height            0    0.0\n",
       "weight            0    0.0\n",
       "hight_pressure    0    0.0\n",
       "low_pressure      0    0.0\n",
       "cholesterol       0    0.0\n",
       "glucose           0    0.0\n",
       "smoker            0    0.0\n",
       "alcohol           0    0.0\n",
       "active            0    0.0\n",
       "cardio            0    0.0"
      ]
     },
     "execution_count": 343,
     "metadata": {},
     "output_type": "execute_result"
    }
   ],
   "source": [
    "# age - change days to year old\n",
    "df['age'] = (df['age'] / 365).astype('int')\n",
    "\n",
    "# height - change centimeters to meters\n",
    "df['height'] = (df['height'] / 100)\n",
    "\n",
    "aux=df.isna().sum().sort_values(ascending=False)\n",
    "aux1=df.isna().sum().sort_values(ascending=False)/df.shape[0]*100\n",
    "\n",
    "na=pd.concat([aux,aux1],axis=1)\n",
    "na.columns=['NaN', 'NaN %']\n",
    "na"
   ]
  },
  {
   "cell_type": "markdown",
   "metadata": {
    "heading_collapsed": true,
    "hidden": true
   },
   "source": [
    "### 2.3 - Data Description"
   ]
  },
  {
   "cell_type": "code",
   "execution_count": 344,
   "metadata": {},
   "outputs": [],
   "source": [
    "# profile=ProfileReport(df, title=\"Pandas Profiling Report\")\n",
    "# profile.to_file(r\"C:\\Users\\Utente77\\repos\\cardio_catch_disease_PA001\\img\\report.html\")\n",
    "# profile"
   ]
  },
  {
   "cell_type": "code",
   "execution_count": 345,
   "metadata": {},
   "outputs": [],
   "source": [
    "num_attributes = df.select_dtypes( include=['int64', 'int32','float64'] )\n",
    "cat_attributes = df.select_dtypes( exclude=['int64', 'int32','float64', 'datetime64[ns]'] )"
   ]
  },
  {
   "cell_type": "code",
   "execution_count": 346,
   "metadata": {},
   "outputs": [
    {
     "data": {
      "text/html": [
       "<div>\n",
       "<style scoped>\n",
       "    .dataframe tbody tr th:only-of-type {\n",
       "        vertical-align: middle;\n",
       "    }\n",
       "\n",
       "    .dataframe tbody tr th {\n",
       "        vertical-align: top;\n",
       "    }\n",
       "\n",
       "    .dataframe thead th {\n",
       "        text-align: right;\n",
       "    }\n",
       "</style>\n",
       "<table border=\"1\" class=\"dataframe\">\n",
       "  <thead>\n",
       "    <tr style=\"text-align: right;\">\n",
       "      <th></th>\n",
       "      <th>attributes</th>\n",
       "      <th>min</th>\n",
       "      <th>max</th>\n",
       "      <th>range</th>\n",
       "      <th>mean</th>\n",
       "      <th>median</th>\n",
       "      <th>std</th>\n",
       "      <th>skew</th>\n",
       "      <th>kurtosis</th>\n",
       "    </tr>\n",
       "  </thead>\n",
       "  <tbody>\n",
       "    <tr>\n",
       "      <th>0</th>\n",
       "      <td>age</td>\n",
       "      <td>29.00</td>\n",
       "      <td>64.0</td>\n",
       "      <td>35.00</td>\n",
       "      <td>52.829467</td>\n",
       "      <td>53.00</td>\n",
       "      <td>6.770671</td>\n",
       "      <td>-0.304773</td>\n",
       "      <td>-0.815049</td>\n",
       "    </tr>\n",
       "    <tr>\n",
       "      <th>1</th>\n",
       "      <td>gender</td>\n",
       "      <td>1.00</td>\n",
       "      <td>2.0</td>\n",
       "      <td>1.00</td>\n",
       "      <td>1.348895</td>\n",
       "      <td>1.00</td>\n",
       "      <td>0.476621</td>\n",
       "      <td>0.634085</td>\n",
       "      <td>-1.597997</td>\n",
       "    </tr>\n",
       "    <tr>\n",
       "      <th>2</th>\n",
       "      <td>height</td>\n",
       "      <td>0.55</td>\n",
       "      <td>2.5</td>\n",
       "      <td>1.95</td>\n",
       "      <td>1.643456</td>\n",
       "      <td>1.65</td>\n",
       "      <td>0.082030</td>\n",
       "      <td>-0.617997</td>\n",
       "      <td>7.920230</td>\n",
       "    </tr>\n",
       "    <tr>\n",
       "      <th>3</th>\n",
       "      <td>weight</td>\n",
       "      <td>10.00</td>\n",
       "      <td>200.0</td>\n",
       "      <td>190.00</td>\n",
       "      <td>74.198701</td>\n",
       "      <td>72.00</td>\n",
       "      <td>14.346656</td>\n",
       "      <td>1.005507</td>\n",
       "      <td>2.601839</td>\n",
       "    </tr>\n",
       "    <tr>\n",
       "      <th>4</th>\n",
       "      <td>hight_pressure</td>\n",
       "      <td>-150.00</td>\n",
       "      <td>16020.0</td>\n",
       "      <td>16170.00</td>\n",
       "      <td>129.163790</td>\n",
       "      <td>120.00</td>\n",
       "      <td>166.506679</td>\n",
       "      <td>78.891708</td>\n",
       "      <td>6473.754824</td>\n",
       "    </tr>\n",
       "    <tr>\n",
       "      <th>5</th>\n",
       "      <td>low_pressure</td>\n",
       "      <td>-70.00</td>\n",
       "      <td>10000.0</td>\n",
       "      <td>10070.00</td>\n",
       "      <td>95.807752</td>\n",
       "      <td>80.00</td>\n",
       "      <td>174.252774</td>\n",
       "      <td>33.345595</td>\n",
       "      <td>1616.841348</td>\n",
       "    </tr>\n",
       "    <tr>\n",
       "      <th>6</th>\n",
       "      <td>cholesterol</td>\n",
       "      <td>1.00</td>\n",
       "      <td>3.0</td>\n",
       "      <td>2.00</td>\n",
       "      <td>1.367257</td>\n",
       "      <td>1.00</td>\n",
       "      <td>0.680895</td>\n",
       "      <td>1.585970</td>\n",
       "      <td>0.987778</td>\n",
       "    </tr>\n",
       "    <tr>\n",
       "      <th>7</th>\n",
       "      <td>glucose</td>\n",
       "      <td>1.00</td>\n",
       "      <td>3.0</td>\n",
       "      <td>2.00</td>\n",
       "      <td>1.225524</td>\n",
       "      <td>1.00</td>\n",
       "      <td>0.571777</td>\n",
       "      <td>2.405569</td>\n",
       "      <td>4.330022</td>\n",
       "    </tr>\n",
       "    <tr>\n",
       "      <th>8</th>\n",
       "      <td>smoker</td>\n",
       "      <td>0.00</td>\n",
       "      <td>1.0</td>\n",
       "      <td>1.00</td>\n",
       "      <td>0.088286</td>\n",
       "      <td>0.00</td>\n",
       "      <td>0.283710</td>\n",
       "      <td>2.902443</td>\n",
       "      <td>6.424422</td>\n",
       "    </tr>\n",
       "    <tr>\n",
       "      <th>9</th>\n",
       "      <td>alcohol</td>\n",
       "      <td>0.00</td>\n",
       "      <td>1.0</td>\n",
       "      <td>1.00</td>\n",
       "      <td>0.053695</td>\n",
       "      <td>0.00</td>\n",
       "      <td>0.225415</td>\n",
       "      <td>3.959958</td>\n",
       "      <td>13.681785</td>\n",
       "    </tr>\n",
       "    <tr>\n",
       "      <th>10</th>\n",
       "      <td>active</td>\n",
       "      <td>0.00</td>\n",
       "      <td>1.0</td>\n",
       "      <td>1.00</td>\n",
       "      <td>0.803676</td>\n",
       "      <td>1.00</td>\n",
       "      <td>0.397216</td>\n",
       "      <td>-1.529066</td>\n",
       "      <td>0.338054</td>\n",
       "    </tr>\n",
       "    <tr>\n",
       "      <th>11</th>\n",
       "      <td>cardio</td>\n",
       "      <td>0.00</td>\n",
       "      <td>1.0</td>\n",
       "      <td>1.00</td>\n",
       "      <td>0.499790</td>\n",
       "      <td>0.00</td>\n",
       "      <td>0.500000</td>\n",
       "      <td>0.000838</td>\n",
       "      <td>-2.000075</td>\n",
       "    </tr>\n",
       "  </tbody>\n",
       "</table>\n",
       "</div>"
      ],
      "text/plain": [
       "        attributes     min      max     range        mean  median         std       skew     kurtosis\n",
       "0              age   29.00     64.0     35.00   52.829467   53.00    6.770671  -0.304773    -0.815049\n",
       "1           gender    1.00      2.0      1.00    1.348895    1.00    0.476621   0.634085    -1.597997\n",
       "2           height    0.55      2.5      1.95    1.643456    1.65    0.082030  -0.617997     7.920230\n",
       "3           weight   10.00    200.0    190.00   74.198701   72.00   14.346656   1.005507     2.601839\n",
       "4   hight_pressure -150.00  16020.0  16170.00  129.163790  120.00  166.506679  78.891708  6473.754824\n",
       "5     low_pressure  -70.00  10000.0  10070.00   95.807752   80.00  174.252774  33.345595  1616.841348\n",
       "6      cholesterol    1.00      3.0      2.00    1.367257    1.00    0.680895   1.585970     0.987778\n",
       "7          glucose    1.00      3.0      2.00    1.225524    1.00    0.571777   2.405569     4.330022\n",
       "8           smoker    0.00      1.0      1.00    0.088286    0.00    0.283710   2.902443     6.424422\n",
       "9          alcohol    0.00      1.0      1.00    0.053695    0.00    0.225415   3.959958    13.681785\n",
       "10          active    0.00      1.0      1.00    0.803676    1.00    0.397216  -1.529066     0.338054\n",
       "11          cardio    0.00      1.0      1.00    0.499790    0.00    0.500000   0.000838    -2.000075"
      ]
     },
     "execution_count": 346,
     "metadata": {},
     "output_type": "execute_result"
    }
   ],
   "source": [
    "# Central Tendency - mean, median\n",
    "ct1 = pd.DataFrame( num_attributes.apply( np.mean ) ).T.drop('id', axis=1)\n",
    "ct2 = pd.DataFrame( num_attributes.apply( np.median ) ).T.drop('id', axis=1)\n",
    "\n",
    "# dispersion - std, min, max, range, skew, kurtosis\n",
    "d1 = pd.DataFrame( num_attributes.apply( np.std ) ).T.drop('id', axis=1) \n",
    "d2 = pd.DataFrame( num_attributes.apply( min ) ).T.drop('id', axis=1) \n",
    "d3 = pd.DataFrame( num_attributes.apply( max ) ).T.drop('id', axis=1) \n",
    "d4 = pd.DataFrame( num_attributes.apply( lambda x: x.max() - x.min() ) ).T.drop('id', axis=1) \n",
    "d5 = pd.DataFrame( num_attributes.apply( lambda x: x.skew() ) ).T.drop('id', axis=1) \n",
    "d6 = pd.DataFrame( num_attributes.apply( lambda x: x.kurtosis() ) ).T.drop('id', axis=1) \n",
    "\n",
    "# concatenar\n",
    "m = pd.concat( [d2, d3, d4, ct1, ct2, d1, d5, d6] ).T.reset_index()\n",
    "m.columns = ['attributes', 'min', 'max', 'range', 'mean', 'median', 'std', 'skew', 'kurtosis']\n",
    "m"
   ]
  },
  {
   "attachments": {},
   "cell_type": "markdown",
   "metadata": {},
   "source": [
    "### Inconsistent numbers of **hight pressure** and **low pressure** \n"
   ]
  },
  {
   "cell_type": "code",
   "execution_count": 347,
   "metadata": {
    "ExecuteTime": {
     "end_time": "2020-11-09T13:45:28.322203Z",
     "start_time": "2020-11-09T13:45:28.314393Z"
    },
    "hidden": true
   },
   "outputs": [
    {
     "name": "stdout",
     "output_type": "stream",
     "text": [
      "746 inconsistent rows on low_pressure.\n",
      "176 inconsistent rows on hight_pressure. \n"
     ]
    }
   ],
   "source": [
    "\n",
    "print(f'''{df[(df['low_pressure'] < 20) | (\n",
    "    df['low_pressure'] > 150)].shape[0]} inconsistent rows on low_pressure.''')\n",
    "print(f'''{df[(df['hight_pressure'] < 40) | (\n",
    "    df['hight_pressure'] > 300)].shape[0]} inconsistent rows on hight_pressure. ''')\n",
    "\n",
    "# filtering data without inconsistence data\n",
    "df = df[(df['low_pressure'] >= 20) & (df['low_pressure'] <= 150)]\n",
    "df = df[(df['hight_pressure'] >= 40) & (df['hight_pressure'] <= 300)]"
   ]
  },
  {
   "cell_type": "code",
   "execution_count": null,
   "metadata": {
    "ExecuteTime": {
     "end_time": "2020-11-09T13:45:28.415506Z",
     "start_time": "2020-11-09T13:45:28.323751Z"
    },
    "hidden": true
   },
   "outputs": [],
   "source": [
    "\n"
   ]
  },
  {
   "attachments": {},
   "cell_type": "markdown",
   "metadata": {},
   "source": [
    "### Inconsistent numbers of **height**\n"
   ]
  },
  {
   "cell_type": "code",
   "execution_count": 348,
   "metadata": {},
   "outputs": [
    {
     "name": "stdout",
     "output_type": "stream",
     "text": [
      "387 inconsistent rows on height.\n"
     ]
    }
   ],
   "source": [
    "print(f'''{df[df['height'] <= 1.45].shape[0]} inconsistent rows on height.''')\n",
    "\n",
    "# Data filtering possible incosistent data by height \n",
    "df = df[df['height'] > 1.45]\n"
   ]
  },
  {
   "cell_type": "code",
   "execution_count": 349,
   "metadata": {
    "ExecuteTime": {
     "end_time": "2020-11-09T13:45:28.538692Z",
     "start_time": "2020-11-09T13:45:28.416801Z"
    },
    "hidden": true
   },
   "outputs": [
    {
     "data": {
      "text/html": [
       "<div>\n",
       "<style scoped>\n",
       "    .dataframe tbody tr th:only-of-type {\n",
       "        vertical-align: middle;\n",
       "    }\n",
       "\n",
       "    .dataframe tbody tr th {\n",
       "        vertical-align: top;\n",
       "    }\n",
       "\n",
       "    .dataframe thead th {\n",
       "        text-align: right;\n",
       "    }\n",
       "</style>\n",
       "<table border=\"1\" class=\"dataframe\">\n",
       "  <thead>\n",
       "    <tr style=\"text-align: right;\">\n",
       "      <th></th>\n",
       "      <th>count</th>\n",
       "      <th>mean</th>\n",
       "      <th>std</th>\n",
       "      <th>min</th>\n",
       "      <th>25%</th>\n",
       "      <th>50%</th>\n",
       "      <th>75%</th>\n",
       "      <th>max</th>\n",
       "      <th>range</th>\n",
       "      <th>kurtosis</th>\n",
       "      <th>skew</th>\n",
       "    </tr>\n",
       "  </thead>\n",
       "  <tbody>\n",
       "    <tr>\n",
       "      <th>age</th>\n",
       "      <td>51202.0</td>\n",
       "      <td>52.805203</td>\n",
       "      <td>6.770298</td>\n",
       "      <td>29.00</td>\n",
       "      <td>48.00</td>\n",
       "      <td>53.00</td>\n",
       "      <td>58.0</td>\n",
       "      <td>64.0</td>\n",
       "      <td>35.00</td>\n",
       "      <td>8.999973</td>\n",
       "      <td>3.162269</td>\n",
       "    </tr>\n",
       "    <tr>\n",
       "      <th>gender</th>\n",
       "      <td>51202.0</td>\n",
       "      <td>1.350201</td>\n",
       "      <td>0.477037</td>\n",
       "      <td>1.00</td>\n",
       "      <td>1.00</td>\n",
       "      <td>1.00</td>\n",
       "      <td>2.0</td>\n",
       "      <td>2.0</td>\n",
       "      <td>1.00</td>\n",
       "      <td>9.000000</td>\n",
       "      <td>3.162278</td>\n",
       "    </tr>\n",
       "    <tr>\n",
       "      <th>height</th>\n",
       "      <td>51202.0</td>\n",
       "      <td>1.645675</td>\n",
       "      <td>0.076821</td>\n",
       "      <td>1.46</td>\n",
       "      <td>1.59</td>\n",
       "      <td>1.65</td>\n",
       "      <td>1.7</td>\n",
       "      <td>2.5</td>\n",
       "      <td>1.04</td>\n",
       "      <td>9.000000</td>\n",
       "      <td>3.162278</td>\n",
       "    </tr>\n",
       "    <tr>\n",
       "      <th>weight</th>\n",
       "      <td>51202.0</td>\n",
       "      <td>74.180358</td>\n",
       "      <td>14.207302</td>\n",
       "      <td>21.00</td>\n",
       "      <td>65.00</td>\n",
       "      <td>72.00</td>\n",
       "      <td>82.0</td>\n",
       "      <td>200.0</td>\n",
       "      <td>179.00</td>\n",
       "      <td>8.999648</td>\n",
       "      <td>3.162184</td>\n",
       "    </tr>\n",
       "    <tr>\n",
       "      <th>hight_pressure</th>\n",
       "      <td>51202.0</td>\n",
       "      <td>126.594488</td>\n",
       "      <td>16.729674</td>\n",
       "      <td>60.00</td>\n",
       "      <td>120.00</td>\n",
       "      <td>120.00</td>\n",
       "      <td>140.0</td>\n",
       "      <td>240.0</td>\n",
       "      <td>180.00</td>\n",
       "      <td>8.999640</td>\n",
       "      <td>3.162165</td>\n",
       "    </tr>\n",
       "    <tr>\n",
       "      <th>low_pressure</th>\n",
       "      <td>51202.0</td>\n",
       "      <td>81.351705</td>\n",
       "      <td>9.592963</td>\n",
       "      <td>20.00</td>\n",
       "      <td>80.00</td>\n",
       "      <td>80.00</td>\n",
       "      <td>90.0</td>\n",
       "      <td>150.0</td>\n",
       "      <td>130.00</td>\n",
       "      <td>8.999822</td>\n",
       "      <td>3.162226</td>\n",
       "    </tr>\n",
       "    <tr>\n",
       "      <th>cholesterol</th>\n",
       "      <td>51202.0</td>\n",
       "      <td>1.364458</td>\n",
       "      <td>0.679145</td>\n",
       "      <td>1.00</td>\n",
       "      <td>1.00</td>\n",
       "      <td>1.00</td>\n",
       "      <td>1.0</td>\n",
       "      <td>3.0</td>\n",
       "      <td>2.00</td>\n",
       "      <td>9.000000</td>\n",
       "      <td>3.162278</td>\n",
       "    </tr>\n",
       "    <tr>\n",
       "      <th>glucose</th>\n",
       "      <td>51202.0</td>\n",
       "      <td>1.224991</td>\n",
       "      <td>0.571521</td>\n",
       "      <td>1.00</td>\n",
       "      <td>1.00</td>\n",
       "      <td>1.00</td>\n",
       "      <td>1.0</td>\n",
       "      <td>3.0</td>\n",
       "      <td>2.00</td>\n",
       "      <td>9.000000</td>\n",
       "      <td>3.162278</td>\n",
       "    </tr>\n",
       "    <tr>\n",
       "      <th>smoker</th>\n",
       "      <td>51202.0</td>\n",
       "      <td>0.088688</td>\n",
       "      <td>0.284296</td>\n",
       "      <td>0.00</td>\n",
       "      <td>0.00</td>\n",
       "      <td>0.00</td>\n",
       "      <td>0.0</td>\n",
       "      <td>1.0</td>\n",
       "      <td>1.00</td>\n",
       "      <td>9.000000</td>\n",
       "      <td>3.162277</td>\n",
       "    </tr>\n",
       "    <tr>\n",
       "      <th>alcohol</th>\n",
       "      <td>51202.0</td>\n",
       "      <td>0.053650</td>\n",
       "      <td>0.225328</td>\n",
       "      <td>0.00</td>\n",
       "      <td>0.00</td>\n",
       "      <td>0.00</td>\n",
       "      <td>0.0</td>\n",
       "      <td>1.0</td>\n",
       "      <td>1.00</td>\n",
       "      <td>9.000000</td>\n",
       "      <td>3.162277</td>\n",
       "    </tr>\n",
       "    <tr>\n",
       "      <th>active</th>\n",
       "      <td>51202.0</td>\n",
       "      <td>0.803328</td>\n",
       "      <td>0.397486</td>\n",
       "      <td>0.00</td>\n",
       "      <td>1.00</td>\n",
       "      <td>1.00</td>\n",
       "      <td>1.0</td>\n",
       "      <td>1.0</td>\n",
       "      <td>1.00</td>\n",
       "      <td>9.000000</td>\n",
       "      <td>3.162278</td>\n",
       "    </tr>\n",
       "    <tr>\n",
       "      <th>cardio</th>\n",
       "      <td>51202.0</td>\n",
       "      <td>0.494688</td>\n",
       "      <td>0.499977</td>\n",
       "      <td>0.00</td>\n",
       "      <td>0.00</td>\n",
       "      <td>0.00</td>\n",
       "      <td>1.0</td>\n",
       "      <td>1.0</td>\n",
       "      <td>1.00</td>\n",
       "      <td>9.000000</td>\n",
       "      <td>3.162277</td>\n",
       "    </tr>\n",
       "  </tbody>\n",
       "</table>\n",
       "</div>"
      ],
      "text/plain": [
       "                  count        mean        std    min     25%     50%    75%    max   range  kurtosis      skew\n",
       "age             51202.0   52.805203   6.770298  29.00   48.00   53.00   58.0   64.0   35.00  8.999973  3.162269\n",
       "gender          51202.0    1.350201   0.477037   1.00    1.00    1.00    2.0    2.0    1.00  9.000000  3.162278\n",
       "height          51202.0    1.645675   0.076821   1.46    1.59    1.65    1.7    2.5    1.04  9.000000  3.162278\n",
       "weight          51202.0   74.180358  14.207302  21.00   65.00   72.00   82.0  200.0  179.00  8.999648  3.162184\n",
       "hight_pressure  51202.0  126.594488  16.729674  60.00  120.00  120.00  140.0  240.0  180.00  8.999640  3.162165\n",
       "low_pressure    51202.0   81.351705   9.592963  20.00   80.00   80.00   90.0  150.0  130.00  8.999822  3.162226\n",
       "cholesterol     51202.0    1.364458   0.679145   1.00    1.00    1.00    1.0    3.0    2.00  9.000000  3.162278\n",
       "glucose         51202.0    1.224991   0.571521   1.00    1.00    1.00    1.0    3.0    2.00  9.000000  3.162278\n",
       "smoker          51202.0    0.088688   0.284296   0.00    0.00    0.00    0.0    1.0    1.00  9.000000  3.162277\n",
       "alcohol         51202.0    0.053650   0.225328   0.00    0.00    0.00    0.0    1.0    1.00  9.000000  3.162277\n",
       "active          51202.0    0.803328   0.397486   0.00    1.00    1.00    1.0    1.0    1.00  9.000000  3.162278\n",
       "cardio          51202.0    0.494688   0.499977   0.00    0.00    0.00    1.0    1.0    1.00  9.000000  3.162277"
      ]
     },
     "execution_count": 349,
     "metadata": {},
     "output_type": "execute_result"
    }
   ],
   "source": [
    "# Descriptive statistics after filters\n",
    "\n",
    "describe = df.describe().T.drop('id', axis=0)\n",
    "describe['range'] = describe['max'] - describe['min']\n",
    "describe['kurtosis'] = describe.T.kurtosis()\n",
    "describe['skew'] = describe.T.skew()\n",
    "describe"
   ]
  },
  {
   "cell_type": "markdown",
   "metadata": {
    "heading_collapsed": true
   },
   "source": [
    "## 3.0 - Feature Engineering"
   ]
  },
  {
   "cell_type": "code",
   "execution_count": 350,
   "metadata": {
    "ExecuteTime": {
     "end_time": "2020-11-09T13:45:28.893911Z",
     "start_time": "2020-11-09T13:45:28.882967Z"
    },
    "hidden": true
   },
   "outputs": [],
   "source": [
    "df1=df.copy(())"
   ]
  },
  {
   "cell_type": "markdown",
   "metadata": {
    "hidden": true
   },
   "source": [
    "A difference between systolic and diastolic arterial pressure, if it's lesser than 30mmhg called convergent and upper than 60mmhg called divergent and both cases they are corretion with cardiac diseases\n",
    "<a href=\"https://enfermagemilustrada.com/pressao-arterial-divergente-e-convergente/\">Norse Site</a> and <a href=\"https://drleonardoalves.com.br/pressao-arterial-convergente-o-que-e-2/\">Doctor Site Article</a>."
   ]
  },
  {
   "cell_type": "code",
   "execution_count": 351,
   "metadata": {
    "ExecuteTime": {
     "end_time": "2020-11-09T13:45:28.995218Z",
     "start_time": "2020-11-09T13:45:28.895364Z"
    },
    "hidden": true
   },
   "outputs": [],
   "source": [
    "df1['difference'] = df1['hight_pressure'] - df1['low_pressure']\n",
    "df1['convergent'] = df1['difference'].apply(lambda x: 1 if x <= 30 else 0)\n",
    "df1['divergent'] = df1['difference'].apply(lambda x: 1 if x >= 60 else 0)"
   ]
  },
  {
   "cell_type": "markdown",
   "metadata": {
    "hidden": true
   },
   "source": [
    "Other important feature is BMI where it's possible correlation with cardiac diseases because of obesity<a href=\"https://centrodeobesidadeediabetes.org.br/tudo-sobre-obesidade/calculadora-de-imc/#:~:text=Compartilhar%3A,ao%20quadrado%20(em%20metros).\"> BMI calc</a>"
   ]
  },
  {
   "cell_type": "code",
   "execution_count": 352,
   "metadata": {
    "ExecuteTime": {
     "end_time": "2020-11-09T13:45:29.039434Z",
     "start_time": "2020-11-09T13:45:28.996621Z"
    },
    "hidden": true
   },
   "outputs": [],
   "source": [
    "# BMI calculus and slices in four levels\n",
    "df1['bmi'] = (df1['weight']/(df1['height'] * df1['height']))\n",
    "df1['bmi_level'] = df1['bmi'].apply(lambda x: \n",
    "                                              'underweight' if x <= 18.5 else\n",
    "                                              'normal'      if x >  18.5 and x <= 24.9 else\n",
    "                                              'overweight'  if x >= 25.0 and x <= 29.9 else\n",
    "                                              'obesity')"
   ]
  },
  {
   "cell_type": "code",
   "execution_count": 353,
   "metadata": {
    "ExecuteTime": {
     "end_time": "2020-11-09T13:45:29.915396Z",
     "start_time": "2020-11-09T13:45:29.040920Z"
    },
    "hidden": true
   },
   "outputs": [],
   "source": [
    "# Hypertension and Hipotension binary\n",
    "df1['hypertension'] = df1.apply(lambda x: 1 if x[4] >=140 and x[5] >= 90 else 0, axis=1)\n",
    "df1['hypotension'] = df1.apply(lambda x: 1 if x[4] <=90 and x[5] <= 60 else 0, axis=1)"
   ]
  },
  {
   "cell_type": "code",
   "execution_count": 354,
   "metadata": {
    "ExecuteTime": {
     "end_time": "2020-11-09T13:45:29.936759Z",
     "start_time": "2020-11-09T13:45:29.916859Z"
    },
    "hidden": true
   },
   "outputs": [],
   "source": [
    "# Slicing ages with three ranges\n",
    "df1['age_range'] = df1['age'].apply(lambda x: 'age_0_50'    if x <= 50 \n",
    "                                                   else 'age_51_59'   if x >= 51 and x <= 59 \n",
    "                                                   else 'age_60_over' if x >= 60 \n",
    "                                                   else x)"
   ]
  },
  {
   "cell_type": "code",
   "execution_count": 355,
   "metadata": {
    "ExecuteTime": {
     "end_time": "2020-11-09T13:45:31.221741Z",
     "start_time": "2020-11-09T13:45:29.938497Z"
    },
    "hidden": true
   },
   "outputs": [],
   "source": [
    "df1['weight_range'] = df1['weight'].apply(\n",
    "    lambda x:   0.50 if x <= 50  else\n",
    "                0.75 if x >= 51  and x <= 75 else\n",
    "                1.00 if x >= 76  and x <= 100 else\n",
    "                1.25 if x >= 101 and x <= 125 else\n",
    "                1.50 if x >= 126 and x <= 150 else\n",
    "                1.75 if x >= 151 and x <= 175 else 2.00)"
   ]
  },
  {
   "cell_type": "markdown",
   "metadata": {
    "heading_collapsed": true
   },
   "source": [
    "## 4.0 - Data Filtering"
   ]
  },
  {
   "cell_type": "code",
   "execution_count": 356,
   "metadata": {
    "ExecuteTime": {
     "end_time": "2020-11-09T13:45:31.277215Z",
     "start_time": "2020-11-09T13:45:31.223143Z"
    },
    "hidden": true
   },
   "outputs": [
    {
     "data": {
      "text/html": [
       "<div>\n",
       "<style scoped>\n",
       "    .dataframe tbody tr th:only-of-type {\n",
       "        vertical-align: middle;\n",
       "    }\n",
       "\n",
       "    .dataframe tbody tr th {\n",
       "        vertical-align: top;\n",
       "    }\n",
       "\n",
       "    .dataframe thead th {\n",
       "        text-align: right;\n",
       "    }\n",
       "</style>\n",
       "<table border=\"1\" class=\"dataframe\">\n",
       "  <thead>\n",
       "    <tr style=\"text-align: right;\">\n",
       "      <th></th>\n",
       "      <th>id</th>\n",
       "      <th>age</th>\n",
       "      <th>gender</th>\n",
       "      <th>height</th>\n",
       "      <th>weight</th>\n",
       "      <th>hight_pressure</th>\n",
       "      <th>low_pressure</th>\n",
       "      <th>cholesterol</th>\n",
       "      <th>glucose</th>\n",
       "      <th>smoker</th>\n",
       "      <th>alcohol</th>\n",
       "      <th>active</th>\n",
       "      <th>cardio</th>\n",
       "      <th>difference</th>\n",
       "      <th>convergent</th>\n",
       "      <th>divergent</th>\n",
       "      <th>bmi</th>\n",
       "      <th>bmi_level</th>\n",
       "      <th>hypertension</th>\n",
       "      <th>hypotension</th>\n",
       "      <th>age_range</th>\n",
       "      <th>weight_range</th>\n",
       "    </tr>\n",
       "  </thead>\n",
       "  <tbody>\n",
       "    <tr>\n",
       "      <th>3687</th>\n",
       "      <td>5213</td>\n",
       "      <td>49</td>\n",
       "      <td>1</td>\n",
       "      <td>1.65</td>\n",
       "      <td>70.0</td>\n",
       "      <td>120</td>\n",
       "      <td>80</td>\n",
       "      <td>1</td>\n",
       "      <td>1</td>\n",
       "      <td>0</td>\n",
       "      <td>0</td>\n",
       "      <td>1</td>\n",
       "      <td>0</td>\n",
       "      <td>40</td>\n",
       "      <td>0</td>\n",
       "      <td>0</td>\n",
       "      <td>25.711662</td>\n",
       "      <td>overweight</td>\n",
       "      <td>0</td>\n",
       "      <td>0</td>\n",
       "      <td>age_0_50</td>\n",
       "      <td>0.75</td>\n",
       "    </tr>\n",
       "    <tr>\n",
       "      <th>40479</th>\n",
       "      <td>57845</td>\n",
       "      <td>57</td>\n",
       "      <td>1</td>\n",
       "      <td>1.64</td>\n",
       "      <td>67.0</td>\n",
       "      <td>155</td>\n",
       "      <td>90</td>\n",
       "      <td>1</td>\n",
       "      <td>1</td>\n",
       "      <td>0</td>\n",
       "      <td>0</td>\n",
       "      <td>1</td>\n",
       "      <td>1</td>\n",
       "      <td>65</td>\n",
       "      <td>0</td>\n",
       "      <td>1</td>\n",
       "      <td>24.910767</td>\n",
       "      <td>obesity</td>\n",
       "      <td>0</td>\n",
       "      <td>0</td>\n",
       "      <td>age_51_59</td>\n",
       "      <td>0.75</td>\n",
       "    </tr>\n",
       "    <tr>\n",
       "      <th>14725</th>\n",
       "      <td>21043</td>\n",
       "      <td>55</td>\n",
       "      <td>1</td>\n",
       "      <td>1.59</td>\n",
       "      <td>88.0</td>\n",
       "      <td>130</td>\n",
       "      <td>80</td>\n",
       "      <td>1</td>\n",
       "      <td>1</td>\n",
       "      <td>0</td>\n",
       "      <td>0</td>\n",
       "      <td>1</td>\n",
       "      <td>0</td>\n",
       "      <td>50</td>\n",
       "      <td>0</td>\n",
       "      <td>0</td>\n",
       "      <td>34.808750</td>\n",
       "      <td>obesity</td>\n",
       "      <td>0</td>\n",
       "      <td>0</td>\n",
       "      <td>age_51_59</td>\n",
       "      <td>1.00</td>\n",
       "    </tr>\n",
       "    <tr>\n",
       "      <th>20559</th>\n",
       "      <td>29344</td>\n",
       "      <td>44</td>\n",
       "      <td>2</td>\n",
       "      <td>1.64</td>\n",
       "      <td>55.0</td>\n",
       "      <td>120</td>\n",
       "      <td>80</td>\n",
       "      <td>1</td>\n",
       "      <td>1</td>\n",
       "      <td>0</td>\n",
       "      <td>0</td>\n",
       "      <td>1</td>\n",
       "      <td>0</td>\n",
       "      <td>40</td>\n",
       "      <td>0</td>\n",
       "      <td>0</td>\n",
       "      <td>20.449137</td>\n",
       "      <td>normal</td>\n",
       "      <td>0</td>\n",
       "      <td>0</td>\n",
       "      <td>age_0_50</td>\n",
       "      <td>0.75</td>\n",
       "    </tr>\n",
       "    <tr>\n",
       "      <th>22532</th>\n",
       "      <td>32194</td>\n",
       "      <td>61</td>\n",
       "      <td>1</td>\n",
       "      <td>1.68</td>\n",
       "      <td>72.0</td>\n",
       "      <td>140</td>\n",
       "      <td>80</td>\n",
       "      <td>1</td>\n",
       "      <td>2</td>\n",
       "      <td>0</td>\n",
       "      <td>0</td>\n",
       "      <td>1</td>\n",
       "      <td>1</td>\n",
       "      <td>60</td>\n",
       "      <td>0</td>\n",
       "      <td>1</td>\n",
       "      <td>25.510204</td>\n",
       "      <td>overweight</td>\n",
       "      <td>0</td>\n",
       "      <td>0</td>\n",
       "      <td>age_60_over</td>\n",
       "      <td>0.75</td>\n",
       "    </tr>\n",
       "  </tbody>\n",
       "</table>\n",
       "</div>"
      ],
      "text/plain": [
       "          id  age  gender  height  weight  hight_pressure  low_pressure  cholesterol  glucose  smoker  alcohol  active  cardio  difference  convergent  divergent        bmi   bmi_level  hypertension  hypotension    age_range  weight_range\n",
       "3687    5213   49       1    1.65    70.0             120            80            1        1       0        0       1       0          40           0          0  25.711662  overweight             0            0     age_0_50          0.75\n",
       "40479  57845   57       1    1.64    67.0             155            90            1        1       0        0       1       1          65           0          1  24.910767     obesity             0            0    age_51_59          0.75\n",
       "14725  21043   55       1    1.59    88.0             130            80            1        1       0        0       1       0          50           0          0  34.808750     obesity             0            0    age_51_59          1.00\n",
       "20559  29344   44       2    1.64    55.0             120            80            1        1       0        0       1       0          40           0          0  20.449137      normal             0            0     age_0_50          0.75\n",
       "22532  32194   61       1    1.68    72.0             140            80            1        2       0        0       1       1          60           0          1  25.510204  overweight             0            0  age_60_over          0.75"
      ]
     },
     "execution_count": 356,
     "metadata": {},
     "output_type": "execute_result"
    }
   ],
   "source": [
    "df1.head()"
   ]
  },
  {
   "cell_type": "code",
   "execution_count": 357,
   "metadata": {
    "ExecuteTime": {
     "end_time": "2020-11-09T13:45:31.354108Z",
     "start_time": "2020-11-09T13:45:31.281974Z"
    },
    "hidden": true
   },
   "outputs": [],
   "source": [
    "# Data Filtering rows, values or columns\n",
    "df1 = df1.drop('id', axis=1)"
   ]
  },
  {
   "cell_type": "code",
   "execution_count": 358,
   "metadata": {
    "ExecuteTime": {
     "end_time": "2020-11-09T13:45:31.410765Z",
     "start_time": "2020-11-09T13:45:31.355518Z"
    },
    "hidden": true
   },
   "outputs": [
    {
     "data": {
      "text/plain": [
       "(51202, 21)"
      ]
     },
     "execution_count": 358,
     "metadata": {},
     "output_type": "execute_result"
    }
   ],
   "source": [
    "df1.shape"
   ]
  },
  {
   "cell_type": "markdown",
   "metadata": {
    "heading_collapsed": true
   },
   "source": [
    "## 5.0 - EDA - Explolatory Data Analysis"
   ]
  },
  {
   "cell_type": "markdown",
   "metadata": {
    "ExecuteTime": {
     "end_time": "2020-09-18T01:04:48.261141Z",
     "start_time": "2020-09-18T01:04:48.255706Z"
    },
    "heading_collapsed": true,
    "hidden": true
   },
   "source": [
    "### 5.1 - Hypothesis MindMap"
   ]
  },
  {
   "cell_type": "code",
   "execution_count": 359,
   "metadata": {
    "ExecuteTime": {
     "end_time": "2020-10-22T22:42:13.460938Z",
     "start_time": "2020-10-22T22:42:13.289102Z"
    },
    "hidden": true
   },
   "outputs": [
    {
     "name": "stdout",
     "output_type": "stream",
     "text": [
      " Il volume nell'unit� C � OS\n",
      " Numero di serie del volume: D6E5-9166\n",
      "\n",
      " Directory di c:\\Users\\Utente77\\repos\\cardio_catch_disease_PA001\n",
      "\n",
      "13/03/2023  15:45    <DIR>          .\n",
      "13/03/2023  15:45    <DIR>          ..\n",
      "13/03/2023  14:51             1.935 .gitignore\n",
      "14/03/2023  12:48           389.465 AB_cardio_catch_diseases_0.ipynb\n",
      "13/03/2023  12:17             8.192 ccd.db\n",
      "13/03/2023  12:14    <DIR>          datasets\n",
      "13/03/2023  15:45    <DIR>          img\n",
      "10/03/2023  16:53             1.096 LICENSE\n",
      "13/03/2023  14:50             5.180 README.md\n",
      "13/03/2023  10:18    <DIR>          study\n",
      "               5 File        405.868 byte\n",
      "               5 Directory  24.270.270.464 byte disponibili\n"
     ]
    }
   ],
   "source": [
    "ls"
   ]
  },
  {
   "cell_type": "code",
   "execution_count": 360,
   "metadata": {
    "ExecuteTime": {
     "end_time": "2020-10-22T22:42:13.491315Z",
     "start_time": "2020-10-22T22:42:13.471283Z"
    },
    "hidden": true
   },
   "outputs": [
    {
     "ename": "FileNotFoundError",
     "evalue": "No such file or directory: '/home/python/Documents/Projects/pa001_cardio_catch_diseases/img/mindmap.png'",
     "output_type": "error",
     "traceback": [
      "\u001b[1;31m---------------------------------------------------------------------------\u001b[0m",
      "\u001b[1;31mTypeError\u001b[0m                                 Traceback (most recent call last)",
      "File \u001b[1;32m~\\AppData\\Roaming\\Python\\Python310\\site-packages\\IPython\\core\\display.py:1032\u001b[0m, in \u001b[0;36mImage._data_and_metadata\u001b[1;34m(self, always_both)\u001b[0m\n\u001b[0;32m   1031\u001b[0m \u001b[39mtry\u001b[39;00m:\n\u001b[1;32m-> 1032\u001b[0m     b64_data \u001b[39m=\u001b[39m b2a_base64(\u001b[39mself\u001b[39;49m\u001b[39m.\u001b[39;49mdata)\u001b[39m.\u001b[39mdecode(\u001b[39m'\u001b[39m\u001b[39mascii\u001b[39m\u001b[39m'\u001b[39m)\n\u001b[0;32m   1033\u001b[0m \u001b[39mexcept\u001b[39;00m \u001b[39mTypeError\u001b[39;00m \u001b[39mas\u001b[39;00m e:\n",
      "\u001b[1;31mTypeError\u001b[0m: a bytes-like object is required, not 'str'",
      "\nThe above exception was the direct cause of the following exception:\n",
      "\u001b[1;31mFileNotFoundError\u001b[0m                         Traceback (most recent call last)",
      "File \u001b[1;32m~\\AppData\\Roaming\\Python\\Python310\\site-packages\\IPython\\core\\formatters.py:973\u001b[0m, in \u001b[0;36mMimeBundleFormatter.__call__\u001b[1;34m(self, obj, include, exclude)\u001b[0m\n\u001b[0;32m    970\u001b[0m     method \u001b[39m=\u001b[39m get_real_method(obj, \u001b[39mself\u001b[39m\u001b[39m.\u001b[39mprint_method)\n\u001b[0;32m    972\u001b[0m     \u001b[39mif\u001b[39;00m method \u001b[39mis\u001b[39;00m \u001b[39mnot\u001b[39;00m \u001b[39mNone\u001b[39;00m:\n\u001b[1;32m--> 973\u001b[0m         \u001b[39mreturn\u001b[39;00m method(include\u001b[39m=\u001b[39;49minclude, exclude\u001b[39m=\u001b[39;49mexclude)\n\u001b[0;32m    974\u001b[0m     \u001b[39mreturn\u001b[39;00m \u001b[39mNone\u001b[39;00m\n\u001b[0;32m    975\u001b[0m \u001b[39melse\u001b[39;00m:\n",
      "File \u001b[1;32m~\\AppData\\Roaming\\Python\\Python310\\site-packages\\IPython\\core\\display.py:1022\u001b[0m, in \u001b[0;36mImage._repr_mimebundle_\u001b[1;34m(self, include, exclude)\u001b[0m\n\u001b[0;32m   1020\u001b[0m \u001b[39mif\u001b[39;00m \u001b[39mself\u001b[39m\u001b[39m.\u001b[39membed:\n\u001b[0;32m   1021\u001b[0m     mimetype \u001b[39m=\u001b[39m \u001b[39mself\u001b[39m\u001b[39m.\u001b[39m_mimetype\n\u001b[1;32m-> 1022\u001b[0m     data, metadata \u001b[39m=\u001b[39m \u001b[39mself\u001b[39;49m\u001b[39m.\u001b[39;49m_data_and_metadata(always_both\u001b[39m=\u001b[39;49m\u001b[39mTrue\u001b[39;49;00m)\n\u001b[0;32m   1023\u001b[0m     \u001b[39mif\u001b[39;00m metadata:\n\u001b[0;32m   1024\u001b[0m         metadata \u001b[39m=\u001b[39m {mimetype: metadata}\n",
      "File \u001b[1;32m~\\AppData\\Roaming\\Python\\Python310\\site-packages\\IPython\\core\\display.py:1034\u001b[0m, in \u001b[0;36mImage._data_and_metadata\u001b[1;34m(self, always_both)\u001b[0m\n\u001b[0;32m   1032\u001b[0m     b64_data \u001b[39m=\u001b[39m b2a_base64(\u001b[39mself\u001b[39m\u001b[39m.\u001b[39mdata)\u001b[39m.\u001b[39mdecode(\u001b[39m'\u001b[39m\u001b[39mascii\u001b[39m\u001b[39m'\u001b[39m)\n\u001b[0;32m   1033\u001b[0m \u001b[39mexcept\u001b[39;00m \u001b[39mTypeError\u001b[39;00m \u001b[39mas\u001b[39;00m e:\n\u001b[1;32m-> 1034\u001b[0m     \u001b[39mraise\u001b[39;00m \u001b[39mFileNotFoundError\u001b[39;00m(\n\u001b[0;32m   1035\u001b[0m         \u001b[39m\"\u001b[39m\u001b[39mNo such file or directory: \u001b[39m\u001b[39m'\u001b[39m\u001b[39m%s\u001b[39;00m\u001b[39m'\u001b[39m\u001b[39m\"\u001b[39m \u001b[39m%\u001b[39m (\u001b[39mself\u001b[39m\u001b[39m.\u001b[39mdata)) \u001b[39mfrom\u001b[39;00m \u001b[39me\u001b[39;00m\n\u001b[0;32m   1036\u001b[0m md \u001b[39m=\u001b[39m {}\n\u001b[0;32m   1037\u001b[0m \u001b[39mif\u001b[39;00m \u001b[39mself\u001b[39m\u001b[39m.\u001b[39mmetadata:\n",
      "\u001b[1;31mFileNotFoundError\u001b[0m: No such file or directory: '/home/python/Documents/Projects/pa001_cardio_catch_diseases/img/mindmap.png'"
     ]
    },
    {
     "ename": "FileNotFoundError",
     "evalue": "No such file or directory: '/home/python/Documents/Projects/pa001_cardio_catch_diseases/img/mindmap.png'",
     "output_type": "error",
     "traceback": [
      "\u001b[1;31m---------------------------------------------------------------------------\u001b[0m",
      "\u001b[1;31mTypeError\u001b[0m                                 Traceback (most recent call last)",
      "File \u001b[1;32m~\\AppData\\Roaming\\Python\\Python310\\site-packages\\IPython\\core\\display.py:1032\u001b[0m, in \u001b[0;36mImage._data_and_metadata\u001b[1;34m(self, always_both)\u001b[0m\n\u001b[0;32m   1031\u001b[0m \u001b[39mtry\u001b[39;00m:\n\u001b[1;32m-> 1032\u001b[0m     b64_data \u001b[39m=\u001b[39m b2a_base64(\u001b[39mself\u001b[39;49m\u001b[39m.\u001b[39;49mdata)\u001b[39m.\u001b[39mdecode(\u001b[39m'\u001b[39m\u001b[39mascii\u001b[39m\u001b[39m'\u001b[39m)\n\u001b[0;32m   1033\u001b[0m \u001b[39mexcept\u001b[39;00m \u001b[39mTypeError\u001b[39;00m \u001b[39mas\u001b[39;00m e:\n",
      "\u001b[1;31mTypeError\u001b[0m: a bytes-like object is required, not 'str'",
      "\nThe above exception was the direct cause of the following exception:\n",
      "\u001b[1;31mFileNotFoundError\u001b[0m                         Traceback (most recent call last)",
      "File \u001b[1;32m~\\AppData\\Roaming\\Python\\Python310\\site-packages\\IPython\\core\\formatters.py:343\u001b[0m, in \u001b[0;36mBaseFormatter.__call__\u001b[1;34m(self, obj)\u001b[0m\n\u001b[0;32m    341\u001b[0m     method \u001b[39m=\u001b[39m get_real_method(obj, \u001b[39mself\u001b[39m\u001b[39m.\u001b[39mprint_method)\n\u001b[0;32m    342\u001b[0m     \u001b[39mif\u001b[39;00m method \u001b[39mis\u001b[39;00m \u001b[39mnot\u001b[39;00m \u001b[39mNone\u001b[39;00m:\n\u001b[1;32m--> 343\u001b[0m         \u001b[39mreturn\u001b[39;00m method()\n\u001b[0;32m    344\u001b[0m     \u001b[39mreturn\u001b[39;00m \u001b[39mNone\u001b[39;00m\n\u001b[0;32m    345\u001b[0m \u001b[39melse\u001b[39;00m:\n",
      "File \u001b[1;32m~\\AppData\\Roaming\\Python\\Python310\\site-packages\\IPython\\core\\display.py:1054\u001b[0m, in \u001b[0;36mImage._repr_png_\u001b[1;34m(self)\u001b[0m\n\u001b[0;32m   1052\u001b[0m \u001b[39mdef\u001b[39;00m \u001b[39m_repr_png_\u001b[39m(\u001b[39mself\u001b[39m):\n\u001b[0;32m   1053\u001b[0m     \u001b[39mif\u001b[39;00m \u001b[39mself\u001b[39m\u001b[39m.\u001b[39membed \u001b[39mand\u001b[39;00m \u001b[39mself\u001b[39m\u001b[39m.\u001b[39mformat \u001b[39m==\u001b[39m \u001b[39mself\u001b[39m\u001b[39m.\u001b[39m_FMT_PNG:\n\u001b[1;32m-> 1054\u001b[0m         \u001b[39mreturn\u001b[39;00m \u001b[39mself\u001b[39;49m\u001b[39m.\u001b[39;49m_data_and_metadata()\n",
      "File \u001b[1;32m~\\AppData\\Roaming\\Python\\Python310\\site-packages\\IPython\\core\\display.py:1034\u001b[0m, in \u001b[0;36mImage._data_and_metadata\u001b[1;34m(self, always_both)\u001b[0m\n\u001b[0;32m   1032\u001b[0m     b64_data \u001b[39m=\u001b[39m b2a_base64(\u001b[39mself\u001b[39m\u001b[39m.\u001b[39mdata)\u001b[39m.\u001b[39mdecode(\u001b[39m'\u001b[39m\u001b[39mascii\u001b[39m\u001b[39m'\u001b[39m)\n\u001b[0;32m   1033\u001b[0m \u001b[39mexcept\u001b[39;00m \u001b[39mTypeError\u001b[39;00m \u001b[39mas\u001b[39;00m e:\n\u001b[1;32m-> 1034\u001b[0m     \u001b[39mraise\u001b[39;00m \u001b[39mFileNotFoundError\u001b[39;00m(\n\u001b[0;32m   1035\u001b[0m         \u001b[39m\"\u001b[39m\u001b[39mNo such file or directory: \u001b[39m\u001b[39m'\u001b[39m\u001b[39m%s\u001b[39;00m\u001b[39m'\u001b[39m\u001b[39m\"\u001b[39m \u001b[39m%\u001b[39m (\u001b[39mself\u001b[39m\u001b[39m.\u001b[39mdata)) \u001b[39mfrom\u001b[39;00m \u001b[39me\u001b[39;00m\n\u001b[0;32m   1036\u001b[0m md \u001b[39m=\u001b[39m {}\n\u001b[0;32m   1037\u001b[0m \u001b[39mif\u001b[39;00m \u001b[39mself\u001b[39m\u001b[39m.\u001b[39mmetadata:\n",
      "\u001b[1;31mFileNotFoundError\u001b[0m: No such file or directory: '/home/python/Documents/Projects/pa001_cardio_catch_diseases/img/mindmap.png'"
     ]
    },
    {
     "data": {
      "text/plain": [
       "<IPython.core.display.Image object>"
      ]
     },
     "execution_count": 360,
     "metadata": {},
     "output_type": "execute_result"
    }
   ],
   "source": [
    "Image('/home/python/Documents/Projects/pa001_cardio_catch_diseases/img/mindmap.png')"
   ]
  },
  {
   "cell_type": "markdown",
   "metadata": {
    "ExecuteTime": {
     "end_time": "2020-09-18T01:04:48.261141Z",
     "start_time": "2020-09-18T01:04:48.255706Z"
    },
    "heading_collapsed": true,
    "hidden": true
   },
   "source": [
    "### 5.2 - Univariate Analysis"
   ]
  },
  {
   "cell_type": "markdown",
   "metadata": {
    "ExecuteTime": {
     "end_time": "2020-09-18T01:04:48.261141Z",
     "start_time": "2020-09-18T01:04:48.255706Z"
    },
    "heading_collapsed": true,
    "hidden": true
   },
   "source": [
    "#### 5.2.1 - Response Variable"
   ]
  },
  {
   "cell_type": "code",
   "execution_count": null,
   "metadata": {
    "ExecuteTime": {
     "end_time": "2020-10-22T22:42:13.912970Z",
     "start_time": "2020-10-22T22:42:13.495249Z"
    },
    "hidden": true,
    "scrolled": true
   },
   "outputs": [],
   "source": [
    "# plotting if diseases or not, this case is balanced\n",
    "sns.countplot(df1['cardio']);"
   ]
  },
  {
   "cell_type": "markdown",
   "metadata": {
    "ExecuteTime": {
     "end_time": "2020-09-18T01:04:48.261141Z",
     "start_time": "2020-09-18T01:04:48.255706Z"
    },
    "heading_collapsed": true,
    "hidden": true
   },
   "source": [
    "#### 5.2.2 - Predictor Variables"
   ]
  },
  {
   "cell_type": "code",
   "execution_count": null,
   "metadata": {
    "ExecuteTime": {
     "end_time": "2020-10-22T22:42:17.646083Z",
     "start_time": "2020-10-22T22:42:13.914660Z"
    },
    "hidden": true
   },
   "outputs": [],
   "source": [
    "# Distribution from all data\n",
    "df1.hist(bins=50);"
   ]
  },
  {
   "cell_type": "code",
   "execution_count": null,
   "metadata": {
    "ExecuteTime": {
     "end_time": "2020-10-22T22:42:19.728845Z",
     "start_time": "2020-10-22T22:42:17.648108Z"
    },
    "hidden": true
   },
   "outputs": [],
   "source": [
    "# Categorical Data\n",
    "\n",
    "grid = GridSpec(4,2)\n",
    "\n",
    "subplot(grid[0,0])\n",
    "plt.title('Gender')\n",
    "sns.countplot(df1['gender']);\n",
    "\n",
    "subplot(grid[0,1])\n",
    "plt.title('Cholesterol')\n",
    "sns.countplot(df1['cholesterol']);\n",
    "\n",
    "subplot(grid[1,0])\n",
    "plt.title('Glucose')\n",
    "sns.countplot(df1['glucose']);\n",
    "\n",
    "subplot(grid[1,1])\n",
    "plt.title('Smoker')\n",
    "sns.countplot(df1['smoker']);\n",
    "\n",
    "subplot(grid[2,0])\n",
    "plt.title('Alcohol')\n",
    "sns.countplot(df1['alcohol']);\n",
    "\n",
    "subplot(grid[2,1])\n",
    "plt.title('Active')\n",
    "sns.countplot(df1['active']);\n",
    "\n",
    "subplot(grid[3,0])\n",
    "plt.title('Convergent')\n",
    "sns.countplot(df1['convergent']);\n",
    "\n",
    "subplot(grid[3,1])\n",
    "plt.title('Divergent')\n",
    "sns.countplot(df1['divergent']);"
   ]
  },
  {
   "cell_type": "code",
   "execution_count": null,
   "metadata": {
    "ExecuteTime": {
     "end_time": "2020-10-22T22:42:20.918662Z",
     "start_time": "2020-10-22T22:42:19.730902Z"
    },
    "hidden": true
   },
   "outputs": [],
   "source": [
    "# Numerical Data\n",
    "\n",
    "grid = GridSpec(3, 3)\n",
    "\n",
    "subplot(grid[0,0])\n",
    "plt.title('Age')\n",
    "sns.boxplot(df1['age']);\n",
    "\n",
    "subplot(grid[0,1])\n",
    "plt.title('Height')\n",
    "sns.boxplot(df1['height']);\n",
    "\n",
    "subplot(grid[0,2])\n",
    "plt.title('Weight')\n",
    "sns.boxplot(df1['weight']);\n",
    "\n",
    "subplot(grid[1,0])\n",
    "plt.title('Hight Pressure')\n",
    "sns.boxplot(df1['hight_pressure']);\n",
    "\n",
    "subplot(grid[1,1])\n",
    "plt.title('Low Pressure')\n",
    "sns.boxplot(df1['low_pressure']);\n",
    "\n",
    "subplot(grid[1,2])\n",
    "plt.title('Difference')\n",
    "sns.boxplot(df1['difference']);\n",
    "\n",
    "subplot(grid[2,0])\n",
    "plt.title('BMI')\n",
    "sns.boxplot(df1['bmi']);\n",
    "\n",
    "# Boxplot from numerical data"
   ]
  },
  {
   "cell_type": "markdown",
   "metadata": {
    "ExecuteTime": {
     "end_time": "2020-09-18T01:04:48.261141Z",
     "start_time": "2020-09-18T01:04:48.255706Z"
    },
    "heading_collapsed": true,
    "hidden": true
   },
   "source": [
    "### 5.3 - Bivariate Analysis"
   ]
  },
  {
   "cell_type": "markdown",
   "metadata": {
    "ExecuteTime": {
     "end_time": "2020-09-18T01:04:48.261141Z",
     "start_time": "2020-09-18T01:04:48.255706Z"
    },
    "heading_collapsed": true,
    "hidden": true
   },
   "source": [
    "#### 5.5 - Hypothesis Answers"
   ]
  },
  {
   "cell_type": "markdown",
   "metadata": {
    "ExecuteTime": {
     "end_time": "2020-09-18T01:04:48.261141Z",
     "start_time": "2020-09-18T01:04:48.255706Z"
    },
    "heading_collapsed": true,
    "hidden": true
   },
   "source": [
    "##### 5.2.1 - How more active, less diseases\n",
    "False"
   ]
  },
  {
   "cell_type": "code",
   "execution_count": null,
   "metadata": {
    "ExecuteTime": {
     "end_time": "2020-10-22T22:42:22.570622Z",
     "start_time": "2020-10-22T22:42:20.920272Z"
    },
    "hidden": true
   },
   "outputs": [],
   "source": [
    "subplot(1,3,1)\n",
    "sns.countplot(hue='cardio', x='active', data=df1);\n",
    "\n",
    "subplot(1,3,2)\n",
    "sns.countplot(x='cardio', hue='active', data=df1);\n",
    "\n",
    "# phi correlation\n",
    "subplot(1,3,3)\n",
    "phi_correlation(df1['cardio'], df1['active']);"
   ]
  },
  {
   "cell_type": "code",
   "execution_count": null,
   "metadata": {
    "ExecuteTime": {
     "end_time": "2020-10-22T22:42:23.248698Z",
     "start_time": "2020-10-22T22:42:22.572754Z"
    },
    "hidden": true
   },
   "outputs": [],
   "source": [
    "sns.countplot(hue='cardio', x='active', data=df1)"
   ]
  },
  {
   "cell_type": "code",
   "execution_count": null,
   "metadata": {
    "ExecuteTime": {
     "end_time": "2020-10-22T22:42:23.268094Z",
     "start_time": "2020-10-22T22:42:23.251686Z"
    },
    "hidden": true
   },
   "outputs": [],
   "source": [
    "df1[['active', 'cardio']].groupby('active').mean()"
   ]
  },
  {
   "cell_type": "markdown",
   "metadata": {
    "ExecuteTime": {
     "end_time": "2020-09-18T01:04:48.261141Z",
     "start_time": "2020-09-18T01:04:48.255706Z"
    },
    "heading_collapsed": true,
    "hidden": true
   },
   "source": [
    "##### 5.2.2 - Cholesterou over level I, more risk\n",
    "   True"
   ]
  },
  {
   "cell_type": "markdown",
   "metadata": {
    "hidden": true
   },
   "source": [
    "How more cholesterol more diseases, see the number 3 it's more disease==positive than negative, the correlation it's low, but it's possible that feature is't important to model"
   ]
  },
  {
   "cell_type": "code",
   "execution_count": null,
   "metadata": {
    "ExecuteTime": {
     "end_time": "2020-10-22T22:42:24.582632Z",
     "start_time": "2020-10-22T22:42:23.272599Z"
    },
    "hidden": true
   },
   "outputs": [],
   "source": [
    "plt.subplot(1,3,1)\n",
    "sns.countplot(df1['cholesterol']);\n",
    "\n",
    "plt.subplot(1,3,2)\n",
    "sns.countplot(hue='cardio', x='cholesterol', data=df1);\n",
    "\n",
    "plt.subplot(1,3,3)\n",
    "pointb = pointbiserialr(df1['cardio'], df1['cholesterol']).correlation\n",
    "sns.heatmap(pd.DataFrame({'cardio':pointb}, index=['cholesterol']), annot=True);"
   ]
  },
  {
   "cell_type": "markdown",
   "metadata": {
    "ExecuteTime": {
     "end_time": "2020-09-18T01:04:48.261141Z",
     "start_time": "2020-09-18T01:04:48.255706Z"
    },
    "heading_collapsed": true,
    "hidden": true
   },
   "source": [
    "##### 5.2.3 - How more clucose, more risk\n",
    "   True"
   ]
  },
  {
   "cell_type": "markdown",
   "metadata": {
    "hidden": true
   },
   "source": [
    "The correlation it's so low, insignificat to model"
   ]
  },
  {
   "cell_type": "code",
   "execution_count": null,
   "metadata": {
    "ExecuteTime": {
     "end_time": "2020-10-22T22:42:25.569627Z",
     "start_time": "2020-10-22T22:42:24.585939Z"
    },
    "hidden": true
   },
   "outputs": [],
   "source": [
    "plt.subplot(1,3,1)\n",
    "sns.countplot(x='glucose', hue='cardio', data=df1)\n",
    "\n",
    "plt.subplot(1,3,2)\n",
    "sns.heatmap(df1[['glucose', 'cardio']].corr('pearson'), annot=True);"
   ]
  },
  {
   "cell_type": "markdown",
   "metadata": {
    "ExecuteTime": {
     "end_time": "2020-09-18T01:04:48.261141Z",
     "start_time": "2020-09-18T01:04:48.255706Z"
    },
    "heading_collapsed": true,
    "hidden": true
   },
   "source": [
    "##### 5.2.4 - How more older, more risk\n",
    "   True"
   ]
  },
  {
   "cell_type": "markdown",
   "metadata": {
    "hidden": true
   },
   "source": [
    "following the years it's more count and more avarage pear year old, low correlation, but, probly it's important to model"
   ]
  },
  {
   "cell_type": "code",
   "execution_count": null,
   "metadata": {
    "ExecuteTime": {
     "end_time": "2020-10-22T22:42:30.290653Z",
     "start_time": "2020-10-22T22:42:25.571399Z"
    },
    "hidden": true
   },
   "outputs": [],
   "source": [
    "subplot(1,4,1)\n",
    "plt.title('Counting')\n",
    "sns.countplot(x='age', hue='cardio', data=df1);\n",
    "\n",
    "subplot(1,4,2)\n",
    "plt.title('Average')\n",
    "sns.lineplot(data=df1, x='age', y='cardio', estimator='mean');\n",
    "\n",
    "subplot(1,4,3)\n",
    "plt.title('Distribution')\n",
    "sns.distplot(df1['age']);\n",
    "\n",
    "subplot(1,4,4)\n",
    "plt.title('Correlation Between Cardio vs Age')\n",
    "sns.heatmap(df1[['cardio', 'age']].corr('pearson'), annot=True);"
   ]
  },
  {
   "cell_type": "markdown",
   "metadata": {
    "ExecuteTime": {
     "end_time": "2020-09-18T01:04:48.261141Z",
     "start_time": "2020-09-18T01:04:48.255706Z"
    },
    "heading_collapsed": true,
    "hidden": true
   },
   "source": [
    "##### 5.2.5 - Over 60 year old with Hypertension, more risk\n",
    "   False"
   ]
  },
  {
   "cell_type": "markdown",
   "metadata": {
    "hidden": true
   },
   "source": [
    "when compare hypertension alone it's more incidence and over 60 alone it's more incidence, but when you group both than it's not more incidence in **averege**."
   ]
  },
  {
   "cell_type": "code",
   "execution_count": null,
   "metadata": {
    "ExecuteTime": {
     "end_time": "2020-10-22T22:42:32.532022Z",
     "start_time": "2020-10-22T22:42:30.294257Z"
    },
    "hidden": true
   },
   "outputs": [],
   "source": [
    "aux = df1[['age_range', 'cardio']].groupby('age_range').mean().reset_index()\n",
    "aux1 = df1[['cardio', 'age_range', 'hypertension']]\n",
    "\n",
    "plt.subplot(2,2,1)\n",
    "sns.countplot(hue='cardio', x='hypertension', data=aux1);\n",
    "\n",
    "plt.subplot(2,2,2)\n",
    "sns.countplot(x='age', hue='cardio', data=df1);\n",
    "\n",
    "# Average incidence of diseases by hypertension and over 60 year.\n",
    "subplot(2,2,3)\n",
    "aux = df1[['hypertension', 'cardio', 'age_range']].groupby(['hypertension', 'age_range']).mean().reset_index()\n",
    "sns.barplot(x='age_range', y='cardio', hue='hypertension', data=aux);\n",
    "\n",
    "subplot(2,2,4)\n",
    "sns.heatmap(df1[['cardio', 'hypertension', 'age']].corr('pearson'), annot=True);"
   ]
  },
  {
   "cell_type": "markdown",
   "metadata": {
    "ExecuteTime": {
     "end_time": "2020-09-18T01:04:48.261141Z",
     "start_time": "2020-09-18T01:04:48.255706Z"
    },
    "heading_collapsed": true,
    "hidden": true
   },
   "source": [
    "##### 5.2.6 - 60 year old with Hypotension, more risk\n",
    "   False"
   ]
  },
  {
   "cell_type": "code",
   "execution_count": null,
   "metadata": {
    "ExecuteTime": {
     "end_time": "2020-10-22T22:42:33.105010Z",
     "start_time": "2020-10-22T22:42:32.534076Z"
    },
    "hidden": true
   },
   "outputs": [],
   "source": [
    "aux = df1[['hypotension', 'age_range', 'cardio']].groupby(\n",
    "    ['hypotension', 'age_range']).mean().reset_index()\n",
    "\n",
    "plt.subplot(1,2,1)\n",
    "sns.barplot(x='age_range', y='cardio', hue='hypotension', data=aux);\n",
    "\n",
    "plt.subplot(1,2,2)\n",
    "sns.heatmap(df1[['age', 'hypotension', 'cardio']].corr('pearson'), annot=True);"
   ]
  },
  {
   "cell_type": "markdown",
   "metadata": {
    "ExecuteTime": {
     "end_time": "2020-09-18T01:04:48.261141Z",
     "start_time": "2020-09-18T01:04:48.255706Z"
    },
    "heading_collapsed": true,
    "hidden": true
   },
   "source": [
    "##### 5.2.7 - 60 year old, more risk\n",
    "   True"
   ]
  },
  {
   "cell_type": "markdown",
   "metadata": {
    "hidden": true
   },
   "source": [
    "The range on 60 year old has a little more incidence of diseases"
   ]
  },
  {
   "cell_type": "code",
   "execution_count": null,
   "metadata": {
    "ExecuteTime": {
     "end_time": "2020-10-22T22:42:33.620736Z",
     "start_time": "2020-10-22T22:42:33.107115Z"
    },
    "hidden": true
   },
   "outputs": [],
   "source": [
    "aux = df1[['age_range', 'cardio']].groupby('age_range').mean().reset_index()\n",
    "aux1 = df1[['cardio', 'age_range']]\n",
    "aux1 = pd.concat([aux1, pd.get_dummies(aux1['age_range'])], axis=1)\n",
    "\n",
    "plt.subplot(1,2,1)\n",
    "sns.countplot(x='age_range', hue='cardio', data=aux)\n",
    "\n",
    "plt.subplot(1,2,2)\n",
    "sns.heatmap(aux1[['cardio', 'age_60_over']].corr('pearson'), annot=True)"
   ]
  },
  {
   "cell_type": "markdown",
   "metadata": {
    "ExecuteTime": {
     "end_time": "2020-09-18T01:04:48.261141Z",
     "start_time": "2020-09-18T01:04:48.255706Z"
    },
    "heading_collapsed": true,
    "hidden": true
   },
   "source": [
    "##### 5.2.8 - Divergent AP, more risk\n",
    "   True - Relevant variable"
   ]
  },
  {
   "cell_type": "code",
   "execution_count": null,
   "metadata": {
    "ExecuteTime": {
     "end_time": "2020-10-22T22:42:34.157147Z",
     "start_time": "2020-10-22T22:42:33.624054Z"
    },
    "hidden": true
   },
   "outputs": [],
   "source": [
    "aux = df1[['divergent', 'cardio']].groupby('divergent').mean().reset_index()\n",
    "\n",
    "plt.subplot(1,2,1)\n",
    "sns.barplot(x='divergent', y='cardio', data=aux)\n",
    "\n",
    "plt.subplot(1,2,2)\n",
    "sns.heatmap(df1[['cardio', 'divergent']].corr('pearson'), annot=True)"
   ]
  },
  {
   "cell_type": "markdown",
   "metadata": {
    "ExecuteTime": {
     "end_time": "2020-09-18T01:04:48.261141Z",
     "start_time": "2020-09-18T01:04:48.255706Z"
    },
    "heading_collapsed": true,
    "hidden": true
   },
   "source": [
    "##### 5.2.9 - Convergent AP, more risk\n",
    "   False"
   ]
  },
  {
   "cell_type": "code",
   "execution_count": null,
   "metadata": {
    "ExecuteTime": {
     "end_time": "2020-10-22T22:42:34.548579Z",
     "start_time": "2020-10-22T22:42:34.159354Z"
    },
    "hidden": true
   },
   "outputs": [],
   "source": [
    "plt.subplot(1,2,1)\n",
    "sns.countplot(x='convergent', hue='cardio',\n",
    "    data=df1[['cardio', 'convergent']].groupby('convergent').mean().reset_index());\n",
    "\n",
    "plt.subplot(1,2,2)\n",
    "sns.heatmap(df1[['cardio', 'convergent']].corr('pearson'), annot=True);"
   ]
  },
  {
   "cell_type": "markdown",
   "metadata": {
    "ExecuteTime": {
     "end_time": "2020-09-18T01:04:48.261141Z",
     "start_time": "2020-09-18T01:04:48.255706Z"
    },
    "heading_collapsed": true,
    "hidden": true
   },
   "source": [
    "##### 5.2.10 - Hypertension, more risk\n",
    "   True"
   ]
  },
  {
   "cell_type": "markdown",
   "metadata": {
    "hidden": true
   },
   "source": [
    "Average incidence by Hypertension"
   ]
  },
  {
   "cell_type": "code",
   "execution_count": null,
   "metadata": {
    "ExecuteTime": {
     "end_time": "2020-10-22T22:42:35.620451Z",
     "start_time": "2020-10-22T22:42:34.550600Z"
    },
    "hidden": true
   },
   "outputs": [],
   "source": [
    "aux = df1[['hypertension', 'cardio']].groupby('hypertension').mean().reset_index()\n",
    "\n",
    "plt.subplot(1,3,1)\n",
    "sns.barplot(x='hypertension', y='cardio', data=aux);\n",
    "\n",
    "plt.subplot(1,3,2)\n",
    "sns.countplot(x='hypertension', hue='cardio', data=df1);\n",
    "\n",
    "plt.subplot(1,3,3)\n",
    "sns.heatmap(df1[['hypertension', 'cardio']].corr('pearson'), annot=True);"
   ]
  },
  {
   "cell_type": "code",
   "execution_count": null,
   "metadata": {
    "ExecuteTime": {
     "end_time": "2020-10-22T22:42:35.631844Z",
     "start_time": "2020-10-22T22:42:35.622531Z"
    },
    "hidden": true
   },
   "outputs": [],
   "source": [
    "# Hypertension percentual\n",
    "df1['hypertension'].value_counts()[1] / df1['hypertension'].value_counts()[0] * 100"
   ]
  },
  {
   "cell_type": "markdown",
   "metadata": {
    "ExecuteTime": {
     "end_time": "2020-09-18T01:04:48.261141Z",
     "start_time": "2020-09-18T01:04:48.255706Z"
    },
    "heading_collapsed": true,
    "hidden": true
   },
   "source": [
    "##### 5.2.11 - Hypotension, more risk\n",
    "   False"
   ]
  },
  {
   "cell_type": "raw",
   "metadata": {
    "ExecuteTime": {
     "end_time": "2020-09-24T14:48:06.813902Z",
     "start_time": "2020-09-24T14:48:06.798601Z"
    },
    "hidden": true
   },
   "source": [
    "Irrelevant to model"
   ]
  },
  {
   "cell_type": "code",
   "execution_count": null,
   "metadata": {
    "ExecuteTime": {
     "end_time": "2020-10-22T22:42:36.442899Z",
     "start_time": "2020-10-22T22:42:35.633954Z"
    },
    "hidden": true
   },
   "outputs": [],
   "source": [
    "aux = df1[['hypotension', 'cardio']].groupby('hypotension').mean().reset_index()\n",
    "\n",
    "plt.subplot(1,2,1)\n",
    "sns.barplot(x='hypotension', y='cardio', data=aux);\n",
    "\n",
    "plt.subplot(1,2,2)\n",
    "sns.heatmap(df1[['hypotension', 'cardio']].corr('pearson'), annot=True);"
   ]
  },
  {
   "cell_type": "code",
   "execution_count": null,
   "metadata": {
    "ExecuteTime": {
     "end_time": "2020-10-22T22:42:36.581639Z",
     "start_time": "2020-10-22T22:42:36.445044Z"
    },
    "hidden": true
   },
   "outputs": [],
   "source": [
    "df1['hypotension'].value_counts()"
   ]
  },
  {
   "cell_type": "markdown",
   "metadata": {
    "ExecuteTime": {
     "end_time": "2020-09-18T01:04:48.261141Z",
     "start_time": "2020-09-18T01:04:48.255706Z"
    },
    "heading_collapsed": true,
    "hidden": true
   },
   "source": [
    "##### 5.2.12 - BMI - Obesity, more risk\n",
    "   True"
   ]
  },
  {
   "cell_type": "code",
   "execution_count": null,
   "metadata": {
    "ExecuteTime": {
     "end_time": "2020-10-22T22:42:37.672927Z",
     "start_time": "2020-10-22T22:42:36.585827Z"
    },
    "hidden": true
   },
   "outputs": [],
   "source": [
    "aux = df1[['bmi_level', 'cardio']].groupby('bmi_level').mean().reset_index()\n",
    "\n",
    "plt.subplot(1,2,1)\n",
    "sns.barplot(x='bmi_level', y='cardio', data=aux, order=['underweight', 'normal', 'overweight', 'obesity']);\n",
    "\n",
    "plt.subplot(1,2,2)\n",
    "aux1 = df1.copy()\n",
    "aux1 = pd.concat([pd.get_dummies(df1['bmi_level']), aux1], axis=1)\n",
    "sns.heatmap(aux1[['cardio', 'obesity']].corr('pearson'), annot=True);"
   ]
  },
  {
   "cell_type": "code",
   "execution_count": null,
   "metadata": {
    "ExecuteTime": {
     "end_time": "2020-10-22T22:42:38.442838Z",
     "start_time": "2020-10-22T22:42:37.675018Z"
    },
    "hidden": true
   },
   "outputs": [],
   "source": [
    "sns.countplot(x='bmi_level', data=df1, order=['underweight', 'normal', 'overweight', 'obesity']);"
   ]
  },
  {
   "cell_type": "markdown",
   "metadata": {
    "ExecuteTime": {
     "end_time": "2020-09-18T01:04:48.261141Z",
     "start_time": "2020-09-18T01:04:48.255706Z"
    },
    "heading_collapsed": true,
    "hidden": true
   },
   "source": [
    "##### 5.2.13 - Gender 2 has more risk\n",
    "   False"
   ]
  },
  {
   "cell_type": "code",
   "execution_count": null,
   "metadata": {
    "ExecuteTime": {
     "end_time": "2020-10-22T22:42:39.789946Z",
     "start_time": "2020-10-22T22:42:38.445199Z"
    },
    "hidden": true
   },
   "outputs": [],
   "source": [
    "plt.subplot(1,3,1)\n",
    "sns.barplot(x='gender', y='cardio', data=df1)\n",
    "\n",
    "plt.subplot(1,3,2)\n",
    "sns.heatmap(df1[['gender', 'cardio']].corr('pearson'), annot=True);\n",
    "\n",
    "plt.subplot(1,3,3)\n",
    "sns.heatmap([pointbiserialr(df1['gender'], df1['cardio'])], annot=True)"
   ]
  },
  {
   "cell_type": "code",
   "execution_count": null,
   "metadata": {
    "ExecuteTime": {
     "end_time": "2020-10-22T22:42:40.307764Z",
     "start_time": "2020-10-22T22:42:39.791551Z"
    },
    "hidden": true
   },
   "outputs": [],
   "source": [
    "sns.countplot(x='gender', hue='cardio', data=df1 )"
   ]
  },
  {
   "cell_type": "markdown",
   "metadata": {
    "ExecuteTime": {
     "end_time": "2020-09-18T01:04:48.261141Z",
     "start_time": "2020-09-18T01:04:48.255706Z"
    },
    "heading_collapsed": true,
    "hidden": true
   },
   "source": [
    "##### 5.2.14 - how more weith more risk\n",
    "   True"
   ]
  },
  {
   "cell_type": "code",
   "execution_count": null,
   "metadata": {
    "ExecuteTime": {
     "end_time": "2020-10-22T22:42:50.095605Z",
     "start_time": "2020-10-22T22:42:40.309781Z"
    },
    "hidden": true
   },
   "outputs": [],
   "source": [
    "aux = df1[['weight', 'cardio']].groupby('weight').mean().reset_index()\n",
    "aux1 = df1[['weight_range', 'cardio']].groupby('weight_range').mean().reset_index()\n",
    "\n",
    "grid = GridSpec(2,2)\n",
    "\n",
    "plt.subplot(grid[0,0:2])\n",
    "sns.barplot(x='weight', y='cardio', data=aux);\n",
    "\n",
    "plt.subplot(grid[1,0])\n",
    "sns.barplot(x='weight_range', y='cardio', data=aux1);\n",
    "                 \n",
    "plt.subplot(grid[1,1])\n",
    "plt.title('Correlation between CARDIO and WEIGHT')\n",
    "pointb = pointbiserialr(df1['weight'], df1['cardio']).correlation\n",
    "sns.heatmap(pd.DataFrame({'weight':pointb}, index=['cardio']), annot=True);"
   ]
  },
  {
   "cell_type": "markdown",
   "metadata": {
    "ExecuteTime": {
     "end_time": "2020-09-18T01:04:48.261141Z",
     "start_time": "2020-09-18T01:04:48.255706Z"
    },
    "heading_collapsed": true,
    "hidden": true
   },
   "source": [
    "### 5.4 - Multivariate Analysis"
   ]
  },
  {
   "cell_type": "code",
   "execution_count": null,
   "metadata": {
    "ExecuteTime": {
     "end_time": "2020-10-22T22:42:52.403207Z",
     "start_time": "2020-10-22T22:42:50.097229Z"
    },
    "hidden": true
   },
   "outputs": [],
   "source": [
    "sns.heatmap(df1.corr(), annot=True);"
   ]
  },
  {
   "cell_type": "code",
   "execution_count": null,
   "metadata": {
    "ExecuteTime": {
     "end_time": "2020-10-22T22:42:55.903029Z",
     "start_time": "2020-10-22T22:42:52.405740Z"
    },
    "hidden": true
   },
   "outputs": [],
   "source": [
    "df1.hist(bins=28);"
   ]
  },
  {
   "cell_type": "markdown",
   "metadata": {
    "heading_collapsed": true
   },
   "source": [
    "## 6.0 - Data Preparation"
   ]
  },
  {
   "cell_type": "markdown",
   "metadata": {
    "heading_collapsed": true,
    "hidden": true
   },
   "source": [
    "### 6.1 - Split - Before Preparation"
   ]
  },
  {
   "cell_type": "code",
   "execution_count": null,
   "metadata": {
    "ExecuteTime": {
     "end_time": "2020-10-20T20:05:53.236265Z",
     "start_time": "2020-10-20T20:05:53.209623Z"
    },
    "hidden": true
   },
   "outputs": [],
   "source": [
    "X = df1.drop('cardio', axis=1).copy()\n",
    "y = df1['cardio'].copy()\n",
    "x_train, x_valid, y_train, y_valid = train_test_split(X, y, test_size=0.3, random_state=42)"
   ]
  },
  {
   "cell_type": "code",
   "execution_count": null,
   "metadata": {
    "ExecuteTime": {
     "end_time": "2020-10-20T20:05:53.963046Z",
     "start_time": "2020-10-20T20:05:53.947839Z"
    },
    "hidden": true
   },
   "outputs": [],
   "source": [
    "df1 = pd.concat([x_train, y_train], axis=1)\n",
    "x_test = x_valid\n",
    "y_test = y_valid"
   ]
  },
  {
   "cell_type": "markdown",
   "metadata": {
    "heading_collapsed": true,
    "hidden": true
   },
   "source": [
    "### 6.2 - Normalization"
   ]
  },
  {
   "cell_type": "markdown",
   "metadata": {
    "hidden": true
   },
   "source": [
    "If the data is normal/gaussian distribution\n",
    "<p>(item - média) / desvio padrão</p>"
   ]
  },
  {
   "cell_type": "markdown",
   "metadata": {
    "heading_collapsed": true,
    "hidden": true
   },
   "source": [
    "### 6.3 - Rescaling"
   ]
  },
  {
   "cell_type": "markdown",
   "metadata": {
    "hidden": true
   },
   "source": [
    "If the data it's **NOT** gaussian distribution, gaussian is egual normal distribution"
   ]
  },
  {
   "cell_type": "code",
   "execution_count": null,
   "metadata": {
    "ExecuteTime": {
     "end_time": "2020-10-20T22:51:59.820354Z",
     "start_time": "2020-10-20T22:51:59.751388Z"
    },
    "hidden": true
   },
   "outputs": [],
   "source": [
    "## The features that it's binary yet, it's not necessary transform\n",
    "## If has the relevant outlier it's should use to RobustScaler else MinMaxScaler\n",
    "\n",
    "mms = MinMaxScaler()\n",
    "rs = RobustScaler()\n",
    "\n",
    "# age\n",
    "df1['age'] = mms.fit_transform(df1[['age']].values)\n",
    "pickle.dump(mms, open('/home/python/Documents/Projects/pa001_cardio_catch_diseases/parameters/age_scaling.pkl', 'wb'))\n",
    "\n",
    "# height         \n",
    "df1['height'] = rs.fit_transform(df1[['height']].values)\n",
    "pickle.dump(rs, open('/home/python/Documents/Projects/pa001_cardio_catch_diseases/parameters/height_scaling.pkl', 'wb'))\n",
    "\n",
    "# weight\n",
    "df1['weight'] = rs.fit_transform(df1[['weight']].values)\n",
    "pickle.dump(rs, open('/home/python/Documents/Projects/pa001_cardio_catch_diseases/parameters/weight_scaling.pkl', 'wb'))\n",
    "\n",
    "# low_pressure   \n",
    "df1['low_pressure'] = rs.fit_transform(df1[['low_pressure']].values)\n",
    "pickle.dump(rs, open('/home/python/Documents/Projects/pa001_cardio_catch_diseases/parameters/low_pressure_scaling.pkl', 'wb'))\n",
    "\n",
    "#hight_pressure\n",
    "df1['hight_pressure'] = rs.fit_transform(df1[['hight_pressure']].values)\n",
    "pickle.dump(rs, open('/home/python/Documents/Projects/pa001_cardio_catch_diseases/parameters/hight_pressure_scaling.pkl', 'wb'))\n",
    "\n",
    "# difference     \n",
    "df1['difference'] = rs.fit_transform(df1[['difference']].values)\n",
    "pickle.dump(rs, open('/home/python/Documents/Projects/pa001_cardio_catch_diseases/parameters/difference_scaling.pkl', 'wb'))\n",
    "\n",
    "# bmi            \n",
    "df1['bmi'] = rs.fit_transform(df1[['bmi']].values)\n",
    "pickle.dump(rs, open('/home/python/Documents/Projects/pa001_cardio_catch_diseases/parameters/bmi_scaling.pkl', 'wb'))\n"
   ]
  },
  {
   "cell_type": "markdown",
   "metadata": {
    "heading_collapsed": true,
    "hidden": true
   },
   "source": [
    "### 6.4 - Transformation"
   ]
  },
  {
   "cell_type": "markdown",
   "metadata": {
    "heading_collapsed": true,
    "hidden": true
   },
   "source": [
    "#### 6.3.1 - Encoding"
   ]
  },
  {
   "cell_type": "markdown",
   "metadata": {
    "hidden": true
   },
   "source": [
    "Transforming category data to numeric"
   ]
  },
  {
   "cell_type": "code",
   "execution_count": null,
   "metadata": {
    "ExecuteTime": {
     "end_time": "2020-10-20T22:52:06.620090Z",
     "start_time": "2020-10-20T22:52:06.584517Z"
    },
    "hidden": true
   },
   "outputs": [],
   "source": [
    "le = LabelEncoder()\n",
    "\n",
    "## Label encoding\n",
    "# age\n",
    "df1['gender'] = le.fit_transform(df1[['gender']].values)\n",
    "pickle.dump(le, open('/home/python/Documents/Projects/pa001_cardio_catch_diseases/parameters/gender_encoder.pkl', 'wb'))\n",
    "\n",
    "## Ordinal encoding\n",
    "# age_range \n",
    "df1['age_range'] = df1['age_range'].map(\n",
    "    {'age_0_50':1, 'age_51_59':1, 'age_60_over':3})\n",
    "\n",
    "# bmi_level\n",
    "df1['bmi_level'] = df1['bmi_level'].map({\n",
    "    'underweight':1, 'normal':2, 'overweight':3, 'obesity':4\n",
    "})"
   ]
  },
  {
   "cell_type": "markdown",
   "metadata": {
    "hidden": true
   },
   "source": [
    "#### 6.3.2 - Nature Transformation"
   ]
  },
  {
   "cell_type": "markdown",
   "metadata": {
    "hidden": true
   },
   "source": [
    "Transforming the data to cycle nature"
   ]
  },
  {
   "cell_type": "markdown",
   "metadata": {
    "heading_collapsed": true
   },
   "source": [
    "## 7.0 - Feature Selection"
   ]
  },
  {
   "cell_type": "markdown",
   "metadata": {
    "heading_collapsed": true,
    "hidden": true
   },
   "source": [
    "### 7.0 - Split"
   ]
  },
  {
   "cell_type": "code",
   "execution_count": null,
   "metadata": {
    "ExecuteTime": {
     "end_time": "2020-10-20T18:22:14.154365Z",
     "start_time": "2020-10-20T18:22:14.130433Z"
    },
    "hidden": true
   },
   "outputs": [],
   "source": [
    "## Spliting after rescaling\n",
    "\n",
    "X = df1.drop('cardio', axis=1).copy()\n",
    "y = df1['cardio'].copy()\n",
    "x_train, x_valid, y_train, y_valid = train_test_split(X, y, test_size=0.3, random_state=42)"
   ]
  },
  {
   "cell_type": "markdown",
   "metadata": {
    "heading_collapsed": true,
    "hidden": true
   },
   "source": [
    "### 7.1 - Boruta"
   ]
  },
  {
   "cell_type": "code",
   "execution_count": null,
   "metadata": {
    "ExecuteTime": {
     "end_time": "2020-10-16T21:58:20.252447Z",
     "start_time": "2020-10-16T21:58:06.370Z"
    },
    "hidden": true
   },
   "outputs": [],
   "source": [
    "#same pararameter from item 8.0\n",
    "#x_boruta = x_train.values\n",
    "#y_boruta = y_train.ravel()\n",
    "#\n",
    "#mdl = RandomForestClassifier(n_estimators=150, random_state=42, n_jobs=-1)\n"
   ]
  },
  {
   "cell_type": "code",
   "execution_count": null,
   "metadata": {
    "ExecuteTime": {
     "end_time": "2020-10-16T21:58:20.253661Z",
     "start_time": "2020-10-16T21:58:06.373Z"
    },
    "hidden": true
   },
   "outputs": [],
   "source": [
    "# Defining Boruta\n",
    "#boruta = BorutaPy(mdl, n_estimators='auto', verbose=2, random_state=42).fit(x_boruta, y_boruta)"
   ]
  },
  {
   "cell_type": "code",
   "execution_count": null,
   "metadata": {
    "ExecuteTime": {
     "end_time": "2020-10-16T21:58:20.255133Z",
     "start_time": "2020-10-16T21:58:06.376Z"
    },
    "hidden": true
   },
   "outputs": [],
   "source": [
    "#cols_selected = boruta.support_.tolist()\n",
    "#cols_selected_boruta = x_train.iloc[:, cols_selected].copy()"
   ]
  },
  {
   "cell_type": "code",
   "execution_count": null,
   "metadata": {
    "ExecuteTime": {
     "end_time": "2020-10-16T21:58:20.256495Z",
     "start_time": "2020-10-16T21:58:06.380Z"
    },
    "hidden": true
   },
   "outputs": [],
   "source": [
    "#x_train = x_train[['bmi', 'weight', 'hight_pressure', 'low_pressure', 'cholesterol', 'age', 'divergent', 'difference']].copy()\n",
    "#x_valid = x_valid[['bmi', 'weight', 'hight_pressure', 'low_pressure', 'cholesterol', 'age', 'divergent', 'difference']].copy()"
   ]
  },
  {
   "cell_type": "markdown",
   "metadata": {
    "heading_collapsed": true
   },
   "source": [
    "## 8.0 - Machine learning"
   ]
  },
  {
   "cell_type": "markdown",
   "metadata": {
    "heading_collapsed": true,
    "hidden": true
   },
   "source": [
    "### 8.1 - Baseline"
   ]
  },
  {
   "cell_type": "markdown",
   "metadata": {
    "hidden": true
   },
   "source": [
    "The baseline is the \"status quo\", between **55%** and **65%** of **PRECISION** Score"
   ]
  },
  {
   "cell_type": "markdown",
   "metadata": {
    "heading_collapsed": true,
    "hidden": true
   },
   "source": [
    "### 8.2 - Random Forest"
   ]
  },
  {
   "cell_type": "code",
   "execution_count": null,
   "metadata": {
    "ExecuteTime": {
     "end_time": "2020-10-16T21:58:20.257953Z",
     "start_time": "2020-10-16T21:58:06.390Z"
    },
    "hidden": true
   },
   "outputs": [],
   "source": [
    "mdl = RandomForestClassifier(n_estimators=150, random_state=42).fit(x_train, y_train)\n",
    "mdl_name = mdl.__repr__()\n",
    "y_hat = mdl.predict(x_valid)\n",
    "\n",
    "cv = RepeatedStratifiedKFold(n_splits=10, n_repeats=3, random_state=1)\n",
    "n_scores = cross_val_score(mdl, x_train, y_train, scoring='accuracy', cv=cv, n_jobs=-1)\n",
    "\n",
    "df1_score_rf = metrics_score(y_valid, y_hat, mdl_name, True, \"All Data Features\")\n",
    "df1_score_rf['accuracy_cv'] = mean(n_scores)\n",
    "df1_score_rf['accuracy_cv_std'] = std(n_scores)\n",
    "df1_score_rf"
   ]
  },
  {
   "cell_type": "markdown",
   "metadata": {
    "heading_collapsed": true,
    "hidden": true
   },
   "source": [
    "### 8.3 - GBDT"
   ]
  },
  {
   "cell_type": "markdown",
   "metadata": {
    "ExecuteTime": {
     "end_time": "2020-10-05T15:13:22.160958Z",
     "start_time": "2020-10-05T15:13:22.155454Z"
    },
    "hidden": true
   },
   "source": [
    "<a style=\"font-size:10px\" href=\"https://machinelearningmastery.com/gradient-boosting-machine-ensemble-in-python/\"> Font Coding</a>"
   ]
  },
  {
   "cell_type": "code",
   "execution_count": null,
   "metadata": {
    "ExecuteTime": {
     "end_time": "2020-10-19T21:28:58.882429Z",
     "start_time": "2020-10-19T21:28:10.398681Z"
    },
    "hidden": true
   },
   "outputs": [],
   "source": [
    "mdl = GradientBoostingClassifier().fit(x_train, y_train)\n",
    "mdl_name = mdl.__repr__()\n",
    "y_hat = mdl.predict(x_valid)\n",
    "\n",
    "cv = RepeatedStratifiedKFold(n_splits=10, n_repeats=3, random_state=1)\n",
    "n_scores = cross_val_score(mdl, x_train, y_train, scoring='accuracy', cv=cv, n_jobs=-1)\n",
    "\n",
    "df1_score_gbdt = metrics_score(y_valid, y_hat, mdl_name, True, \"All Data Features\")\n",
    "df1_score_gbdt['accuracy_cv'] = mean(n_scores)\n",
    "df1_score_gbdt['accuracy_cv_std'] = std(n_scores)\n",
    "df1_score_gbdt"
   ]
  },
  {
   "cell_type": "markdown",
   "metadata": {
    "heading_collapsed": true,
    "hidden": true
   },
   "source": [
    "### 8.4 - Logistic Regression"
   ]
  },
  {
   "cell_type": "code",
   "execution_count": null,
   "metadata": {
    "ExecuteTime": {
     "end_time": "2020-10-16T21:58:20.260747Z",
     "start_time": "2020-10-16T21:58:06.405Z"
    },
    "hidden": true
   },
   "outputs": [],
   "source": [
    "mdl = LogisticRegression(random_state=42).fit(x_train, y_train)\n",
    "mdl_name = mdl.__repr__()\n",
    "y_hat = mdl.predict(x_valid)\n",
    "\n",
    "cv = RepeatedStratifiedKFold(n_splits=10, n_repeats=3, random_state=1)\n",
    "n_scores = cross_val_score(mdl, x_train, y_train, scoring='accuracy', cv=cv, n_jobs=-1)\n",
    "\n",
    "df1_score_lr = metrics_score(y_valid, y_hat, mdl_name, True, \"All Data Features\")\n",
    "df1_score_lr['accuracy_cv'] = mean(n_scores)\n",
    "df1_score_lr['accuracy_cv_std'] = std(n_scores)\n",
    "df1_score_lr"
   ]
  },
  {
   "cell_type": "markdown",
   "metadata": {
    "heading_collapsed": true,
    "hidden": true
   },
   "source": [
    "### 8.5 - XGBClassifier"
   ]
  },
  {
   "cell_type": "markdown",
   "metadata": {
    "ExecuteTime": {
     "end_time": "2020-10-05T15:13:22.160958Z",
     "start_time": "2020-10-05T15:13:22.155454Z"
    },
    "hidden": true
   },
   "source": [
    "<a style=\"font-size:10px\" href=\"https://machinelearningmastery.com/develop-first-xgboost-model-python-scikit-learn/\"> Font Coding</a>"
   ]
  },
  {
   "cell_type": "code",
   "execution_count": null,
   "metadata": {
    "ExecuteTime": {
     "end_time": "2020-10-16T21:58:20.262139Z",
     "start_time": "2020-10-16T21:58:06.416Z"
    },
    "hidden": true
   },
   "outputs": [],
   "source": [
    "mdl = XGBClassifier().fit(x_train, y_train)\n",
    "mdl_name = mdl.__repr__()\n",
    "y_hat = mdl.predict(x_valid)\n",
    "\n",
    "cv = RepeatedStratifiedKFold(n_splits=10, n_repeats=3, random_state=1)\n",
    "n_scores = cross_val_score(mdl, x_train, y_train, scoring='accuracy', cv=cv, n_jobs=-1)\n",
    "\n",
    "df1_score_xgbc = metrics_score(y_valid, y_hat, mdl_name, True, 'All Data Feature')\n",
    "df1_score_xgbc['accuracy_cv'] = mean(n_scores)\n",
    "df1_score_xgbc['accuracy_cv_std'] = std(n_scores)\n",
    "df1_score_xgbc"
   ]
  },
  {
   "cell_type": "markdown",
   "metadata": {
    "heading_collapsed": true,
    "hidden": true
   },
   "source": [
    "### 8.6 - KNClassifier"
   ]
  },
  {
   "cell_type": "code",
   "execution_count": null,
   "metadata": {
    "ExecuteTime": {
     "end_time": "2020-10-16T21:58:20.263580Z",
     "start_time": "2020-10-16T21:58:06.426Z"
    },
    "hidden": true
   },
   "outputs": [],
   "source": [
    "mdl = KNeighborsClassifier().fit(x_train, y_train)\n",
    "mdl_name = mdl.__repr__()\n",
    "yhat = mdl.predict(x_valid)\n",
    "\n",
    "cv = RepeatedStratifiedKFold(n_splits=10, n_repeats=3, random_state=1)\n",
    "n_scores = cross_val_score(mdl, x_train, y_train, scoring='accuracy', cv=cv, n_jobs=-1)\n",
    "\n",
    "df1_score_knc = metrics_score(y_valid, y_hat, mdl_name, True, 'All Data Feature')\n",
    "df1_score_knc['accuracy_cv'] = mean(n_scores)\n",
    "df1_score_knc['accuracy_cv_std'] = std(n_scores)\n",
    "df1_score_knc"
   ]
  },
  {
   "cell_type": "markdown",
   "metadata": {
    "heading_collapsed": true,
    "hidden": true
   },
   "source": [
    "### 8.7 - LGBMClassifier"
   ]
  },
  {
   "cell_type": "code",
   "execution_count": null,
   "metadata": {
    "ExecuteTime": {
     "end_time": "2020-10-16T21:58:20.265055Z",
     "start_time": "2020-10-16T21:58:06.434Z"
    },
    "hidden": true
   },
   "outputs": [],
   "source": [
    "mdl = LGBMClassifier().fit(x_train, y_train)\n",
    "mdl_name = mdl.__repr__()\n",
    "y_hat = mdl.predict(x_valid)\n",
    "\n",
    "cv = RepeatedStratifiedKFold(n_splits=10, n_repeats=3, random_state=1)\n",
    "n_scores = cross_val_score(mdl, x_train, y_train, scoring='accuracy', cv=cv, n_jobs=-1)\n",
    "\n",
    "df1_score_lgbmc = metrics_score(y_valid, y_hat, mdl_name, True, 'All Data Features')\n",
    "df1_score_lgbmc['accuracy_cv'] = mean(n_scores)\n",
    "df1_score_lgbmc['accuracy_cv_std'] = std(n_scores)\n",
    "df1_score_lgbmc"
   ]
  },
  {
   "cell_type": "markdown",
   "metadata": {
    "heading_collapsed": true,
    "hidden": true
   },
   "source": [
    "### 8.8 - Hyperparameters"
   ]
  },
  {
   "cell_type": "code",
   "execution_count": null,
   "metadata": {
    "ExecuteTime": {
     "end_time": "2020-10-16T21:58:20.266380Z",
     "start_time": "2020-10-16T21:58:06.440Z"
    },
    "hidden": true
   },
   "outputs": [],
   "source": [
    "parameters = {'learning_rate':[0.01, 0.08], \n",
    "    'n_estimators':[100, 150],\n",
    "    'subsample':[0.08, 0.1, 0.2, 0.6, 0.7, 0.8, 0.9, 1.0], \n",
    "    'min_samples_split':[0.3, 0.6, 0.8, 2, 3, 4],\n",
    "    'min_samples_leaf':[1, 2, 3, 4], \n",
    "    'max_depth':[3, 5, 10, 15, 20, 25]}"
   ]
  },
  {
   "cell_type": "code",
   "execution_count": null,
   "metadata": {
    "ExecuteTime": {
     "end_time": "2020-10-16T21:58:20.267793Z",
     "start_time": "2020-10-16T21:58:06.445Z"
    },
    "hidden": true
   },
   "outputs": [],
   "source": [
    "MAX_EVALS = 50\n",
    "df1_hyper = pd.DataFrame(columns=['Mean_accuracy', 'Std_accuracy', 'Parameters'])\n",
    "\n",
    "for i in range(MAX_EVALS):\n",
    "    print(f'evals: {i}')\n",
    "    \n",
    "    hp = {k:sp(v, 1)[0] for k, v in parameters.items()}\n",
    "    print(f'Hyperparameters: {hp}')\n",
    "    mdl = GradientBoostingClassifier(\n",
    "        learning_rate=hp['learning_rate'], n_estimators=hp['n_estimators'],\n",
    "        subsample=hp['subsample'], min_samples_split=hp['min_samples_split'],\n",
    "        min_samples_leaf=hp['min_samples_leaf'], max_depth=hp['max_depth'],\n",
    "        loss='deviance', random_state=42\n",
    "        ).fit(x_train, y_train)\n",
    "    print('trained...')\n",
    "    \n",
    "    cv = RepeatedStratifiedKFold(n_splits=5, n_repeats=3, random_state=1)\n",
    "    n_scores = cross_val_score(mdl, x_train, y_train, scoring='accuracy', cv=cv, n_jobs=-1)\n",
    "    print('crossvalidation finished')\n",
    "    \n",
    "    df1_cv = pd.DataFrame([[mean(n_scores), std(n_scores), hp]], \n",
    "                        columns=['Mean_accuracy', 'Std_accuracy', 'Parameters'])\n",
    "    \n",
    "    print(df1_cv)\n",
    "    df1_hyper = pd.concat([df1_hyper, df1_cv], axis=0)\n",
    "    \n",
    "df1_hyper"
   ]
  },
  {
   "cell_type": "markdown",
   "metadata": {
    "heading_collapsed": true,
    "hidden": true
   },
   "source": [
    "### 8.9 - Final Model"
   ]
  },
  {
   "cell_type": "code",
   "execution_count": null,
   "metadata": {
    "ExecuteTime": {
     "end_time": "2020-10-19T22:03:01.254737Z",
     "start_time": "2020-10-19T22:02:57.628236Z"
    },
    "hidden": true
   },
   "outputs": [],
   "source": [
    "final_model = GradientBoostingClassifier().fit(x_train, y_train)\n",
    "#pickle.dump(final_model, open('/home/python/Documents/Projects/pa001_cardio_catch_diseases/model/model_trained.pkl', 'wb'))"
   ]
  },
  {
   "cell_type": "markdown",
   "metadata": {
    "heading_collapsed": true
   },
   "source": [
    "## 9.0 - Metrics"
   ]
  },
  {
   "cell_type": "markdown",
   "metadata": {
    "heading_collapsed": true,
    "hidden": true
   },
   "source": [
    "### 9.1 - Validation"
   ]
  },
  {
   "cell_type": "code",
   "execution_count": null,
   "metadata": {
    "ExecuteTime": {
     "end_time": "2020-10-16T21:58:20.271818Z",
     "start_time": "2020-10-16T21:58:06.461Z"
    },
    "hidden": true
   },
   "outputs": [],
   "source": [
    "## all scoring sbs == spliting before scaling\n",
    "df1_all_scores_sbs = pd.concat([df1_score_rf, df1_score_gbdt, df1_score_lr, df1_score_xgbc, df1_score_knc, df1_score_lgbmc], axis=0)\n",
    "df1_all_scores_sbs"
   ]
  },
  {
   "cell_type": "code",
   "execution_count": null,
   "metadata": {
    "ExecuteTime": {
     "end_time": "2020-10-16T21:58:20.273325Z",
     "start_time": "2020-10-16T21:58:06.466Z"
    },
    "hidden": true
   },
   "outputs": [],
   "source": [
    "with open('score_cycle_02.pkl', 'rb') as file:\n",
    "    df1_score_pic = pickle.load(file)\n",
    "    \n",
    "df1_all_scores_concat = pd.concat([df1_score_pic, df1_all_scores_sbs], axis=0)\n",
    "df1_all_scores_concat"
   ]
  },
  {
   "cell_type": "markdown",
   "metadata": {
    "heading_collapsed": true,
    "hidden": true
   },
   "source": [
    "### 9.2 - Cross Validation"
   ]
  },
  {
   "cell_type": "code",
   "execution_count": null,
   "metadata": {
    "ExecuteTime": {
     "end_time": "2020-10-19T21:42:33.965190Z",
     "start_time": "2020-10-19T21:42:33.944826Z"
    },
    "hidden": true
   },
   "outputs": [],
   "source": [
    "## all scoring split before scaling\n",
    "\n",
    "df1_all_scores_cv = pd.concat([df1_score_rf, df1_score_gbdt, df1_score_lr, df1_score_xgbc, \n",
    "                              df1_score_knc, df1_score_lgbmc], axis=0)\n",
    "# rename column \n",
    "df1_all_scores_cv.columns = ['mdl_name', 'accuracy', 'precision', 'recall', 'split_before_scaling',\n",
    "                            'date', 'obs', 'accuracy_cv', 'accuracy_cv_std']\n",
    "\n",
    "# reordenation from columns\n",
    "df1_all_scores_cv[['mdl_name', 'accuracy', 'accuracy_cv', 'accuracy_cv_std', 'precision', \n",
    "                 'recall', 'split_before_scaling', 'date', 'obs']]"
   ]
  },
  {
   "cell_type": "markdown",
   "metadata": {
    "hidden": true
   },
   "source": [
    "**Gradient Boosting it's better**"
   ]
  },
  {
   "cell_type": "code",
   "execution_count": null,
   "metadata": {
    "ExecuteTime": {
     "end_time": "2020-10-16T21:58:20.277620Z",
     "start_time": "2020-10-16T21:58:06.479Z"
    },
    "hidden": true
   },
   "outputs": [],
   "source": [
    "## Exporting result from cross validation\n",
    "#with open('score_cycle_02_cv.pkl', 'wb') as file:\n",
    "#    pickle.dump(df1_all_scores_cv, file)"
   ]
  },
  {
   "cell_type": "markdown",
   "metadata": {
    "heading_collapsed": true,
    "hidden": true
   },
   "source": [
    "### 9.3 - Test Data"
   ]
  },
  {
   "cell_type": "markdown",
   "metadata": {
    "hidden": true
   },
   "source": [
    "If the data is normal/gaussian distribution\n",
    "<p>(item - média) / desvio padrão</p>"
   ]
  },
  {
   "cell_type": "markdown",
   "metadata": {
    "heading_collapsed": true,
    "hidden": true
   },
   "source": [
    "#### 9.2.1 - Rescaling"
   ]
  },
  {
   "cell_type": "markdown",
   "metadata": {
    "hidden": true
   },
   "source": [
    "If the data it's **NOT** gaussian distribution, gaussian is egual normal distribution"
   ]
  },
  {
   "cell_type": "code",
   "execution_count": null,
   "metadata": {
    "ExecuteTime": {
     "end_time": "2020-10-19T21:38:57.227131Z",
     "start_time": "2020-10-19T21:38:57.202795Z"
    },
    "hidden": true
   },
   "outputs": [],
   "source": [
    "## The features that it's binary yet, it's not necessary transform\n",
    "## If has the relevant outlier it's should use to RobustScaler else MinMaxScaler\n",
    "\n",
    "mms = MinMaxScaler()\n",
    "rs = RobustScaler()\n",
    "\n",
    "# age\n",
    "x_test['age'] = mms.fit_transform(x_test[['age']].values)\n",
    "\n",
    "# height         \n",
    "x_test['height'] = rs.fit_transform(x_test[['height']].values)\n",
    "\n",
    "# weight\n",
    "x_test['weight'] = rs.fit_transform(x_test[['weight']].values)\n",
    "\n",
    "# low_pressure   \n",
    "x_test['low_pressure'] = rs.fit_transform(x_test[['low_pressure']].values)\n",
    "\n",
    "#hight_pressure\n",
    "x_test['hight_pressure'] = rs.fit_transform(x_test[['hight_pressure']].values)\n",
    "\n",
    "# difference     \n",
    "x_test['difference'] = rs.fit_transform(x_test[['difference']].values)\n",
    "\n",
    "# bmi            \n",
    "x_test['bmi'] = rs.fit_transform(x_test[['bmi']].values)"
   ]
  },
  {
   "cell_type": "markdown",
   "metadata": {
    "hidden": true
   },
   "source": [
    "#### 9.2.2 - Transformation"
   ]
  },
  {
   "cell_type": "markdown",
   "metadata": {
    "heading_collapsed": true,
    "hidden": true
   },
   "source": [
    "#### 9.2.3 - Encoding"
   ]
  },
  {
   "cell_type": "markdown",
   "metadata": {
    "hidden": true
   },
   "source": [
    "Transforming category data to numeric"
   ]
  },
  {
   "cell_type": "code",
   "execution_count": null,
   "metadata": {
    "ExecuteTime": {
     "end_time": "2020-10-19T21:39:07.450300Z",
     "start_time": "2020-10-19T21:39:07.437264Z"
    },
    "hidden": true
   },
   "outputs": [],
   "source": [
    "le = LabelEncoder()\n",
    "\n",
    "## Label encoding\n",
    "# age\n",
    "x_test['gender'] = le.fit_transform(x_test[['gender']].values)\n",
    "\n",
    "\n",
    "## Ordinal encoding\n",
    "# age_range \n",
    "x_test['age_range'] = x_test['age_range'].map(\n",
    "    {'age_0_50':1, 'age_51_59':1, 'age_60_over':3})\n",
    "\n",
    "# bmi_level\n",
    "x_test['bmi_level'] = x_test['bmi_level'].map({\n",
    "    'underweight':1, 'normal':2, 'overweight':3, 'obesity':4\n",
    "})"
   ]
  },
  {
   "cell_type": "markdown",
   "metadata": {
    "heading_collapsed": true,
    "hidden": true
   },
   "source": [
    "#### 9.2.4 - Modeling and Metrics"
   ]
  },
  {
   "cell_type": "code",
   "execution_count": null,
   "metadata": {
    "ExecuteTime": {
     "end_time": "2020-10-19T21:39:24.969221Z",
     "start_time": "2020-10-19T21:39:21.289855Z"
    },
    "hidden": true,
    "scrolled": true
   },
   "outputs": [],
   "source": [
    "mdl = GradientBoostingClassifier().fit(x_train, y_train)\n",
    "mdl_name = mdl.__repr__()\n",
    "y_hat = mdl.predict(x_test)\n",
    "\n",
    "df1_score_gbdt_test = metrics_score(y_test, y_hat, mdl_name, True, \"All Data Features\")\n",
    "df1_score_gbdt_test"
   ]
  },
  {
   "cell_type": "markdown",
   "metadata": {
    "heading_collapsed": true,
    "hidden": true
   },
   "source": [
    "### 9.4 - Business Performance"
   ]
  },
  {
   "cell_type": "code",
   "execution_count": null,
   "metadata": {
    "ExecuteTime": {
     "end_time": "2020-10-19T21:40:19.602055Z",
     "start_time": "2020-10-19T21:40:19.597264Z"
    },
    "hidden": true
   },
   "outputs": [],
   "source": [
    "cost_status_quo = 1000                         ## cost of each diagnostic with operators and machines\n",
    "percentual_status_quo = (0.55+0.65)/2\n",
    "revenue_status_quo = int((percentual_status_quo - 0.50)/0.05) * 500\n",
    "result_status_quo = revenue_status_quo - cost_status_quo\n",
    "\n",
    "cost_future = 0\n",
    "standard = 0.006706\n",
    "percentual_future = (0.752+0.765)/2\n",
    "revenue_future = int((percentual_future - 0.50)/0.05) * 500  \n",
    "result_model_future = revenue_future - cost_future   "
   ]
  },
  {
   "cell_type": "code",
   "execution_count": null,
   "metadata": {
    "ExecuteTime": {
     "end_time": "2020-10-19T21:40:20.811116Z",
     "start_time": "2020-10-19T21:40:20.456355Z"
    },
    "hidden": true
   },
   "outputs": [],
   "source": [
    "pd.concat([pd.Series(result_status_quo), pd.Series(result_model_future)]).reset_index().T.plot(kind='bar');"
   ]
  },
  {
   "cell_type": "markdown",
   "metadata": {
    "heading_collapsed": true
   },
   "source": [
    "## 10.0 - Deploy"
   ]
  },
  {
   "cell_type": "markdown",
   "metadata": {
    "heading_collapsed": true,
    "hidden": true
   },
   "source": [
    "### 10.1 - Class"
   ]
  },
  {
   "cell_type": "code",
   "execution_count": null,
   "metadata": {
    "ExecuteTime": {
     "end_time": "2020-10-20T18:31:35.651855Z",
     "start_time": "2020-10-20T18:31:35.631889Z"
    },
    "hidden": true
   },
   "outputs": [],
   "source": [
    "import pandas as pd\n",
    "import numpy as np\n",
    "import json\n",
    "import pickle\n",
    "\n",
    "# this file will be a handler \"API\"\n",
    "class Cardio_Catch_Diseases(object):\n",
    "    def __init__(self):\n",
    "        self.home_path              = '/home/python/Documents/Projects/pa001_cardio_catch_diseases/'\n",
    "        self.age_scaling            = pickle.load(open(self.home_path + 'parameters/age_scaling.pkl', 'rb'))\n",
    "        self.bmi_scaling            = pickle.load(open(self.home_path + 'parameters/bmi_scaling.pkl', 'rb'))\n",
    "        self.difference_scaling     = pickle.load(open(self.home_path + 'parameters/difference_scaling.pkl', 'rb'))\n",
    "        self.height_scaling         = pickle.load(open(self.home_path + 'parameters/height_scaling.pkl', 'rb'))\n",
    "        self.hight_pressure_scaling = pickle.load(open(self.home_path + 'parameters/hight_pressure_scaling.pkl', 'rb'))\n",
    "        self.low_pressure_scaling   = pickle.load(open(self.home_path + 'parameters/low_pressure_scaling.pkl', 'rb'))\n",
    "        self.weight_scaling         = pickle.load(open(self.home_path + 'parameters/weight_scaling.pkl', 'rb'))\n",
    "        self.gender_encoder         = pickle.load(open(self.home_path + 'parameters/gender_encoder.pkl', 'rb'))\n",
    "\n",
    "\n",
    "    \n",
    "    def data_cleaning(self, df1):\n",
    "        '''df1: is the input data from user on website'''\n",
    "\n",
    "\n",
    "        # height - change centimeters to meters\n",
    "        df1['height'] = (df1['height'] / 100)\n",
    "\n",
    "        return df1\n",
    "\n",
    "    def feature_engineering(self, df1):\n",
    "        '''Get the dataframe from data cleaning and create a new features'''\n",
    "\n",
    "\n",
    "        # feature engineering\n",
    "        df1['difference'] = df1['hight_pressure'] - df1['low_pressure']\n",
    "        df1['convergent'] = df1['difference'].apply(lambda x: 1 if x <= 30 else 0)\n",
    "        df1['divergent'] = df1['difference'].apply(lambda x: 1 if x >= 60 else 0)\n",
    "        df1['bmi'] = (df1['weight']/(df1['height'] * df1['height']))\n",
    "        df1['bmi_level'] = df1['bmi'].apply(lambda x: \n",
    "                                                      'underweight' if x <= 18.5 else\n",
    "                                                      'normal'      if x >  18.5 and x <= 24.9 else\n",
    "                                                      'overweight'  if x >= 25.0 and x <= 29.9 else\n",
    "                                                      'obesity')\n",
    "        df1['hypertension'] = df1.apply(lambda x: 1 if x[4] >=140 and x[5] >= 90 else 0, axis=1)\n",
    "        df1['hypotension'] = df1.apply(lambda x: 1 if x[4] <=90 and x[5] <= 60 else 0, axis=1)\n",
    "        df1['age_range'] = df1['age'].apply(lambda x: 'age_0_50'    if x <= 50 \n",
    "                                                           else 'age_51_59'   if x >= 51 and x <= 59 \n",
    "                                                           else 'age_60_over' if x >= 60 \n",
    "                                                           else x)\n",
    "\n",
    "        df1['weight_range'] = df1['weight'].apply(\n",
    "            lambda x:   0.50 if x <= 50  else\n",
    "                        0.75 if x >= 51  and x <= 75 else\n",
    "                        1.00 if x >= 76  and x <= 100 else\n",
    "                        1.25 if x >= 101 and x <= 125 else\n",
    "                        1.50 if x >= 126 and x <= 150 else\n",
    "                        1.75 if x >= 151 and x <= 175 else 2.00)\n",
    "\n",
    "        # Data Filtering rows, values or columns\n",
    "        df1 = df1.drop('id', axis=1)\n",
    "\n",
    "        return df1\n",
    "\n",
    "\n",
    "    def data_rescaling(self, df1):\n",
    "        '''\n",
    "        Rescaling data\n",
    "        Return: json file with x_test data to input the prediction\n",
    "        '''\n",
    "\n",
    "\n",
    "        # Transforming data to will be in correct data scaler to input at model\n",
    "        df1['age']            = self.age_scaling.transform(df1[['age']].values)\n",
    "        df1['height']         = self.height_scaling.transform(df1[['height']].values)\n",
    "        df1['weight']         = self.weight_scaling.transform(df1[['weight']].values)\n",
    "        df1['low_pressure']   = self.low_pressure_scaling.transform(df1[['low_pressure']].values)\n",
    "        df1['hight_pressure'] = self.hight_pressure_scaling.transform(df1[['hight_pressure']].values)\n",
    "        df1['difference']     = self.difference_scaling.transform(df1[['difference']].values)\n",
    "        df1['bmi']            = self.bmi_scaling.transform(df1[['bmi']].values)\n",
    "        df1['gender']         = self.gender_encoder.transform(df1[['gender']].values)\n",
    "        df1['age_range']      = df1['age_range'].map(\n",
    "            {'age_0_50':1, 'age_51_59':1, 'age_60_over':3})\n",
    "        df1['bmi_level']      = df1['bmi_level'].map(\n",
    "            {'underweight':1, 'normal':2, 'overweight':3, 'obesity':4})\n",
    "\n",
    "        # Deleting target\n",
    "        x_test = df1.drop('cardio', axis=1).copy()\n",
    "        #data_json = json.dumps(x_test.to_dict(orient='records')) # converto to json\n",
    "\n",
    "        return x_test"
   ]
  },
  {
   "cell_type": "markdown",
   "metadata": {
    "heading_collapsed": true,
    "hidden": true
   },
   "source": [
    "### 10.2 - Input Simulation"
   ]
  },
  {
   "cell_type": "code",
   "execution_count": null,
   "metadata": {
    "ExecuteTime": {
     "end_time": "2020-10-27T14:08:51.752258Z",
     "start_time": "2020-10-27T14:08:51.736846Z"
    },
    "hidden": true
   },
   "outputs": [],
   "source": [
    "import pandas as pd\n",
    "\n",
    "def input_simulation():\n",
    "    # inputs from user\n",
    "    \n",
    "    age = input('age: ')\n",
    "    gender = int(input('gender: '))\n",
    "    height = int(input('height: '))\n",
    "    weight = float(input('weight: '))\n",
    "    ap_hi = int(input('hight_pressure: '))\n",
    "    ap_lo = int(input('low_pressure: '))\n",
    "    cholesterol = int(input('cholesterol (1,2 or 3): '))\n",
    "    gluc = int(input('glucose (1,2 or 3): '))\n",
    "    smoke = int(input('smoker: '))\n",
    "    alco = int(input('alcohol: '))\n",
    "    active = input('active: ')\n",
    "\n",
    "    # replacing columns names\n",
    "    new_col = ['id', 'age', 'gender', 'height', 'weight', 'hight_pressure', 'low_pressure',\n",
    "               'cholesterol', 'glucose', 'smoker', 'alcohol', 'active', 'cardio']\n",
    "\n",
    "    # getting data and converting to dataframe\n",
    "    df1_inputed = [[1, age, gender, height, weight, ap_hi, ap_lo, cholesterol, gluc, smoke, alco, active, 0,]]\n",
    "    df1 = pd.DataFrame(df1_inputed, columns=new_col)\n",
    "\n",
    "    # datatypes transformations\n",
    "    df1['age'] = df1['age'].astype('int64')\n",
    "    df1['gender'] = df1['gender'].astype('int64')\n",
    "    df1['height'] = df1['height'].astype('int64')\n",
    "    df1['weight'] = df1['weight'].astype('float64')\n",
    "    df1['hight_pressure'] = df1['hight_pressure'].astype('int64') \n",
    "    df1['low_pressure'] = df1['low_pressure'].astype('int64') \n",
    "    df1['cholesterol'] = df1['cholesterol'].astype('int64')\n",
    "    df1['glucose'] = df1['glucose'].astype('int64')\n",
    "    df1['smoker'] = df1['smoker'].astype('int64') \n",
    "    df1['alcohol'] = df1['alcohol'].astype('int64')\n",
    "    df1['active'] = df1['active'].astype('int64')\n",
    "    df1['cardio'] = df1['cardio'].astype('int64')\n",
    "\n",
    "    return json.dumps(df1.to_dict(orient='records'))"
   ]
  },
  {
   "cell_type": "markdown",
   "metadata": {
    "heading_collapsed": true,
    "hidden": true
   },
   "source": [
    "### 10.2 - API / Handler"
   ]
  },
  {
   "cell_type": "code",
   "execution_count": null,
   "metadata": {
    "ExecuteTime": {
     "end_time": "2020-10-20T18:23:08.246193Z",
     "start_time": "2020-10-20T18:23:07.403099Z"
    },
    "hidden": true
   },
   "outputs": [],
   "source": [
    "import pickle\n",
    "import pandas as pd\n",
    "import numpy as np\n",
    "from flask import Flask, request, Response\n",
    "from ccd.ccd import Cardio_Catch_Diseases\n",
    "import json\n",
    "\n",
    "# loading model trained from pickle file\n",
    "with open('/home/python/Documents/Projects/pa001_cardio_catch_diseases/model/model_trained.pkl', 'rb') as file:\n",
    "    model = pickle.load(file)\n",
    "\n",
    "# initialized API\n",
    "app = Flask(__name__)\n",
    "\n",
    "@app.route('/ccd/predict', methods=['POST'])\n",
    "def ccd_predict():\n",
    "    '''\n",
    "    ccd: Cardio Catch Diseases\n",
    "    This function it will be create the API request, where the user will be input the user data that \n",
    "    will used to data_cleaning(), data_engineering(), data_scaler() \n",
    "    this functions will be return the dataframe 'x_est', that will be used to predict\n",
    "    Return: Prediction \"array\"\n",
    "    '''\n",
    "    \n",
    "    test_json = request.get_json()\n",
    "        \n",
    "    if test_json:\n",
    "        if isinstance(test_json, dict): # Unique Example\n",
    "            test_raw = pd.DataFrame(test_json, index=[0])\n",
    "        else: # multiple Example\n",
    "            test_raw = pd.DataFrame(test_json, columns=test_json[0].keys())\n",
    "\n",
    "        # Instantiate CCD class\n",
    "        pipeline = Cardio_Catch_Diseases()\n",
    "        # cleaning data\n",
    "        test_raw_cleaned = pipeline.data_cleaning(test_raw)\n",
    "        # creating derivates to new features\n",
    "        test_raw_features = pipeline.feature_engineering(test_raw_cleaned)        \n",
    "        \n",
    "        # preparing data to model\n",
    "        test_raw_selected = pipeline.data_rescaling(test_raw_features)\n",
    "        \n",
    "        y_hat = model.predict(test_raw_selected)\n",
    "        test_raw['prediction'] = y_hat.copy()\n",
    "        return test_raw.to_json(orient='records')\n",
    "    \n",
    "    else:\n",
    "        return Response( \"{}\", status=200, mimetype='application/json')\n",
    "\n",
    "    \n",
    "if __name__=='__main__':\n",
    "    app.run('0.0.0.0')"
   ]
  },
  {
   "cell_type": "markdown",
   "metadata": {
    "heading_collapsed": true,
    "hidden": true
   },
   "source": [
    "### 10.2 - API Request Tester"
   ]
  },
  {
   "cell_type": "code",
   "execution_count": null,
   "metadata": {
    "ExecuteTime": {
     "end_time": "2020-10-27T15:32:52.061661Z",
     "start_time": "2020-10-27T15:31:39.603800Z"
    },
    "hidden": true,
    "scrolled": true
   },
   "outputs": [],
   "source": [
    "import requests\n",
    "\n",
    "# Input data user\n",
    "data = input_simulation()\n",
    "\n",
    "# API request\n",
    "url = \"https://ccd-model.herokuapp.com/ccd/predict\"\n",
    "header = {'Content-type': 'application/json'}\n",
    "\n",
    "response_ccd = requests.post(url, data=data, headers=header)\n",
    "print(f'Status Code: {response_ccd.status_code}')\n",
    "\n",
    "df1_response = pd.DataFrame(response_ccd.json(), columns=response_ccd.json()[0].keys())\n",
    "\n",
    "# Loading json to Dataframe\n",
    "df1_new = pd.DataFrame(json.loads(data))\n",
    "\n",
    "# converting to back the original datatype\n",
    "df1_new['age'] = df1_new['age'] * 365\n",
    "\n",
    "# getting prediction\n",
    "df1_new['cardio'] = df1_response['cardio'].copy()\n",
    "\n",
    "# getting current time in seconds since the Epoch.\n",
    "# convert to normal date use time.ctime(time.time())\n",
    "df1_new['id'] = time.time()\n",
    "\n",
    "# Insert into database\n",
    "insert_database_values(df1_new)\n",
    "\n",
    "df1_response"
   ]
  },
  {
   "cell_type": "code",
   "execution_count": null,
   "metadata": {
    "hidden": true
   },
   "outputs": [],
   "source": []
  },
  {
   "cell_type": "markdown",
   "metadata": {
    "heading_collapsed": true
   },
   "source": [
    "## 11.0 - Dashboard - PowerBI"
   ]
  },
  {
   "cell_type": "code",
   "execution_count": null,
   "metadata": {
    "hidden": true
   },
   "outputs": [],
   "source": [
    "# Connecting sqlite database\n",
    "import pandas as pd\n",
    "from sqlalchemy import create_engine\n",
    "\n",
    "new_col = ['id', 'age', 'gender', 'height', 'weight', 'hight_pressure', 'low_pressure',\n",
    "           'cholesterol', 'glucose', 'smoker', 'alcohol', 'active', 'cardio']\n",
    "\n",
    "engine = create_engine('sqlite:///Y:\\\\pa001_cardio_catch_diseases\\\\ccd.db', echo=False)\n",
    "df1 = engine.execute('SELECT * FROM patients').fetchall()\n",
    "df1 = pd.DataFrame(df1, columns=new_col)\n",
    "\n",
    "# Data Preparation/transformation\n",
    "\n"
   ]
  }
 ],
 "metadata": {
  "kernelspec": {
   "display_name": "Python 3",
   "language": "python",
   "name": "python3"
  },
  "language_info": {
   "codemirror_mode": {
    "name": "ipython",
    "version": 3
   },
   "file_extension": ".py",
   "mimetype": "text/x-python",
   "name": "python",
   "nbconvert_exporter": "python",
   "pygments_lexer": "ipython3",
   "version": "3.10.9"
  }
 },
 "nbformat": 4,
 "nbformat_minor": 4
}
